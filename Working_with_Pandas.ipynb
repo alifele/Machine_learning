{
  "nbformat": 4,
  "nbformat_minor": 0,
  "metadata": {
    "colab": {
      "name": "Working with Pandas.ipynb",
      "version": "0.3.2",
      "provenance": [],
      "include_colab_link": true
    },
    "kernelspec": {
      "name": "python3",
      "display_name": "Python 3"
    }
  },
  "cells": [
    {
      "cell_type": "markdown",
      "metadata": {
        "id": "view-in-github",
        "colab_type": "text"
      },
      "source": [
        "<a href=\"https://colab.research.google.com/github/alifele/Machine_learning/blob/master/Working_with_Pandas.ipynb\" target=\"_parent\"><img src=\"https://colab.research.google.com/assets/colab-badge.svg\" alt=\"Open In Colab\"/></a>"
      ]
    },
    {
      "metadata": {
        "id": "S6uKzUDRh3ER",
        "colab_type": "text"
      },
      "cell_type": "markdown",
      "source": [
        "# Loading the data set as Pamdas frame work and then showing the head on data"
      ]
    },
    {
      "metadata": {
        "id": "nSqwsJstaICo",
        "colab_type": "code",
        "outputId": "4a03586b-148e-4d10-cabe-7dae4e8781f9",
        "colab": {
          "resources": {
            "http://localhost:8080/nbextensions/google.colab/files.js": {
              "data": "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",
              "ok": true,
              "headers": [
                [
                  "content-type",
                  "application/javascript"
                ]
              ],
              "status": 200,
              "status_text": "OK"
            }
          },
          "base_uri": "https://localhost:8080/",
          "height": 57
        }
      },
      "cell_type": "code",
      "source": [
        "import numpy as np\n",
        "import pandas as pd\n",
        "import matplotlib.pyplot as plt\n",
        "from google.colab import files\n",
        "import io\n",
        "uploaded = files.upload()\n"
      ],
      "execution_count": 2,
      "outputs": [
        {
          "output_type": "display_data",
          "data": {
            "text/html": [
              "\n",
              "     <input type=\"file\" id=\"files-61fe289c-6d91-44ca-9c8e-36a1fe5fdd35\" name=\"files[]\" multiple disabled />\n",
              "     <output id=\"result-61fe289c-6d91-44ca-9c8e-36a1fe5fdd35\">\n",
              "      Upload widget is only available when the cell has been executed in the\n",
              "      current browser session. Please rerun this cell to enable.\n",
              "      </output>\n",
              "      <script src=\"/nbextensions/google.colab/files.js\"></script> "
            ],
            "text/plain": [
              "<IPython.core.display.HTML object>"
            ]
          },
          "metadata": {
            "tags": []
          }
        },
        {
          "output_type": "stream",
          "text": [
            "Saving avocado.csv to avocado.csv\n"
          ],
          "name": "stdout"
        }
      ]
    },
    {
      "metadata": {
        "id": "TYvoSB-8avNQ",
        "colab_type": "code",
        "outputId": "8adf63e4-e07f-48b7-89b0-a13d282829b4",
        "colab": {
          "base_uri": "https://localhost:8080/",
          "height": 111
        }
      },
      "cell_type": "code",
      "source": [
        "df = pd.read_csv(io.StringIO(uploaded['avocado.csv'].decode('utf-8')))\n",
        "number_of_heads = 2\n",
        "df.head(number_of_heads)"
      ],
      "execution_count": 11,
      "outputs": [
        {
          "output_type": "execute_result",
          "data": {
            "text/html": [
              "<div>\n",
              "<style scoped>\n",
              "    .dataframe tbody tr th:only-of-type {\n",
              "        vertical-align: middle;\n",
              "    }\n",
              "\n",
              "    .dataframe tbody tr th {\n",
              "        vertical-align: top;\n",
              "    }\n",
              "\n",
              "    .dataframe thead th {\n",
              "        text-align: right;\n",
              "    }\n",
              "</style>\n",
              "<table border=\"1\" class=\"dataframe\">\n",
              "  <thead>\n",
              "    <tr style=\"text-align: right;\">\n",
              "      <th></th>\n",
              "      <th>Unnamed: 0</th>\n",
              "      <th>Date</th>\n",
              "      <th>AveragePrice</th>\n",
              "      <th>Total Volume</th>\n",
              "      <th>4046</th>\n",
              "      <th>4225</th>\n",
              "      <th>4770</th>\n",
              "      <th>Total Bags</th>\n",
              "      <th>Small Bags</th>\n",
              "      <th>Large Bags</th>\n",
              "      <th>XLarge Bags</th>\n",
              "      <th>type</th>\n",
              "      <th>year</th>\n",
              "      <th>region</th>\n",
              "    </tr>\n",
              "  </thead>\n",
              "  <tbody>\n",
              "    <tr>\n",
              "      <th>0</th>\n",
              "      <td>0</td>\n",
              "      <td>2015-12-27</td>\n",
              "      <td>1.33</td>\n",
              "      <td>64236.62</td>\n",
              "      <td>1036.74</td>\n",
              "      <td>54454.85</td>\n",
              "      <td>48.16</td>\n",
              "      <td>8696.87</td>\n",
              "      <td>8603.62</td>\n",
              "      <td>93.25</td>\n",
              "      <td>0.0</td>\n",
              "      <td>conventional</td>\n",
              "      <td>2015</td>\n",
              "      <td>Albany</td>\n",
              "    </tr>\n",
              "    <tr>\n",
              "      <th>1</th>\n",
              "      <td>1</td>\n",
              "      <td>2015-12-20</td>\n",
              "      <td>1.35</td>\n",
              "      <td>54876.98</td>\n",
              "      <td>674.28</td>\n",
              "      <td>44638.81</td>\n",
              "      <td>58.33</td>\n",
              "      <td>9505.56</td>\n",
              "      <td>9408.07</td>\n",
              "      <td>97.49</td>\n",
              "      <td>0.0</td>\n",
              "      <td>conventional</td>\n",
              "      <td>2015</td>\n",
              "      <td>Albany</td>\n",
              "    </tr>\n",
              "  </tbody>\n",
              "</table>\n",
              "</div>"
            ],
            "text/plain": [
              "   Unnamed: 0        Date  AveragePrice  Total Volume     4046      4225  \\\n",
              "0           0  2015-12-27          1.33      64236.62  1036.74  54454.85   \n",
              "1           1  2015-12-20          1.35      54876.98   674.28  44638.81   \n",
              "\n",
              "    4770  Total Bags  Small Bags  Large Bags  XLarge Bags          type  year  \\\n",
              "0  48.16     8696.87     8603.62       93.25          0.0  conventional  2015   \n",
              "1  58.33     9505.56     9408.07       97.49          0.0  conventional  2015   \n",
              "\n",
              "   region  \n",
              "0  Albany  \n",
              "1  Albany  "
            ]
          },
          "metadata": {
            "tags": []
          },
          "execution_count": 11
        }
      ]
    },
    {
      "metadata": {
        "id": "nHo6-meuiGYo",
        "colab_type": "text"
      },
      "cell_type": "markdown",
      "source": [
        "#visualizing the tail of data"
      ]
    },
    {
      "metadata": {
        "id": "4QkU6LKHa8H_",
        "colab_type": "code",
        "outputId": "caa0437e-38bf-4e4c-e4b0-ad3edd80858b",
        "colab": {
          "base_uri": "https://localhost:8080/",
          "height": 210
        }
      },
      "cell_type": "code",
      "source": [
        "number_of_tails = 3\n",
        "df.tail(number_of_tails)"
      ],
      "execution_count": 12,
      "outputs": [
        {
          "output_type": "execute_result",
          "data": {
            "text/html": [
              "<div>\n",
              "<style scoped>\n",
              "    .dataframe tbody tr th:only-of-type {\n",
              "        vertical-align: middle;\n",
              "    }\n",
              "\n",
              "    .dataframe tbody tr th {\n",
              "        vertical-align: top;\n",
              "    }\n",
              "\n",
              "    .dataframe thead th {\n",
              "        text-align: right;\n",
              "    }\n",
              "</style>\n",
              "<table border=\"1\" class=\"dataframe\">\n",
              "  <thead>\n",
              "    <tr style=\"text-align: right;\">\n",
              "      <th></th>\n",
              "      <th>Unnamed: 0</th>\n",
              "      <th>Date</th>\n",
              "      <th>AveragePrice</th>\n",
              "      <th>Total Volume</th>\n",
              "      <th>4046</th>\n",
              "      <th>4225</th>\n",
              "      <th>4770</th>\n",
              "      <th>Total Bags</th>\n",
              "      <th>Small Bags</th>\n",
              "      <th>Large Bags</th>\n",
              "      <th>XLarge Bags</th>\n",
              "      <th>type</th>\n",
              "      <th>year</th>\n",
              "      <th>region</th>\n",
              "    </tr>\n",
              "  </thead>\n",
              "  <tbody>\n",
              "    <tr>\n",
              "      <th>18246</th>\n",
              "      <td>9</td>\n",
              "      <td>2018-01-21</td>\n",
              "      <td>1.87</td>\n",
              "      <td>13766.76</td>\n",
              "      <td>1191.92</td>\n",
              "      <td>2452.79</td>\n",
              "      <td>727.94</td>\n",
              "      <td>9394.11</td>\n",
              "      <td>9351.80</td>\n",
              "      <td>42.31</td>\n",
              "      <td>0.0</td>\n",
              "      <td>organic</td>\n",
              "      <td>2018</td>\n",
              "      <td>WestTexNewMexico</td>\n",
              "    </tr>\n",
              "    <tr>\n",
              "      <th>18247</th>\n",
              "      <td>10</td>\n",
              "      <td>2018-01-14</td>\n",
              "      <td>1.93</td>\n",
              "      <td>16205.22</td>\n",
              "      <td>1527.63</td>\n",
              "      <td>2981.04</td>\n",
              "      <td>727.01</td>\n",
              "      <td>10969.54</td>\n",
              "      <td>10919.54</td>\n",
              "      <td>50.00</td>\n",
              "      <td>0.0</td>\n",
              "      <td>organic</td>\n",
              "      <td>2018</td>\n",
              "      <td>WestTexNewMexico</td>\n",
              "    </tr>\n",
              "    <tr>\n",
              "      <th>18248</th>\n",
              "      <td>11</td>\n",
              "      <td>2018-01-07</td>\n",
              "      <td>1.62</td>\n",
              "      <td>17489.58</td>\n",
              "      <td>2894.77</td>\n",
              "      <td>2356.13</td>\n",
              "      <td>224.53</td>\n",
              "      <td>12014.15</td>\n",
              "      <td>11988.14</td>\n",
              "      <td>26.01</td>\n",
              "      <td>0.0</td>\n",
              "      <td>organic</td>\n",
              "      <td>2018</td>\n",
              "      <td>WestTexNewMexico</td>\n",
              "    </tr>\n",
              "  </tbody>\n",
              "</table>\n",
              "</div>"
            ],
            "text/plain": [
              "       Unnamed: 0        Date  AveragePrice  Total Volume     4046     4225  \\\n",
              "18246           9  2018-01-21          1.87      13766.76  1191.92  2452.79   \n",
              "18247          10  2018-01-14          1.93      16205.22  1527.63  2981.04   \n",
              "18248          11  2018-01-07          1.62      17489.58  2894.77  2356.13   \n",
              "\n",
              "         4770  Total Bags  Small Bags  Large Bags  XLarge Bags     type  year  \\\n",
              "18246  727.94     9394.11     9351.80       42.31          0.0  organic  2018   \n",
              "18247  727.01    10969.54    10919.54       50.00          0.0  organic  2018   \n",
              "18248  224.53    12014.15    11988.14       26.01          0.0  organic  2018   \n",
              "\n",
              "                 region  \n",
              "18246  WestTexNewMexico  \n",
              "18247  WestTexNewMexico  \n",
              "18248  WestTexNewMexico  "
            ]
          },
          "metadata": {
            "tags": []
          },
          "execution_count": 12
        }
      ]
    },
    {
      "metadata": {
        "id": "kPPDAHDbiLkO",
        "colab_type": "text"
      },
      "cell_type": "markdown",
      "source": [
        "#visualizing the head of an specific column of data"
      ]
    },
    {
      "metadata": {
        "id": "uu4_a0L_hJhP",
        "colab_type": "code",
        "outputId": "f8772602-2bb6-4ff5-b1d3-0de24c1d78e8",
        "colab": {
          "base_uri": "https://localhost:8080/",
          "height": 119
        }
      },
      "cell_type": "code",
      "source": [
        "df['AveragePrice'].head()"
      ],
      "execution_count": 13,
      "outputs": [
        {
          "output_type": "execute_result",
          "data": {
            "text/plain": [
              "0    1.33\n",
              "1    1.35\n",
              "2    0.93\n",
              "3    1.08\n",
              "4    1.28\n",
              "Name: AveragePrice, dtype: float64"
            ]
          },
          "metadata": {
            "tags": []
          },
          "execution_count": 13
        }
      ]
    },
    {
      "metadata": {
        "id": "vO67Dqg5iUPu",
        "colab_type": "text"
      },
      "cell_type": "markdown",
      "source": [
        "#data set that its \"region \" is only Albany"
      ]
    },
    {
      "metadata": {
        "id": "ZnQRQ3DhiS7w",
        "colab_type": "code",
        "outputId": "710a100d-3f88-43e5-d75f-ad01afbe655e",
        "colab": {
          "base_uri": "https://localhost:8080/",
          "height": 204
        }
      },
      "cell_type": "code",
      "source": [
        "albany_df = df[df['region']=='Albany']\n",
        "albany_df.head()"
      ],
      "execution_count": 14,
      "outputs": [
        {
          "output_type": "execute_result",
          "data": {
            "text/html": [
              "<div>\n",
              "<style scoped>\n",
              "    .dataframe tbody tr th:only-of-type {\n",
              "        vertical-align: middle;\n",
              "    }\n",
              "\n",
              "    .dataframe tbody tr th {\n",
              "        vertical-align: top;\n",
              "    }\n",
              "\n",
              "    .dataframe thead th {\n",
              "        text-align: right;\n",
              "    }\n",
              "</style>\n",
              "<table border=\"1\" class=\"dataframe\">\n",
              "  <thead>\n",
              "    <tr style=\"text-align: right;\">\n",
              "      <th></th>\n",
              "      <th>Unnamed: 0</th>\n",
              "      <th>Date</th>\n",
              "      <th>AveragePrice</th>\n",
              "      <th>Total Volume</th>\n",
              "      <th>4046</th>\n",
              "      <th>4225</th>\n",
              "      <th>4770</th>\n",
              "      <th>Total Bags</th>\n",
              "      <th>Small Bags</th>\n",
              "      <th>Large Bags</th>\n",
              "      <th>XLarge Bags</th>\n",
              "      <th>type</th>\n",
              "      <th>year</th>\n",
              "      <th>region</th>\n",
              "    </tr>\n",
              "  </thead>\n",
              "  <tbody>\n",
              "    <tr>\n",
              "      <th>0</th>\n",
              "      <td>0</td>\n",
              "      <td>2015-12-27</td>\n",
              "      <td>1.33</td>\n",
              "      <td>64236.62</td>\n",
              "      <td>1036.74</td>\n",
              "      <td>54454.85</td>\n",
              "      <td>48.16</td>\n",
              "      <td>8696.87</td>\n",
              "      <td>8603.62</td>\n",
              "      <td>93.25</td>\n",
              "      <td>0.0</td>\n",
              "      <td>conventional</td>\n",
              "      <td>2015</td>\n",
              "      <td>Albany</td>\n",
              "    </tr>\n",
              "    <tr>\n",
              "      <th>1</th>\n",
              "      <td>1</td>\n",
              "      <td>2015-12-20</td>\n",
              "      <td>1.35</td>\n",
              "      <td>54876.98</td>\n",
              "      <td>674.28</td>\n",
              "      <td>44638.81</td>\n",
              "      <td>58.33</td>\n",
              "      <td>9505.56</td>\n",
              "      <td>9408.07</td>\n",
              "      <td>97.49</td>\n",
              "      <td>0.0</td>\n",
              "      <td>conventional</td>\n",
              "      <td>2015</td>\n",
              "      <td>Albany</td>\n",
              "    </tr>\n",
              "    <tr>\n",
              "      <th>2</th>\n",
              "      <td>2</td>\n",
              "      <td>2015-12-13</td>\n",
              "      <td>0.93</td>\n",
              "      <td>118220.22</td>\n",
              "      <td>794.70</td>\n",
              "      <td>109149.67</td>\n",
              "      <td>130.50</td>\n",
              "      <td>8145.35</td>\n",
              "      <td>8042.21</td>\n",
              "      <td>103.14</td>\n",
              "      <td>0.0</td>\n",
              "      <td>conventional</td>\n",
              "      <td>2015</td>\n",
              "      <td>Albany</td>\n",
              "    </tr>\n",
              "    <tr>\n",
              "      <th>3</th>\n",
              "      <td>3</td>\n",
              "      <td>2015-12-06</td>\n",
              "      <td>1.08</td>\n",
              "      <td>78992.15</td>\n",
              "      <td>1132.00</td>\n",
              "      <td>71976.41</td>\n",
              "      <td>72.58</td>\n",
              "      <td>5811.16</td>\n",
              "      <td>5677.40</td>\n",
              "      <td>133.76</td>\n",
              "      <td>0.0</td>\n",
              "      <td>conventional</td>\n",
              "      <td>2015</td>\n",
              "      <td>Albany</td>\n",
              "    </tr>\n",
              "    <tr>\n",
              "      <th>4</th>\n",
              "      <td>4</td>\n",
              "      <td>2015-11-29</td>\n",
              "      <td>1.28</td>\n",
              "      <td>51039.60</td>\n",
              "      <td>941.48</td>\n",
              "      <td>43838.39</td>\n",
              "      <td>75.78</td>\n",
              "      <td>6183.95</td>\n",
              "      <td>5986.26</td>\n",
              "      <td>197.69</td>\n",
              "      <td>0.0</td>\n",
              "      <td>conventional</td>\n",
              "      <td>2015</td>\n",
              "      <td>Albany</td>\n",
              "    </tr>\n",
              "  </tbody>\n",
              "</table>\n",
              "</div>"
            ],
            "text/plain": [
              "   Unnamed: 0        Date  AveragePrice  Total Volume     4046       4225  \\\n",
              "0           0  2015-12-27          1.33      64236.62  1036.74   54454.85   \n",
              "1           1  2015-12-20          1.35      54876.98   674.28   44638.81   \n",
              "2           2  2015-12-13          0.93     118220.22   794.70  109149.67   \n",
              "3           3  2015-12-06          1.08      78992.15  1132.00   71976.41   \n",
              "4           4  2015-11-29          1.28      51039.60   941.48   43838.39   \n",
              "\n",
              "     4770  Total Bags  Small Bags  Large Bags  XLarge Bags          type  \\\n",
              "0   48.16     8696.87     8603.62       93.25          0.0  conventional   \n",
              "1   58.33     9505.56     9408.07       97.49          0.0  conventional   \n",
              "2  130.50     8145.35     8042.21      103.14          0.0  conventional   \n",
              "3   72.58     5811.16     5677.40      133.76          0.0  conventional   \n",
              "4   75.78     6183.95     5986.26      197.69          0.0  conventional   \n",
              "\n",
              "   year  region  \n",
              "0  2015  Albany  \n",
              "1  2015  Albany  \n",
              "2  2015  Albany  \n",
              "3  2015  Albany  \n",
              "4  2015  Albany  "
            ]
          },
          "metadata": {
            "tags": []
          },
          "execution_count": 14
        }
      ]
    },
    {
      "metadata": {
        "id": "mzo2Ev20mHt8",
        "colab_type": "text"
      },
      "cell_type": "markdown",
      "source": [
        "#extracting the features from data set"
      ]
    },
    {
      "metadata": {
        "id": "Gd4WuDw-hVNS",
        "colab_type": "code",
        "outputId": "2ddd0084-bf5e-498a-e57c-184aa5d3f8d4",
        "colab": {
          "base_uri": "https://localhost:8080/",
          "height": 34
        }
      },
      "cell_type": "code",
      "source": [
        "features = list(df.columns[1:])\n",
        "print(features)\n"
      ],
      "execution_count": 15,
      "outputs": [
        {
          "output_type": "stream",
          "text": [
            "['Date', 'AveragePrice', 'Total Volume', '4046', '4225', '4770', 'Total Bags', 'Small Bags', 'Large Bags', 'XLarge Bags', 'type', 'year', 'region']\n"
          ],
          "name": "stdout"
        }
      ]
    },
    {
      "metadata": {
        "id": "e82ZjiqlmMSQ",
        "colab_type": "text"
      },
      "cell_type": "markdown",
      "source": [
        "#changing the index of data set"
      ]
    },
    {
      "metadata": {
        "id": "-Jv-HzjliqRj",
        "colab_type": "code",
        "outputId": "59e8fd03-ca5a-4464-fdee-97d2ec6bae21",
        "colab": {
          "base_uri": "https://localhost:8080/",
          "height": 235
        }
      },
      "cell_type": "code",
      "source": [
        "albany_df = albany_df.set_index(\"Date\")\n",
        "# albany_df.set_index('date', inplace=True) it is an alternative to upper line\n",
        "albany_df.head()"
      ],
      "execution_count": 16,
      "outputs": [
        {
          "output_type": "execute_result",
          "data": {
            "text/html": [
              "<div>\n",
              "<style scoped>\n",
              "    .dataframe tbody tr th:only-of-type {\n",
              "        vertical-align: middle;\n",
              "    }\n",
              "\n",
              "    .dataframe tbody tr th {\n",
              "        vertical-align: top;\n",
              "    }\n",
              "\n",
              "    .dataframe thead th {\n",
              "        text-align: right;\n",
              "    }\n",
              "</style>\n",
              "<table border=\"1\" class=\"dataframe\">\n",
              "  <thead>\n",
              "    <tr style=\"text-align: right;\">\n",
              "      <th></th>\n",
              "      <th>Unnamed: 0</th>\n",
              "      <th>AveragePrice</th>\n",
              "      <th>Total Volume</th>\n",
              "      <th>4046</th>\n",
              "      <th>4225</th>\n",
              "      <th>4770</th>\n",
              "      <th>Total Bags</th>\n",
              "      <th>Small Bags</th>\n",
              "      <th>Large Bags</th>\n",
              "      <th>XLarge Bags</th>\n",
              "      <th>type</th>\n",
              "      <th>year</th>\n",
              "      <th>region</th>\n",
              "    </tr>\n",
              "    <tr>\n",
              "      <th>Date</th>\n",
              "      <th></th>\n",
              "      <th></th>\n",
              "      <th></th>\n",
              "      <th></th>\n",
              "      <th></th>\n",
              "      <th></th>\n",
              "      <th></th>\n",
              "      <th></th>\n",
              "      <th></th>\n",
              "      <th></th>\n",
              "      <th></th>\n",
              "      <th></th>\n",
              "      <th></th>\n",
              "    </tr>\n",
              "  </thead>\n",
              "  <tbody>\n",
              "    <tr>\n",
              "      <th>2015-12-27</th>\n",
              "      <td>0</td>\n",
              "      <td>1.33</td>\n",
              "      <td>64236.62</td>\n",
              "      <td>1036.74</td>\n",
              "      <td>54454.85</td>\n",
              "      <td>48.16</td>\n",
              "      <td>8696.87</td>\n",
              "      <td>8603.62</td>\n",
              "      <td>93.25</td>\n",
              "      <td>0.0</td>\n",
              "      <td>conventional</td>\n",
              "      <td>2015</td>\n",
              "      <td>Albany</td>\n",
              "    </tr>\n",
              "    <tr>\n",
              "      <th>2015-12-20</th>\n",
              "      <td>1</td>\n",
              "      <td>1.35</td>\n",
              "      <td>54876.98</td>\n",
              "      <td>674.28</td>\n",
              "      <td>44638.81</td>\n",
              "      <td>58.33</td>\n",
              "      <td>9505.56</td>\n",
              "      <td>9408.07</td>\n",
              "      <td>97.49</td>\n",
              "      <td>0.0</td>\n",
              "      <td>conventional</td>\n",
              "      <td>2015</td>\n",
              "      <td>Albany</td>\n",
              "    </tr>\n",
              "    <tr>\n",
              "      <th>2015-12-13</th>\n",
              "      <td>2</td>\n",
              "      <td>0.93</td>\n",
              "      <td>118220.22</td>\n",
              "      <td>794.70</td>\n",
              "      <td>109149.67</td>\n",
              "      <td>130.50</td>\n",
              "      <td>8145.35</td>\n",
              "      <td>8042.21</td>\n",
              "      <td>103.14</td>\n",
              "      <td>0.0</td>\n",
              "      <td>conventional</td>\n",
              "      <td>2015</td>\n",
              "      <td>Albany</td>\n",
              "    </tr>\n",
              "    <tr>\n",
              "      <th>2015-12-06</th>\n",
              "      <td>3</td>\n",
              "      <td>1.08</td>\n",
              "      <td>78992.15</td>\n",
              "      <td>1132.00</td>\n",
              "      <td>71976.41</td>\n",
              "      <td>72.58</td>\n",
              "      <td>5811.16</td>\n",
              "      <td>5677.40</td>\n",
              "      <td>133.76</td>\n",
              "      <td>0.0</td>\n",
              "      <td>conventional</td>\n",
              "      <td>2015</td>\n",
              "      <td>Albany</td>\n",
              "    </tr>\n",
              "    <tr>\n",
              "      <th>2015-11-29</th>\n",
              "      <td>4</td>\n",
              "      <td>1.28</td>\n",
              "      <td>51039.60</td>\n",
              "      <td>941.48</td>\n",
              "      <td>43838.39</td>\n",
              "      <td>75.78</td>\n",
              "      <td>6183.95</td>\n",
              "      <td>5986.26</td>\n",
              "      <td>197.69</td>\n",
              "      <td>0.0</td>\n",
              "      <td>conventional</td>\n",
              "      <td>2015</td>\n",
              "      <td>Albany</td>\n",
              "    </tr>\n",
              "  </tbody>\n",
              "</table>\n",
              "</div>"
            ],
            "text/plain": [
              "            Unnamed: 0  AveragePrice  Total Volume     4046       4225  \\\n",
              "Date                                                                     \n",
              "2015-12-27           0          1.33      64236.62  1036.74   54454.85   \n",
              "2015-12-20           1          1.35      54876.98   674.28   44638.81   \n",
              "2015-12-13           2          0.93     118220.22   794.70  109149.67   \n",
              "2015-12-06           3          1.08      78992.15  1132.00   71976.41   \n",
              "2015-11-29           4          1.28      51039.60   941.48   43838.39   \n",
              "\n",
              "              4770  Total Bags  Small Bags  Large Bags  XLarge Bags  \\\n",
              "Date                                                                  \n",
              "2015-12-27   48.16     8696.87     8603.62       93.25          0.0   \n",
              "2015-12-20   58.33     9505.56     9408.07       97.49          0.0   \n",
              "2015-12-13  130.50     8145.35     8042.21      103.14          0.0   \n",
              "2015-12-06   72.58     5811.16     5677.40      133.76          0.0   \n",
              "2015-11-29   75.78     6183.95     5986.26      197.69          0.0   \n",
              "\n",
              "                    type  year  region  \n",
              "Date                                    \n",
              "2015-12-27  conventional  2015  Albany  \n",
              "2015-12-20  conventional  2015  Albany  \n",
              "2015-12-13  conventional  2015  Albany  \n",
              "2015-12-06  conventional  2015  Albany  \n",
              "2015-11-29  conventional  2015  Albany  "
            ]
          },
          "metadata": {
            "tags": []
          },
          "execution_count": 16
        }
      ]
    },
    {
      "metadata": {
        "id": "xdAnAIZcm7i2",
        "colab_type": "text"
      },
      "cell_type": "markdown",
      "source": [
        "#Ploting the **(Features Vs. Index)**"
      ]
    },
    {
      "metadata": {
        "id": "grNtiayLm6HV",
        "colab_type": "code",
        "outputId": "9ff9d63b-95bc-4281-bb82-559b8ce56e14",
        "colab": {
          "base_uri": "https://localhost:8080/",
          "height": 368
        }
      },
      "cell_type": "code",
      "source": [
        "albany_df['AveragePrice'].plot()"
      ],
      "execution_count": 17,
      "outputs": [
        {
          "output_type": "execute_result",
          "data": {
            "text/plain": [
              "<matplotlib.axes._subplots.AxesSubplot at 0x7f838f543c18>"
            ]
          },
          "metadata": {
            "tags": []
          },
          "execution_count": 17
        },
        {
          "output_type": "display_data",
          "data": {
            "image/png": "[encoded data removed]",
            "text/plain": [
              "<Figure size 576x396 with 1 Axes>"
            ]
          },
          "metadata": {
            "tags": []
          }
        }
      ]
    },
    {
      "metadata": {
        "id": "hGmE9a0_osuv",
        "colab_type": "code",
        "colab": {}
      },
      "cell_type": "code",
      "source": [
        ""
      ],
      "execution_count": 0,
      "outputs": []
    },
    {
      "metadata": {
        "id": "UyUujxFwYbg9",
        "colab_type": "text"
      },
      "cell_type": "markdown",
      "source": [
        "***********************************************************************************************************************************************\n",
        "# NOW lets consider a situation that we have had a pandas data frame.after scaling data with sklearn functions our data will not be in pandas format any more and instead we will have a numpy matrix \n",
        "in this section I am going to convert the data to pandas sata frame\n"
      ]
    },
    {
      "metadata": {
        "id": "-ChZVY88ZGg3",
        "colab_type": "code",
        "colab": {
          "base_uri": "https://localhost:8080/",
          "height": 207
        },
        "outputId": "230ab973-5369-4111-f094-7086e7ab0b52"
      },
      "cell_type": "code",
      "source": [
        "import io, requests, zipfile\n",
        "url = 'https://www.dropbox.com/s/66dbhxl93y41coe/particle-identification-from-detector-responses.zip?dl=1'\n",
        "s = requests.get(url, stream=True).content\n",
        "data = pd.read_csv(io.BytesIO(s), compression = 'zip')\n",
        "\n",
        "from collections import Counter\n",
        "targets = list(set(data['id']))\n",
        "print('the targets are: ',targets)\n",
        "target_freq = [dict(Counter(data['id']))[i] for i in targets]\n",
        "print('the frequency of targets are: ',target_freq)\n",
        "features = list (data.columns[1:])\n",
        "print('the features are: ',features)\n",
        "\n",
        "\n",
        "n_s = 10000\n",
        "mini_data = data.sample(n_s, axis=0, random_state=0)\n",
        "mini_data[\"target\"] = mini_data['id'].apply(lambda x: targets.index(x))\n",
        "mini_data.drop('id', axis=1, inplace=True)\n",
        "mini_data.head()\n",
        "\n",
        "targets = set(mini_data['target'])\n",
        "print('the targets in data set is: ',targets)\n",
        "\n",
        "ind_1 = 1\n",
        "ind_2 = 2\n",
        "bmd = mini_data[(mini_data['target']==ind_1) | (mini_data['target']==ind_2)]\n",
        "\n",
        "from sklearn.preprocessing import StandardScaler\n",
        "Y = bmd['target']\n",
        "X = bmd.drop('target',axis=1)\n",
        "scaler = StandardScaler()\n",
        "X = scaler.fit_transform(X)\n",
        "bmd.head()\n",
        "print(X.shape)\n",
        "print(len(features))"
      ],
      "execution_count": 23,
      "outputs": [
        {
          "output_type": "stream",
          "text": [
            "the targets are:  [321, 211, 2212, -11]\n",
            "the frequency of targets are:  [232471, 2806833, 1945849, 14847]\n",
            "the features are:  ['p', 'theta', 'beta', 'nphe', 'ein', 'eout']\n",
            "the targets in data set is:  {0, 1, 2, 3}\n",
            "(9523, 6)\n",
            "6\n"
          ],
          "name": "stdout"
        },
        {
          "output_type": "stream",
          "text": [
            "/usr/local/lib/python3.6/dist-packages/sklearn/preprocessing/data.py:645: DataConversionWarning: Data with input dtype int64, float64 were all converted to float64 by StandardScaler.\n",
            "  return self.partial_fit(X, y)\n",
            "/usr/local/lib/python3.6/dist-packages/sklearn/base.py:464: DataConversionWarning: Data with input dtype int64, float64 were all converted to float64 by StandardScaler.\n",
            "  return self.fit(X, **fit_params).transform(X)\n"
          ],
          "name": "stderr"
        }
      ]
    },
    {
      "metadata": {
        "id": "25Le7BxLewHc",
        "colab_type": "text"
      },
      "cell_type": "markdown",
      "source": [
        "now as you can see mini_data is the 10000 sample of the original data.  bmd is the data of two particles which have had the most frequency\n",
        "and finaly X is the scaled data set and of course with out target column.\n",
        "NOTE : after scaling the X (which was previously in Pandas dataFrame format) will convert it into the numpy matrix\n",
        "In the next section i am going to reconvert the X into the Pandas data frame"
      ]
    },
    {
      "metadata": {
        "id": "colBAotrhFuV",
        "colab_type": "text"
      },
      "cell_type": "markdown",
      "source": [
        "#Converting numpy matrix into the pandas data frame forma\n",
        "step 1) First we must construct a dictionary which its \"KEYS\" are **the column's name** and its values are the corresponding values\n",
        "\n",
        "step 2) Then after importing the pandas as pd we use the\n",
        "\n",
        "\n",
        "\n",
        "```\n",
        "df  = pd.DataFrame(dictionary)\n",
        "```\n",
        "\n",
        "\n"
      ]
    },
    {
      "metadata": {
        "id": "_JiHCIbXZTEk",
        "colab_type": "code",
        "colab": {
          "base_uri": "https://localhost:8080/",
          "height": 221
        },
        "outputId": "ef5195c6-063d-46f0-8fa0-1b13d1f85346"
      },
      "cell_type": "code",
      "source": [
        "features = list(bmd.columns)\n",
        "features.remove('target')\n",
        "dictionary = dict()\n",
        "i=0\n",
        "for key in features:\n",
        "  dictionary[str(features[i])] = X[:,i]\n",
        "  i=i+1\n",
        "\n",
        "X_in_pandas = pd.DataFrame(dictionary)\n",
        "X_in_pandas.head()"
      ],
      "execution_count": 35,
      "outputs": [
        {
          "output_type": "stream",
          "text": [
            "None\n"
          ],
          "name": "stdout"
        },
        {
          "output_type": "execute_result",
          "data": {
            "text/html": [
              "<div>\n",
              "<style scoped>\n",
              "    .dataframe tbody tr th:only-of-type {\n",
              "        vertical-align: middle;\n",
              "    }\n",
              "\n",
              "    .dataframe tbody tr th {\n",
              "        vertical-align: top;\n",
              "    }\n",
              "\n",
              "    .dataframe thead th {\n",
              "        text-align: right;\n",
              "    }\n",
              "</style>\n",
              "<table border=\"1\" class=\"dataframe\">\n",
              "  <thead>\n",
              "    <tr style=\"text-align: right;\">\n",
              "      <th></th>\n",
              "      <th>beta</th>\n",
              "      <th>ein</th>\n",
              "      <th>eout</th>\n",
              "      <th>nphe</th>\n",
              "      <th>p</th>\n",
              "      <th>theta</th>\n",
              "    </tr>\n",
              "  </thead>\n",
              "  <tbody>\n",
              "    <tr>\n",
              "      <th>0</th>\n",
              "      <td>0.759889</td>\n",
              "      <td>1.594146</td>\n",
              "      <td>-0.118676</td>\n",
              "      <td>-0.196969</td>\n",
              "      <td>0.027694</td>\n",
              "      <td>-0.257001</td>\n",
              "    </tr>\n",
              "    <tr>\n",
              "      <th>1</th>\n",
              "      <td>0.788898</td>\n",
              "      <td>-0.717098</td>\n",
              "      <td>-0.689007</td>\n",
              "      <td>-0.196969</td>\n",
              "      <td>-0.468315</td>\n",
              "      <td>1.260586</td>\n",
              "    </tr>\n",
              "    <tr>\n",
              "      <th>2</th>\n",
              "      <td>-0.801624</td>\n",
              "      <td>1.204394</td>\n",
              "      <td>0.434700</td>\n",
              "      <td>-0.196969</td>\n",
              "      <td>0.152285</td>\n",
              "      <td>-0.035840</td>\n",
              "    </tr>\n",
              "    <tr>\n",
              "      <th>3</th>\n",
              "      <td>0.733011</td>\n",
              "      <td>-0.273320</td>\n",
              "      <td>-0.151254</td>\n",
              "      <td>-0.196969</td>\n",
              "      <td>-0.761674</td>\n",
              "      <td>0.028853</td>\n",
              "    </tr>\n",
              "    <tr>\n",
              "      <th>4</th>\n",
              "      <td>0.824647</td>\n",
              "      <td>-0.336053</td>\n",
              "      <td>0.943437</td>\n",
              "      <td>-0.196969</td>\n",
              "      <td>0.753095</td>\n",
              "      <td>-0.510528</td>\n",
              "    </tr>\n",
              "  </tbody>\n",
              "</table>\n",
              "</div>"
            ],
            "text/plain": [
              "       beta       ein      eout      nphe         p     theta\n",
              "0  0.759889  1.594146 -0.118676 -0.196969  0.027694 -0.257001\n",
              "1  0.788898 -0.717098 -0.689007 -0.196969 -0.468315  1.260586\n",
              "2 -0.801624  1.204394  0.434700 -0.196969  0.152285 -0.035840\n",
              "3  0.733011 -0.273320 -0.151254 -0.196969 -0.761674  0.028853\n",
              "4  0.824647 -0.336053  0.943437 -0.196969  0.753095 -0.510528"
            ]
          },
          "metadata": {
            "tags": []
          },
          "execution_count": 35
        }
      ]
    },
    {
      "metadata": {
        "id": "G_4P__7iicVp",
        "colab_type": "code",
        "colab": {}
      },
      "cell_type": "code",
      "source": [
        ""
      ],
      "execution_count": 0,
      "outputs": []
    }
  ]
}