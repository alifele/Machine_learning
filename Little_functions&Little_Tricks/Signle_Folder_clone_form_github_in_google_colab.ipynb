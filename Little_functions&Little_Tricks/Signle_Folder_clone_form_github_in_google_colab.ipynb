{
  "nbformat": 4,
  "nbformat_minor": 0,
  "metadata": {
    "colab": {
      "name": "Signle Folder clone form github in google colab.ipynb",
      "provenance": []
    },
    "kernelspec": {
      "name": "python3",
      "display_name": "Python 3"
    }
  },
  "cells": [
    {
      "cell_type": "markdown",
      "metadata": {
        "id": "BWEeWUyo8SAf",
        "colab_type": "text"
      },
      "source": [
        "## Single Folder Fetching using from github in google colab\n",
        "\n",
        "\n",
        "The single_fetch.sh file contains the following content. this file is located at /content/single_fetch.sh7\n",
        "\n",
        "\n",
        "```bash\n",
        "git init fofo\n",
        "cd fofo\n",
        "git remote add -f origin $1\n",
        "\n",
        "git config core.sparseCheckout true\n",
        "\n",
        "echo \"$2\" >> .git/info/sparse-checkout\n",
        "\n",
        "\n",
        "git pull origin master\n",
        "\n",
        "\n",
        "```"
      ]
    },
    {
      "cell_type": "code",
      "metadata": {
        "id": "geVzkdLM7Igv",
        "colab_type": "code",
        "colab": {
          "base_uri": "https://localhost:8080/",
          "height": 225
        },
        "outputId": "3cb756bc-f4ce-43e2-b268-9b53a277b6fc"
      },
      "source": [
        "%%shell\n",
        "sudo chmod 777 single_fetch.sh\n",
        "./single_fetch.sh https://github.com/alifele/Python.git PyGame"
      ],
      "execution_count": 36,
      "outputs": [
        {
          "output_type": "stream",
          "text": [
            "Initialized empty Git repository in /content/fofo/.git/\n",
            "Updating origin\n",
            "remote: Enumerating objects: 117, done.\u001b[K\n",
            "remote: Counting objects:   0% (1/117)\u001b[K\rremote: Counting objects:   1% (2/117)\u001b[K\rremote: Counting objects:   2% (3/117)\u001b[K\rremote: Counting objects:   3% (4/117)\u001b[K\rremote: Counting objects:   4% (5/117)\u001b[K\rremote: Counting objects:   5% (6/117)\u001b[K\rremote: Counting objects:   6% (8/117)\u001b[K\rremote: Counting objects:   7% (9/117)\u001b[K\rremote: Counting objects:   8% (10/117)\u001b[K\rremote: Counting objects:   9% (11/117)\u001b[K\rremote: Counting objects:  10% (12/117)\u001b[K\rremote: Counting objects:  11% (13/117)\u001b[K\rremote: Counting objects:  12% (15/117)\u001b[K\rremote: Counting objects:  13% (16/117)\u001b[K\rremote: Counting objects:  14% (17/117)\u001b[K\rremote: Counting objects:  15% (18/117)\u001b[K\rremote: Counting objects:  16% (19/117)\u001b[K\rremote: Counting objects:  17% (20/117)\u001b[K\rremote: Counting objects:  18% (22/117)\u001b[K\rremote: Counting objects:  19% (23/117)\u001b[K\rremote: Counting objects:  20% (24/117)\u001b[K\rremote: Counting objects:  21% (25/117)\u001b[K\rremote: Counting objects:  22% (26/117)\u001b[K\rremote: Counting objects:  23% (27/117)\u001b[K\rremote: Counting objects:  24% (29/117)\u001b[K\rremote: Counting objects:  25% (30/117)\u001b[K\rremote: Counting objects:  26% (31/117)\u001b[K\rremote: Counting objects:  27% (32/117)\u001b[K\rremote: Counting objects:  28% (33/117)\u001b[K\rremote: Counting objects:  29% (34/117)\u001b[K\rremote: Counting objects:  30% (36/117)\u001b[K\rremote: Counting objects:  31% (37/117)\u001b[K\rremote: Counting objects:  32% (38/117)\u001b[K\rremote: Counting objects:  33% (39/117)\u001b[K\rremote: Counting objects:  34% (40/117)\u001b[K\rremote: Counting objects:  35% (41/117)\u001b[K\rremote: Counting objects:  36% (43/117)\u001b[K\rremote: Counting objects:  37% (44/117)\u001b[K\rremote: Counting objects:  38% (45/117)\u001b[K\rremote: Counting objects:  39% (46/117)\u001b[K\rremote: Counting objects:  40% (47/117)\u001b[K\rremote: Counting objects:  41% (48/117)\u001b[K\rremote: Counting objects:  42% (50/117)\u001b[K\rremote: Counting objects:  43% (51/117)\u001b[K\rremote: Counting objects:  44% (52/117)\u001b[K\rremote: Counting objects:  45% (53/117)\u001b[K\rremote: Counting objects:  46% (54/117)\u001b[K\rremote: Counting objects:  47% (55/117)\u001b[K\rremote: Counting objects:  48% (57/117)\u001b[K\rremote: Counting objects:  49% (58/117)\u001b[K\rremote: Counting objects:  50% (59/117)\u001b[K\rremote: Counting objects:  51% (60/117)\u001b[K\rremote: Counting objects:  52% (61/117)\u001b[K\rremote: Counting objects:  53% (63/117)\u001b[K\rremote: Counting objects:  54% (64/117)\u001b[K\rremote: Counting objects:  55% (65/117)\u001b[K\rremote: Counting objects:  56% (66/117)\u001b[K\rremote: Counting objects:  57% (67/117)\u001b[K\rremote: Counting objects:  58% (68/117)\u001b[K\rremote: Counting objects:  59% (70/117)\u001b[K\rremote: Counting objects:  60% (71/117)\u001b[K\rremote: Counting objects:  61% (72/117)\u001b[K\rremote: Counting objects:  62% (73/117)\u001b[K\rremote: Counting objects:  63% (74/117)\u001b[K\rremote: Counting objects:  64% (75/117)\u001b[K\rremote: Counting objects:  65% (77/117)\u001b[K\rremote: Counting objects:  66% (78/117)\u001b[K\rremote: Counting objects:  67% (79/117)\u001b[K\rremote: Counting objects:  68% (80/117)\u001b[K\rremote: Counting objects:  69% (81/117)\u001b[K\rremote: Counting objects:  70% (82/117)\u001b[K\rremote: Counting objects:  71% (84/117)\u001b[K\rremote: Counting objects:  72% (85/117)\u001b[K\rremote: Counting objects:  73% (86/117)\u001b[K\rremote: Counting objects:  74% (87/117)\u001b[K\rremote: Counting objects:  75% (88/117)\u001b[K\rremote: Counting objects:  76% (89/117)\u001b[K\rremote: Counting objects:  77% (91/117)\u001b[K\rremote: Counting objects:  78% (92/117)\u001b[K\rremote: Counting objects:  79% (93/117)\u001b[K\rremote: Counting objects:  80% (94/117)\u001b[K\rremote: Counting objects:  81% (95/117)\u001b[K\rremote: Counting objects:  82% (96/117)\u001b[K\rremote: Counting objects:  83% (98/117)\u001b[K\rremote: Counting objects:  84% (99/117)\u001b[K\rremote: Counting objects:  85% (100/117)\u001b[K\rremote: Counting objects:  86% (101/117)\u001b[K\rremote: Counting objects:  87% (102/117)\u001b[K\rremote: Counting objects:  88% (103/117)\u001b[K\rremote: Counting objects:  89% (105/117)\u001b[K\rremote: Counting objects:  90% (106/117)\u001b[K\rremote: Counting objects:  91% (107/117)\u001b[K\rremote: Counting objects:  92% (108/117)\u001b[K\rremote: Counting objects:  93% (109/117)\u001b[K\rremote: Counting objects:  94% (110/117)\u001b[K\rremote: Counting objects:  95% (112/117)\u001b[K\rremote: Counting objects:  96% (113/117)\u001b[K\rremote: Counting objects:  97% (114/117)\u001b[K\rremote: Counting objects:  98% (115/117)\u001b[K\rremote: Counting objects:  99% (116/117)\u001b[K\rremote: Counting objects: 100% (117/117)\u001b[K\rremote: Counting objects: 100% (117/117), done.\u001b[K\n",
            "remote: Compressing objects:   0% (1/102)\u001b[K\rremote: Compressing objects:   1% (2/102)\u001b[K\rremote: Compressing objects:   2% (3/102)\u001b[K\rremote: Compressing objects:   3% (4/102)\u001b[K\rremote: Compressing objects:   4% (5/102)\u001b[K\rremote: Compressing objects:   5% (6/102)\u001b[K\rremote: Compressing objects:   6% (7/102)\u001b[K\rremote: Compressing objects:   7% (8/102)\u001b[K\rremote: Compressing objects:   8% (9/102)\u001b[K\rremote: Compressing objects:   9% (10/102)\u001b[K\rremote: Compressing objects:  10% (11/102)\u001b[K\rremote: Compressing objects:  11% (12/102)\u001b[K\rremote: Compressing objects:  12% (13/102)\u001b[K\rremote: Compressing objects:  13% (14/102)\u001b[K\rremote: Compressing objects:  14% (15/102)\u001b[K\rremote: Compressing objects:  15% (16/102)\u001b[K\rremote: Compressing objects:  16% (17/102)\u001b[K\rremote: Compressing objects:  17% (18/102)\u001b[K\rremote: Compressing objects:  18% (19/102)\u001b[K\rremote: Compressing objects:  19% (20/102)\u001b[K\rremote: Compressing objects:  20% (21/102)\u001b[K\rremote: Compressing objects:  21% (22/102)\u001b[K\rremote: Compressing objects:  22% (23/102)\u001b[K\rremote: Compressing objects:  23% (24/102)\u001b[K\rremote: Compressing objects:  24% (25/102)\u001b[K\rremote: Compressing objects:  25% (26/102)\u001b[K\rremote: Compressing objects:  26% (27/102)\u001b[K\rremote: Compressing objects:  27% (28/102)\u001b[K\rremote: Compressing objects:  28% (29/102)\u001b[K\rremote: Compressing objects:  29% (30/102)\u001b[K\rremote: Compressing objects:  30% (31/102)\u001b[K\rremote: Compressing objects:  31% (32/102)\u001b[K\rremote: Compressing objects:  32% (33/102)\u001b[K\rremote: Compressing objects:  33% (34/102)\u001b[K\rremote: Compressing objects:  34% (35/102)\u001b[K\rremote: Compressing objects:  35% (36/102)\u001b[K\rremote: Compressing objects:  36% (37/102)\u001b[K\rremote: Compressing objects:  37% (38/102)\u001b[K\rremote: Compressing objects:  38% (39/102)\u001b[K\rremote: Compressing objects:  39% (40/102)\u001b[K\rremote: Compressing objects:  40% (41/102)\u001b[K\rremote: Compressing objects:  41% (42/102)\u001b[K\rremote: Compressing objects:  42% (43/102)\u001b[K\rremote: Compressing objects:  43% (44/102)\u001b[K\rremote: Compressing objects:  44% (45/102)\u001b[K\rremote: Compressing objects:  45% (46/102)\u001b[K\rremote: Compressing objects:  46% (47/102)\u001b[K\rremote: Compressing objects:  47% (48/102)\u001b[K\rremote: Compressing objects:  48% (49/102)\u001b[K\rremote: Compressing objects:  49% (50/102)\u001b[K\rremote: Compressing objects:  50% (51/102)\u001b[K\rremote: Compressing objects:  51% (53/102)\u001b[K\rremote: Compressing objects:  52% (54/102)\u001b[K\rremote: Compressing objects:  53% (55/102)\u001b[K\rremote: Compressing objects:  54% (56/102)\u001b[K\rremote: Compressing objects:  55% (57/102)\u001b[K\rremote: Compressing objects:  56% (58/102)\u001b[K\rremote: Compressing objects:  57% (59/102)\u001b[K\rremote: Compressing objects:  58% (60/102)\u001b[K\rremote: Compressing objects:  59% (61/102)\u001b[K\rremote: Compressing objects:  60% (62/102)\u001b[K\rremote: Compressing objects:  61% (63/102)\u001b[K\rremote: Compressing objects:  62% (64/102)\u001b[K\rremote: Compressing objects:  63% (65/102)\u001b[K\rremote: Compressing objects:  64% (66/102)\u001b[K\rremote: Compressing objects:  65% (67/102)\u001b[K\rremote: Compressing objects:  66% (68/102)\u001b[K\rremote: Compressing objects:  67% (69/102)\u001b[K\rremote: Compressing objects:  68% (70/102)\u001b[K\rremote: Compressing objects:  69% (71/102)\u001b[K\rremote: Compressing objects:  70% (72/102)\u001b[K\rremote: Compressing objects:  71% (73/102)\u001b[K\rremote: Compressing objects:  72% (74/102)\u001b[K\rremote: Compressing objects:  73% (75/102)\u001b[K\rremote: Compressing objects:  74% (76/102)\u001b[K\rremote: Compressing objects:  75% (77/102)\u001b[K\rremote: Compressing objects:  76% (78/102)\u001b[K\rremote: Compressing objects:  77% (79/102)\u001b[K\rremote: Compressing objects:  78% (80/102)\u001b[K\rremote: Compressing objects:  79% (81/102)\u001b[K\rremote: Compressing objects:  80% (82/102)\u001b[K\rremote: Compressing objects:  81% (83/102)\u001b[K\rremote: Compressing objects:  82% (84/102)\u001b[K\rremote: Compressing objects:  83% (85/102)\u001b[K\rremote: Compressing objects:  84% (86/102)\u001b[K\rremote: Compressing objects:  85% (87/102)\u001b[K\rremote: Compressing objects:  86% (88/102)\u001b[K\rremote: Compressing objects:  87% (89/102)\u001b[K\rremote: Compressing objects:  88% (90/102)\u001b[K\rremote: Compressing objects:  89% (91/102)\u001b[K\rremote: Compressing objects:  90% (92/102)\u001b[K\rremote: Compressing objects:  91% (93/102)\u001b[K\rremote: Compressing objects:  92% (94/102)\u001b[K\rremote: Compressing objects:  93% (95/102)\u001b[K\rremote: Compressing objects:  94% (96/102)\u001b[K\rremote: Compressing objects:  95% (97/102)\u001b[K\rremote: Compressing objects:  96% (98/102)\u001b[K\rremote: Compressing objects:  97% (99/102)\u001b[K\rremote: Compressing objects:  98% (100/102)\u001b[K\rremote: Compressing objects:  99% (101/102)\u001b[K\rremote: Compressing objects: 100% (102/102)\u001b[K\rremote: Compressing objects: 100% (102/102), done.\u001b[K\n",
            "Receiving objects:   0% (1/132)   \rReceiving objects:   1% (2/132)   \rReceiving objects:   2% (3/132)   \rReceiving objects:   3% (4/132)   \rReceiving objects:   4% (6/132)   \rReceiving objects:   5% (7/132)   \rReceiving objects:   6% (8/132)   \rReceiving objects:   7% (10/132)   \rReceiving objects:   8% (11/132)   \rReceiving objects:   9% (12/132)   \rReceiving objects:  10% (14/132)   \rReceiving objects:  11% (15/132)   \rReceiving objects:  12% (16/132)   \rReceiving objects:  13% (18/132)   \rReceiving objects:  14% (19/132)   \rReceiving objects:  15% (20/132)   \rReceiving objects:  16% (22/132)   \rReceiving objects:  17% (23/132)   \rReceiving objects:  18% (24/132)   \rReceiving objects:  19% (26/132)   \rReceiving objects:  20% (27/132)   \rReceiving objects:  21% (28/132)   \rReceiving objects:  22% (30/132)   \rReceiving objects:  23% (31/132)   \rReceiving objects:  24% (32/132)   \rReceiving objects:  25% (33/132)   \rReceiving objects:  26% (35/132)   \rReceiving objects:  27% (36/132)   \rReceiving objects:  28% (37/132)   \rReceiving objects:  29% (39/132)   \rReceiving objects:  30% (40/132)   \rReceiving objects:  31% (41/132)   \rReceiving objects:  32% (43/132)   \rReceiving objects:  33% (44/132)   \rReceiving objects:  34% (45/132)   \rReceiving objects:  35% (47/132)   \rReceiving objects:  36% (48/132)   \rReceiving objects:  37% (49/132)   \rReceiving objects:  38% (51/132)   \rReceiving objects:  39% (52/132)   \rReceiving objects:  40% (53/132)   \rReceiving objects:  41% (55/132)   \rReceiving objects:  42% (56/132)   \rReceiving objects:  43% (57/132)   \rReceiving objects:  44% (59/132)   \rReceiving objects:  45% (60/132)   \rReceiving objects:  46% (61/132)   \rReceiving objects:  47% (63/132)   \rReceiving objects:  48% (64/132)   \rReceiving objects:  49% (65/132)   \rReceiving objects:  50% (66/132)   \rReceiving objects:  51% (68/132)   \rReceiving objects:  52% (69/132)   \rReceiving objects:  53% (70/132)   \rReceiving objects:  54% (72/132)   \rReceiving objects:  55% (73/132)   \rReceiving objects:  56% (74/132)   \rReceiving objects:  57% (76/132)   \rReceiving objects:  58% (77/132)   \rremote: Total 132 (delta 26), reused 55 (delta 10), pack-reused 15\u001b[K\n",
            "Receiving objects:  59% (78/132)   \rReceiving objects:  60% (80/132)   \rReceiving objects:  61% (81/132)   \rReceiving objects:  62% (82/132)   \rReceiving objects:  63% (84/132)   \rReceiving objects:  64% (85/132)   \rReceiving objects:  65% (86/132)   \rReceiving objects:  66% (88/132)   \rReceiving objects:  67% (89/132)   \rReceiving objects:  68% (90/132)   \rReceiving objects:  69% (92/132)   \rReceiving objects:  70% (93/132)   \rReceiving objects:  71% (94/132)   \rReceiving objects:  72% (96/132)   \rReceiving objects:  73% (97/132)   \rReceiving objects:  74% (98/132)   \rReceiving objects:  75% (99/132)   \rReceiving objects:  76% (101/132)   \rReceiving objects:  77% (102/132)   \rReceiving objects:  78% (103/132)   \rReceiving objects:  79% (105/132)   \rReceiving objects:  80% (106/132)   \rReceiving objects:  81% (107/132)   \rReceiving objects:  82% (109/132)   \rReceiving objects:  83% (110/132)   \rReceiving objects:  84% (111/132)   \rReceiving objects:  85% (113/132)   \rReceiving objects:  86% (114/132)   \rReceiving objects:  87% (115/132)   \rReceiving objects:  88% (117/132)   \rReceiving objects:  89% (118/132)   \rReceiving objects:  90% (119/132)   \rReceiving objects:  91% (121/132)   \rReceiving objects:  92% (122/132)   \rReceiving objects:  93% (123/132)   \rReceiving objects:  94% (125/132)   \rReceiving objects:  95% (126/132)   \rReceiving objects:  96% (127/132)   \rReceiving objects:  97% (129/132)   \rReceiving objects:  98% (130/132)   \rReceiving objects:  99% (131/132)   \rReceiving objects: 100% (132/132)   \rReceiving objects: 100% (132/132), 239.11 KiB | 7.25 MiB/s, done.\n",
            "Resolving deltas:   0% (0/29)   \rResolving deltas:   3% (1/29)   \rResolving deltas:  51% (15/29)   \rResolving deltas:  75% (22/29)   \rResolving deltas:  86% (25/29)   \rResolving deltas:  89% (26/29)   \rResolving deltas:  96% (28/29)   \rResolving deltas: 100% (29/29)   \rResolving deltas: 100% (29/29), done.\n",
            "From https://github.com/alifele/Python\n",
            " * [new branch]      master     -> origin/master\n",
            "From https://github.com/alifele/Python\n",
            " * branch            master     -> FETCH_HEAD\n"
          ],
          "name": "stdout"
        },
        {
          "output_type": "execute_result",
          "data": {
            "text/plain": [
              ""
            ]
          },
          "metadata": {
            "tags": []
          },
          "execution_count": 36
        }
      ]
    },
    {
      "cell_type": "code",
      "metadata": {
        "id": "zSm8jc4I7Qm3",
        "colab_type": "code",
        "colab": {}
      },
      "source": [
        ""
      ],
      "execution_count": 0,
      "outputs": []
    }
  ]
}