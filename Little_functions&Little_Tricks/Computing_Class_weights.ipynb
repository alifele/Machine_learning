{
  "nbformat": 4,
  "nbformat_minor": 0,
  "metadata": {
    "colab": {
      "name": "Computing_Class_weights.ipynb",
      "version": "0.3.2",
      "provenance": [],
      "include_colab_link": true
    },
    "kernelspec": {
      "name": "python3",
      "display_name": "Python 3"
    }
  },
  "cells": [
    {
      "cell_type": "markdown",
      "metadata": {
        "id": "view-in-github",
        "colab_type": "text"
      },
      "source": [
        "<a href=\"https://colab.research.google.com/github/alifele/Machine_learning/blob/master/Little_functions%26Little_Tricks/Computing_Class_weights.ipynb\" target=\"_parent\"><img src=\"https://colab.research.google.com/assets/colab-badge.svg\" alt=\"Open In Colab\"/></a>"
      ]
    },
    {
      "cell_type": "markdown",
      "metadata": {
        "id": "wXy5nrd2DH7w",
        "colab_type": "text"
      },
      "source": [
        "in fitting a neural network for classification we my have some *Overpresented* and some *Underpresented* classes.we can use ```class_weight``` to give a larger weight to underpresented classes and a lower weight to overpresented ones.\n",
        "\n",
        "we can calculate the weight of classes by the following code :"
      ]
    },
    {
      "cell_type": "code",
      "metadata": {
        "id": "-6PxHWz6DHYE",
        "colab_type": "code",
        "outputId": "b78b6da9-2aa5-4040-8023-27515e591752",
        "colab": {
          "base_uri": "https://localhost:8080/",
          "height": 51
        }
      },
      "source": [
        "from sklearn.utils import class_weight\n",
        "import numpy as np\n",
        "from collections import Counter\n",
        "\n",
        "\n",
        "y_train = [1,1,1,2,1,2,1,3,1,2,1,1,2,2,1,1,1,2,1,1,3,1,1,2,1,4,4,1,4,2,1,4,5,5,4]\n",
        "\n",
        "print(Counter(y_train))\n",
        "\n",
        "weights = class_weight.compute_class_weight('balanced',\n",
        "                                           np.unique(y_train),\n",
        "                                           y_train)\n",
        "weights"
      ],
      "execution_count": 0,
      "outputs": [
        {
          "output_type": "stream",
          "text": [
            "Counter({1: 18, 2: 8, 4: 5, 3: 2, 5: 2})\n"
          ],
          "name": "stdout"
        },
        {
          "output_type": "execute_result",
          "data": {
            "text/plain": [
              "array([0.38888889, 0.875     , 3.5       , 1.4       , 3.5       ])"
            ]
          },
          "metadata": {
            "tags": []
          },
          "execution_count": 7
        }
      ]
    },
    {
      "cell_type": "markdown",
      "metadata": {
        "id": "j5k9B5PPE2Rr",
        "colab_type": "text"
      },
      "source": [
        "#in fact the weight of each class is $\\frac{Average Frequancy}{FrequancyOfTheClass}$"
      ]
    },
    {
      "cell_type": "code",
      "metadata": {
        "id": "5zElMdxeDDCE",
        "colab_type": "code",
        "colab": {}
      },
      "source": [
        ""
      ],
      "execution_count": 0,
      "outputs": []
    }
  ]
}