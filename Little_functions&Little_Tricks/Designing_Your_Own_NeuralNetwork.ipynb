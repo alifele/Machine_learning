{
  "nbformat": 4,
  "nbformat_minor": 0,
  "metadata": {
    "colab": {
      "name": "Designing_Your_Own_NeuralNetwork.ipynb",
      "version": "0.3.2",
      "provenance": [],
      "include_colab_link": true
    },
    "kernelspec": {
      "name": "python3",
      "display_name": "Python 3"
    }
  },
  "cells": [
    {
      "cell_type": "markdown",
      "metadata": {
        "id": "view-in-github",
        "colab_type": "text"
      },
      "source": [
        "<a href=\"https://colab.research.google.com/github/alifele/Machine_learning/blob/master/Little_functions%26Little_Tricks/Designing_Your_Own_NeuralNetwork.ipynb\" target=\"_parent\"><img src=\"https://colab.research.google.com/assets/colab-badge.svg\" alt=\"Open In Colab\"/></a>"
      ]
    },
    {
      "cell_type": "code",
      "metadata": {
        "id": "kau3fgRwYsFK",
        "colab_type": "code",
        "colab": {}
      },
      "source": [
        "import numpy as nphttps://colab.research.google.com/drive/1K1staiVNTrx3MkADjk5o-SiHIYuGpxzQ#scrollTo=kau3fgRwYsFK\n",
        "import matplotlib.pyplot as plt\n",
        "import tensorflow as tf\n",
        "from tensorflow import keras"
      ],
      "execution_count": 0,
      "outputs": []
    },
    {
      "cell_type": "code",
      "metadata": {
        "id": "TqWbQ2W-bFzD",
        "colab_type": "code",
        "colab": {
          "base_uri": "https://localhost:8080/",
          "height": 90
        },
        "outputId": "3c39f081-551e-4b36-a71f-9ce2ccf848d3"
      },
      "source": [
        "input = keras.layers.Input(shape=(8,8))\n",
        "hidden1 = keras.layers.Dense(10, activation='relu')(input)\n",
        "hidden2 = keras.layers.Dense(10, activation='relu')(hidden1)\n",
        "concat = keras.layers.Concatenate()([input,hidden1])\n",
        "output = keras.layers.Dense(10, activation='softmax')(concat)\n",
        "\n",
        "model = keras.models.Model(inputs=[input], outputs=[output])\n"
      ],
      "execution_count": 4,
      "outputs": [
        {
          "output_type": "stream",
          "text": [
            "WARNING:tensorflow:From /usr/local/lib/python3.6/dist-packages/tensorflow/python/ops/resource_variable_ops.py:435: colocate_with (from tensorflow.python.framework.ops) is deprecated and will be removed in a future version.\n",
            "Instructions for updating:\n",
            "Colocations handled automatically by placer.\n"
          ],
          "name": "stdout"
        }
      ]
    },
    {
      "cell_type": "code",
      "metadata": {
        "id": "FEIASMRZeh89",
        "colab_type": "code",
        "colab": {
          "base_uri": "https://localhost:8080/",
          "height": 368
        },
        "outputId": "0e27c760-a14e-48ac-f9a8-404b0c034a9d"
      },
      "source": [
        "keras.utils.plot_model(model)\n",
        "from IPython.display import Image\n",
        "Image('model.png')"
      ],
      "execution_count": 5,
      "outputs": [
        {
          "output_type": "execute_result",
          "data": {
            "image/png": "[encoded data removed]",
            "text/plain": [
              "<IPython.core.display.Image object>"
            ]
          },
          "metadata": {
            "tags": []
          },
          "execution_count": 5
        }
      ]
    },
    {
      "cell_type": "code",
      "metadata": {
        "id": "ZjiqGVURe7C0",
        "colab_type": "code",
        "colab": {}
      },
      "source": [
        ""
      ],
      "execution_count": 0,
      "outputs": []
    }
  ]
}