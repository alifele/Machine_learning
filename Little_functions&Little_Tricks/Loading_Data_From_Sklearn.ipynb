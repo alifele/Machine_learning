{
  "nbformat": 4,
  "nbformat_minor": 0,
  "metadata": {
    "colab": {
      "name": "Loading Data From Sklearn.ipynb",
      "version": "0.3.2",
      "provenance": [],
      "include_colab_link": true
    },
    "kernelspec": {
      "name": "python3",
      "display_name": "Python 3"
    }
  },
  "cells": [
    {
      "cell_type": "markdown",
      "metadata": {
        "id": "view-in-github",
        "colab_type": "text"
      },
      "source": [
        "<a href=\"https://colab.research.google.com/github/alifele/Machine_learning/blob/master/Little_functions%26Little_Tricks/Loading_Data_From_Sklearn.ipynb\" target=\"_parent\"><img src=\"https://colab.research.google.com/assets/colab-badge.svg\" alt=\"Open In Colab\"/></a>"
      ]
    },
    {
      "cell_type": "markdown",
      "metadata": {
        "id": "unhG-uhrOgwk",
        "colab_type": "text"
      },
      "source": [
        "in this notebook i am going to show you how to import data from sklearn.\n",
        "\n",
        "there are different data sets on sklearn.datasets that each come in a dictionary.\n",
        "\n",
        "More information can be obtained from here : https://scikit-learn.org/stable/datasets/index.html"
      ]
    },
    {
      "cell_type": "markdown",
      "metadata": {
        "id": "9y3gtzJ_TWgx",
        "colab_type": "text"
      },
      "source": [
        "The dataset loaders. They can be used to load small standard datasets\n",
        "\n",
        "The dataset fetchers. They can be used to download and load larger datasets\n",
        "\n",
        "Both loaders and fetchers functions return a dictionary-like object\n",
        "\n",
        "It’s also possible for almost all of these function to constrain the output to be a tuple containing only the data and the target, by setting the ```return_X_y ``` parameter to True."
      ]
    },
    {
      "cell_type": "markdown",
      "metadata": {
        "id": "Lw6B1DjNT7hx",
        "colab_type": "text"
      },
      "source": [
        "#Toy datasets\n",
        "\n",
        "```load_boston([return_X_y])```\t----->Load and return the boston house-prices dataset (regression).\n",
        "\n",
        "```load_iris([return_X_y])``` ------>\tLoad and return the iris dataset (classification).\n",
        "\n",
        "```load_diabetes([return_X_y])``` ------>\tLoad and return the diabetes dataset (regression).\n",
        "\n",
        "```load_digits([n_class, return_X_y]) ```------>\tLoad and return the digits dataset (classification).\n",
        "\n",
        "```load_linnerud([return_X_y])``` ------>\tLoad and return the linnerud dataset (multivariate regression).\n",
        "\n",
        "```load_wine([return_X_y])``` ----->\tLoad and return the wine dataset (classification).\n",
        "\n",
        "```load_breast_cancer([return_X_y])``` ----->\tLoad and return the breast cancer wisconsin dataset (classification).\n"
      ]
    },
    {
      "cell_type": "code",
      "metadata": {
        "id": "FEQHaq52Ogbw",
        "colab_type": "code",
        "colab": {}
      },
      "source": [
        "import sklearn.datasets"
      ],
      "execution_count": 0,
      "outputs": []
    },
    {
      "cell_type": "markdown",
      "metadata": {
        "id": "OJQdKNO8WXRF",
        "colab_type": "text"
      },
      "source": [
        "## Boston"
      ]
    },
    {
      "cell_type": "code",
      "metadata": {
        "id": "jCWI4M7COHdS",
        "colab_type": "code",
        "colab": {
          "base_uri": "https://localhost:8080/",
          "height": 34
        },
        "outputId": "fc3754a6-cdaa-4693-9315-a857066c5d54"
      },
      "source": [
        "boston = sklearn.datasets.load_boston()\n",
        "boston.keys()"
      ],
      "execution_count": 6,
      "outputs": [
        {
          "output_type": "execute_result",
          "data": {
            "text/plain": [
              "dict_keys(['data', 'target', 'feature_names', 'DESCR', 'filename'])"
            ]
          },
          "metadata": {
            "tags": []
          },
          "execution_count": 6
        }
      ]
    },
    {
      "cell_type": "markdown",
      "metadata": {
        "id": "O_e2arWdVsol",
        "colab_type": "text"
      },
      "source": [
        "And now you can access the elements of dictionary by \n",
        "\n",
        "``` dictionaty.thekey```\n",
        "\n",
        "or \n",
        "\n",
        "```dictionary['thekey']```"
      ]
    },
    {
      "cell_type": "code",
      "metadata": {
        "id": "p2qYQhw2UkpH",
        "colab_type": "code",
        "colab": {
          "base_uri": "https://localhost:8080/",
          "height": 34
        },
        "outputId": "f9ff8df9-2a2f-40cb-8fa8-43f7eb2658dd"
      },
      "source": [
        "X = boston.data\n",
        "X.shape"
      ],
      "execution_count": 8,
      "outputs": [
        {
          "output_type": "execute_result",
          "data": {
            "text/plain": [
              "(506, 13)"
            ]
          },
          "metadata": {
            "tags": []
          },
          "execution_count": 8
        }
      ]
    },
    {
      "cell_type": "markdown",
      "metadata": {
        "id": "E_a5ZJa2Wphy",
        "colab_type": "text"
      },
      "source": [
        "##Digits"
      ]
    },
    {
      "cell_type": "code",
      "metadata": {
        "id": "TAsysN5hU2R2",
        "colab_type": "code",
        "colab": {
          "base_uri": "https://localhost:8080/",
          "height": 34
        },
        "outputId": "74fb1459-8a19-4015-8483-0129b43e8ead"
      },
      "source": [
        "digits = sklearn.datasets.load_digits()\n",
        "digits.keys()"
      ],
      "execution_count": 9,
      "outputs": [
        {
          "output_type": "execute_result",
          "data": {
            "text/plain": [
              "dict_keys(['data', 'target', 'target_names', 'images', 'DESCR'])"
            ]
          },
          "metadata": {
            "tags": []
          },
          "execution_count": 9
        }
      ]
    },
    {
      "cell_type": "code",
      "metadata": {
        "id": "PDbMC0_UWygV",
        "colab_type": "code",
        "colab": {
          "base_uri": "https://localhost:8080/",
          "height": 34
        },
        "outputId": "6a986c9d-8665-42b6-8106-56ad523988a8"
      },
      "source": [
        "X = digits.data\n",
        "X.shape"
      ],
      "execution_count": 14,
      "outputs": [
        {
          "output_type": "execute_result",
          "data": {
            "text/plain": [
              "(1797, 64)"
            ]
          },
          "metadata": {
            "tags": []
          },
          "execution_count": 14
        }
      ]
    },
    {
      "cell_type": "code",
      "metadata": {
        "id": "sgViKhPkW2HD",
        "colab_type": "code",
        "colab": {
          "base_uri": "https://localhost:8080/",
          "height": 286
        },
        "outputId": "38db877a-7106-4de9-a345-5e463a989a7f"
      },
      "source": [
        "from matplotlib.pyplot import imshow\n",
        "imshow(X[12].reshape(8,8))"
      ],
      "execution_count": 15,
      "outputs": [
        {
          "output_type": "execute_result",
          "data": {
            "text/plain": [
              "<matplotlib.image.AxesImage at 0x7f68f78c7160>"
            ]
          },
          "metadata": {
            "tags": []
          },
          "execution_count": 15
        },
        {
          "output_type": "display_data",
          "data": {
            "image/png": "[encoded data removed]",
            "text/plain": [
              "<Figure size 432x288 with 1 Axes>"
            ]
          },
          "metadata": {
            "tags": []
          }
        }
      ]
    },
    {
      "cell_type": "markdown",
      "metadata": {
        "id": "YinEMwULXSzB",
        "colab_type": "text"
      },
      "source": [
        "#Real world datasets\n",
        "\n",
        "scikit-learn provides tools to load larger datasets, downloading them if necessary\n",
        "\n",
        "```fetch_olivetti_faces([data_home, shuffle, …])``` ------>\tLoad the Olivetti faces data-set from AT&T (classification).\n",
        "\n",
        "```fetch_20newsgroups([data_home, subset, …])``` ----->\tLoad the filenames and data from the 20 newsgroups dataset (classification).\n",
        "\n",
        "```fetch_20newsgroups_vectorized([subset, …])\t``` ----->Load the 20 newsgroups dataset and vectorize it into token counts (classification).\n",
        "\n",
        "```fetch_lfw_people([data_home, funneled, …])\t``` ----->Load the Labeled Faces in the Wild (LFW) people dataset (classification).\n",
        "\n",
        "```fetch_lfw_pairs([subset, data_home, …])```\t----->Load the Labeled Faces in the Wild (LFW) pairs dataset (classification).\n",
        "\n",
        "```fetch_covtype([data_home, …])\t``` ----->Load the covertype dataset (classification).\n",
        "\n",
        "```fetch_rcv1([data_home, subset, …])```\t----->Load the RCV1 multilabel dataset (classification).\n",
        "\n",
        "```fetch_kddcup99([subset, data_home, shuffle, …])\t``` ----->Load the kddcup99 dataset (classification).\n",
        "\n",
        "```fetch_california_housing([data_home, …])``` ----->\tLoad the California housing dataset (regression).\n"
      ]
    },
    {
      "cell_type": "markdown",
      "metadata": {
        "id": "fnyrOLygYpzv",
        "colab_type": "text"
      },
      "source": [
        "##face"
      ]
    },
    {
      "cell_type": "code",
      "metadata": {
        "id": "faI0blXXXCaU",
        "colab_type": "code",
        "colab": {}
      },
      "source": [
        "face = sklearn.datasets.fetch_olivetti_faces()"
      ],
      "execution_count": 0,
      "outputs": []
    },
    {
      "cell_type": "code",
      "metadata": {
        "id": "uPBPXXOlXqm9",
        "colab_type": "code",
        "colab": {
          "base_uri": "https://localhost:8080/",
          "height": 34
        },
        "outputId": "a69a953c-b4c8-4912-ed56-fc634736c4fc"
      },
      "source": [
        "face.keys()"
      ],
      "execution_count": 19,
      "outputs": [
        {
          "output_type": "execute_result",
          "data": {
            "text/plain": [
              "dict_keys(['data', 'images', 'target', 'DESCR'])"
            ]
          },
          "metadata": {
            "tags": []
          },
          "execution_count": 19
        }
      ]
    },
    {
      "cell_type": "code",
      "metadata": {
        "id": "dG11of5EXv0H",
        "colab_type": "code",
        "colab": {
          "base_uri": "https://localhost:8080/",
          "height": 34
        },
        "outputId": "4b2f1c04-61d4-46e9-a990-e7b6644d4a6c"
      },
      "source": [
        "X = face.data\n",
        "X.shape"
      ],
      "execution_count": 21,
      "outputs": [
        {
          "output_type": "execute_result",
          "data": {
            "text/plain": [
              "(400, 4096)"
            ]
          },
          "metadata": {
            "tags": []
          },
          "execution_count": 21
        }
      ]
    },
    {
      "cell_type": "code",
      "metadata": {
        "id": "qgzEzNMyXz0-",
        "colab_type": "code",
        "colab": {
          "base_uri": "https://localhost:8080/",
          "height": 286
        },
        "outputId": "86f3d56d-ff29-4216-f05a-43d070f842b3"
      },
      "source": [
        "imshow(X[23].reshape(64,64))"
      ],
      "execution_count": 22,
      "outputs": [
        {
          "output_type": "execute_result",
          "data": {
            "text/plain": [
              "<matplotlib.image.AxesImage at 0x7f68f7aa8160>"
            ]
          },
          "metadata": {
            "tags": []
          },
          "execution_count": 22
        },
        {
          "output_type": "display_data",
          "data": {
            "image/png": "[encoded data removed]",
            "text/plain": [
              "<Figure size 432x288 with 1 Axes>"
            ]
          },
          "metadata": {
            "tags": []
          }
        }
      ]
    },
    {
      "cell_type": "markdown",
      "metadata": {
        "id": "K2H9JXcrYrn2",
        "colab_type": "text"
      },
      "source": [
        "##people"
      ]
    },
    {
      "cell_type": "code",
      "metadata": {
        "id": "WO1cwuh7X6PA",
        "colab_type": "code",
        "colab": {
          "base_uri": "https://localhost:8080/",
          "height": 105
        },
        "outputId": "c4c8199e-095e-4279-8fe7-43d660081a1d"
      },
      "source": [
        "people = sklearn.datasets.fetch_lfw_people()\n",
        "people.keys()"
      ],
      "execution_count": 23,
      "outputs": [
        {
          "output_type": "stream",
          "text": [
            "Downloading LFW metadata: https://ndownloader.figshare.com/files/5976012\n",
            "Downloading LFW metadata: https://ndownloader.figshare.com/files/5976009\n",
            "Downloading LFW metadata: https://ndownloader.figshare.com/files/5976006\n",
            "Downloading LFW data (~200MB): https://ndownloader.figshare.com/files/5976015\n"
          ],
          "name": "stderr"
        },
        {
          "output_type": "execute_result",
          "data": {
            "text/plain": [
              "dict_keys(['data', 'images', 'target', 'target_names', 'DESCR'])"
            ]
          },
          "metadata": {
            "tags": []
          },
          "execution_count": 23
        }
      ]
    },
    {
      "cell_type": "code",
      "metadata": {
        "id": "JHCc2dmFaF39",
        "colab_type": "code",
        "colab": {
          "base_uri": "https://localhost:8080/",
          "height": 2274
        },
        "outputId": "c90ea2a1-c83b-43e0-f644-abee8ea1c8b8"
      },
      "source": [
        "print(people.DESCR)"
      ],
      "execution_count": 25,
      "outputs": [
        {
          "output_type": "stream",
          "text": [
            ".. _labeled_faces_in_the_wild_dataset:\n",
            "\n",
            "The Labeled Faces in the Wild face recognition dataset\n",
            "------------------------------------------------------\n",
            "\n",
            "This dataset is a collection of JPEG pictures of famous people collected\n",
            "over the internet, all details are available on the official website:\n",
            "\n",
            "    http://vis-www.cs.umass.edu/lfw/\n",
            "\n",
            "Each picture is centered on a single face. The typical task is called\n",
            "Face Verification: given a pair of two pictures, a binary classifier\n",
            "must predict whether the two images are from the same person.\n",
            "\n",
            "An alternative task, Face Recognition or Face Identification is:\n",
            "given the picture of the face of an unknown person, identify the name\n",
            "of the person by referring to a gallery of previously seen pictures of\n",
            "identified persons.\n",
            "\n",
            "Both Face Verification and Face Recognition are tasks that are typically\n",
            "performed on the output of a model trained to perform Face Detection. The\n",
            "most popular model for Face Detection is called Viola-Jones and is\n",
            "implemented in the OpenCV library. The LFW faces were extracted by this\n",
            "face detector from various online websites.\n",
            "\n",
            "**Data Set Characteristics:**\n",
            "\n",
            "    =================   =======================\n",
            "    Classes                                5749\n",
            "    Samples total                         13233\n",
            "    Dimensionality                         5828\n",
            "    Features            real, between 0 and 255\n",
            "    =================   =======================\n",
            "\n",
            "Usage\n",
            "~~~~~\n",
            "\n",
            "``scikit-learn`` provides two loaders that will automatically download,\n",
            "cache, parse the metadata files, decode the jpeg and convert the\n",
            "interesting slices into memmapped numpy arrays. This dataset size is more\n",
            "than 200 MB. The first load typically takes more than a couple of minutes\n",
            "to fully decode the relevant part of the JPEG files into numpy arrays. If\n",
            "the dataset has  been loaded once, the following times the loading times\n",
            "less than 200ms by using a memmapped version memoized on the disk in the\n",
            "``~/scikit_learn_data/lfw_home/`` folder using ``joblib``.\n",
            "\n",
            "The first loader is used for the Face Identification task: a multi-class\n",
            "classification task (hence supervised learning)::\n",
            "\n",
            "  >>> from sklearn.datasets import fetch_lfw_people\n",
            "  >>> lfw_people = fetch_lfw_people(min_faces_per_person=70, resize=0.4)\n",
            "\n",
            "  >>> for name in lfw_people.target_names:\n",
            "  ...     print(name)\n",
            "  ...\n",
            "  Ariel Sharon\n",
            "  Colin Powell\n",
            "  Donald Rumsfeld\n",
            "  George W Bush\n",
            "  Gerhard Schroeder\n",
            "  Hugo Chavez\n",
            "  Tony Blair\n",
            "\n",
            "The default slice is a rectangular shape around the face, removing\n",
            "most of the background::\n",
            "\n",
            "  >>> lfw_people.data.dtype\n",
            "  dtype('float32')\n",
            "\n",
            "  >>> lfw_people.data.shape\n",
            "  (1288, 1850)\n",
            "\n",
            "  >>> lfw_people.images.shape\n",
            "  (1288, 50, 37)\n",
            "\n",
            "Each of the ``1140`` faces is assigned to a single person id in the ``target``\n",
            "array::\n",
            "\n",
            "  >>> lfw_people.target.shape\n",
            "  (1288,)\n",
            "\n",
            "  >>> list(lfw_people.target[:10])\n",
            "  [5, 6, 3, 1, 0, 1, 3, 4, 3, 0]\n",
            "\n",
            "The second loader is typically used for the face verification task: each sample\n",
            "is a pair of two picture belonging or not to the same person::\n",
            "\n",
            "  >>> from sklearn.datasets import fetch_lfw_pairs\n",
            "  >>> lfw_pairs_train = fetch_lfw_pairs(subset='train')\n",
            "\n",
            "  >>> list(lfw_pairs_train.target_names)\n",
            "  ['Different persons', 'Same person']\n",
            "\n",
            "  >>> lfw_pairs_train.pairs.shape\n",
            "  (2200, 2, 62, 47)\n",
            "\n",
            "  >>> lfw_pairs_train.data.shape\n",
            "  (2200, 5828)\n",
            "\n",
            "  >>> lfw_pairs_train.target.shape\n",
            "  (2200,)\n",
            "\n",
            "Both for the :func:`sklearn.datasets.fetch_lfw_people` and\n",
            ":func:`sklearn.datasets.fetch_lfw_pairs` function it is\n",
            "possible to get an additional dimension with the RGB color channels by\n",
            "passing ``color=True``, in that case the shape will be\n",
            "``(2200, 2, 62, 47, 3)``.\n",
            "\n",
            "The :func:`sklearn.datasets.fetch_lfw_pairs` datasets is subdivided into\n",
            "3 subsets: the development ``train`` set, the development ``test`` set and\n",
            "an evaluation ``10_folds`` set meant to compute performance metrics using a\n",
            "10-folds cross validation scheme.\n",
            "\n",
            ".. topic:: References:\n",
            "\n",
            " * `Labeled Faces in the Wild: A Database for Studying Face Recognition\n",
            "   in Unconstrained Environments.\n",
            "   <http://vis-www.cs.umass.edu/lfw/lfw.pdf>`_\n",
            "   Gary B. Huang, Manu Ramesh, Tamara Berg, and Erik Learned-Miller.\n",
            "   University of Massachusetts, Amherst, Technical Report 07-49, October, 2007.\n",
            "\n",
            "\n",
            "Examples\n",
            "~~~~~~~~\n",
            "\n",
            ":ref:`sphx_glr_auto_examples_applications_plot_face_recognition.py`\n",
            "\n"
          ],
          "name": "stdout"
        }
      ]
    },
    {
      "cell_type": "code",
      "metadata": {
        "id": "JLNfk0pWY719",
        "colab_type": "code",
        "colab": {
          "base_uri": "https://localhost:8080/",
          "height": 34
        },
        "outputId": "c2f3d086-7376-486d-d7da-21a97ac63755"
      },
      "source": [
        "X = people.images\n",
        "X.shape"
      ],
      "execution_count": 30,
      "outputs": [
        {
          "output_type": "execute_result",
          "data": {
            "text/plain": [
              "(13233, 62, 47)"
            ]
          },
          "metadata": {
            "tags": []
          },
          "execution_count": 30
        }
      ]
    },
    {
      "cell_type": "code",
      "metadata": {
        "id": "MzBf10z9ZyZ3",
        "colab_type": "code",
        "colab": {
          "base_uri": "https://localhost:8080/",
          "height": 286
        },
        "outputId": "6544f1a1-721b-4abe-8081-2c0363f1d8a2"
      },
      "source": [
        "imshow(X[4])\n",
        "print(people.target[4])"
      ],
      "execution_count": 37,
      "outputs": [
        {
          "output_type": "stream",
          "text": [
            "3957\n"
          ],
          "name": "stdout"
        },
        {
          "output_type": "display_data",
          "data": {
            "image/png": "[encoded data removed]",
            "text/plain": [
              "<Figure size 432x288 with 1 Axes>"
            ]
          },
          "metadata": {
            "tags": []
          }
        }
      ]
    },
    {
      "cell_type": "code",
      "metadata": {
        "id": "wupoewwia0f4",
        "colab_type": "code",
        "colab": {}
      },
      "source": [
        ""
      ],
      "execution_count": 0,
      "outputs": []
    }
  ]
}