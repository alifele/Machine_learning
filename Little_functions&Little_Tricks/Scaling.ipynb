{
  "nbformat": 4,
  "nbformat_minor": 0,
  "metadata": {
    "colab": {
      "name": "Scaling.ipynb",
      "version": "0.3.2",
      "provenance": [],
      "include_colab_link": true
    },
    "kernelspec": {
      "name": "python3",
      "display_name": "Python 3"
    }
  },
  "cells": [
    {
      "cell_type": "markdown",
      "metadata": {
        "id": "view-in-github",
        "colab_type": "text"
      },
      "source": [
        "<a href=\"https://colab.research.google.com/github/alifele/Machine_learning/blob/master/Little_functions/Scaling.ipynb\" target=\"_parent\"><img src=\"https://colab.research.google.com/assets/colab-badge.svg\" alt=\"Open In Colab\"/></a>"
      ]
    },
    {
      "metadata": {
        "id": "bi-uSx8oo7YM",
        "colab_type": "text"
      },
      "cell_type": "markdown",
      "source": [
        "#Scaling  (NOT WORKING)\n",
        "Some times to avoid machine round-off-error, we must sclae data. What I mean from scaling is that we shift the mean to zero and variance to 1 and  data_min and data_max interval to [-1,1] and so on"
      ]
    },
    {
      "metadata": {
        "id": "2BtK1b2coXp4",
        "colab_type": "code",
        "colab": {}
      },
      "cell_type": "code",
      "source": [
        "from sklearn.preprocessing import scale\n",
        "import pandas as pd\n",
        "import numpy as np\n",
        "import matplotlib.pyplot as plt"
      ],
      "execution_count": 0,
      "outputs": []
    },
    {
      "metadata": {
        "id": "IbCYrOwrrdX9",
        "colab_type": "text"
      },
      "cell_type": "markdown",
      "source": [
        "#Data generation"
      ]
    },
    {
      "metadata": {
        "id": "kc4lbRaYrfEV",
        "colab_type": "code",
        "colab": {
          "base_uri": "https://localhost:8080/",
          "height": 173
        },
        "outputId": "15885214-6736-4bc2-c980-70f21c4b8062"
      },
      "cell_type": "code",
      "source": [
        "size = np.array([1800,1500,2000,1700])\n",
        "floor = np.array([3,1,2,2])\n",
        "rooms = np.array([3,2,4,2])\n",
        "price = np.array([16200,3000,16000,6800])\n",
        "\n",
        "dic = {'size':size, 'floor':floor, 'rooms':rooms, 'price':price}\n",
        "df = pd.DataFrame(dic)\n",
        "df.head()"
      ],
      "execution_count": 13,
      "outputs": [
        {
          "output_type": "execute_result",
          "data": {
            "text/html": [
              "<div>\n",
              "<style scoped>\n",
              "    .dataframe tbody tr th:only-of-type {\n",
              "        vertical-align: middle;\n",
              "    }\n",
              "\n",
              "    .dataframe tbody tr th {\n",
              "        vertical-align: top;\n",
              "    }\n",
              "\n",
              "    .dataframe thead th {\n",
              "        text-align: right;\n",
              "    }\n",
              "</style>\n",
              "<table border=\"1\" class=\"dataframe\">\n",
              "  <thead>\n",
              "    <tr style=\"text-align: right;\">\n",
              "      <th></th>\n",
              "      <th>size</th>\n",
              "      <th>floor</th>\n",
              "      <th>rooms</th>\n",
              "      <th>price</th>\n",
              "    </tr>\n",
              "  </thead>\n",
              "  <tbody>\n",
              "    <tr>\n",
              "      <th>0</th>\n",
              "      <td>1800</td>\n",
              "      <td>3</td>\n",
              "      <td>3</td>\n",
              "      <td>16200</td>\n",
              "    </tr>\n",
              "    <tr>\n",
              "      <th>1</th>\n",
              "      <td>1500</td>\n",
              "      <td>1</td>\n",
              "      <td>2</td>\n",
              "      <td>3000</td>\n",
              "    </tr>\n",
              "    <tr>\n",
              "      <th>2</th>\n",
              "      <td>2000</td>\n",
              "      <td>2</td>\n",
              "      <td>4</td>\n",
              "      <td>16000</td>\n",
              "    </tr>\n",
              "    <tr>\n",
              "      <th>3</th>\n",
              "      <td>1700</td>\n",
              "      <td>2</td>\n",
              "      <td>2</td>\n",
              "      <td>6800</td>\n",
              "    </tr>\n",
              "  </tbody>\n",
              "</table>\n",
              "</div>"
            ],
            "text/plain": [
              "   size  floor  rooms  price\n",
              "0  1800      3      3  16200\n",
              "1  1500      1      2   3000\n",
              "2  2000      2      4  16000\n",
              "3  1700      2      2   6800"
            ]
          },
          "metadata": {
            "tags": []
          },
          "execution_count": 13
        }
      ]
    },
    {
      "metadata": {
        "id": "EuAfn5Lhu3R2",
        "colab_type": "code",
        "colab": {}
      },
      "cell_type": "code",
      "source": [
        "col = list(df.columns)"
      ],
      "execution_count": 0,
      "outputs": []
    },
    {
      "metadata": {
        "id": "abSvd83Pt1RE",
        "colab_type": "code",
        "colab": {
          "base_uri": "https://localhost:8080/",
          "height": 283
        },
        "outputId": "477a1467-6b91-47bd-89c4-f4a69feef554"
      },
      "cell_type": "code",
      "source": [
        "fig = plt.figure(figsize=(12,4))\n",
        "index =['ax1','ax2','ax3']\n",
        "k=1\n",
        "j=0\n",
        "for i in index:\n",
        "    ax = fig.add_subplot(1,3,k,xlabel = col[j], ylabel='price') \n",
        "    ax.scatter(df[col[j]],df['price'])\n",
        "    k = k+1\n",
        "    j = j+1"
      ],
      "execution_count": 48,
      "outputs": [
        {
          "output_type": "display_data",
          "data": {
            "image/png": "[encoded data removed]",
            "text/plain": [
              "<Figure size 864x288 with 3 Axes>"
            ]
          },
          "metadata": {
            "tags": []
          }
        }
      ]
    },
    {
      "metadata": {
        "id": "f_RBOoAaxbv2",
        "colab_type": "text"
      },
      "cell_type": "markdown",
      "source": [
        "#IMPORTANT NOTE\n",
        "Note that our data **MUST** be in following syntax :\n",
        "\n",
        "Features -----------> columns\n",
        "\n",
        "Training Data -------------> rows"
      ]
    },
    {
      "metadata": {
        "id": "eYRjWMy5vfs4",
        "colab_type": "code",
        "colab": {
          "base_uri": "https://localhost:8080/",
          "height": 139
        },
        "outputId": "92361b33-b44c-4158-c074-1123c5e8f3a8"
      },
      "cell_type": "code",
      "source": [
        "scaled_data = scale(df)\n",
        "print(scaled_data)\n"
      ],
      "execution_count": 45,
      "outputs": [
        {
          "output_type": "stream",
          "text": [
            "[[ 0.2773501   1.41421356  0.30151134  0.98969669]\n",
            " [-1.38675049 -1.41421356 -0.90453403 -1.30223249]\n",
            " [ 1.38675049  0.          1.50755672  0.9549705 ]\n",
            " [-0.2773501   0.         -0.90453403 -0.6424347 ]]\n"
          ],
          "name": "stdout"
        },
        {
          "output_type": "stream",
          "text": [
            "/usr/local/lib/python3.6/dist-packages/ipykernel_launcher.py:1: DataConversionWarning: Data with input dtype int64 were all converted to float64 by the scale function.\n",
            "  \"\"\"Entry point for launching an IPython kernel.\n"
          ],
          "name": "stderr"
        }
      ]
    },
    {
      "metadata": {
        "id": "vaQOzQTdyK0r",
        "colab_type": "text"
      },
      "cell_type": "markdown",
      "source": [
        "#Warning :\n",
        "NOTE that the output is not in a pandas data frame any more"
      ]
    },
    {
      "metadata": {
        "id": "y7j6dFu3wECg",
        "colab_type": "code",
        "colab": {
          "base_uri": "https://localhost:8080/",
          "height": 173
        },
        "outputId": "d2187f6e-91a3-41e3-eb5a-2f3756022752"
      },
      "cell_type": "code",
      "source": [
        "dic = {'size':scaled_data[0], 'floor':scaled_data[1], 'rooms':scaled_data[2], 'price':scaled_data[3]}\n",
        "\n",
        "scaled_df = pd.DataFrame(dic)\n",
        "scaled_df.head()"
      ],
      "execution_count": 46,
      "outputs": [
        {
          "output_type": "execute_result",
          "data": {
            "text/html": [
              "<div>\n",
              "<style scoped>\n",
              "    .dataframe tbody tr th:only-of-type {\n",
              "        vertical-align: middle;\n",
              "    }\n",
              "\n",
              "    .dataframe tbody tr th {\n",
              "        vertical-align: top;\n",
              "    }\n",
              "\n",
              "    .dataframe thead th {\n",
              "        text-align: right;\n",
              "    }\n",
              "</style>\n",
              "<table border=\"1\" class=\"dataframe\">\n",
              "  <thead>\n",
              "    <tr style=\"text-align: right;\">\n",
              "      <th></th>\n",
              "      <th>size</th>\n",
              "      <th>floor</th>\n",
              "      <th>rooms</th>\n",
              "      <th>price</th>\n",
              "    </tr>\n",
              "  </thead>\n",
              "  <tbody>\n",
              "    <tr>\n",
              "      <th>0</th>\n",
              "      <td>0.277350</td>\n",
              "      <td>-1.386750</td>\n",
              "      <td>1.386750</td>\n",
              "      <td>-0.277350</td>\n",
              "    </tr>\n",
              "    <tr>\n",
              "      <th>1</th>\n",
              "      <td>1.414214</td>\n",
              "      <td>-1.414214</td>\n",
              "      <td>0.000000</td>\n",
              "      <td>0.000000</td>\n",
              "    </tr>\n",
              "    <tr>\n",
              "      <th>2</th>\n",
              "      <td>0.301511</td>\n",
              "      <td>-0.904534</td>\n",
              "      <td>1.507557</td>\n",
              "      <td>-0.904534</td>\n",
              "    </tr>\n",
              "    <tr>\n",
              "      <th>3</th>\n",
              "      <td>0.989697</td>\n",
              "      <td>-1.302232</td>\n",
              "      <td>0.954970</td>\n",
              "      <td>-0.642435</td>\n",
              "    </tr>\n",
              "  </tbody>\n",
              "</table>\n",
              "</div>"
            ],
            "text/plain": [
              "       size     floor     rooms     price\n",
              "0  0.277350 -1.386750  1.386750 -0.277350\n",
              "1  1.414214 -1.414214  0.000000  0.000000\n",
              "2  0.301511 -0.904534  1.507557 -0.904534\n",
              "3  0.989697 -1.302232  0.954970 -0.642435"
            ]
          },
          "metadata": {
            "tags": []
          },
          "execution_count": 46
        }
      ]
    },
    {
      "metadata": {
        "id": "H5RaEKsb0AQJ",
        "colab_type": "text"
      },
      "cell_type": "markdown",
      "source": [
        "#Visualization of the Scaled Data"
      ]
    },
    {
      "metadata": {
        "id": "zWaMMPv_z--E",
        "colab_type": "code",
        "colab": {
          "base_uri": "https://localhost:8080/",
          "height": 283
        },
        "outputId": "441302d6-a792-44d3-a58c-c1cfdf24e2f3"
      },
      "cell_type": "code",
      "source": [
        "fig = plt.figure(figsize=(12,4))\n",
        "index =['ax1','ax2','ax3']\n",
        "k=1\n",
        "j=0\n",
        "for i in index:\n",
        "    ax = fig.add_subplot(1,3,k,xlabel = col[j], ylabel='price') \n",
        "    ax.scatter(scaled_df[col[j]],scaled_df['price'])\n",
        "    k = k+1\n",
        "    j = j+1"
      ],
      "execution_count": 49,
      "outputs": [
        {
          "output_type": "display_data",
          "data": {
            "image/png": "[encoded data removed]",
            "text/plain": [
              "<Figure size 864x288 with 3 Axes>"
            ]
          },
          "metadata": {
            "tags": []
          }
        }
      ]
    },
    {
      "metadata": {
        "id": "ynspIh0a0htG",
        "colab_type": "code",
        "colab": {}
      },
      "cell_type": "code",
      "source": [
        ""
      ],
      "execution_count": 0,
      "outputs": []
    }
  ]
}
