{
 "cells": [
  {
   "cell_type": "markdown",
   "metadata": {},
   "source": [
    "# How to fetch data with python script"
   ]
  },
  {
   "cell_type": "markdown",
   "metadata": {},
   "source": [
    "In this note book you will learn how to fetch data using python notebooks.\n",
    "\n",
    "It is important to make fetching data automatic because when you want to update the dataset regualrly, then you can do so with just running script.\n",
    "\n",
    "\n",
    "To do this you will need :\n"
   ]
  },
  {
   "cell_type": "code",
   "execution_count": 22,
   "metadata": {},
   "outputs": [],
   "source": [
    "import urllib.request\n",
    "import os\n",
    "import tarfile"
   ]
  },
  {
   "cell_type": "markdown",
   "metadata": {},
   "source": [
    "first select the absolute or relative path\n"
   ]
  },
  {
   "cell_type": "code",
   "execution_count": 25,
   "metadata": {},
   "outputs": [],
   "source": [
    "data_path = os.path.join('DataSets','Housing')\n",
    "#this means that I want to save the data in the Datasets/Housing folder which is in the working directory\n",
    "\n",
    "#Now lets make the folders:\n",
    "os.makedirs(data_path, exist_ok = True)"
   ]
  },
  {
   "cell_type": "markdown",
   "metadata": {},
   "source": [
    "then you should have the URL of the data set that you want to download in your hand:"
   ]
  },
  {
   "cell_type": "code",
   "execution_count": 26,
   "metadata": {},
   "outputs": [],
   "source": [
    "URL = \"https://raw.githubusercontent.com/ageron/handson-ml2/master/\" + 'datasets/housing/housing.tgz'"
   ]
  },
  {
   "cell_type": "markdown",
   "metadata": {},
   "source": [
    "the last thing you should do is choosing the name of the file that you want to save in you computer.\n",
    "Important Note:\n",
    "Note that to file name must be beside its path:\n",
    "see the code below to find out more:"
   ]
  },
  {
   "cell_type": "code",
   "execution_count": 27,
   "metadata": {},
   "outputs": [],
   "source": [
    "file_path = os.path.join(data_path ,'data_file.tgz')"
   ]
  },
  {
   "cell_type": "markdown",
   "metadata": {},
   "source": [
    "Now it is time to download the data set"
   ]
  },
  {
   "cell_type": "code",
   "execution_count": 28,
   "metadata": {},
   "outputs": [
    {
     "data": {
      "text/plain": [
       "('DataSets/Housing/data_file.tgz', <http.client.HTTPMessage at 0x7f770e7e9668>)"
      ]
     },
     "execution_count": 28,
     "metadata": {},
     "output_type": "execute_result"
    }
   ],
   "source": [
    "urllib.request.urlretrieve(URL, file_path)"
   ]
  },
  {
   "cell_type": "markdown",
   "metadata": {},
   "source": [
    "Now you should extract the .tgz file"
   ]
  },
  {
   "cell_type": "code",
   "execution_count": 29,
   "metadata": {},
   "outputs": [],
   "source": [
    "file = tarfile.open(file_path)"
   ]
  },
  {
   "cell_type": "code",
   "execution_count": 30,
   "metadata": {},
   "outputs": [],
   "source": [
    "file.extractall(path = data_path)"
   ]
  },
  {
   "cell_type": "code",
   "execution_count": 31,
   "metadata": {},
   "outputs": [],
   "source": [
    "file.close()"
   ]
  },
  {
   "cell_type": "markdown",
   "metadata": {},
   "source": [
    "YOU did that!\n",
    "\n",
    "the last but not least note:\n",
    "\n",
    "It is better to collect all of you codes in function to be able to download the data when you call that function"
   ]
  },
  {
   "cell_type": "code",
   "execution_count": 36,
   "metadata": {},
   "outputs": [],
   "source": [
    "def fetch_data(URL, path, nameoffile):\n",
    "    os.makedirs(path, exist_ok = True)\n",
    "    path_with_name  = os.path.join(path, nameoffile)\n",
    "    \n",
    "    urllib.request.urlretrieve(URL, path_with_name)\n",
    "    \n",
    "    file = tarfile.open(path_with_name)\n",
    "    file.extractall(path = path)\n",
    "    file.close"
   ]
  },
  {
   "cell_type": "code",
   "execution_count": 37,
   "metadata": {},
   "outputs": [],
   "source": [
    "fetch_data(URL, data_path, 'dataaaa.tgz')"
   ]
  },
  {
   "cell_type": "code",
   "execution_count": null,
   "metadata": {},
   "outputs": [],
   "source": []
  }
 ],
 "metadata": {
  "kernelspec": {
   "display_name": "Python 3",
   "language": "python",
   "name": "python3"
  },
  "language_info": {
   "codemirror_mode": {
    "name": "ipython",
    "version": 3
   },
   "file_extension": ".py",
   "mimetype": "text/x-python",
   "name": "python",
   "nbconvert_exporter": "python",
   "pygments_lexer": "ipython3",
   "version": "3.7.3"
  }
 },
 "nbformat": 4,
 "nbformat_minor": 2
}
