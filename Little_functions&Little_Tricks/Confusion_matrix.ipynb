{
  "nbformat": 4,
  "nbformat_minor": 0,
  "metadata": {
    "colab": {
      "name": "Confusion_matrix.ipynb",
      "version": "0.3.2",
      "provenance": [],
      "include_colab_link": true
    },
    "kernelspec": {
      "name": "python3",
      "display_name": "Python 3"
    }
  },
  "cells": [
    {
      "cell_type": "markdown",
      "metadata": {
        "id": "view-in-github",
        "colab_type": "text"
      },
      "source": [
        "<a href=\"https://colab.research.google.com/github/alifele/Machine_learning/blob/master/Little_functions%26Little_Tricks/Confusion_matrix.ipynb\" target=\"_parent\"><img src=\"https://colab.research.google.com/assets/colab-badge.svg\" alt=\"Open In Colab\"/></a>"
      ]
    },
    {
      "cell_type": "markdown",
      "metadata": {
        "id": "c-1OPqbno98i",
        "colab_type": "text"
      },
      "source": [
        "# How to use th sklearn confusion matrix"
      ]
    },
    {
      "cell_type": "code",
      "metadata": {
        "id": "pxRfmqy6ml-C",
        "colab_type": "code",
        "colab": {}
      },
      "source": [
        "from sklearn.metrics import confusion_matrix\n",
        "import numpy as np"
      ],
      "execution_count": 0,
      "outputs": []
    },
    {
      "cell_type": "code",
      "metadata": {
        "id": "ey04Arsim7An",
        "colab_type": "code",
        "colab": {}
      },
      "source": [
        "actual = np.array([1,2,1,1,2,1,2,2,2,1,3,3,2,1,2,3])\n",
        "predict= np.array([1,1,2,1,2,1,1,1,2,2,1,3,3,1,2,3])"
      ],
      "execution_count": 0,
      "outputs": []
    },
    {
      "cell_type": "code",
      "metadata": {
        "id": "Hmi6New-nNeT",
        "colab_type": "code",
        "colab": {
          "base_uri": "https://localhost:8080/",
          "height": 70
        },
        "outputId": "1c10b738-f2b3-42e0-f49e-587e9e0a356b"
      },
      "source": [
        "cm = confusion_matrix(actual, predict)\n",
        "print(cm)"
      ],
      "execution_count": 5,
      "outputs": [
        {
          "output_type": "stream",
          "text": [
            "[[4 2 0]\n",
            " [3 3 1]\n",
            " [1 0 2]]\n"
          ],
          "name": "stdout"
        }
      ]
    },
    {
      "cell_type": "markdown",
      "metadata": {
        "id": "druaOKgZn3uV",
        "colab_type": "text"
      },
      "source": [
        "this matrix is the matix of \n",
        "\n",
        "| *was 1 and predicted as 1*  ||  was 1 but predicted as 2  || was 1 but predicted as 3|\n",
        "|----||---||------|\n",
        "| was 2 but predicted as 1  || *was 2 and predicted as 2*  || was 2 but predicted as 3|\n",
        "| was 3 but predicted as 1 ||was 3 but predicted as 2 || *was 3 and predicted as 3*|\n"
      ]
    },
    {
      "cell_type": "code",
      "metadata": {
        "id": "BdNhkpyVnZu0",
        "colab_type": "code",
        "colab": {}
      },
      "source": [
        ""
      ],
      "execution_count": 0,
      "outputs": []
    }
  ]
}