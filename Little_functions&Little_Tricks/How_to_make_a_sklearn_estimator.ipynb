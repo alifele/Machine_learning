{
  "nbformat": 4,
  "nbformat_minor": 0,
  "metadata": {
    "colab": {
      "name": "How to make a sklearn estimator.ipynb",
      "provenance": []
    },
    "kernelspec": {
      "name": "python3",
      "display_name": "Python 3"
    }
  },
  "cells": [
    {
      "cell_type": "code",
      "metadata": {
        "id": "xRzfzaF-IG9T",
        "colab_type": "code",
        "colab": {}
      },
      "source": [
        "import numpy as np\n",
        "import matplotlib.pyplot as plt"
      ],
      "execution_count": 0,
      "outputs": []
    },
    {
      "cell_type": "code",
      "metadata": {
        "id": "tTuiTX-CIIld",
        "colab_type": "code",
        "colab": {}
      },
      "source": [
        "from sklearn.base import BaseEstimator"
      ],
      "execution_count": 0,
      "outputs": []
    },
    {
      "cell_type": "markdown",
      "metadata": {
        "id": "W6ox-J7zINBv",
        "colab_type": "text"
      },
      "source": [
        "Although Scikit-Learn provides many useful transformers, you will need to\n",
        "write your own for tasks such as custom cleanup operations or combining\n",
        "specific attributes. You will want your transformer to work seamlessly with\n",
        "Scikit-Learn functionalities (such as pipelines), and since Scikit-Learn relies\n",
        "on duck typing (not inheritance), all you need to do is create a class and\n",
        "implement three methods: fit() (returning self), transform(), and\n",
        "fit_transform().\n",
        "You can get the last one for free by simply adding TransformerMixin as a\n",
        "base class. If you add BaseEstimator as a base class (and avoid *args and\n",
        "**kargs in your constructor), you will also get two extra methods\n",
        "( get_params() and set_params()) that will be useful for automatic\n",
        "hyperparameter tuning.\n",
        "\n",
        "\n",
        "\n",
        "from hands on machine learning with sklearn book"
      ]
    },
    {
      "cell_type": "code",
      "metadata": {
        "id": "m5fxVFe0IKqz",
        "colab_type": "code",
        "colab": {
          "base_uri": "https://localhost:8080/",
          "height": 34
        },
        "outputId": "abb67ba0-af8e-43e3-949a-498e01cebfca"
      },
      "source": [
        "from sklearn.datasets import fetch_openml\n",
        "mnist = fetch_openml('mnist_784', version=1)\n",
        "mnist.keys()\n"
      ],
      "execution_count": 5,
      "outputs": [
        {
          "output_type": "execute_result",
          "data": {
            "text/plain": [
              "dict_keys(['data', 'target', 'frame', 'feature_names', 'target_names', 'DESCR', 'details', 'categories', 'url'])"
            ]
          },
          "metadata": {
            "tags": []
          },
          "execution_count": 5
        }
      ]
    },
    {
      "cell_type": "code",
      "metadata": {
        "id": "vHr27P5wIgYq",
        "colab_type": "code",
        "colab": {}
      },
      "source": [
        "x = mnist['data']\n",
        "y = mnist['target']"
      ],
      "execution_count": 0,
      "outputs": []
    },
    {
      "cell_type": "code",
      "metadata": {
        "id": "gdmhRrsWJqCE",
        "colab_type": "code",
        "colab": {}
      },
      "source": [
        "from sklearn.model_selection import train_test_split"
      ],
      "execution_count": 0,
      "outputs": []
    },
    {
      "cell_type": "code",
      "metadata": {
        "id": "D88XCJDHJvfo",
        "colab_type": "code",
        "colab": {}
      },
      "source": [
        "x_train, x_test, y_train, y_test = train_test_split(x,y, test_size=0.3)"
      ],
      "execution_count": 0,
      "outputs": []
    },
    {
      "cell_type": "markdown",
      "metadata": {
        "id": "6LBHZj65KBKf",
        "colab_type": "text"
      },
      "source": [
        "Now lets make our estimator\n",
        "\n",
        "this estimator will not estimate 1. what is mean is that if you give it any thing it will estimate that the input is not 1"
      ]
    },
    {
      "cell_type": "code",
      "metadata": {
        "id": "nJedyRtLJ5uD",
        "colab_type": "code",
        "colab": {}
      },
      "source": [
        "from sklearn.base import BaseEstimator\n",
        "\n",
        "class My_Estimator(BaseEstimator):\n",
        "  def fit(self, x, y):\n",
        "    pass\n",
        "  def predict(self, x):\n",
        "    return np.zeros((len(x),1), dtype=bool)"
      ],
      "execution_count": 0,
      "outputs": []
    },
    {
      "cell_type": "code",
      "metadata": {
        "id": "a3b28-JLKcZ-",
        "colab_type": "code",
        "colab": {
          "base_uri": "https://localhost:8080/",
          "height": 34
        },
        "outputId": "963edc84-a274-4ba7-85c0-597be60e72ac"
      },
      "source": [
        "my_est = My_Estimator()\n",
        "my_est.fit(x_train, y_train)\n",
        "my_est.predict([x_test[21]])"
      ],
      "execution_count": 15,
      "outputs": [
        {
          "output_type": "execute_result",
          "data": {
            "text/plain": [
              "array([[False]])"
            ]
          },
          "metadata": {
            "tags": []
          },
          "execution_count": 15
        }
      ]
    },
    {
      "cell_type": "code",
      "metadata": {
        "id": "RezRukfAK9T5",
        "colab_type": "code",
        "colab": {
          "base_uri": "https://localhost:8080/",
          "height": 34
        },
        "outputId": "0b8b5642-41c8-429c-eeae-89a488ffde22"
      },
      "source": [
        "my_est.get_params()"
      ],
      "execution_count": 17,
      "outputs": [
        {
          "output_type": "execute_result",
          "data": {
            "text/plain": [
              "{}"
            ]
          },
          "metadata": {
            "tags": []
          },
          "execution_count": 17
        }
      ]
    },
    {
      "cell_type": "code",
      "metadata": {
        "id": "dR3yN88ILP83",
        "colab_type": "code",
        "colab": {}
      },
      "source": [
        ""
      ],
      "execution_count": 0,
      "outputs": []
    }
  ]
}