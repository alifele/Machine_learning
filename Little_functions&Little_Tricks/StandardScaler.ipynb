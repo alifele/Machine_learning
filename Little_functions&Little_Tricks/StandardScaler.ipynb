{
  "nbformat": 4,
  "nbformat_minor": 0,
  "metadata": {
    "colab": {
      "name": "StandardScaler.ipynb",
      "version": "0.3.2",
      "provenance": [],
      "include_colab_link": true
    },
    "kernelspec": {
      "name": "python3",
      "display_name": "Python 3"
    }
  },
  "cells": [
    {
      "cell_type": "markdown",
      "metadata": {
        "id": "view-in-github",
        "colab_type": "text"
      },
      "source": [
        "<a href=\"https://colab.research.google.com/github/alifele/Machine_learning/blob/master/Little_functions%26Little_Tricks/StandardScaler.ipynb\" target=\"_parent\"><img src=\"https://colab.research.google.com/assets/colab-badge.svg\" alt=\"Open In Colab\"/></a>"
      ]
    },
    {
      "cell_type": "markdown",
      "metadata": {
        "id": "UIuIJG1yN_eH",
        "colab_type": "text"
      },
      "source": [
        "#Important Imports"
      ]
    },
    {
      "cell_type": "code",
      "metadata": {
        "id": "ZRrEEYgYNibX",
        "colab_type": "code",
        "colab": {}
      },
      "source": [
        "import numpy as np\n",
        "import matplotlib.pyplot as plt\n",
        "from sklearn.preprocessing import StandardScaler\n"
      ],
      "execution_count": 0,
      "outputs": []
    },
    {
      "cell_type": "markdown",
      "metadata": {
        "id": "uvF_Hhn8PjUe",
        "colab_type": "text"
      },
      "source": [
        "#About StandardScaler"
      ]
    },
    {
      "cell_type": "markdown",
      "metadata": {
        "id": "pKc3VOqEPpnr",
        "colab_type": "text"
      },
      "source": [
        "The main idea is to normalize/standardize (mean = 0 and standard deviation = 1) your features before applying machine learning techniques.\n",
        "\n",
        "One important thing that you should keep in mind is that most (if not all) scikit-learn models/classes/functions, expect as input a matrix X with dimensions/shape [number_of_samples, number_of_features]. This is very important. Some other libraries expect as input the inverse.\n",
        "\n",
        "StandardScaler() will normalize the features (each column of X, INDIVIDUALLY) so that each column/feature/variable will have mean = 0 and standard deviation = 1.\n"
      ]
    },
    {
      "cell_type": "markdown",
      "metadata": {
        "id": "uQvkVCetONOh",
        "colab_type": "text"
      },
      "source": [
        "#Generating Data"
      ]
    },
    {
      "cell_type": "code",
      "metadata": {
        "id": "tQbFJnEkN9c5",
        "colab_type": "code",
        "colab": {
          "base_uri": "https://localhost:8080/",
          "height": 461
        },
        "outputId": "1ccbe3e6-336a-47fc-806d-60f8dbd7f776"
      },
      "source": [
        "data = np.arange(0,50,1).reshape((25,2))\n",
        "print(data)\n"
      ],
      "execution_count": 2,
      "outputs": [
        {
          "output_type": "stream",
          "text": [
            "[[ 0  1]\n",
            " [ 2  3]\n",
            " [ 4  5]\n",
            " [ 6  7]\n",
            " [ 8  9]\n",
            " [10 11]\n",
            " [12 13]\n",
            " [14 15]\n",
            " [16 17]\n",
            " [18 19]\n",
            " [20 21]\n",
            " [22 23]\n",
            " [24 25]\n",
            " [26 27]\n",
            " [28 29]\n",
            " [30 31]\n",
            " [32 33]\n",
            " [34 35]\n",
            " [36 37]\n",
            " [38 39]\n",
            " [40 41]\n",
            " [42 43]\n",
            " [44 45]\n",
            " [46 47]\n",
            " [48 49]]\n"
          ],
          "name": "stdout"
        }
      ]
    },
    {
      "cell_type": "code",
      "metadata": {
        "id": "R43nGvynOeJY",
        "colab_type": "code",
        "colab": {
          "base_uri": "https://localhost:8080/",
          "height": 461
        },
        "outputId": "8dfdbd46-55c9-4177-ef55-b3e588d4308a"
      },
      "source": [
        "scaler = StandardScaler()\n",
        "scaled_data = scaler.fit_transform(data)\n",
        "print(scaled_data)"
      ],
      "execution_count": 4,
      "outputs": [
        {
          "output_type": "stream",
          "text": [
            "[[-1.66410059 -1.66410059]\n",
            " [-1.52542554 -1.52542554]\n",
            " [-1.38675049 -1.38675049]\n",
            " [-1.24807544 -1.24807544]\n",
            " [-1.10940039 -1.10940039]\n",
            " [-0.97072534 -0.97072534]\n",
            " [-0.83205029 -0.83205029]\n",
            " [-0.69337525 -0.69337525]\n",
            " [-0.5547002  -0.5547002 ]\n",
            " [-0.41602515 -0.41602515]\n",
            " [-0.2773501  -0.2773501 ]\n",
            " [-0.13867505 -0.13867505]\n",
            " [ 0.          0.        ]\n",
            " [ 0.13867505  0.13867505]\n",
            " [ 0.2773501   0.2773501 ]\n",
            " [ 0.41602515  0.41602515]\n",
            " [ 0.5547002   0.5547002 ]\n",
            " [ 0.69337525  0.69337525]\n",
            " [ 0.83205029  0.83205029]\n",
            " [ 0.97072534  0.97072534]\n",
            " [ 1.10940039  1.10940039]\n",
            " [ 1.24807544  1.24807544]\n",
            " [ 1.38675049  1.38675049]\n",
            " [ 1.52542554  1.52542554]\n",
            " [ 1.66410059  1.66410059]]\n"
          ],
          "name": "stdout"
        }
      ]
    },
    {
      "cell_type": "code",
      "metadata": {
        "id": "fmgruhIxOtvp",
        "colab_type": "code",
        "colab": {
          "base_uri": "https://localhost:8080/",
          "height": 52
        },
        "outputId": "ed344993-d70e-416b-f734-35784bade014"
      },
      "source": [
        "print('the mean of columns is : {}'.format(scaled_data.mean(axis=0).round(4)))\n",
        "print('the standarnd derivation of columns is : {}'.format(scaled_data.std(axis=0)))"
      ],
      "execution_count": 6,
      "outputs": [
        {
          "output_type": "stream",
          "text": [
            "the mean of columns is : [-0. -0.]\n",
            "the standarnd derivation of columns is : [1. 1.]\n"
          ],
          "name": "stdout"
        }
      ]
    }
  ]
}