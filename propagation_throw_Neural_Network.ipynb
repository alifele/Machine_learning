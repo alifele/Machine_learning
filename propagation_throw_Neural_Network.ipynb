{
  "nbformat": 4,
  "nbformat_minor": 0,
  "metadata": {
    "colab": {
      "name": "Untitled5.ipynb",
      "version": "0.3.2",
      "provenance": [],
      "include_colab_link": true
    },
    "kernelspec": {
      "name": "python3",
      "display_name": "Python 3"
    }
  },
  "cells": [
    {
      "cell_type": "markdown",
      "metadata": {
        "id": "view-in-github",
        "colab_type": "text"
      },
      "source": [
        "<a href=\"https://colab.research.google.com/github/alifele/Machine_learning/blob/master/propagation_throw_Neural_Network.ipynb\" target=\"_parent\"><img src=\"https://colab.research.google.com/assets/colab-badge.svg\" alt=\"Open In Colab\"/></a>"
      ]
    },
    {
      "metadata": {
        "id": "XtbeDYP1oj2T",
        "colab_type": "code",
        "colab": {}
      },
      "cell_type": "code",
      "source": [
        "n_s # number of samples \n",
        "D #number of layers\n",
        "X = np.random.random((n_s,1))\n",
        "b_dict = dict (B)\n",
        "W_dict = dict (W)\n",
        "a = X\n",
        "for key in W_dict:\n",
        "  a = sigmoid( a.(W_dict[\"key\"]).T + b_dict[\"key\"] )\n",
        "  \n"
      ],
      "execution_count": 0,
      "outputs": []
    }
  ]
}