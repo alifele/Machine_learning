{
  "nbformat": 4,
  "nbformat_minor": 0,
  "metadata": {
    "colab": {
      "name": "collections.Counter.ipynb",
      "version": "0.3.2",
      "provenance": [],
      "include_colab_link": true
    },
    "kernelspec": {
      "name": "python3",
      "display_name": "Python 3"
    }
  },
  "cells": [
    {
      "cell_type": "markdown",
      "metadata": {
        "id": "view-in-github",
        "colab_type": "text"
      },
      "source": [
        "<a href=\"https://colab.research.google.com/github/alifele/Machine_learning/blob/master/Little_functions/collections_Counter.ipynb\" target=\"_parent\"><img src=\"https://colab.research.google.com/assets/colab-badge.svg\" alt=\"Open In Colab\"/></a>"
      ]
    },
    {
      "metadata": {
        "id": "OJf1TMUlxbyi",
        "colab_type": "text"
      },
      "cell_type": "markdown",
      "source": [
        "# What is  ```collections.Counter```  ?! \n",
        "Counter will find the frequency of the elements of a *list*\n"
      ]
    },
    {
      "metadata": {
        "id": "gpV3LAdhxR40",
        "colab_type": "code",
        "colab": {}
      },
      "cell_type": "code",
      "source": [
        "from collections import Counter\n",
        "a = [1,2,3,2,2,3,1,2,3,2,3,1,2,3,2,3,]"
      ],
      "execution_count": 0,
      "outputs": []
    },
    {
      "metadata": {
        "id": "OxZbADAZxy8O",
        "colab_type": "code",
        "colab": {
          "base_uri": "https://localhost:8080/",
          "height": 51
        },
        "outputId": "adefd84c-e52d-4e41-f4bf-f5be2f54aa95"
      },
      "cell_type": "code",
      "source": [
        "c = Counter(a)\n",
        "print(c)\n",
        "print('the frequency of 3 in \"a\" is',c[3])"
      ],
      "execution_count": 12,
      "outputs": [
        {
          "output_type": "stream",
          "text": [
            "Counter({2: 7, 3: 6, 1: 3})\n",
            "the frequency of the 3 in \"a\" is 6\n"
          ],
          "name": "stdout"
        }
      ]
    },
    {
      "metadata": {
        "id": "zMH7pRRqzI8E",
        "colab_type": "text"
      },
      "cell_type": "markdown",
      "source": [
        "Since it is save to work with the data structures which are well defined in python so we convert the output of Counter into dict"
      ]
    },
    {
      "metadata": {
        "id": "geRN54cPyXKV",
        "colab_type": "code",
        "colab": {
          "base_uri": "https://localhost:8080/",
          "height": 51
        },
        "outputId": "5db5d472-bfc6-4a5b-8a85-18b1cb0d8c1c"
      },
      "cell_type": "code",
      "source": [
        "c = dict(Counter(a))\n",
        "print(c)\n",
        "print('the frequency of 3 in \"a\" is ',c[3])"
      ],
      "execution_count": 13,
      "outputs": [
        {
          "output_type": "stream",
          "text": [
            "{1: 3, 2: 7, 3: 6}\n",
            "the frequency of 3 in \"a\" is  6\n"
          ],
          "name": "stdout"
        }
      ]
    },
    {
      "metadata": {
        "id": "88hocGdPzvIx",
        "colab_type": "code",
        "colab": {}
      },
      "cell_type": "code",
      "source": [
        ""
      ],
      "execution_count": 0,
      "outputs": []
    }
  ]
}