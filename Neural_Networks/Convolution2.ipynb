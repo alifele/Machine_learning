{
  "nbformat": 4,
  "nbformat_minor": 0,
  "metadata": {
    "colab": {
      "name": "Convolution2.ipynb",
      "version": "0.3.2",
      "provenance": [],
      "include_colab_link": true
    },
    "kernelspec": {
      "name": "python3",
      "display_name": "Python 3"
    }
  },
  "cells": [
    {
      "cell_type": "markdown",
      "metadata": {
        "id": "view-in-github",
        "colab_type": "text"
      },
      "source": [
        "<a href=\"https://colab.research.google.com/github/alifele/Machine_learning/blob/master/Neural_Networks/Convolution2.ipynb\" target=\"_parent\"><img src=\"https://colab.research.google.com/assets/colab-badge.svg\" alt=\"Open In Colab\"/></a>"
      ]
    },
    {
      "cell_type": "markdown",
      "metadata": {
        "id": "K3CndMidisEg",
        "colab_type": "text"
      },
      "source": [
        "#Important imports"
      ]
    },
    {
      "cell_type": "code",
      "metadata": {
        "id": "E9ubAc4HiRai",
        "colab_type": "code",
        "colab": {}
      },
      "source": [
        "import numpy as np\n",
        "import matplotlib.pyplot as plt\n",
        "\n",
        "\n",
        "import tensorflow as tf\n",
        "from tensorflow import keras\n",
        "\n",
        "import requests\n",
        "import io"
      ],
      "execution_count": 0,
      "outputs": []
    },
    {
      "cell_type": "markdown",
      "metadata": {
        "id": "gng52zCZivj-",
        "colab_type": "text"
      },
      "source": [
        "#Importing data"
      ]
    },
    {
      "cell_type": "code",
      "metadata": {
        "id": "cCDT549bipTD",
        "colab_type": "code",
        "colab": {}
      },
      "source": [
        "'''\n",
        "Let's import the Farsi digits (your assignment)\n",
        "'''\n",
        "\n",
        "url = 'https://raw.githubusercontent.com/sraeisi/MachineLearning_Physics/master/Assignments/A3/X.npz'\n",
        "s=requests.get(url, stream=True).content\n",
        "X = np.load(io.BytesIO(s) )['arr_0']\n",
        "url = 'https://raw.githubusercontent.com/sraeisi/MachineLearning_Physics/master/Assignments/A3/Y.npz'\n",
        "s=requests.get(url, stream=True).content\n",
        "Y = np.load(io.BytesIO(s) )['arr_0']\n",
        "\n",
        "from sklearn.utils import shuffle\n",
        "X, Y = shuffle(X,Y, random_state = 0 )"
      ],
      "execution_count": 0,
      "outputs": []
    },
    {
      "cell_type": "code",
      "metadata": {
        "id": "HNnt8cS4i24f",
        "colab_type": "code",
        "colab": {
          "base_uri": "https://localhost:8080/",
          "height": 410
        },
        "outputId": "b247c1e9-1ed3-4fc9-a54e-5f120f47fcd3"
      },
      "source": [
        "fig = plt.figure(figsize=(14,6))\n",
        "for i in range(15):\n",
        "  ax = fig.add_subplot(3,5,i+1, title=Y[i])\n",
        "  ax.imshow(X[i])\n",
        "  ax.axis('off')"
      ],
      "execution_count": 4,
      "outputs": [
        {
          "output_type": "display_data",
          "data": {
            "image/png": "[encoded data removed]",
            "text/plain": [
              "<Figure size 1008x432 with 15 Axes>"
            ]
          },
          "metadata": {
            "tags": []
          }
        }
      ]
    },
    {
      "cell_type": "code",
      "metadata": {
        "id": "xMJkXiigkeTd",
        "colab_type": "code",
        "colab": {}
      },
      "source": [
        "from sklearn.model_selection import train_test_split\n",
        "X_train, X_test, y_train, y_test = train_test_split(X, Y)"
      ],
      "execution_count": 0,
      "outputs": []
    },
    {
      "cell_type": "markdown",
      "metadata": {
        "id": "4-pqPBNxjglW",
        "colab_type": "text"
      },
      "source": [
        "#Creating Neural Network"
      ]
    },
    {
      "cell_type": "code",
      "metadata": {
        "id": "cxwMnM4UjfLk",
        "colab_type": "code",
        "colab": {}
      },
      "source": [
        "model = keras.models.Sequential([\n",
        "    keras.layers.Flatten(input_shape=(32,32)),\n",
        "    keras.layers.Dense(512, activation='relu'),\n",
        "    keras.layers.Dense(256, activation='relu'),\n",
        "    keras.layers.Dense(64, activation='relu'),\n",
        "    keras.layers.Dense(10, activation='softmax'),  \n",
        "])\n"
      ],
      "execution_count": 0,
      "outputs": []
    },
    {
      "cell_type": "code",
      "metadata": {
        "id": "ec69ADgSkWci",
        "colab_type": "code",
        "colab": {
          "base_uri": "https://localhost:8080/",
          "height": 318
        },
        "outputId": "aa1199a5-ad0e-4cd4-c332-8b1898864dc5"
      },
      "source": [
        "model.summary()"
      ],
      "execution_count": 13,
      "outputs": [
        {
          "output_type": "stream",
          "text": [
            "_________________________________________________________________\n",
            "Layer (type)                 Output Shape              Param #   \n",
            "=================================================================\n",
            "flatten_1 (Flatten)          (None, 1024)              0         \n",
            "_________________________________________________________________\n",
            "dense_4 (Dense)              (None, 512)               524800    \n",
            "_________________________________________________________________\n",
            "dense_5 (Dense)              (None, 256)               131328    \n",
            "_________________________________________________________________\n",
            "dense_6 (Dense)              (None, 64)                16448     \n",
            "_________________________________________________________________\n",
            "dense_7 (Dense)              (None, 10)                650       \n",
            "=================================================================\n",
            "Total params: 673,226\n",
            "Trainable params: 673,226\n",
            "Non-trainable params: 0\n",
            "_________________________________________________________________\n"
          ],
          "name": "stdout"
        }
      ]
    },
    {
      "cell_type": "code",
      "metadata": {
        "id": "H0OEM1lkkOo0",
        "colab_type": "code",
        "colab": {
          "base_uri": "https://localhost:8080/",
          "height": 410
        },
        "outputId": "0fed37a4-e423-4fe6-9ab1-23cd82ffcba4"
      },
      "source": [
        "model.compile(loss='sparse_categorical_crossentropy',\n",
        "             optimizer='adam',\n",
        "             metrics=['accuracy'])\n",
        "his = model.fit(X_train, y_train, epochs=10, batch_size=128, validation_split=0.1)\n"
      ],
      "execution_count": 14,
      "outputs": [
        {
          "output_type": "stream",
          "text": [
            "Train on 69087 samples, validate on 7677 samples\n",
            "Epoch 1/10\n",
            "69087/69087 [==============================] - 12s 177us/sample - loss: 0.1423 - acc: 0.9590 - val_loss: 0.0605 - val_acc: 0.9828\n",
            "Epoch 2/10\n",
            "69087/69087 [==============================] - 12s 173us/sample - loss: 0.0468 - acc: 0.9853 - val_loss: 0.0529 - val_acc: 0.9837\n",
            "Epoch 3/10\n",
            "69087/69087 [==============================] - 12s 174us/sample - loss: 0.0286 - acc: 0.9907 - val_loss: 0.0490 - val_acc: 0.9866\n",
            "Epoch 4/10\n",
            "69087/69087 [==============================] - 12s 174us/sample - loss: 0.0192 - acc: 0.9934 - val_loss: 0.0429 - val_acc: 0.9878\n",
            "Epoch 5/10\n",
            "69087/69087 [==============================] - 12s 174us/sample - loss: 0.0169 - acc: 0.9945 - val_loss: 0.0496 - val_acc: 0.9852\n",
            "Epoch 6/10\n",
            "69087/69087 [==============================] - 12s 173us/sample - loss: 0.0145 - acc: 0.9952 - val_loss: 0.0503 - val_acc: 0.9883\n",
            "Epoch 7/10\n",
            "69087/69087 [==============================] - 12s 170us/sample - loss: 0.0128 - acc: 0.9958 - val_loss: 0.0451 - val_acc: 0.9875\n",
            "Epoch 8/10\n",
            "69087/69087 [==============================] - 12s 172us/sample - loss: 0.0093 - acc: 0.9970 - val_loss: 0.0690 - val_acc: 0.9865\n",
            "Epoch 9/10\n",
            "69087/69087 [==============================] - 12s 172us/sample - loss: 0.0098 - acc: 0.9968 - val_loss: 0.0613 - val_acc: 0.9876\n",
            "Epoch 10/10\n",
            "69087/69087 [==============================] - 12s 167us/sample - loss: 0.0101 - acc: 0.9968 - val_loss: 0.0555 - val_acc: 0.9878\n"
          ],
          "name": "stdout"
        }
      ]
    },
    {
      "cell_type": "code",
      "metadata": {
        "id": "z17MWcZul2ZV",
        "colab_type": "code",
        "colab": {
          "base_uri": "https://localhost:8080/",
          "height": 340
        },
        "outputId": "fd1ee987-fd32-4eb7-f956-5ef301311179"
      },
      "source": [
        "import pandas as pd\n",
        "pd.DataFrame(his.history).plot(figsize=(8,5))"
      ],
      "execution_count": 16,
      "outputs": [
        {
          "output_type": "execute_result",
          "data": {
            "text/plain": [
              "<matplotlib.axes._subplots.AxesSubplot at 0x7f52ac804e80>"
            ]
          },
          "metadata": {
            "tags": []
          },
          "execution_count": 16
        },
        {
          "output_type": "display_data",
          "data": {
            "image/png": "[encoded data removed]",
            "text/plain": [
              "<Figure size 576x360 with 1 Axes>"
            ]
          },
          "metadata": {
            "tags": []
          }
        }
      ]
    },
    {
      "cell_type": "code",
      "metadata": {
        "id": "0l2GOfWXlKE8",
        "colab_type": "code",
        "colab": {
          "base_uri": "https://localhost:8080/",
          "height": 410
        },
        "outputId": "077fa6e4-f1bb-44a2-d1e7-88eec604b2e1"
      },
      "source": [
        "y_pred =np.argmax( model.predict(X_test), axis=1)\n",
        "\n",
        "fig = plt.figure(figsize=(14,6))\n",
        "for i in range(15):\n",
        "  ax = fig.add_subplot(3,5,i+1, title=y_pred[i])\n",
        "  ax.imshow(X_test[i])\n",
        "  ax.axis('off')"
      ],
      "execution_count": 22,
      "outputs": [
        {
          "output_type": "display_data",
          "data": {
            "image/png": "[encoded data removed]",
            "text/plain": [
              "<Figure size 1008x432 with 15 Axes>"
            ]
          },
          "metadata": {
            "tags": []
          }
        }
      ]
    },
    {
      "cell_type": "code",
      "metadata": {
        "id": "VO7km6f9lzKR",
        "colab_type": "code",
        "colab": {
          "base_uri": "https://localhost:8080/",
          "height": 194
        },
        "outputId": "be331d66-24e7-43b4-e547-7f5f6777b558"
      },
      "source": [
        "from sklearn.metrics import confusion_matrix\n",
        "cm  = confusion_matrix(y_test, y_pred)\n",
        "print(cm)"
      ],
      "execution_count": 23,
      "outputs": [
        {
          "output_type": "stream",
          "text": [
            "[[2435    0    0    0    1   29    0    0    0    0]\n",
            " [   0 2524    1    0    0    0    2    0    1    4]\n",
            " [   1    0 2519   34    2    0    5    0    0    0]\n",
            " [   0    0   32 2577   18    2    1    0    0    1]\n",
            " [   1    0   12   32 2506    1    1    0    1    4]\n",
            " [   2    1    1    1   10 2484    1    0    2    0]\n",
            " [   0    3    7    1    1    6 2619    2    1   15]\n",
            " [   1    1    3    0    3    3    0 2584    0    0]\n",
            " [   0    3    0    0    1    1    0    0 2472    8]\n",
            " [   0    1    0    0    0    2    9    0    2 2590]]\n"
          ],
          "name": "stdout"
        }
      ]
    },
    {
      "cell_type": "markdown",
      "metadata": {
        "id": "x3qkCKtLqj0D",
        "colab_type": "text"
      },
      "source": [
        "#And Now ...\n",
        "#Convolutional Neural Networks"
      ]
    },
    {
      "cell_type": "code",
      "metadata": {
        "id": "WA6UkQbrmLYo",
        "colab_type": "code",
        "colab": {}
      },
      "source": [
        "n_w, n_h = X[0].shape\n",
        "\n",
        "model = keras.models.Sequential([\n",
        "    keras.layers.Conv2D(16, (3,3), activation='relu', input_shape=(n_h, n_w, 1)),\n",
        "    keras.layers.MaxPooling2D((2,2)),\n",
        "    \n",
        "    keras.layers.Conv2D(32, (3,3), activation='relu'),\n",
        "    keras.layers.MaxPooling2D((2,2)),\n",
        "    \n",
        "    keras.layers.Conv2D(64, (3,3), activation='relu'),\n",
        "    keras.layers.MaxPooling2D((2,2)),\n",
        "    \n",
        "    keras.layers.Flatten(),\n",
        "    keras.layers.Dense(64, activation='relu'),\n",
        "    keras.layers.Dense(10, activation='softmax')\n",
        "    \n",
        "])"
      ],
      "execution_count": 0,
      "outputs": []
    },
    {
      "cell_type": "code",
      "metadata": {
        "id": "twvdqxe3t1Kt",
        "colab_type": "code",
        "colab": {
          "base_uri": "https://localhost:8080/",
          "height": 461
        },
        "outputId": "6bfcc361-f852-48f7-ae2c-7c1ad14a4f40"
      },
      "source": [
        "model.summary()"
      ],
      "execution_count": 26,
      "outputs": [
        {
          "output_type": "stream",
          "text": [
            "_________________________________________________________________\n",
            "Layer (type)                 Output Shape              Param #   \n",
            "=================================================================\n",
            "conv2d (Conv2D)              (None, 30, 30, 16)        160       \n",
            "_________________________________________________________________\n",
            "max_pooling2d (MaxPooling2D) (None, 15, 15, 16)        0         \n",
            "_________________________________________________________________\n",
            "conv2d_1 (Conv2D)            (None, 13, 13, 32)        4640      \n",
            "_________________________________________________________________\n",
            "max_pooling2d_1 (MaxPooling2 (None, 6, 6, 32)          0         \n",
            "_________________________________________________________________\n",
            "conv2d_2 (Conv2D)            (None, 4, 4, 64)          18496     \n",
            "_________________________________________________________________\n",
            "max_pooling2d_2 (MaxPooling2 (None, 2, 2, 64)          0         \n",
            "_________________________________________________________________\n",
            "flatten_2 (Flatten)          (None, 256)               0         \n",
            "_________________________________________________________________\n",
            "dense_8 (Dense)              (None, 64)                16448     \n",
            "_________________________________________________________________\n",
            "dense_9 (Dense)              (None, 10)                650       \n",
            "=================================================================\n",
            "Total params: 40,394\n",
            "Trainable params: 40,394\n",
            "Non-trainable params: 0\n",
            "_________________________________________________________________\n"
          ],
          "name": "stdout"
        }
      ]
    },
    {
      "cell_type": "code",
      "metadata": {
        "id": "DVB8LP_isw7V",
        "colab_type": "code",
        "colab": {
          "base_uri": "https://localhost:8080/",
          "height": 410
        },
        "outputId": "661237bd-c44c-4f75-ecbf-1e7554e7988a"
      },
      "source": [
        "model.compile(loss ='sparse_categorical_crossentropy',\n",
        "             optimizer='adam',\n",
        "             metrics=['accuracy'])\n",
        "X_train = X_train.reshape(-1, n_h, n_w, 1)\n",
        "X_test = X_test.reshape(-1, n_h, n_w, 1)\n",
        "his = model.fit(X_train, y_train, epochs=10, batch_size=128, validation_split=0.2)\n"
      ],
      "execution_count": 27,
      "outputs": [
        {
          "output_type": "stream",
          "text": [
            "Train on 61411 samples, validate on 15353 samples\n",
            "Epoch 1/10\n",
            "61411/61411 [==============================] - 51s 832us/sample - loss: 0.2176 - acc: 0.9359 - val_loss: 0.0674 - val_acc: 0.9793\n",
            "Epoch 2/10\n",
            "61411/61411 [==============================] - 51s 827us/sample - loss: 0.0462 - acc: 0.9857 - val_loss: 0.0323 - val_acc: 0.9891\n",
            "Epoch 3/10\n",
            "61411/61411 [==============================] - 51s 826us/sample - loss: 0.0318 - acc: 0.9897 - val_loss: 0.0321 - val_acc: 0.9896\n",
            "Epoch 4/10\n",
            "61411/61411 [==============================] - 51s 825us/sample - loss: 0.0241 - acc: 0.9924 - val_loss: 0.0262 - val_acc: 0.9913\n",
            "Epoch 5/10\n",
            "61411/61411 [==============================] - 51s 826us/sample - loss: 0.0198 - acc: 0.9934 - val_loss: 0.0327 - val_acc: 0.9908\n",
            "Epoch 6/10\n",
            "61411/61411 [==============================] - 51s 831us/sample - loss: 0.0164 - acc: 0.9945 - val_loss: 0.0389 - val_acc: 0.9885\n",
            "Epoch 7/10\n",
            "61411/61411 [==============================] - 51s 824us/sample - loss: 0.0129 - acc: 0.9958 - val_loss: 0.0206 - val_acc: 0.9940\n",
            "Epoch 8/10\n",
            "61411/61411 [==============================] - 51s 825us/sample - loss: 0.0121 - acc: 0.9960 - val_loss: 0.0204 - val_acc: 0.9941\n",
            "Epoch 9/10\n",
            "61411/61411 [==============================] - 51s 823us/sample - loss: 0.0102 - acc: 0.9965 - val_loss: 0.0306 - val_acc: 0.9916\n",
            "Epoch 10/10\n",
            "61411/61411 [==============================] - 51s 825us/sample - loss: 0.0091 - acc: 0.9971 - val_loss: 0.0223 - val_acc: 0.9937\n"
          ],
          "name": "stdout"
        }
      ]
    },
    {
      "cell_type": "code",
      "metadata": {
        "id": "MghbjNOVtwqY",
        "colab_type": "code",
        "colab": {
          "base_uri": "https://localhost:8080/",
          "height": 194
        },
        "outputId": "9b2c9a02-d22f-462f-c075-032fb3c9862f"
      },
      "source": [
        "y_pred = np.argmax(model.predict(X_test), axis=1)\n",
        "\n",
        "cm = confusion_matrix(y_test, y_pred)\n",
        "print(cmmo)"
      ],
      "execution_count": 28,
      "outputs": [
        {
          "output_type": "stream",
          "text": [
            "[[2463    0    0    1    1    0    0    0    0    0]\n",
            " [   2 2522    2    0    0    0    0    1    0    5]\n",
            " [   0    0 2548    8    0    0    2    2    0    1]\n",
            " [   0    0   23 2606    0    1    1    0    0    0]\n",
            " [   1    0   10   21 2521    1    3    0    0    1]\n",
            " [   5    0    0    0    3 2492    1    0    1    0]\n",
            " [   0    0    6    0    5    2 2625    2    0   15]\n",
            " [   1    0    3    0    1    0    0 2590    0    0]\n",
            " [   0    1    0    0    1    1    0    0 2481    1]\n",
            " [   0    1    2    0    0    2    5    0    0 2594]]\n"
          ],
          "name": "stdout"
        }
      ]
    },
    {
      "cell_type": "code",
      "metadata": {
        "id": "HmG8-1rDwkSC",
        "colab_type": "code",
        "colab": {
          "base_uri": "https://localhost:8080/",
          "height": 72
        },
        "outputId": "d50a34f1-5137-4a47-d199-9247810db880"
      },
      "source": [
        "model.evaluate(X_test, y_test)"
      ],
      "execution_count": 29,
      "outputs": [
        {
          "output_type": "stream",
          "text": [
            "25588/25588 [==============================] - 9s 353us/sample - loss: 0.0206 - acc: 0.9943\n"
          ],
          "name": "stdout"
        },
        {
          "output_type": "execute_result",
          "data": {
            "text/plain": [
              "[0.020553628916739917, 0.9942942]"
            ]
          },
          "metadata": {
            "tags": []
          },
          "execution_count": 29
        }
      ]
    },
    {
      "cell_type": "code",
      "metadata": {
        "id": "A1f6LQ7QwomW",
        "colab_type": "code",
        "colab": {}
      },
      "source": [
        ""
      ],
      "execution_count": 0,
      "outputs": []
    }
  ]
}