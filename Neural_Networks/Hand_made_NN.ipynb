{
  "nbformat": 4,
  "nbformat_minor": 0,
  "metadata": {
    "colab": {
      "name": "Hand_made_NN.ipynb",
      "version": "0.3.2",
      "provenance": [],
      "include_colab_link": true
    },
    "kernelspec": {
      "name": "python3",
      "display_name": "Python 3"
    }
  },
  "cells": [
    {
      "cell_type": "markdown",
      "metadata": {
        "id": "view-in-github",
        "colab_type": "text"
      },
      "source": [
        "<a href=\"https://colab.research.google.com/github/alifele/Machine_learning/blob/master/Neural_Networks/Hand_made_NN.ipynb\" target=\"_parent\"><img src=\"https://colab.research.google.com/assets/colab-badge.svg\" alt=\"Open In Colab\"/></a>"
      ]
    },
    {
      "cell_type": "markdown",
      "metadata": {
        "id": "0KEj9rw2_YGw",
        "colab_type": "text"
      },
      "source": [
        "#Simple hand_made Neural network\n",
        "in this note book i am going to define a simple but made nural network\n",
        "\n",
        "* three layers \n",
        "   * Input layer -----> number if features \n",
        "   * Layer <sub>[2]</sub> ----> three nodes\n",
        "   * Layer<sub>[3]</sub> -----> two nodes\n",
        "   * Layer<sub>[4]</sub>----->one node"
      ]
    },
    {
      "cell_type": "code",
      "metadata": {
        "id": "x0KJvJSPIRRl",
        "colab_type": "code",
        "colab": {}
      },
      "source": [
        "import numpy as np\n",
        "import matplotlib.pyplot as plt"
      ],
      "execution_count": 0,
      "outputs": []
    },
    {
      "cell_type": "markdown",
      "metadata": {
        "id": "eCGOdL3DIkak",
        "colab_type": "text"
      },
      "source": [
        "#Defining and Initializing weights parameters"
      ]
    },
    {
      "cell_type": "code",
      "metadata": {
        "id": "Be3ol7BP_Wy0",
        "colab_type": "code",
        "colab": {}
      },
      "source": [
        "n_f = 4 # number of features\n",
        "n_l1 = n_f #the number of nodes in layer 0 is the number of features\n",
        "n_l2 = 3 # number of nodes in layer 1\n",
        "n_l3 = 2 # number of nodes in layer 2\n",
        "n_l4 = 1 # number of nodes in layer 3\n",
        "W2 = np.ones((n_l2, n_l1)) \n",
        "W3 = np.ones((n_l3, n_l2))\n",
        "W4 = np.ones((n_l4, n_l3))\n",
        "\n",
        "B2 = np.zeros((n_l2, 1))\n",
        "B3 = np.zeros((n_l3, 1))\n",
        "B4 = np.zeros((n_l4, 1))\n",
        "W = [W2, W3, W4]   # the list of weights for each layer\n",
        "B = [B2, B3, B3]   # the list of biases for each layer \n"
      ],
      "execution_count": 0,
      "outputs": []
    },
    {
      "cell_type": "markdown",
      "metadata": {
        "id": "FjpzlgqMqvZJ",
        "colab_type": "text"
      },
      "source": [
        "#Function A and Z of layers\n"
      ]
    },
    {
      "cell_type": "code",
      "metadata": {
        "id": "y88OwvKfquY0",
        "colab_type": "code",
        "colab": {}
      },
      "source": [
        "A_2 = [0, 0, 0]   # np.array((0,0,0))\n",
        "A_3 = [0, 0]   #np.array((0,0))\n",
        "A_4 = [0]   #np.array((0))\n",
        "\n",
        "A = [A_2, A_3, A_4]\n",
        "def sigmoid(X):\n",
        "  Z = 1/(1+np.exp(-X))\n",
        "  return Z\n",
        "Z_2 = sigmoid(np.array(A_2))\n",
        "Z_3 = sigmoid(np.array(A_3))\n",
        "Z_4 = sigmoid(np.array(A_4))\n",
        "\n",
        "Z = [Z_2, Z_3, Z_4]\n",
        "\n",
        "\n",
        "\n",
        "\n",
        "\n",
        "\n"
      ],
      "execution_count": 0,
      "outputs": []
    },
    {
      "cell_type": "markdown",
      "metadata": {
        "id": "o9btWnZ-t23_",
        "colab_type": "text"
      },
      "source": [
        "#Data generation "
      ]
    },
    {
      "cell_type": "code",
      "metadata": {
        "id": "hzeNiYJyp1rN",
        "colab_type": "code",
        "colab": {}
      },
      "source": [
        "Data = np.random.random((2000,n_f)) *10"
      ],
      "execution_count": 0,
      "outputs": []
    },
    {
      "cell_type": "markdown",
      "metadata": {
        "id": "gr1WAM38QFBM",
        "colab_type": "text"
      },
      "source": [
        "#Dynamic of Neural Network"
      ]
    },
    {
      "cell_type": "markdown",
      "metadata": {
        "id": "lBR-baTJRM4b",
        "colab_type": "text"
      },
      "source": [
        "# the first layer"
      ]
    },
    {
      "cell_type": "code",
      "metadata": {
        "id": "rPyHHYixQEYc",
        "colab_type": "code",
        "colab": {
          "base_uri": "https://localhost:8080/",
          "height": 118
        },
        "outputId": "b21b86f3-f485-42a9-b8a9-57081671925f"
      },
      "source": [
        "\n",
        "for elem in A: \n",
        "  j = 0\n",
        "  i = 0\n",
        "  for element in elem :\n",
        "    elem[i] = Data[10]* W[j][i].T\n",
        "    i = i+1\n",
        "  j = j+1\n",
        "  \n",
        "  \n",
        "A"
      ],
      "execution_count": 23,
      "outputs": [
        {
          "output_type": "execute_result",
          "data": {
            "text/plain": [
              "[[array([4.40807028, 2.44174531, 6.54163949, 1.19175058]),\n",
              "  array([4.40807028, 2.44174531, 6.54163949, 1.19175058]),\n",
              "  array([4.40807028, 2.44174531, 6.54163949, 1.19175058])],\n",
              " [array([4.40807028, 2.44174531, 6.54163949, 1.19175058]),\n",
              "  array([4.40807028, 2.44174531, 6.54163949, 1.19175058])],\n",
              " [array([4.40807028, 2.44174531, 6.54163949, 1.19175058])]]"
            ]
          },
          "metadata": {
            "tags": []
          },
          "execution_count": 23
        }
      ]
    },
    {
      "cell_type": "code",
      "metadata": {
        "id": "i9qseYRUIMs6",
        "colab_type": "code",
        "colab": {}
      },
      "source": [
        "(for weight in W : "
      ],
      "execution_count": 0,
      "outputs": []
    },
    {
      "cell_type": "markdown",
      "metadata": {
        "id": "Uy47RnfmqpYK",
        "colab_type": "text"
      },
      "source": [
        ""
      ]
    },
    {
      "cell_type": "markdown",
      "metadata": {
        "id": "BtUsaekYpuSb",
        "colab_type": "text"
      },
      "source": [
        ""
      ]
    }
  ]
}