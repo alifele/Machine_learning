{
  "nbformat": 4,
  "nbformat_minor": 0,
  "metadata": {
    "colab": {
      "name": "Hand_made_NN.ipynb",
      "version": "0.3.2",
      "provenance": [],
      "include_colab_link": true
    },
    "kernelspec": {
      "name": "python3",
      "display_name": "Python 3"
    }
  },
  "cells": [
    {
      "cell_type": "markdown",
      "metadata": {
        "id": "view-in-github",
        "colab_type": "text"
      },
      "source": [
        "<a href=\"https://colab.research.google.com/github/alifele/Machine_learning/blob/master/Neural_Networks/Hand_made_NN.ipynb\" target=\"_parent\"><img src=\"https://colab.research.google.com/assets/colab-badge.svg\" alt=\"Open In Colab\"/></a>"
      ]
    },
    {
      "cell_type": "markdown",
      "metadata": {
        "id": "0KEj9rw2_YGw",
        "colab_type": "text"
      },
      "source": [
        "#Simple hand_made Neural network\n",
        "in this note book i am going to define a simple but made nural network\n",
        "\n",
        "* three layers \n",
        "   * Input layer\n",
        "   * Layer <sub>[2]</sub> ----> three nodes\n",
        "   * Layer<sub>[3]</sub> -----> two nodes\n",
        "   * Layer<sub>[4]</sub>----->one node"
      ]
    },
    {
      "cell_type": "code",
      "metadata": {
        "id": "x0KJvJSPIRRl",
        "colab_type": "code",
        "colab": {}
      },
      "source": [
        "import numpy as np\n",
        "import matplotlib.pyplot as plt"
      ],
      "execution_count": 0,
      "outputs": []
    },
    {
      "cell_type": "markdown",
      "metadata": {
        "id": "eCGOdL3DIkak",
        "colab_type": "text"
      },
      "source": [
        "#Defining and Initializing weights parameters"
      ]
    },
    {
      "cell_type": "code",
      "metadata": {
        "id": "Be3ol7BP_Wy0",
        "colab_type": "code",
        "colab": {
          "base_uri": "https://localhost:8080/",
          "height": 231
        },
        "outputId": "8502526f-b44f-47ef-c2a4-541d8557ad30"
      },
      "source": [
        "n_f = 4 # number of features\n",
        "n_l1 = n_f #the number of nodes in layer 0 is the number of features\n",
        "n_l2 = 3 # number of nodes in layer 1\n",
        "n_l3 = 2 # number of nodes in layer 2\n",
        "n_l4 = 1 # number of nodes in layer 3\n",
        "W1 = np.zeros(nl_2, nl_1)\n",
        "W2 = np.zeros(nl_3, nl_1)\n",
        "\n",
        "W = list(W1, W2, W3)   # the list of weights for each layer\n",
        "B = list(B1, B2, B3)\n"
      ],
      "execution_count": 3,
      "outputs": [
        {
          "output_type": "error",
          "ename": "NameError",
          "evalue": "ignored",
          "traceback": [
            "\u001b[0;31m---------------------------------------------------------------------------\u001b[0m",
            "\u001b[0;31mNameError\u001b[0m                                 Traceback (most recent call last)",
            "\u001b[0;32m<ipython-input-3-e01ccad90309>\u001b[0m in \u001b[0;36m<module>\u001b[0;34m()\u001b[0m\n\u001b[1;32m      4\u001b[0m \u001b[0mn_l3\u001b[0m \u001b[0;34m=\u001b[0m \u001b[0;36m2\u001b[0m \u001b[0;31m# number of nodes in layer 2\u001b[0m\u001b[0;34m\u001b[0m\u001b[0;34m\u001b[0m\u001b[0m\n\u001b[1;32m      5\u001b[0m \u001b[0mn_l4\u001b[0m \u001b[0;34m=\u001b[0m \u001b[0;36m1\u001b[0m \u001b[0;31m# number of nodes in layer 3\u001b[0m\u001b[0;34m\u001b[0m\u001b[0;34m\u001b[0m\u001b[0m\n\u001b[0;32m----> 6\u001b[0;31m \u001b[0mW1\u001b[0m \u001b[0;34m=\u001b[0m \u001b[0mnp\u001b[0m\u001b[0;34m.\u001b[0m\u001b[0mzeros\u001b[0m\u001b[0;34m(\u001b[0m\u001b[0mnl_2\u001b[0m\u001b[0;34m,\u001b[0m \u001b[0mnl_1\u001b[0m\u001b[0;34m)\u001b[0m\u001b[0;34m\u001b[0m\u001b[0;34m\u001b[0m\u001b[0m\n\u001b[0m\u001b[1;32m      7\u001b[0m \u001b[0mW2\u001b[0m \u001b[0;34m=\u001b[0m \u001b[0mnp\u001b[0m\u001b[0;34m.\u001b[0m\u001b[0mzeros\u001b[0m\u001b[0;34m(\u001b[0m\u001b[0mnl_3\u001b[0m\u001b[0;34m,\u001b[0m \u001b[0mnl_1\u001b[0m\u001b[0;34m)\u001b[0m\u001b[0;34m\u001b[0m\u001b[0;34m\u001b[0m\u001b[0m\n\u001b[1;32m      8\u001b[0m \u001b[0;34m\u001b[0m\u001b[0m\n",
            "\u001b[0;31mNameError\u001b[0m: name 'nl_2' is not defined"
          ]
        }
      ]
    },
    {
      "cell_type": "markdown",
      "metadata": {
        "id": "_yl2eeslIHWY",
        "colab_type": "text"
      },
      "source": [
        "#Initializing weights"
      ]
    },
    {
      "cell_type": "code",
      "metadata": {
        "id": "i9qseYRUIMs6",
        "colab_type": "code",
        "colab": {}
      },
      "source": [
        "for weight in W : "
      ],
      "execution_count": 0,
      "outputs": []
    }
  ]
}