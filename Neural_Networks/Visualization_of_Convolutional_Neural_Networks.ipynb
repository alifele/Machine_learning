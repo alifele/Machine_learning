{
  "nbformat": 4,
  "nbformat_minor": 0,
  "metadata": {
    "colab": {
      "name": "Visualization_of_Convolutional_Neural_Networks.ipynb",
      "version": "0.3.2",
      "provenance": [],
      "include_colab_link": true
    },
    "kernelspec": {
      "name": "python3",
      "display_name": "Python 3"
    }
  },
  "cells": [
    {
      "cell_type": "markdown",
      "metadata": {
        "id": "view-in-github",
        "colab_type": "text"
      },
      "source": [
        "<a href=\"https://colab.research.google.com/github/alifele/Machine_learning/blob/master/Neural_Networks/Visualization_of_Convolutional_Neural_Networks.ipynb\" target=\"_parent\"><img src=\"https://colab.research.google.com/assets/colab-badge.svg\" alt=\"Open In Colab\"/></a>"
      ]
    },
    {
      "cell_type": "code",
      "metadata": {
        "id": "NUZ60KUDyg6L",
        "colab_type": "code",
        "colab": {}
      },
      "source": [
        "import numpy as np\n",
        "import pandas as pd\n",
        "import matplotlib.pyplot as plt\n",
        "import requests, io\n",
        "\n",
        "from tensorflow import keras"
      ],
      "execution_count": 0,
      "outputs": []
    },
    {
      "cell_type": "code",
      "metadata": {
        "id": "vEts24ck0xLt",
        "colab_type": "code",
        "colab": {}
      },
      "source": [
        "'''\n",
        "Let's import the Farsi digits (your assignment)\n",
        "'''\n",
        "\n",
        "url = 'https://raw.githubusercontent.com/sraeisi/MachineLearning_Physics/master/Assignments/A3/X.npz'\n",
        "s=requests.get(url, stream=True).content\n",
        "X = np.load(io.BytesIO(s) )['arr_0']\n",
        "url = 'https://raw.githubusercontent.com/sraeisi/MachineLearning_Physics/master/Assignments/A3/Y.npz'\n",
        "s=requests.get(url, stream=True).content\n",
        "Y = np.load(io.BytesIO(s) )['arr_0']\n",
        "\n",
        "from sklearn.utils import shuffle\n",
        "X, Y = shuffle(X,Y, random_state = 0 )\n",
        "\n",
        "from sklearn.model_selection import train_test_split\n",
        "X_train, X_test, y_train, y_test = train_test_split(X, Y, random_state=0)"
      ],
      "execution_count": 0,
      "outputs": []
    },
    {
      "cell_type": "code",
      "metadata": {
        "id": "5yhGnTd33Hgh",
        "colab_type": "code",
        "colab": {}
      },
      "source": [
        "from sklearn.preprocessing import StandardScaler\n",
        "scaler = StandardScaler()\n",
        "\n",
        "X_train = X_train.reshape(-1,32*32)\n",
        "X_train = X_train.T\n",
        "\n",
        "\n",
        "X_train = scaler.fit_transform(X_train)\n",
        "\n",
        "X_train = X_train.T\n",
        "\n",
        "X_train = X_train.reshape(-1,32,32)\n"
      ],
      "execution_count": 0,
      "outputs": []
    },
    {
      "cell_type": "code",
      "metadata": {
        "id": "lW-Q1O3f1UwX",
        "colab_type": "code",
        "colab": {
          "base_uri": "https://localhost:8080/",
          "height": 273
        },
        "outputId": "0ff4e3e2-93cd-4c70-b199-547fe89ca61d"
      },
      "source": [
        "fig = plt.figure(figsize=(18,6))\n",
        "for i in range(18):\n",
        "  ax = fig.add_subplot(3,9,i+1, title=y_train[i])\n",
        "  ax.imshow(X_train[i])\n",
        "  ax.axis('off')"
      ],
      "execution_count": 4,
      "outputs": [
        {
          "output_type": "display_data",
          "data": {
            "image/png": "[encoded data removed]",
            "text/plain": [
              "<Figure size 1296x432 with 18 Axes>"
            ]
          },
          "metadata": {
            "tags": []
          }
        }
      ]
    },
    {
      "cell_type": "code",
      "metadata": {
        "id": "1lEvuQ4T1XHs",
        "colab_type": "code",
        "colab": {
          "base_uri": "https://localhost:8080/",
          "height": 90
        },
        "outputId": "eb6b4e18-2cdf-4ef6-9f06-c539d6746630"
      },
      "source": [
        "model = keras.models.Sequential([\n",
        "    keras.layers.Conv2D(filters=4, kernel_size=7, activation='relu', input_shape=(32,32,1)),\n",
        "    keras.layers.MaxPooling2D((2,2)),\n",
        "    keras.layers.Conv2D(16, (3,3), activation='relu'),\n",
        "    keras.layers.MaxPooling2D((2,2)),\n",
        "    keras.layers.Conv2D(32, (3,3)),\n",
        "    keras.layers.Flatten(),\n",
        "    keras.layers.Dense(125, activation='relu'),\n",
        "    keras.layers.Dense(56, activation='relu'),\n",
        "    keras.layers.Dense(10, activation='softmax'),\n",
        "])"
      ],
      "execution_count": 5,
      "outputs": [
        {
          "output_type": "stream",
          "text": [
            "WARNING:tensorflow:From /usr/local/lib/python3.6/dist-packages/tensorflow/python/ops/resource_variable_ops.py:435: colocate_with (from tensorflow.python.framework.ops) is deprecated and will be removed in a future version.\n",
            "Instructions for updating:\n",
            "Colocations handled automatically by placer.\n"
          ],
          "name": "stdout"
        }
      ]
    },
    {
      "cell_type": "markdown",
      "metadata": {
        "id": "C861soEWPQL8",
        "colab_type": "text"
      },
      "source": [
        "implementing the neural network with partial function"
      ]
    },
    {
      "cell_type": "code",
      "metadata": {
        "id": "UGXsA3LJPX_m",
        "colab_type": "code",
        "colab": {}
      },
      "source": [
        "from functools import partial\n",
        "\n",
        "conv = partial(keras.layers.Conv2D, kernel_size=3, strides=1, activation='relu', padding=\"SAME\" )\n",
        "pool = partial(keras.layers.MaxPooling2D, pool_size=2)\n",
        "Dense = partial(keras.layers.Dense,activation='relu')\n",
        "\n",
        "model = keras.models.Sequential([\n",
        "    conv(filters=4, kernel_size=7, input_shape=(32,32,1)),\n",
        "    pool(),\n",
        "    conv(filters=16),\n",
        "    pool(),\n",
        "    conv(filters=32),\n",
        "    keras.layers.Flatten(),\n",
        "    Dense(units=125),\n",
        "    Dense(units=56),\n",
        "    Dense(units=10, activation='softmax')   ,\n",
        "])"
      ],
      "execution_count": 0,
      "outputs": []
    },
    {
      "cell_type": "code",
      "metadata": {
        "id": "ENrtVdYtW5Qr",
        "colab_type": "code",
        "colab": {
          "base_uri": "https://localhost:8080/",
          "height": 461
        },
        "outputId": "1717eb4d-304d-4fb7-b5c9-8a8a6c95bb82"
      },
      "source": [
        "model.summary()"
      ],
      "execution_count": 7,
      "outputs": [
        {
          "output_type": "stream",
          "text": [
            "_________________________________________________________________\n",
            "Layer (type)                 Output Shape              Param #   \n",
            "=================================================================\n",
            "conv2d_3 (Conv2D)            (None, 32, 32, 4)         200       \n",
            "_________________________________________________________________\n",
            "max_pooling2d_2 (MaxPooling2 (None, 16, 16, 4)         0         \n",
            "_________________________________________________________________\n",
            "conv2d_4 (Conv2D)            (None, 16, 16, 16)        592       \n",
            "_________________________________________________________________\n",
            "max_pooling2d_3 (MaxPooling2 (None, 8, 8, 16)          0         \n",
            "_________________________________________________________________\n",
            "conv2d_5 (Conv2D)            (None, 8, 8, 32)          4640      \n",
            "_________________________________________________________________\n",
            "flatten_1 (Flatten)          (None, 2048)              0         \n",
            "_________________________________________________________________\n",
            "dense_3 (Dense)              (None, 125)               256125    \n",
            "_________________________________________________________________\n",
            "dense_4 (Dense)              (None, 56)                7056      \n",
            "_________________________________________________________________\n",
            "dense_5 (Dense)              (None, 10)                570       \n",
            "=================================================================\n",
            "Total params: 269,183\n",
            "Trainable params: 269,183\n",
            "Non-trainable params: 0\n",
            "_________________________________________________________________\n"
          ],
          "name": "stdout"
        }
      ]
    },
    {
      "cell_type": "code",
      "metadata": {
        "id": "R-jkOmXWXVix",
        "colab_type": "code",
        "colab": {}
      },
      "source": [
        "model.compile(loss='sparse_categorical_crossentropy',\n",
        "             optimizer='adam',\n",
        "             metrics=['accuracy'])"
      ],
      "execution_count": 0,
      "outputs": []
    },
    {
      "cell_type": "code",
      "metadata": {
        "id": "JczeoYZIE19x",
        "colab_type": "code",
        "colab": {
          "base_uri": "https://localhost:8080/",
          "height": 52
        },
        "outputId": "429744fb-a142-4fd9-94e8-d7abb0840ef3"
      },
      "source": [
        "history = model.fit(X_train.reshape(-1,32,32,1), y_train, epochs=1, batch_size=1024,validation_split=0.2)"
      ],
      "execution_count": 10,
      "outputs": [
        {
          "output_type": "stream",
          "text": [
            "Train on 61411 samples, validate on 15353 samples\n",
            "61411/61411 [==============================] - 86s 1ms/sample - loss: 0.0853 - acc: 0.9743 - val_loss: 0.0691 - val_acc: 0.9788\n"
          ],
          "name": "stdout"
        }
      ]
    },
    {
      "cell_type": "code",
      "metadata": {
        "id": "1F6Mw-SqFP5W",
        "colab_type": "code",
        "colab": {}
      },
      "source": [
        "vis_layers = [l.output for l in model.layers ]\n",
        "\n",
        "vis_model = keras.models.Model( inputs = model.input, outputs=vis_layers)"
      ],
      "execution_count": 0,
      "outputs": []
    },
    {
      "cell_type": "code",
      "metadata": {
        "id": "L2kukiNgku2G",
        "colab_type": "code",
        "colab": {
          "base_uri": "https://localhost:8080/",
          "height": 286
        },
        "outputId": "ce6a573e-7012-46a5-d913-baab93d7e9d2"
      },
      "source": [
        "ind = np.random.randint(len(X_test))\n",
        "\n",
        "img = X_test[ind]\n",
        "plt.imshow(img)\n"
      ],
      "execution_count": 21,
      "outputs": [
        {
          "output_type": "execute_result",
          "data": {
            "text/plain": [
              "<matplotlib.image.AxesImage at 0x7fc0f11b28d0>"
            ]
          },
          "metadata": {
            "tags": []
          },
          "execution_count": 21
        },
        {
          "output_type": "display_data",
          "data": {
            "image/png": "[encoded data removed]",
            "text/plain": [
              "<Figure size 432x288 with 1 Axes>"
            ]
          },
          "metadata": {
            "tags": []
          }
        }
      ]
    },
    {
      "cell_type": "code",
      "metadata": {
        "id": "ptYa9nullUXm",
        "colab_type": "code",
        "colab": {}
      },
      "source": [
        "pred = vis_model.predict([[img.reshape(32,32,1)]])"
      ],
      "execution_count": 0,
      "outputs": []
    },
    {
      "cell_type": "code",
      "metadata": {
        "id": "ewkebUNZlfAW",
        "colab_type": "code",
        "colab": {
          "base_uri": "https://localhost:8080/",
          "height": 34
        },
        "outputId": "28e259a5-4c87-43d4-f6e0-6b2d40e6587a"
      },
      "source": [
        "layer=4\n",
        "pred[layer].shape"
      ],
      "execution_count": 31,
      "outputs": [
        {
          "output_type": "execute_result",
          "data": {
            "text/plain": [
              "(1, 8, 8, 32)"
            ]
          },
          "metadata": {
            "tags": []
          },
          "execution_count": 31
        }
      ]
    },
    {
      "cell_type": "code",
      "metadata": {
        "id": "cVoZYYOrljQn",
        "colab_type": "code",
        "colab": {
          "base_uri": "https://localhost:8080/",
          "height": 652
        },
        "outputId": "1529d94b-f3e5-4edd-d5f8-3db731d7586f"
      },
      "source": [
        "\n",
        "fig = plt.figure(figsize=(16,12))\n",
        "\n",
        "for i in range( pred[layer].shape[-1] ):\n",
        "  ax = fig.add_subplot(4,int(pred[layer].shape[-1]/4),i+1)\n",
        "\n",
        "  ax.imshow(pred[layer][0, :, :, i])\n",
        "  ax.axis('off')"
      ],
      "execution_count": 33,
      "outputs": [
        {
          "output_type": "display_data",
          "data": {
            "image/png": "[encoded data removed]",
            "text/plain": [
              "<Figure size 1152x864 with 32 Axes>"
            ]
          },
          "metadata": {
            "tags": []
          }
        }
      ]
    },
    {
      "cell_type": "code",
      "metadata": {
        "id": "RHvrgJVvrrt1",
        "colab_type": "code",
        "colab": {}
      },
      "source": [
        ""
      ],
      "execution_count": 0,
      "outputs": []
    }
  ]
}