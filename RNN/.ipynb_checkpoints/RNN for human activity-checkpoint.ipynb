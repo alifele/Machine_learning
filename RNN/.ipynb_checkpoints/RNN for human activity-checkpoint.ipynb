{
 "cells": [
  {
   "cell_type": "code",
   "execution_count": 1,
   "metadata": {},
   "outputs": [],
   "source": [
    "import numpy as np\n",
    "import matplotlib.pyplot as plt\n",
    "import pandas as pd"
   ]
  },
  {
   "cell_type": "code",
   "execution_count": 61,
   "metadata": {},
   "outputs": [
    {
     "name": "stdout",
     "output_type": "stream",
     "text": [
      " \u001b[0m\u001b[34;42m__MACOSX\u001b[0m/  \u001b[34;42m'UCI HAR Dataset'\u001b[0m/\n",
      "/media/ali/Ali/Projects/Machine_learning/RNN/UCI HAR Dataset/UCI HAR Dataset\n",
      "\u001b[0m\u001b[01;32mactivity_labels.txt\u001b[0m*  \u001b[01;32mfeatures.txt\u001b[0m*  \u001b[34;42mtest\u001b[0m/\n",
      "\u001b[01;32mfeatures_info.txt\u001b[0m*    \u001b[01;32mREADME.txt\u001b[0m*    \u001b[34;42mtrain\u001b[0m/\n"
     ]
    }
   ],
   "source": [
    "%ls\n",
    "%cd 'UCI HAR Dataset/'\n",
    "%ls"
   ]
  },
  {
   "cell_type": "code",
   "execution_count": 34,
   "metadata": {},
   "outputs": [],
   "source": [
    "def load_file(filepath):\n",
    "    dataframe = pd.read_csv(filepath, header=None, delim_whitespace=True)\n",
    "    return dataframe.values"
   ]
  },
  {
   "cell_type": "markdown",
   "metadata": {},
   "source": [
    "# Loading data set"
   ]
  },
  {
   "cell_type": "code",
   "execution_count": 35,
   "metadata": {},
   "outputs": [],
   "source": [
    "def load_group(filenames, prefix=''):\n",
    "    loaded = list()\n",
    "    for name in filenames:\n",
    "        data = load_file(prefix + name)\n",
    "        loaded.append(data)\n",
    "        \n",
    "    loaded = np.dstack(loaded)\n",
    "    return loaded\n"
   ]
  },
  {
   "cell_type": "code",
   "execution_count": 36,
   "metadata": {},
   "outputs": [],
   "source": [
    "# load a dataset group, such as train or test\n",
    "def load_dataset_group(group, prefix=''):\n",
    "    filepath = prefix + group + '/Inertial Signals/'\n",
    "    # load all 9 files as a single array\n",
    "    filenames = list()\n",
    "    # total acceleration\n",
    "    filenames += ['total_acc_x_'+group+'.txt', 'total_acc_y_'+group+'.txt', 'total_acc_z_'+group+'.txt']\n",
    "    # body acceleration\n",
    "    filenames += ['body_acc_x_'+group+'.txt', 'body_acc_y_'+group+'.txt', 'body_acc_z_'+group+'.txt']\n",
    "    # body gyroscope\n",
    "    filenames += ['body_gyro_x_'+group+'.txt', 'body_gyro_y_'+group+'.txt', 'body_gyro_z_'+group+'.txt']\n",
    "    # load input data\n",
    "    X = load_group(filenames, filepath)\n",
    "    # load class output\n",
    "    y = load_file(prefix + group + '/y_'+group+'.txt')\n",
    "    return X, y"
   ]
  },
  {
   "cell_type": "code",
   "execution_count": 62,
   "metadata": {},
   "outputs": [],
   "source": [
    "# load the dataset, returns train and test X and y elements\n",
    "def load_dataset(prefix=''):\n",
    "    from tensorflow.keras.utils import to_categorical\n",
    "    # load all train\n",
    "    trainX, trainy = load_dataset_group('train')\n",
    "    print(trainX.shape, trainy.shape)\n",
    "    # load all test\n",
    "    testX, testy = load_dataset_group('test')\n",
    "    print(testX.shape, testy.shape)\n",
    "    # zero-offset class values\n",
    "    trainy = trainy - 1\n",
    "    testy = testy - 1\n",
    "    # one hot encode y\n",
    "    trainy = to_categorical(trainy)\n",
    "    testy = to_categorical(testy)\n",
    "    print(trainX.shape, trainy.shape, testX.shape, testy.shape)\n",
    "    return trainX, trainy, testX, testy"
   ]
  },
  {
   "cell_type": "code",
   "execution_count": 63,
   "metadata": {},
   "outputs": [
    {
     "name": "stdout",
     "output_type": "stream",
     "text": [
      "(7352, 128, 9) (7352, 1)\n",
      "(2947, 128, 9) (2947, 1)\n",
      "(7352, 128, 9) (7352, 6) (2947, 128, 9) (2947, 6)\n"
     ]
    }
   ],
   "source": [
    "trainX, trainy, testX, testy = load_dataset()"
   ]
  },
  {
   "cell_type": "markdown",
   "metadata": {},
   "source": [
    "# Implementing the RNN"
   ]
  },
  {
   "cell_type": "code",
   "execution_count": 64,
   "metadata": {},
   "outputs": [],
   "source": [
    "from tensorflow import keras\n",
    "from keras.models import Sequential\n",
    "from keras.layers import Dense, LSTM, Dropout"
   ]
  },
  {
   "cell_type": "code",
   "execution_count": 68,
   "metadata": {},
   "outputs": [],
   "source": [
    "n_timesteps, n_features, n_outputs = trainX.shape[1], trainX.shape[2], trainy.shape[1]\n",
    "model = Sequential([\n",
    "    LSTM(100, input_shape=(n_timesteps, n_features)),\n",
    "    Dropout(0.5),\n",
    "    Dense(100, activation='relu'),\n",
    "    Dense(n_outputs, activation='softmax' )\n",
    "])"
   ]
  },
  {
   "cell_type": "code",
   "execution_count": 70,
   "metadata": {},
   "outputs": [],
   "source": [
    "model.compile(loss='categorical_crossentropy',\n",
    "             optimizer='adam',\n",
    "             metrics=['accuracy'])"
   ]
  },
  {
   "cell_type": "code",
   "execution_count": null,
   "metadata": {},
   "outputs": [],
   "source": []
  },
  {
   "cell_type": "code",
   "execution_count": 81,
   "metadata": {},
   "outputs": [
    {
     "name": "stdout",
     "output_type": "stream",
     "text": [
      "Epoch 1/15\n",
      "7352/7352 [==============================] - 11s 2ms/step - loss: 1.1536 - acc: 0.5220\n",
      "Epoch 2/15\n",
      "7352/7352 [==============================] - 10s 1ms/step - loss: 0.7493 - acc: 0.6695\n",
      "Epoch 3/15\n",
      "7352/7352 [==============================] - 10s 1ms/step - loss: 0.6424 - acc: 0.7235\n",
      "Epoch 4/15\n",
      "7352/7352 [==============================] - 10s 1ms/step - loss: 0.6819 - acc: 0.6919\n",
      "Epoch 5/15\n",
      "7352/7352 [==============================] - 10s 1ms/step - loss: 0.5306 - acc: 0.7890\n",
      "Epoch 6/15\n",
      "7352/7352 [==============================] - 10s 1ms/step - loss: 0.4252 - acc: 0.8523\n",
      "Epoch 7/15\n",
      "7352/7352 [==============================] - 10s 1ms/step - loss: 0.4281 - acc: 0.8598\n",
      "Epoch 8/15\n",
      "7352/7352 [==============================] - 10s 1ms/step - loss: 0.3084 - acc: 0.8868\n",
      "Epoch 9/15\n",
      "7352/7352 [==============================] - 10s 1ms/step - loss: 0.1949 - acc: 0.9344\n",
      "Epoch 10/15\n",
      "7352/7352 [==============================] - 10s 1ms/step - loss: 0.1782 - acc: 0.9359\n",
      "Epoch 11/15\n",
      "7352/7352 [==============================] - 10s 1ms/step - loss: 0.1568 - acc: 0.9419\n",
      "Epoch 12/15\n",
      "7352/7352 [==============================] - 10s 1ms/step - loss: 0.1613 - acc: 0.9396\n",
      "Epoch 13/15\n",
      "7352/7352 [==============================] - 10s 1ms/step - loss: 0.1388 - acc: 0.9468\n",
      "Epoch 14/15\n",
      "7352/7352 [==============================] - 10s 1ms/step - loss: 0.1446 - acc: 0.9440\n",
      "Epoch 15/15\n",
      "7352/7352 [==============================] - 10s 1ms/step - loss: 0.1426 - acc: 0.9460\n",
      "2947/2947 [==============================] - 1s 416us/step\n"
     ]
    },
    {
     "data": {
      "text/plain": [
       "0.9083814048184594"
      ]
     },
     "execution_count": 81,
     "metadata": {},
     "output_type": "execute_result"
    }
   ],
   "source": [
    "evaluate_model(trainX, trainy, testX, testy)"
   ]
  },
  {
   "cell_type": "code",
   "execution_count": 98,
   "metadata": {},
   "outputs": [
    {
     "name": "stdout",
     "output_type": "stream",
     "text": [
      "2947/2947 [==============================] - 1s 450us/step\n",
      ">#1: 90.024\n",
      "2947/2947 [==============================] - 1s 470us/step\n",
      ">#2: 89.854\n",
      "2947/2947 [==============================] - 2s 782us/step\n",
      ">#3: 90.092\n",
      "2947/2947 [==============================] - 1s 500us/step\n",
      ">#4: 90.974\n",
      "2947/2947 [==============================] - 2s 520us/step\n",
      ">#5: 83.407\n",
      "2947/2947 [==============================] - 2s 538us/step\n",
      ">#6: 90.668\n",
      "2947/2947 [==============================] - 2s 556us/step\n",
      ">#7: 91.788\n",
      "2947/2947 [==============================] - 2s 569us/step\n",
      ">#8: 91.585\n",
      "2947/2947 [==============================] - 2s 620us/step\n",
      ">#9: 89.990\n",
      "2947/2947 [==============================] - 2s 605us/step\n",
      ">#10: 88.802\n",
      "[90.02375296912113, 89.85408890397014, 90.09161859518154, 90.97387173396675, 83.40685442823211, 90.66847641669494, 91.78825924669155, 91.58466236851035, 89.98982015609094, 88.80217170003394]\n"
     ]
    },
    {
     "ename": "NameError",
     "evalue": "name 'scores55' is not defined",
     "output_type": "error",
     "traceback": [
      "\u001b[0;31m---------------------------------------------------------------------------\u001b[0m",
      "\u001b[0;31mNameError\u001b[0m                                 Traceback (most recent call last)",
      "\u001b[0;32m<ipython-input-98-0fde86ced843>\u001b[0m in \u001b[0;36m<module>\u001b[0;34m\u001b[0m\n\u001b[0;32m----> 1\u001b[0;31m \u001b[0mrun_experiment\u001b[0m\u001b[0;34m(\u001b[0m\u001b[0mtrainX\u001b[0m\u001b[0;34m,\u001b[0m \u001b[0mtrainy\u001b[0m\u001b[0;34m,\u001b[0m \u001b[0mtestX\u001b[0m\u001b[0;34m,\u001b[0m \u001b[0mtesty\u001b[0m\u001b[0;34m,\u001b[0m \u001b[0mrepeats\u001b[0m\u001b[0;34m=\u001b[0m\u001b[0;36m10\u001b[0m\u001b[0;34m)\u001b[0m\u001b[0;34m\u001b[0m\u001b[0;34m\u001b[0m\u001b[0m\n\u001b[0m",
      "\u001b[0;32m<ipython-input-97-7e5fea04b032>\u001b[0m in \u001b[0;36mrun_experiment\u001b[0;34m(trainX, trainy, testX, testy, repeats)\u001b[0m\n\u001b[1;32m      7\u001b[0m         \u001b[0mscores\u001b[0m\u001b[0;34m.\u001b[0m\u001b[0mappend\u001b[0m\u001b[0;34m(\u001b[0m\u001b[0mscore\u001b[0m\u001b[0;34m)\u001b[0m\u001b[0;34m\u001b[0m\u001b[0;34m\u001b[0m\u001b[0m\n\u001b[1;32m      8\u001b[0m \u001b[0;34m\u001b[0m\u001b[0m\n\u001b[0;32m----> 9\u001b[0;31m     \u001b[0msummarize_results\u001b[0m\u001b[0;34m(\u001b[0m\u001b[0mscores\u001b[0m\u001b[0;34m)\u001b[0m\u001b[0;34m\u001b[0m\u001b[0;34m\u001b[0m\u001b[0m\n\u001b[0m",
      "\u001b[0;32m<ipython-input-96-56c79615107e>\u001b[0m in \u001b[0;36msummarize_results\u001b[0;34m(scores)\u001b[0m\n\u001b[1;32m      1\u001b[0m \u001b[0;32mdef\u001b[0m \u001b[0msummarize_results\u001b[0m\u001b[0;34m(\u001b[0m\u001b[0mscores\u001b[0m\u001b[0;34m)\u001b[0m\u001b[0;34m:\u001b[0m\u001b[0;34m\u001b[0m\u001b[0;34m\u001b[0m\u001b[0m\n\u001b[1;32m      2\u001b[0m     \u001b[0mprint\u001b[0m\u001b[0;34m(\u001b[0m\u001b[0mscores\u001b[0m\u001b[0;34m)\u001b[0m\u001b[0;34m\u001b[0m\u001b[0;34m\u001b[0m\u001b[0m\n\u001b[0;32m----> 3\u001b[0;31m     \u001b[0mm\u001b[0m\u001b[0;34m,\u001b[0m \u001b[0ms\u001b[0m \u001b[0;34m=\u001b[0m \u001b[0mnp\u001b[0m\u001b[0;34m.\u001b[0m\u001b[0mmean\u001b[0m\u001b[0;34m(\u001b[0m\u001b[0mscores55\u001b[0m \u001b[0;34m)\u001b[0m\u001b[0;34m,\u001b[0m \u001b[0mnp\u001b[0m\u001b[0;34m.\u001b[0m\u001b[0mstd\u001b[0m\u001b[0;34m(\u001b[0m\u001b[0mscores\u001b[0m\u001b[0;34m)\u001b[0m\u001b[0;34m\u001b[0m\u001b[0;34m\u001b[0m\u001b[0m\n\u001b[0m\u001b[1;32m      4\u001b[0m     \u001b[0mprint\u001b[0m\u001b[0;34m(\u001b[0m\u001b[0;34m'Accuracy: %.3f%% (+/- %.3f)'\u001b[0m \u001b[0;34m%\u001b[0m \u001b[0;34m(\u001b[0m\u001b[0mm\u001b[0m\u001b[0;34m,\u001b[0m\u001b[0ms\u001b[0m\u001b[0;34m)\u001b[0m\u001b[0;34m)\u001b[0m\u001b[0;34m\u001b[0m\u001b[0;34m\u001b[0m\u001b[0m\n",
      "\u001b[0;31mNameError\u001b[0m: name 'scores55' is not defined"
     ]
    }
   ],
   "source": [
    "run_experiment(trainX, trainy, testX, testy, repeats=10)"
   ]
  },
  {
   "cell_type": "code",
   "execution_count": null,
   "metadata": {},
   "outputs": [],
   "source": []
  },
  {
   "cell_type": "code",
   "execution_count": null,
   "metadata": {},
   "outputs": [],
   "source": []
  },
  {
   "cell_type": "code",
   "execution_count": null,
   "metadata": {},
   "outputs": [],
   "source": []
  },
  {
   "cell_type": "code",
   "execution_count": null,
   "metadata": {},
   "outputs": [],
   "source": []
  },
  {
   "cell_type": "code",
   "execution_count": null,
   "metadata": {},
   "outputs": [],
   "source": []
  },
  {
   "cell_type": "code",
   "execution_count": null,
   "metadata": {},
   "outputs": [],
   "source": []
  },
  {
   "cell_type": "code",
   "execution_count": null,
   "metadata": {},
   "outputs": [],
   "source": []
  },
  {
   "cell_type": "code",
   "execution_count": null,
   "metadata": {},
   "outputs": [],
   "source": []
  },
  {
   "cell_type": "code",
   "execution_count": null,
   "metadata": {},
   "outputs": [],
   "source": []
  },
  {
   "cell_type": "code",
   "execution_count": 95,
   "metadata": {},
   "outputs": [],
   "source": [
    "def evaluate_model(trainX, trainy, testX, testy):\n",
    "    epochs, batch_size = 15, 64\n",
    "    n_timesteps, n_features, n_outputs = trainX.shape[1], trainX.shape[2], trainy.shape[1]\n",
    "    model = Sequential([\n",
    "        LSTM(100, input_shape=(n_timesteps, n_features)),\n",
    "        Dropout(0.5),\n",
    "        Dense(100, activation='relu'),\n",
    "        Dense(n_outputs, activation='softmax'),\n",
    " ])\n",
    "    model.compile(loss='categorical_crossentropy',\n",
    "                 optimizer='adam',\n",
    "                 metrics=['accuracy'])\n",
    "    model.fit(trainX, trainy, epochs=epochs, batch_size=batch_size, verbose=0)\n",
    "    \n",
    "    _, accuracy = model.evaluate(testX, testy, batch_size=batch_size)\n",
    "    \n",
    "    return accuracy\n"
   ]
  },
  {
   "cell_type": "code",
   "execution_count": 99,
   "metadata": {},
   "outputs": [],
   "source": [
    "def summarize_results(scores):\n",
    "    print(scores)\n",
    "    m, s = np.mean(scores), np.std(scores)\n",
    "    print('Accuracy: %.3f%% (+/- %.3f)' % (m,s))"
   ]
  },
  {
   "cell_type": "code",
   "execution_count": 97,
   "metadata": {},
   "outputs": [],
   "source": [
    "def run_experiment(trainX, trainy, testX, testy, repeats=10):\n",
    "    scores = list()\n",
    "    for r in range(repeats):\n",
    "        score = evaluate_model(trainX, trainy, testX, testy)\n",
    "        score = score * 100\n",
    "        print('>#%d: %.3f' % (r+1, score))\n",
    "        scores.append(score)\n",
    "        \n",
    "    summarize_results(scores)"
   ]
  },
  {
   "cell_type": "code",
   "execution_count": null,
   "metadata": {},
   "outputs": [],
   "source": []
  },
  {
   "cell_type": "code",
   "execution_count": null,
   "metadata": {},
   "outputs": [],
   "source": []
  }
 ],
 "metadata": {
  "kernelspec": {
   "display_name": "Python 3",
   "language": "python",
   "name": "python3"
  },
  "language_info": {
   "codemirror_mode": {
    "name": "ipython",
    "version": 3
   },
   "file_extension": ".py",
   "mimetype": "text/x-python",
   "name": "python",
   "nbconvert_exporter": "python",
   "pygments_lexer": "ipython3",
   "version": "3.7.3"
  }
 },
 "nbformat": 4,
 "nbformat_minor": 2
}
