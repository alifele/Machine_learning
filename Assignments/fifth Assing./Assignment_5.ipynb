{
  "nbformat": 4,
  "nbformat_minor": 0,
  "metadata": {
    "colab": {
      "name": "Assignment_5.ipynb",
      "version": "0.3.2",
      "provenance": [],
      "include_colab_link": true
    },
    "kernelspec": {
      "name": "python3",
      "display_name": "Python 3"
    }
  },
  "cells": [
    {
      "cell_type": "markdown",
      "metadata": {
        "id": "view-in-github",
        "colab_type": "text"
      },
      "source": [
        "<a href=\"https://colab.research.google.com/github/alifele/Machine_learning/blob/master/Assignments/fifth%20Assing./Assignment_5.ipynb\" target=\"_parent\"><img src=\"https://colab.research.google.com/assets/colab-badge.svg\" alt=\"Open In Colab\"/></a>"
      ]
    },
    {
      "cell_type": "markdown",
      "metadata": {
        "id": "Qy_kZWDfm298",
        "colab_type": "text"
      },
      "source": [
        "#Feature Reduction Using Neural Networks\n",
        "I am going to use the neural network for feature reduction. As you can see in the picture I will decrease the number of neurons in the middle layer and then increse it to the 10 neurons(Since we have 10 classes). The neural network with thinest neck and highest accuracy in classifing data will be the best feature reductor.\n",
        "\n",
        "\n",
        "![alt text](https://raw.githubusercontent.com/alifele/Machine_learning/master/Assignments/fifth%20Assing./Untitled.png)"
      ]
    },
    {
      "cell_type": "markdown",
      "metadata": {
        "id": "vR6AVED5pkpx",
        "colab_type": "text"
      },
      "source": [
        "#Important Imports"
      ]
    },
    {
      "cell_type": "code",
      "metadata": {
        "id": "kzKHwZb6m2mk",
        "colab_type": "code",
        "colab": {}
      },
      "source": [
        "from tensorflow import keras\n",
        "import matplotlib.pyplot as plt\n",
        "import numpy as np\n",
        "import pandas as pd\n",
        "import requests, io\n",
        "from sklearn.preprocessing import scale\n",
        "import requests\n",
        "from sklearn.metrics import confusion_matrix\n",
        "from sklearn.metrics import classification_report\n",
        "\n",
        "'''Set the defaults for your plots.'''\n",
        "# plt.rcParams.update({'font.size': 20, 'figsize':(8,6)})\n",
        "SMALL_SIZE = 12\n",
        "MEDIUM_SIZE = 15\n",
        "BIGGER_SIZE = 18\n",
        "\n",
        "plt.rc('font', size=BIGGER_SIZE)          # controls default text sizes\n",
        "plt.rc('axes', titlesize=MEDIUM_SIZE)     # fontsize of the axes title\n",
        "plt.rc('axes', labelsize=BIGGER_SIZE)    # fontsize of the x and y labels\n",
        "plt.rc('xtick', labelsize=SMALL_SIZE)    # fontsize of the tick labels\n",
        "plt.rc('ytick', labelsize=SMALL_SIZE)    # fontsize of the tick labels\n",
        "plt.rc('legend', fontsize=MEDIUM_SIZE)    # legend fontsize\n",
        "plt.rc('figure', titlesize=BIGGER_SIZE)  # fontsize of the figure title\n",
        "\n",
        "plt.rc('axes', linewidth = 5 )\n",
        "plt.rc('lines', linewidth = 5 )\n",
        "\n",
        "plt.rc('lines', markersize = 5 )\n",
        "\n",
        "plt.rc('figure', figsize=(8,4) )         #"
      ],
      "execution_count": 0,
      "outputs": []
    },
    {
      "cell_type": "markdown",
      "metadata": {
        "id": "R5dHtQF2pN-a",
        "colab_type": "text"
      },
      "source": [
        "#Loading Data"
      ]
    },
    {
      "cell_type": "code",
      "metadata": {
        "id": "VOWrdko6pNtq",
        "colab_type": "code",
        "colab": {}
      },
      "source": [
        "url = 'https://github.com/alifele/Machine_learning/raw/master/Assignments/fourth%20Assing./X.npz'\n",
        "s=requests.get(url, stream=True).content\n",
        "data_X=np.load(io.BytesIO(s) )\n",
        "url = 'https://github.com/alifele/Machine_learning/raw/master/Assignments/fourth%20Assing./Y.npz'\n",
        "s=requests.get(url, stream=True).content\n",
        "data_Y = np.load(io.BytesIO(s))"
      ],
      "execution_count": 0,
      "outputs": []
    },
    {
      "cell_type": "code",
      "metadata": {
        "id": "wY0eSz-jmnUe",
        "colab_type": "code",
        "colab": {
          "base_uri": "https://localhost:8080/",
          "height": 318
        },
        "outputId": "9668c3e6-95e0-4d9d-f456-229a1d6162eb"
      },
      "source": [
        "X = data_X['arr_0'].reshape(-1,32*32)\n",
        "# X = scale(X)    scaling data destroyes them. TRY it!!!\n",
        "X_pic = X.reshape(-1,32,32)\n",
        "Y = data_Y['arr_0']\n",
        "\n",
        "plt.imshow(X_pic[12])\n",
        "plt.title(Y[12])\n",
        "print('the shape of X is {}: '.format(X.shape))\n",
        "print('the shape of Y is {}: '.format(Y.shape))"
      ],
      "execution_count": 7,
      "outputs": [
        {
          "output_type": "stream",
          "text": [
            "the shape of X is (102352, 1024): \n",
            "the shape of Y is (102352,): \n"
          ],
          "name": "stdout"
        },
        {
          "output_type": "display_data",
          "data": {
            "image/png": "[encoded data removed]",
            "text/plain": [
              "<Figure size 576x288 with 1 Axes>"
            ]
          },
          "metadata": {
            "tags": []
          }
        }
      ]
    },
    {
      "cell_type": "code",
      "metadata": {
        "id": "SxnAwYg2p70R",
        "colab_type": "code",
        "colab": {}
      },
      "source": [
        "from sklearn.model_selection import train_test_split\n",
        "\n",
        "X_train, X_test, y_train, y_test =  train_test_split(X_pic,Y)"
      ],
      "execution_count": 0,
      "outputs": []
    },
    {
      "cell_type": "markdown",
      "metadata": {
        "id": "q1qv56LcsPcq",
        "colab_type": "text"
      },
      "source": [
        "#Calculating the weights of classes"
      ]
    },
    {
      "cell_type": "code",
      "metadata": {
        "id": "RxUO04MosTYI",
        "colab_type": "code",
        "colab": {}
      },
      "source": [
        "from sklearn.utils import class_weight\n",
        "weight = class_weight.compute_class_weight('balanced',\n",
        "                                          np.unique(y_train),\n",
        "                                          y_train)\n"
      ],
      "execution_count": 0,
      "outputs": []
    },
    {
      "cell_type": "markdown",
      "metadata": {
        "id": "3YfTyYS5qfjP",
        "colab_type": "text"
      },
      "source": [
        "#Designing Network"
      ]
    },
    {
      "cell_type": "markdown",
      "metadata": {
        "id": "5q0MmXYPuaVL",
        "colab_type": "text"
      },
      "source": [
        "#First model with 20 neurons in neck"
      ]
    },
    {
      "cell_type": "code",
      "metadata": {
        "id": "7dOwr9Luqa9R",
        "colab_type": "code",
        "colab": {
          "base_uri": "https://localhost:8080/",
          "height": 391
        },
        "outputId": "7fce5509-0d9b-4b3c-8038-45a83bf01eee"
      },
      "source": [
        "model = keras.models.Sequential()\n",
        "model.add(keras.layers.Flatten(input_shape=(32,32)))\n",
        "model.add(keras.layers.Dense(512, activation='relu'))\n",
        "model.add(keras.layers.Dense(128, activation='relu'))\n",
        "model.add(keras.layers.Dense(32, activation='relu'))\n",
        "model.add(keras.layers.Dense(20, activation='relu'))   # Neck\n",
        "model.add(keras.layers.Dense(32, activation='relu'))\n",
        "model.add(keras.layers.Dense(25, activation='relu'))\n",
        "model.add(keras.layers.Dense(10, activation='softmax'))\n",
        "model.summary()"
      ],
      "execution_count": 33,
      "outputs": [
        {
          "output_type": "stream",
          "text": [
            "_________________________________________________________________\n",
            "Layer (type)                 Output Shape              Param #   \n",
            "=================================================================\n",
            "flatten_3 (Flatten)          (None, 1024)              0         \n",
            "_________________________________________________________________\n",
            "dense_21 (Dense)             (None, 512)               524800    \n",
            "_________________________________________________________________\n",
            "dense_22 (Dense)             (None, 128)               65664     \n",
            "_________________________________________________________________\n",
            "dense_23 (Dense)             (None, 32)                4128      \n",
            "_________________________________________________________________\n",
            "dense_24 (Dense)             (None, 20)                660       \n",
            "_________________________________________________________________\n",
            "dense_25 (Dense)             (None, 32)                672       \n",
            "_________________________________________________________________\n",
            "dense_26 (Dense)             (None, 25)                825       \n",
            "_________________________________________________________________\n",
            "dense_27 (Dense)             (None, 10)                260       \n",
            "=================================================================\n",
            "Total params: 597,009\n",
            "Trainable params: 597,009\n",
            "Non-trainable params: 0\n",
            "_________________________________________________________________\n"
          ],
          "name": "stdout"
        }
      ]
    },
    {
      "cell_type": "code",
      "metadata": {
        "id": "t8w6XCa5ri2r",
        "colab_type": "code",
        "colab": {}
      },
      "source": [
        "model.compile(loss='sparse_categorical_crossentropy',\n",
        "             optimizer='adam',\n",
        "             metrics=['accuracy'])\n"
      ],
      "execution_count": 0,
      "outputs": []
    },
    {
      "cell_type": "code",
      "metadata": {
        "id": "S_IJv0jMr1IH",
        "colab_type": "code",
        "colab": {
          "base_uri": "https://localhost:8080/",
          "height": 358
        },
        "outputId": "458b0d48-6824-4d9e-e752-c67f5f44be5d"
      },
      "source": [
        "history = model.fit(X_train, y_train, epochs=10, batch_size=320,\n",
        "         validation_split=0.1,class_weight=weight)"
      ],
      "execution_count": 36,
      "outputs": [
        {
          "output_type": "stream",
          "text": [
            "Train on 69087 samples, validate on 7677 samples\n",
            "Epoch 1/10\n",
            "69087/69087 [==============================] - 6s 89us/sample - loss: 0.0068 - acc: 0.9977 - val_loss: 0.0521 - val_acc: 0.9866\n",
            "Epoch 2/10\n",
            "69087/69087 [==============================] - 7s 96us/sample - loss: 0.0088 - acc: 0.9973 - val_loss: 0.0563 - val_acc: 0.9861\n",
            "Epoch 3/10\n",
            "69087/69087 [==============================] - 7s 98us/sample - loss: 0.0059 - acc: 0.9979 - val_loss: 0.0505 - val_acc: 0.9891\n",
            "Epoch 4/10\n",
            "69087/69087 [==============================] - 7s 95us/sample - loss: 0.0069 - acc: 0.9976 - val_loss: 0.0526 - val_acc: 0.9879\n",
            "Epoch 5/10\n",
            "69087/69087 [==============================] - 7s 95us/sample - loss: 0.0040 - acc: 0.9988 - val_loss: 0.0554 - val_acc: 0.9870\n",
            "Epoch 6/10\n",
            "69087/69087 [==============================] - 7s 95us/sample - loss: 0.0036 - acc: 0.9989 - val_loss: 0.0595 - val_acc: 0.9880\n",
            "Epoch 7/10\n",
            "69087/69087 [==============================] - 7s 97us/sample - loss: 0.0053 - acc: 0.9983 - val_loss: 0.0586 - val_acc: 0.9878\n",
            "Epoch 8/10\n",
            "69087/69087 [==============================] - 7s 96us/sample - loss: 0.0066 - acc: 0.9980 - val_loss: 0.0582 - val_acc: 0.9884\n",
            "Epoch 9/10\n",
            "69087/69087 [==============================] - 7s 96us/sample - loss: 0.0053 - acc: 0.9982 - val_loss: 0.0645 - val_acc: 0.9865\n",
            "Epoch 10/10\n",
            "69087/69087 [==============================] - 7s 97us/sample - loss: 0.0063 - acc: 0.9979 - val_loss: 0.0502 - val_acc: 0.9897\n"
          ],
          "name": "stdout"
        }
      ]
    },
    {
      "cell_type": "code",
      "metadata": {
        "id": "Jhh6T83lvHvC",
        "colab_type": "code",
        "colab": {
          "base_uri": "https://localhost:8080/",
          "height": 345
        },
        "outputId": "17114bbe-a0f5-4976-d1e1-330c5e594a9d"
      },
      "source": [
        "pd.DataFrame(history.history).plot(figsize=(8,5))\n",
        "plt.grid(True)\n",
        "plt.gca().set_ylim(0,1)"
      ],
      "execution_count": 37,
      "outputs": [
        {
          "output_type": "execute_result",
          "data": {
            "text/plain": [
              "(0, 1)"
            ]
          },
          "metadata": {
            "tags": []
          },
          "execution_count": 37
        },
        {
          "output_type": "display_data",
          "data": {
            "image/png": "[encoded data removed]",
            "text/plain": [
              "<Figure size 576x360 with 1 Axes>"
            ]
          },
          "metadata": {
            "tags": []
          }
        }
      ]
    },
    {
      "cell_type": "markdown",
      "metadata": {
        "id": "TaB658fov5cQ",
        "colab_type": "text"
      },
      "source": [
        "#Accuracy of 20 Neurons is :  0.9882"
      ]
    },
    {
      "cell_type": "code",
      "metadata": {
        "id": "OUHLfjXYv0zi",
        "colab_type": "code",
        "colab": {
          "base_uri": "https://localhost:8080/",
          "height": 50
        },
        "outputId": "7e0b77b9-2771-461b-b950-3e0bcbd2a6fa"
      },
      "source": [
        "model.evaluate(X_test,y_test)"
      ],
      "execution_count": 41,
      "outputs": [
        {
          "output_type": "stream",
          "text": [
            "25588/25588 [==============================] - 2s 71us/sample - loss: 0.0590 - acc: 0.9882\n"
          ],
          "name": "stdout"
        },
        {
          "output_type": "execute_result",
          "data": {
            "text/plain": [
              "[0.05897025910779973, 0.9881585]"
            ]
          },
          "metadata": {
            "tags": []
          },
          "execution_count": 41
        }
      ]
    },
    {
      "cell_type": "markdown",
      "metadata": {
        "id": "kBJxFdMJumzw",
        "colab_type": "text"
      },
      "source": [
        "#second model with 15 neurons in neck"
      ]
    },
    {
      "cell_type": "code",
      "metadata": {
        "id": "6G5SZWtDs9dZ",
        "colab_type": "code",
        "colab": {
          "base_uri": "https://localhost:8080/",
          "height": 391
        },
        "outputId": "6a4b10f1-eb08-4fd7-d3d9-3f7e642e64f3"
      },
      "source": [
        "model2 = keras.models.Sequential()\n",
        "model2.add(keras.layers.Flatten(input_shape=(32,32)))\n",
        "model2.add(keras.layers.Dense(512, activation='relu'))\n",
        "model2.add(keras.layers.Dense(128, activation='relu'))\n",
        "model2.add(keras.layers.Dense(32, activation='relu'))\n",
        "model2.add(keras.layers.Dense(15, activation='relu'))   # Neck\n",
        "model2.add(keras.layers.Dense(32, activation='relu'))\n",
        "model2.add(keras.layers.Dense(25, activation='relu'))\n",
        "model2.add(keras.layers.Dense(10, activation='softmax'))\n",
        "model2.summary()"
      ],
      "execution_count": 46,
      "outputs": [
        {
          "output_type": "stream",
          "text": [
            "_________________________________________________________________\n",
            "Layer (type)                 Output Shape              Param #   \n",
            "=================================================================\n",
            "flatten_6 (Flatten)          (None, 1024)              0         \n",
            "_________________________________________________________________\n",
            "dense_42 (Dense)             (None, 512)               524800    \n",
            "_________________________________________________________________\n",
            "dense_43 (Dense)             (None, 128)               65664     \n",
            "_________________________________________________________________\n",
            "dense_44 (Dense)             (None, 32)                4128      \n",
            "_________________________________________________________________\n",
            "dense_45 (Dense)             (None, 15)                495       \n",
            "_________________________________________________________________\n",
            "dense_46 (Dense)             (None, 32)                512       \n",
            "_________________________________________________________________\n",
            "dense_47 (Dense)             (None, 25)                825       \n",
            "_________________________________________________________________\n",
            "dense_48 (Dense)             (None, 10)                260       \n",
            "=================================================================\n",
            "Total params: 596,684\n",
            "Trainable params: 596,684\n",
            "Non-trainable params: 0\n",
            "_________________________________________________________________\n"
          ],
          "name": "stdout"
        }
      ]
    },
    {
      "cell_type": "code",
      "metadata": {
        "id": "M_mpAfTnvOot",
        "colab_type": "code",
        "colab": {
          "base_uri": "https://localhost:8080/",
          "height": 686
        },
        "outputId": "0e19fd67-7d67-4add-be76-a769a5f7ccbc"
      },
      "source": [
        "model2.compile(loss='sparse_categorical_crossentropy',\n",
        "             optimizer='adam',\n",
        "             metrics=['accuracy'])\n",
        "\n",
        "\n",
        "history2 = model2.fit(X_train, y_train, epochs=10, batch_size=320,\n",
        "         validation_split=0.1,class_weight=weight)\n",
        "\n",
        "pd.DataFrame(history2.history).plot(figsize=(8,5))\n",
        "plt.grid(True)\n",
        "plt.gca().set_ylim(0,1)"
      ],
      "execution_count": 47,
      "outputs": [
        {
          "output_type": "stream",
          "text": [
            "Train on 69087 samples, validate on 7677 samples\n",
            "Epoch 1/10\n",
            "69087/69087 [==============================] - 7s 106us/sample - loss: 0.3604 - acc: 0.8938 - val_loss: 0.1097 - val_acc: 0.9708\n",
            "Epoch 2/10\n",
            "69087/69087 [==============================] - 7s 94us/sample - loss: 0.0778 - acc: 0.9780 - val_loss: 0.0876 - val_acc: 0.9764\n",
            "Epoch 3/10\n",
            "69087/69087 [==============================] - 7s 94us/sample - loss: 0.0458 - acc: 0.9863 - val_loss: 0.0625 - val_acc: 0.9836\n",
            "Epoch 4/10\n",
            "69087/69087 [==============================] - 7s 95us/sample - loss: 0.0302 - acc: 0.9906 - val_loss: 0.0512 - val_acc: 0.9859\n",
            "Epoch 5/10\n",
            "69087/69087 [==============================] - 6s 92us/sample - loss: 0.0200 - acc: 0.9936 - val_loss: 0.0617 - val_acc: 0.9825\n",
            "Epoch 6/10\n",
            "69087/69087 [==============================] - 7s 95us/sample - loss: 0.0159 - acc: 0.9950 - val_loss: 0.0762 - val_acc: 0.9827\n",
            "Epoch 7/10\n",
            "69087/69087 [==============================] - 7s 97us/sample - loss: 0.0137 - acc: 0.9954 - val_loss: 0.0544 - val_acc: 0.9865\n",
            "Epoch 8/10\n",
            "69087/69087 [==============================] - 6s 94us/sample - loss: 0.0104 - acc: 0.9966 - val_loss: 0.0650 - val_acc: 0.9841\n",
            "Epoch 9/10\n",
            "69087/69087 [==============================] - 7s 94us/sample - loss: 0.0094 - acc: 0.9967 - val_loss: 0.0559 - val_acc: 0.9862\n",
            "Epoch 10/10\n",
            "69087/69087 [==============================] - 6s 94us/sample - loss: 0.0058 - acc: 0.9980 - val_loss: 0.0729 - val_acc: 0.9840\n"
          ],
          "name": "stdout"
        },
        {
          "output_type": "execute_result",
          "data": {
            "text/plain": [
              "(0, 1)"
            ]
          },
          "metadata": {
            "tags": []
          },
          "execution_count": 47
        },
        {
          "output_type": "display_data",
          "data": {
            "image/png": "[encoded data removed]",
            "text/plain": [
              "<Figure size 576x360 with 1 Axes>"
            ]
          },
          "metadata": {
            "tags": []
          }
        }
      ]
    },
    {
      "cell_type": "markdown",
      "metadata": {
        "id": "lv3dRM9bvfy9",
        "colab_type": "text"
      },
      "source": [
        "##Accuracy of 15vNeurons is :  0.9878"
      ]
    },
    {
      "cell_type": "code",
      "metadata": {
        "id": "EgNxVBJGwFZY",
        "colab_type": "code",
        "colab": {
          "base_uri": "https://localhost:8080/",
          "height": 50
        },
        "outputId": "aa89bf39-f320-4f5e-ae1c-7c49c816c536"
      },
      "source": [
        "model2.evaluate(X_test,y_test)"
      ],
      "execution_count": 44,
      "outputs": [
        {
          "output_type": "stream",
          "text": [
            "25588/25588 [==============================] - 2s 82us/sample - loss: 0.0560 - acc: 0.9878\n"
          ],
          "name": "stdout"
        },
        {
          "output_type": "execute_result",
          "data": {
            "text/plain": [
              "[0.05600075148129998, 0.98784584]"
            ]
          },
          "metadata": {
            "tags": []
          },
          "execution_count": 44
        }
      ]
    },
    {
      "cell_type": "markdown",
      "metadata": {
        "id": "60Xtwwtxvj5C",
        "colab_type": "text"
      },
      "source": [
        "#third model with 13 neurons in neck"
      ]
    },
    {
      "cell_type": "code",
      "metadata": {
        "id": "vQgkHrpuvn_P",
        "colab_type": "code",
        "colab": {
          "base_uri": "https://localhost:8080/",
          "height": 1060
        },
        "outputId": "3c21c710-141c-4362-d58d-1db59016e665"
      },
      "source": [
        "model3 = keras.models.Sequential()\n",
        "model3.add(keras.layers.Flatten(input_shape=(32,32)))\n",
        "model3.add(keras.layers.Dense(512, activation='relu'))\n",
        "model3.add(keras.layers.Dense(128, activation='relu'))\n",
        "model3.add(keras.layers.Dense(32, activation='relu'))\n",
        "model3.add(keras.layers.Dense(13, activation='relu'))   # Neck\n",
        "model3.add(keras.layers.Dense(32, activation='relu'))\n",
        "model3.add(keras.layers.Dense(25, activation='relu'))\n",
        "model3.add(keras.layers.Dense(10, activation='softmax'))\n",
        "model3.summary()\n",
        "\n",
        "\n",
        "model3.compile(loss='sparse_categorical_crossentropy',\n",
        "             optimizer='adam',\n",
        "             metrics=['accuracy'])\n",
        "\n",
        "\n",
        "history3 = model3.fit(X_train, y_train, epochs=10, batch_size=320,\n",
        "         validation_split=0.1,class_weight=weight)\n",
        "\n",
        "pd.DataFrame(history3.history).plot(figsize=(8,5))\n",
        "plt.grid(True)\n",
        "plt.gca().set_ylim(0,1)"
      ],
      "execution_count": 48,
      "outputs": [
        {
          "output_type": "stream",
          "text": [
            "_________________________________________________________________\n",
            "Layer (type)                 Output Shape              Param #   \n",
            "=================================================================\n",
            "flatten_7 (Flatten)          (None, 1024)              0         \n",
            "_________________________________________________________________\n",
            "dense_49 (Dense)             (None, 512)               524800    \n",
            "_________________________________________________________________\n",
            "dense_50 (Dense)             (None, 128)               65664     \n",
            "_________________________________________________________________\n",
            "dense_51 (Dense)             (None, 32)                4128      \n",
            "_________________________________________________________________\n",
            "dense_52 (Dense)             (None, 13)                429       \n",
            "_________________________________________________________________\n",
            "dense_53 (Dense)             (None, 32)                448       \n",
            "_________________________________________________________________\n",
            "dense_54 (Dense)             (None, 25)                825       \n",
            "_________________________________________________________________\n",
            "dense_55 (Dense)             (None, 10)                260       \n",
            "=================================================================\n",
            "Total params: 596,554\n",
            "Trainable params: 596,554\n",
            "Non-trainable params: 0\n",
            "_________________________________________________________________\n",
            "Train on 69087 samples, validate on 7677 samples\n",
            "Epoch 1/10\n",
            "69087/69087 [==============================] - 7s 101us/sample - loss: 0.3101 - acc: 0.9065 - val_loss: 0.1053 - val_acc: 0.9703\n",
            "Epoch 2/10\n",
            "69087/69087 [==============================] - 6s 90us/sample - loss: 0.0711 - acc: 0.9788 - val_loss: 0.0651 - val_acc: 0.9798\n",
            "Epoch 3/10\n",
            "69087/69087 [==============================] - 6s 92us/sample - loss: 0.0427 - acc: 0.9867 - val_loss: 0.0608 - val_acc: 0.9822\n",
            "Epoch 4/10\n",
            "69087/69087 [==============================] - 6s 91us/sample - loss: 0.0292 - acc: 0.9908 - val_loss: 0.0439 - val_acc: 0.9863\n",
            "Epoch 5/10\n",
            "69087/69087 [==============================] - 6s 91us/sample - loss: 0.0202 - acc: 0.9935 - val_loss: 0.0466 - val_acc: 0.9853\n",
            "Epoch 6/10\n",
            "69087/69087 [==============================] - 7s 95us/sample - loss: 0.0134 - acc: 0.9957 - val_loss: 0.0437 - val_acc: 0.9874\n",
            "Epoch 7/10\n",
            "69087/69087 [==============================] - 7s 97us/sample - loss: 0.0105 - acc: 0.9966 - val_loss: 0.0508 - val_acc: 0.9849\n",
            "Epoch 8/10\n",
            "69087/69087 [==============================] - 7s 95us/sample - loss: 0.0104 - acc: 0.9966 - val_loss: 0.0755 - val_acc: 0.9807\n",
            "Epoch 9/10\n",
            "69087/69087 [==============================] - 7s 95us/sample - loss: 0.0141 - acc: 0.9953 - val_loss: 0.0451 - val_acc: 0.9870\n",
            "Epoch 10/10\n",
            "69087/69087 [==============================] - 7s 95us/sample - loss: 0.0057 - acc: 0.9982 - val_loss: 0.0571 - val_acc: 0.9870\n"
          ],
          "name": "stdout"
        },
        {
          "output_type": "execute_result",
          "data": {
            "text/plain": [
              "(0, 1)"
            ]
          },
          "metadata": {
            "tags": []
          },
          "execution_count": 48
        },
        {
          "output_type": "display_data",
          "data": {
            "image/png": "[encoded data removed]",
            "text/plain": [
              "<Figure size 576x360 with 1 Axes>"
            ]
          },
          "metadata": {
            "tags": []
          }
        }
      ]
    },
    {
      "cell_type": "markdown",
      "metadata": {
        "id": "UB--pG2twt0Q",
        "colab_type": "text"
      },
      "source": [
        "#Accuracy of 13 Neurons is :  0.9860"
      ]
    },
    {
      "cell_type": "code",
      "metadata": {
        "id": "GMoDqKhhwyY1",
        "colab_type": "code",
        "colab": {
          "base_uri": "https://localhost:8080/",
          "height": 50
        },
        "outputId": "57394b70-4e92-407e-a3df-0c09d89b2468"
      },
      "source": [
        "model3.evaluate(X_test,y_test)"
      ],
      "execution_count": 50,
      "outputs": [
        {
          "output_type": "stream",
          "text": [
            "25588/25588 [==============================] - 2s 83us/sample - loss: 0.0621 - acc: 0.9860\n"
          ],
          "name": "stdout"
        },
        {
          "output_type": "execute_result",
          "data": {
            "text/plain": [
              "[0.06210570785057106, 0.98604816]"
            ]
          },
          "metadata": {
            "tags": []
          },
          "execution_count": 50
        }
      ]
    },
    {
      "cell_type": "markdown",
      "metadata": {
        "id": "SqAZgxXqwidL",
        "colab_type": "text"
      },
      "source": [
        "#fourth model with 10 neurons in neck"
      ]
    },
    {
      "cell_type": "code",
      "metadata": {
        "id": "6HpXduXzw374",
        "colab_type": "code",
        "colab": {
          "base_uri": "https://localhost:8080/",
          "height": 1060
        },
        "outputId": "80a648a9-afd4-48de-87ef-3d8452027f28"
      },
      "source": [
        "model4 = keras.models.Sequential()\n",
        "model4.add(keras.layers.Flatten(input_shape=(32,32)))\n",
        "model4.add(keras.layers.Dense(512, activation='relu'))\n",
        "model4.add(keras.layers.Dense(128, activation='relu'))\n",
        "model4.add(keras.layers.Dense(32, activation='relu'))\n",
        "model4.add(keras.layers.Dense(10, activation='relu'))   # Neck\n",
        "model4.add(keras.layers.Dense(32, activation='relu'))\n",
        "model4.add(keras.layers.Dense(25, activation='relu'))\n",
        "model4.add(keras.layers.Dense(10, activation='softmax'))\n",
        "model4.summary()\n",
        "\n",
        "\n",
        "model4.compile(loss='sparse_categorical_crossentropy',\n",
        "             optimizer='adam',\n",
        "             metrics=['accuracy'])\n",
        "\n",
        "\n",
        "history4 = model4.fit(X_train, y_train, epochs=10, batch_size=320,\n",
        "         validation_split=0.1,class_weight=weight)\n",
        "\n",
        "pd.DataFrame(history4.history).plot(figsize=(8,5))\n",
        "plt.grid(True)\n",
        "plt.gca().set_ylim(0,1)"
      ],
      "execution_count": 51,
      "outputs": [
        {
          "output_type": "stream",
          "text": [
            "_________________________________________________________________\n",
            "Layer (type)                 Output Shape              Param #   \n",
            "=================================================================\n",
            "flatten_8 (Flatten)          (None, 1024)              0         \n",
            "_________________________________________________________________\n",
            "dense_56 (Dense)             (None, 512)               524800    \n",
            "_________________________________________________________________\n",
            "dense_57 (Dense)             (None, 128)               65664     \n",
            "_________________________________________________________________\n",
            "dense_58 (Dense)             (None, 32)                4128      \n",
            "_________________________________________________________________\n",
            "dense_59 (Dense)             (None, 10)                330       \n",
            "_________________________________________________________________\n",
            "dense_60 (Dense)             (None, 32)                352       \n",
            "_________________________________________________________________\n",
            "dense_61 (Dense)             (None, 25)                825       \n",
            "_________________________________________________________________\n",
            "dense_62 (Dense)             (None, 10)                260       \n",
            "=================================================================\n",
            "Total params: 596,359\n",
            "Trainable params: 596,359\n",
            "Non-trainable params: 0\n",
            "_________________________________________________________________\n",
            "Train on 69087 samples, validate on 7677 samples\n",
            "Epoch 1/10\n",
            "69087/69087 [==============================] - 7s 102us/sample - loss: 0.3846 - acc: 0.8712 - val_loss: 0.1112 - val_acc: 0.9694\n",
            "Epoch 2/10\n",
            "69087/69087 [==============================] - 6s 93us/sample - loss: 0.0777 - acc: 0.9776 - val_loss: 0.0776 - val_acc: 0.9772\n",
            "Epoch 3/10\n",
            "69087/69087 [==============================] - 6s 92us/sample - loss: 0.0463 - acc: 0.9862 - val_loss: 0.0568 - val_acc: 0.9824\n",
            "Epoch 4/10\n",
            "69087/69087 [==============================] - 7s 95us/sample - loss: 0.0295 - acc: 0.9912 - val_loss: 0.0561 - val_acc: 0.9842\n",
            "Epoch 5/10\n",
            "69087/69087 [==============================] - 7s 95us/sample - loss: 0.0224 - acc: 0.9931 - val_loss: 0.0549 - val_acc: 0.9849\n",
            "Epoch 6/10\n",
            "69087/69087 [==============================] - 6s 93us/sample - loss: 0.0157 - acc: 0.9951 - val_loss: 0.0583 - val_acc: 0.9844\n",
            "Epoch 7/10\n",
            "69087/69087 [==============================] - 6s 94us/sample - loss: 0.0132 - acc: 0.9958 - val_loss: 0.0625 - val_acc: 0.9833\n",
            "Epoch 8/10\n",
            "69087/69087 [==============================] - 6s 92us/sample - loss: 0.0109 - acc: 0.9962 - val_loss: 0.0635 - val_acc: 0.9850\n",
            "Epoch 9/10\n",
            "69087/69087 [==============================] - 6s 91us/sample - loss: 0.0101 - acc: 0.9967 - val_loss: 0.0626 - val_acc: 0.9848\n",
            "Epoch 10/10\n",
            "69087/69087 [==============================] - 6s 89us/sample - loss: 0.0076 - acc: 0.9975 - val_loss: 0.0528 - val_acc: 0.9875\n"
          ],
          "name": "stdout"
        },
        {
          "output_type": "execute_result",
          "data": {
            "text/plain": [
              "(0, 1)"
            ]
          },
          "metadata": {
            "tags": []
          },
          "execution_count": 51
        },
        {
          "output_type": "display_data",
          "data": {
            "image/png": "[encoded data removed]",
            "text/plain": [
              "<Figure size 576x360 with 1 Axes>"
            ]
          },
          "metadata": {
            "tags": []
          }
        }
      ]
    },
    {
      "cell_type": "markdown",
      "metadata": {
        "id": "guMYRtm0xa_d",
        "colab_type": "text"
      },
      "source": [
        "#Accuracy of 10 Neurons is :  0.9873"
      ]
    },
    {
      "cell_type": "code",
      "metadata": {
        "id": "1wlEWbSOxeFo",
        "colab_type": "code",
        "colab": {
          "base_uri": "https://localhost:8080/",
          "height": 50
        },
        "outputId": "34f60a7f-a581-4d0a-e430-b3cb223979e2"
      },
      "source": [
        "model4.evaluate(X_test,y_test)"
      ],
      "execution_count": 52,
      "outputs": [
        {
          "output_type": "stream",
          "text": [
            "25588/25588 [==============================] - 2s 95us/sample - loss: 0.0614 - acc: 0.9873\n"
          ],
          "name": "stdout"
        },
        {
          "output_type": "execute_result",
          "data": {
            "text/plain": [
              "[0.06137550164081631, 0.9872596]"
            ]
          },
          "metadata": {
            "tags": []
          },
          "execution_count": 52
        }
      ]
    },
    {
      "cell_type": "code",
      "metadata": {
        "id": "Vxgc_9d0xeyz",
        "colab_type": "code",
        "colab": {}
      },
      "source": [
        ""
      ],
      "execution_count": 0,
      "outputs": []
    }
  ]
}