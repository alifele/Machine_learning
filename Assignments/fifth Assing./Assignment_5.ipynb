{
  "nbformat": 4,
  "nbformat_minor": 0,
  "metadata": {
    "colab": {
      "name": "Assignment_5.ipynb",
      "version": "0.3.2",
      "provenance": [],
      "include_colab_link": true
    },
    "kernelspec": {
      "name": "python3",
      "display_name": "Python 3"
    }
  },
  "cells": [
    {
      "cell_type": "markdown",
      "metadata": {
        "id": "view-in-github",
        "colab_type": "text"
      },
      "source": [
        "<a href=\"https://colab.research.google.com/github/alifele/Machine_learning/blob/master/Assignments/fifth%20Assing./Assignment_5.ipynb\" target=\"_parent\"><img src=\"https://colab.research.google.com/assets/colab-badge.svg\" alt=\"Open In Colab\"/></a>"
      ]
    },
    {
      "cell_type": "markdown",
      "metadata": {
        "id": "Qy_kZWDfm298",
        "colab_type": "text"
      },
      "source": [
        "#Feature Reduction Using Neural Networks\n",
        "I am going to use the neural network for feature reduction. As you can see in the picture I will decrease the number of neurons in the middle layer and then increse it to the 10 neurons(Since we have 10 classes). The neural network with thinest neck and highest accuracy in classifing data will be the best feature reductor.\n",
        "\n",
        "\n",
        "![alt text](https://raw.githubusercontent.com/alifele/Machine_learning/master/Assignments/fifth%20Assing./Untitled.png)"
      ]
    },
    {
      "cell_type": "markdown",
      "metadata": {
        "id": "vR6AVED5pkpx",
        "colab_type": "text"
      },
      "source": [
        "#Important Imports"
      ]
    },
    {
      "cell_type": "code",
      "metadata": {
        "id": "kzKHwZb6m2mk",
        "colab_type": "code",
        "colab": {}
      },
      "source": [
        "from tensorflow import keras\n",
        "import matplotlib.pyplot as plt\n",
        "import numpy as np\n",
        "import pandas as pd\n",
        "import requests, io\n",
        "from sklearn.preprocessing import scale\n",
        "import requests\n",
        "from sklearn.metrics import confusion_matrix\n",
        "from sklearn.metrics import classification_report\n",
        "\n",
        "'''Set the defaults for your plots.'''\n",
        "# plt.rcParams.update({'font.size': 20, 'figsize':(8,6)})\n",
        "SMALL_SIZE = 12\n",
        "MEDIUM_SIZE = 15\n",
        "BIGGER_SIZE = 18\n",
        "\n",
        "plt.rc('font', size=BIGGER_SIZE)          # controls default text sizes\n",
        "plt.rc('axes', titlesize=MEDIUM_SIZE)     # fontsize of the axes title\n",
        "plt.rc('axes', labelsize=BIGGER_SIZE)    # fontsize of the x and y labels\n",
        "plt.rc('xtick', labelsize=SMALL_SIZE)    # fontsize of the tick labels\n",
        "plt.rc('ytick', labelsize=SMALL_SIZE)    # fontsize of the tick labels\n",
        "plt.rc('legend', fontsize=MEDIUM_SIZE)    # legend fontsize\n",
        "plt.rc('figure', titlesize=BIGGER_SIZE)  # fontsize of the figure title\n",
        "\n",
        "plt.rc('axes', linewidth = 5 )\n",
        "plt.rc('lines', linewidth = 5 )\n",
        "\n",
        "plt.rc('lines', markersize = 5 )\n",
        "\n",
        "plt.rc('figure', figsize=(8,4) )         #"
      ],
      "execution_count": 0,
      "outputs": []
    },
    {
      "cell_type": "markdown",
      "metadata": {
        "id": "R5dHtQF2pN-a",
        "colab_type": "text"
      },
      "source": [
        "#Loading Data"
      ]
    },
    {
      "cell_type": "code",
      "metadata": {
        "id": "VOWrdko6pNtq",
        "colab_type": "code",
        "colab": {}
      },
      "source": [
        "url = 'https://github.com/alifele/Machine_learning/raw/master/Assignments/fourth%20Assing./X.npz'\n",
        "s=requests.get(url, stream=True).content\n",
        "data_X=np.load(io.BytesIO(s) )\n",
        "url = 'https://github.com/alifele/Machine_learning/raw/master/Assignments/fourth%20Assing./Y.npz'\n",
        "s=requests.get(url, stream=True).content\n",
        "data_Y = np.load(io.BytesIO(s))"
      ],
      "execution_count": 0,
      "outputs": []
    },
    {
      "cell_type": "code",
      "metadata": {
        "id": "wY0eSz-jmnUe",
        "colab_type": "code",
        "outputId": "7feabf04-c2d9-4c90-d592-4ca2f7504a83",
        "colab": {
          "base_uri": "https://localhost:8080/",
          "height": 321
        }
      },
      "source": [
        "X = data_X['arr_0'].reshape(-1,32*32)\n",
        "# X = scale(X)    scaling data destroyes them. TRY it!!!\n",
        "X_pic = X.reshape(-1,32,32)\n",
        "Y = data_Y['arr_0']\n",
        "\n",
        "plt.imshow(X_pic[12])\n",
        "plt.title(Y[12])\n",
        "print('the shape of X is {}: '.format(X.shape))\n",
        "print('the shape of Y is {}: '.format(Y.shape))"
      ],
      "execution_count": 3,
      "outputs": [
        {
          "output_type": "stream",
          "text": [
            "the shape of X is (102352, 1024): \n",
            "the shape of Y is (102352,): \n"
          ],
          "name": "stdout"
        },
        {
          "output_type": "display_data",
          "data": {
            "image/png": "[encoded data removed]",
            "text/plain": [
              "<Figure size 576x288 with 1 Axes>"
            ]
          },
          "metadata": {
            "tags": []
          }
        }
      ]
    },
    {
      "cell_type": "code",
      "metadata": {
        "id": "SxnAwYg2p70R",
        "colab_type": "code",
        "colab": {}
      },
      "source": [
        "from sklearn.model_selection import train_test_split\n",
        "\n",
        "X_train, X_test, y_train, y_test =  train_test_split(X_pic,Y)"
      ],
      "execution_count": 0,
      "outputs": []
    },
    {
      "cell_type": "markdown",
      "metadata": {
        "id": "q1qv56LcsPcq",
        "colab_type": "text"
      },
      "source": [
        "#Calculating the weights of classes"
      ]
    },
    {
      "cell_type": "code",
      "metadata": {
        "id": "RxUO04MosTYI",
        "colab_type": "code",
        "colab": {}
      },
      "source": [
        "from sklearn.utils import class_weight\n",
        "weight = class_weight.compute_class_weight('balanced',\n",
        "                                          np.unique(y_train),\n",
        "                                          y_train)\n"
      ],
      "execution_count": 0,
      "outputs": []
    },
    {
      "cell_type": "markdown",
      "metadata": {
        "id": "3YfTyYS5qfjP",
        "colab_type": "text"
      },
      "source": [
        "#Designing Network"
      ]
    },
    {
      "cell_type": "markdown",
      "metadata": {
        "id": "5q0MmXYPuaVL",
        "colab_type": "text"
      },
      "source": [
        "#First model with 20 neurons in neck"
      ]
    },
    {
      "cell_type": "code",
      "metadata": {
        "id": "7dOwr9Luqa9R",
        "colab_type": "code",
        "outputId": "0a78cf9a-22ff-4333-ba1a-b708e3e8aea3",
        "colab": {
          "base_uri": "https://localhost:8080/",
          "height": 498
        }
      },
      "source": [
        "model = keras.models.Sequential()\n",
        "model.add(keras.layers.Flatten(input_shape=(32,32)))\n",
        "model.add(keras.layers.Dense(512, activation='relu'))\n",
        "model.add(keras.layers.Dense(128, activation='relu'))\n",
        "model.add(keras.layers.Dense(32, activation='relu'))\n",
        "model.add(keras.layers.Dense(20, activation='relu'))   # Neck\n",
        "model.add(keras.layers.Dense(32, activation='relu'))\n",
        "model.add(keras.layers.Dense(25, activation='relu'))\n",
        "model.add(keras.layers.Dense(10, activation='softmax'))\n",
        "model.summary()"
      ],
      "execution_count": 6,
      "outputs": [
        {
          "output_type": "stream",
          "text": [
            "WARNING:tensorflow:From /usr/local/lib/python3.6/dist-packages/tensorflow/python/ops/resource_variable_ops.py:435: colocate_with (from tensorflow.python.framework.ops) is deprecated and will be removed in a future version.\n",
            "Instructions for updating:\n",
            "Colocations handled automatically by placer.\n",
            "_________________________________________________________________\n",
            "Layer (type)                 Output Shape              Param #   \n",
            "=================================================================\n",
            "flatten (Flatten)            (None, 1024)              0         \n",
            "_________________________________________________________________\n",
            "dense (Dense)                (None, 512)               524800    \n",
            "_________________________________________________________________\n",
            "dense_1 (Dense)              (None, 128)               65664     \n",
            "_________________________________________________________________\n",
            "dense_2 (Dense)              (None, 32)                4128      \n",
            "_________________________________________________________________\n",
            "dense_3 (Dense)              (None, 20)                660       \n",
            "_________________________________________________________________\n",
            "dense_4 (Dense)              (None, 32)                672       \n",
            "_________________________________________________________________\n",
            "dense_5 (Dense)              (None, 25)                825       \n",
            "_________________________________________________________________\n",
            "dense_6 (Dense)              (None, 10)                260       \n",
            "=================================================================\n",
            "Total params: 597,009\n",
            "Trainable params: 597,009\n",
            "Non-trainable params: 0\n",
            "_________________________________________________________________\n"
          ],
          "name": "stdout"
        }
      ]
    },
    {
      "cell_type": "code",
      "metadata": {
        "id": "t8w6XCa5ri2r",
        "colab_type": "code",
        "colab": {}
      },
      "source": [
        "model.compile(loss='sparse_categorical_crossentropy',\n",
        "             optimizer='adam',\n",
        "             metrics=['accuracy'])\n"
      ],
      "execution_count": 0,
      "outputs": []
    },
    {
      "cell_type": "code",
      "metadata": {
        "id": "S_IJv0jMr1IH",
        "colab_type": "code",
        "outputId": "a618b960-1f39-4a92-b318-c9997122d61d",
        "colab": {
          "base_uri": "https://localhost:8080/",
          "height": 390
        }
      },
      "source": [
        "history = model.fit(X_train, y_train, epochs=10, batch_size=320,\n",
        "         validation_split=0.1,class_weight=weight)"
      ],
      "execution_count": 8,
      "outputs": [
        {
          "output_type": "stream",
          "text": [
            "Train on 69087 samples, validate on 7677 samples\n",
            "Epoch 1/10\n",
            "69087/69087 [==============================] - 7s 94us/sample - loss: 0.3283 - acc: 0.8965 - val_loss: 0.0985 - val_acc: 0.9706\n",
            "Epoch 2/10\n",
            "69087/69087 [==============================] - 6s 86us/sample - loss: 0.0698 - acc: 0.9793 - val_loss: 0.0881 - val_acc: 0.9719\n",
            "Epoch 3/10\n",
            "69087/69087 [==============================] - 6s 86us/sample - loss: 0.0436 - acc: 0.9868 - val_loss: 0.0558 - val_acc: 0.9824\n",
            "Epoch 4/10\n",
            "69087/69087 [==============================] - 6s 86us/sample - loss: 0.0285 - acc: 0.9914 - val_loss: 0.0557 - val_acc: 0.9838\n",
            "Epoch 5/10\n",
            "69087/69087 [==============================] - 6s 86us/sample - loss: 0.0215 - acc: 0.9931 - val_loss: 0.0543 - val_acc: 0.9850\n",
            "Epoch 6/10\n",
            "69087/69087 [==============================] - 6s 85us/sample - loss: 0.0143 - acc: 0.9956 - val_loss: 0.0518 - val_acc: 0.9865\n",
            "Epoch 7/10\n",
            "69087/69087 [==============================] - 6s 85us/sample - loss: 0.0130 - acc: 0.9958 - val_loss: 0.0582 - val_acc: 0.9849\n",
            "Epoch 8/10\n",
            "69087/69087 [==============================] - 6s 86us/sample - loss: 0.0097 - acc: 0.9970 - val_loss: 0.0589 - val_acc: 0.9861\n",
            "Epoch 9/10\n",
            "69087/69087 [==============================] - 6s 86us/sample - loss: 0.0093 - acc: 0.9969 - val_loss: 0.0685 - val_acc: 0.9838\n",
            "Epoch 10/10\n",
            "69087/69087 [==============================] - 6s 86us/sample - loss: 0.0076 - acc: 0.9977 - val_loss: 0.0547 - val_acc: 0.9859\n"
          ],
          "name": "stdout"
        }
      ]
    },
    {
      "cell_type": "code",
      "metadata": {
        "id": "Jhh6T83lvHvC",
        "colab_type": "code",
        "outputId": "5f47ec69-b73d-4e74-d2a2-5eb9996ee7a8",
        "colab": {
          "base_uri": "https://localhost:8080/",
          "height": 345
        }
      },
      "source": [
        "pd.DataFrame(history.history).plot(figsize=(8,5))\n",
        "plt.grid(True)\n",
        "plt.gca().set_ylim(0,1)"
      ],
      "execution_count": 9,
      "outputs": [
        {
          "output_type": "execute_result",
          "data": {
            "text/plain": [
              "(0, 1)"
            ]
          },
          "metadata": {
            "tags": []
          },
          "execution_count": 9
        },
        {
          "output_type": "display_data",
          "data": {
            "image/png": "[encoded data removed]",
            "text/plain": [
              "<Figure size 576x360 with 1 Axes>"
            ]
          },
          "metadata": {
            "tags": []
          }
        }
      ]
    },
    {
      "cell_type": "markdown",
      "metadata": {
        "id": "TaB658fov5cQ",
        "colab_type": "text"
      },
      "source": [
        "#Accuracy of 20 Neurons is :  0.9882"
      ]
    },
    {
      "cell_type": "code",
      "metadata": {
        "id": "OUHLfjXYv0zi",
        "colab_type": "code",
        "outputId": "d083783c-392e-42f3-be14-0d47f2c56077",
        "colab": {
          "base_uri": "https://localhost:8080/",
          "height": 52
        }
      },
      "source": [
        "model.evaluate(X_test,y_test)"
      ],
      "execution_count": 10,
      "outputs": [
        {
          "output_type": "stream",
          "text": [
            "25588/25588 [==============================] - 2s 68us/sample - loss: 0.0522 - acc: 0.9874\n"
          ],
          "name": "stdout"
        },
        {
          "output_type": "execute_result",
          "data": {
            "text/plain": [
              "[0.05216265416427971, 0.98741597]"
            ]
          },
          "metadata": {
            "tags": []
          },
          "execution_count": 10
        }
      ]
    },
    {
      "cell_type": "markdown",
      "metadata": {
        "id": "kBJxFdMJumzw",
        "colab_type": "text"
      },
      "source": [
        "#second model with 15 neurons in neck"
      ]
    },
    {
      "cell_type": "code",
      "metadata": {
        "id": "6G5SZWtDs9dZ",
        "colab_type": "code",
        "outputId": "91c2b6af-6384-4d82-a4bb-569bb3f54a3e",
        "colab": {
          "base_uri": "https://localhost:8080/",
          "height": 425
        }
      },
      "source": [
        "model2 = keras.models.Sequential()\n",
        "model2.add(keras.layers.Flatten(input_shape=(32,32)))\n",
        "model2.add(keras.layers.Dense(512, activation='relu'))\n",
        "model2.add(keras.layers.Dense(128, activation='relu'))\n",
        "model2.add(keras.layers.Dense(32, activation='relu'))\n",
        "model2.add(keras.layers.Dense(15, activation='relu'))   # Neck\n",
        "model2.add(keras.layers.Dense(32, activation='relu'))\n",
        "model2.add(keras.layers.Dense(25, activation='relu'))\n",
        "model2.add(keras.layers.Dense(10, activation='softmax'))\n",
        "model2.summary()"
      ],
      "execution_count": 11,
      "outputs": [
        {
          "output_type": "stream",
          "text": [
            "_________________________________________________________________\n",
            "Layer (type)                 Output Shape              Param #   \n",
            "=================================================================\n",
            "flatten_1 (Flatten)          (None, 1024)              0         \n",
            "_________________________________________________________________\n",
            "dense_7 (Dense)              (None, 512)               524800    \n",
            "_________________________________________________________________\n",
            "dense_8 (Dense)              (None, 128)               65664     \n",
            "_________________________________________________________________\n",
            "dense_9 (Dense)              (None, 32)                4128      \n",
            "_________________________________________________________________\n",
            "dense_10 (Dense)             (None, 15)                495       \n",
            "_________________________________________________________________\n",
            "dense_11 (Dense)             (None, 32)                512       \n",
            "_________________________________________________________________\n",
            "dense_12 (Dense)             (None, 25)                825       \n",
            "_________________________________________________________________\n",
            "dense_13 (Dense)             (None, 10)                260       \n",
            "=================================================================\n",
            "Total params: 596,684\n",
            "Trainable params: 596,684\n",
            "Non-trainable params: 0\n",
            "_________________________________________________________________\n"
          ],
          "name": "stdout"
        }
      ]
    },
    {
      "cell_type": "code",
      "metadata": {
        "id": "M_mpAfTnvOot",
        "colab_type": "code",
        "outputId": "82b09d7e-de23-4975-99e3-ef2a86fb0ab2",
        "colab": {
          "base_uri": "https://localhost:8080/",
          "height": 718
        }
      },
      "source": [
        "model2.compile(loss='sparse_categorical_crossentropy',\n",
        "             optimizer='adam',\n",
        "             metrics=['accuracy'])\n",
        "\n",
        "\n",
        "history2 = model2.fit(X_train, y_train, epochs=10, batch_size=320,\n",
        "         validation_split=0.1,class_weight=weight)\n",
        "\n",
        "pd.DataFrame(history2.history).plot(figsize=(8,5))\n",
        "plt.grid(True)\n",
        "plt.gca().set_ylim(0,1)"
      ],
      "execution_count": 12,
      "outputs": [
        {
          "output_type": "stream",
          "text": [
            "Train on 69087 samples, validate on 7677 samples\n",
            "Epoch 1/10\n",
            "69087/69087 [==============================] - 6s 91us/sample - loss: 0.4220 - acc: 0.8688 - val_loss: 0.1263 - val_acc: 0.9633\n",
            "Epoch 2/10\n",
            "69087/69087 [==============================] - 6s 86us/sample - loss: 0.0811 - acc: 0.9771 - val_loss: 0.0814 - val_acc: 0.9762\n",
            "Epoch 3/10\n",
            "69087/69087 [==============================] - 6s 87us/sample - loss: 0.0499 - acc: 0.9854 - val_loss: 0.0605 - val_acc: 0.9807\n",
            "Epoch 4/10\n",
            "69087/69087 [==============================] - 6s 88us/sample - loss: 0.0329 - acc: 0.9902 - val_loss: 0.0614 - val_acc: 0.9810\n",
            "Epoch 5/10\n",
            "69087/69087 [==============================] - 6s 87us/sample - loss: 0.0237 - acc: 0.9929 - val_loss: 0.0559 - val_acc: 0.9857\n",
            "Epoch 6/10\n",
            "69087/69087 [==============================] - 6s 87us/sample - loss: 0.0197 - acc: 0.9940 - val_loss: 0.0517 - val_acc: 0.9866\n",
            "Epoch 7/10\n",
            "69087/69087 [==============================] - 6s 87us/sample - loss: 0.0137 - acc: 0.9958 - val_loss: 0.0559 - val_acc: 0.9852\n",
            "Epoch 8/10\n",
            "69087/69087 [==============================] - 6s 87us/sample - loss: 0.0102 - acc: 0.9970 - val_loss: 0.0619 - val_acc: 0.9837\n",
            "Epoch 9/10\n",
            "69087/69087 [==============================] - 6s 87us/sample - loss: 0.0097 - acc: 0.9969 - val_loss: 0.0620 - val_acc: 0.9831\n",
            "Epoch 10/10\n",
            "69087/69087 [==============================] - 6s 87us/sample - loss: 0.0099 - acc: 0.9968 - val_loss: 0.0582 - val_acc: 0.9861\n"
          ],
          "name": "stdout"
        },
        {
          "output_type": "execute_result",
          "data": {
            "text/plain": [
              "(0, 1)"
            ]
          },
          "metadata": {
            "tags": []
          },
          "execution_count": 12
        },
        {
          "output_type": "display_data",
          "data": {
            "image/png": "[encoded data removed]",
            "text/plain": [
              "<Figure size 576x360 with 1 Axes>"
            ]
          },
          "metadata": {
            "tags": []
          }
        }
      ]
    },
    {
      "cell_type": "markdown",
      "metadata": {
        "id": "lv3dRM9bvfy9",
        "colab_type": "text"
      },
      "source": [
        "##Accuracy of 15vNeurons is :  0.9878"
      ]
    },
    {
      "cell_type": "code",
      "metadata": {
        "id": "EgNxVBJGwFZY",
        "colab_type": "code",
        "outputId": "4ee3a521-e9d6-4bd3-ceab-10ad6ce74561",
        "colab": {
          "base_uri": "https://localhost:8080/",
          "height": 52
        }
      },
      "source": [
        "model2.evaluate(X_test,y_test)"
      ],
      "execution_count": 13,
      "outputs": [
        {
          "output_type": "stream",
          "text": [
            "25588/25588 [==============================] - 2s 68us/sample - loss: 0.0579 - acc: 0.9865\n"
          ],
          "name": "stdout"
        },
        {
          "output_type": "execute_result",
          "data": {
            "text/plain": [
              "[0.05788241135746642, 0.98651713]"
            ]
          },
          "metadata": {
            "tags": []
          },
          "execution_count": 13
        }
      ]
    },
    {
      "cell_type": "markdown",
      "metadata": {
        "id": "60Xtwwtxvj5C",
        "colab_type": "text"
      },
      "source": [
        "#third model with 13 neurons in neck"
      ]
    },
    {
      "cell_type": "code",
      "metadata": {
        "id": "vQgkHrpuvn_P",
        "colab_type": "code",
        "outputId": "07cecc7d-9b1b-4737-8f07-0021291cf48a",
        "colab": {
          "base_uri": "https://localhost:8080/",
          "height": 1127
        }
      },
      "source": [
        "model3 = keras.models.Sequential()\n",
        "model3.add(keras.layers.Flatten(input_shape=(32,32)))\n",
        "model3.add(keras.layers.Dense(512, activation='relu'))\n",
        "model3.add(keras.layers.Dense(128, activation='relu'))\n",
        "model3.add(keras.layers.Dense(32, activation='relu'))\n",
        "model3.add(keras.layers.Dense(13, activation='relu'))   # Neck\n",
        "model3.add(keras.layers.Dense(32, activation='relu'))\n",
        "model3.add(keras.layers.Dense(25, activation='relu'))\n",
        "model3.add(keras.layers.Dense(10, activation='softmax'))\n",
        "model3.summary()\n",
        "\n",
        "\n",
        "model3.compile(loss='sparse_categorical_crossentropy',\n",
        "             optimizer='adam',\n",
        "             metrics=['accuracy'])\n",
        "\n",
        "\n",
        "history3 = model3.fit(X_train, y_train, epochs=10, batch_size=320,\n",
        "         validation_split=0.1,class_weight=weight)\n",
        "\n",
        "pd.DataFrame(history3.history).plot(figsize=(8,5))\n",
        "plt.grid(True)\n",
        "plt.gca().set_ylim(0,1)"
      ],
      "execution_count": 14,
      "outputs": [
        {
          "output_type": "stream",
          "text": [
            "_________________________________________________________________\n",
            "Layer (type)                 Output Shape              Param #   \n",
            "=================================================================\n",
            "flatten_2 (Flatten)          (None, 1024)              0         \n",
            "_________________________________________________________________\n",
            "dense_14 (Dense)             (None, 512)               524800    \n",
            "_________________________________________________________________\n",
            "dense_15 (Dense)             (None, 128)               65664     \n",
            "_________________________________________________________________\n",
            "dense_16 (Dense)             (None, 32)                4128      \n",
            "_________________________________________________________________\n",
            "dense_17 (Dense)             (None, 13)                429       \n",
            "_________________________________________________________________\n",
            "dense_18 (Dense)             (None, 32)                448       \n",
            "_________________________________________________________________\n",
            "dense_19 (Dense)             (None, 25)                825       \n",
            "_________________________________________________________________\n",
            "dense_20 (Dense)             (None, 10)                260       \n",
            "=================================================================\n",
            "Total params: 596,554\n",
            "Trainable params: 596,554\n",
            "Non-trainable params: 0\n",
            "_________________________________________________________________\n",
            "Train on 69087 samples, validate on 7677 samples\n",
            "Epoch 1/10\n",
            "69087/69087 [==============================] - 6s 91us/sample - loss: 0.3627 - acc: 0.8825 - val_loss: 0.1187 - val_acc: 0.9677\n",
            "Epoch 2/10\n",
            "69087/69087 [==============================] - 6s 86us/sample - loss: 0.0794 - acc: 0.9782 - val_loss: 0.0749 - val_acc: 0.9772\n",
            "Epoch 3/10\n",
            "69087/69087 [==============================] - 6s 87us/sample - loss: 0.0471 - acc: 0.9864 - val_loss: 0.0616 - val_acc: 0.9814\n",
            "Epoch 4/10\n",
            "69087/69087 [==============================] - 6s 87us/sample - loss: 0.0319 - acc: 0.9906 - val_loss: 0.0608 - val_acc: 0.9823\n",
            "Epoch 5/10\n",
            "69087/69087 [==============================] - 6s 86us/sample - loss: 0.0231 - acc: 0.9930 - val_loss: 0.0539 - val_acc: 0.9833\n",
            "Epoch 6/10\n",
            "69087/69087 [==============================] - 6s 88us/sample - loss: 0.0188 - acc: 0.9944 - val_loss: 0.0589 - val_acc: 0.9835\n",
            "Epoch 7/10\n",
            "69087/69087 [==============================] - 6s 86us/sample - loss: 0.0116 - acc: 0.9966 - val_loss: 0.0530 - val_acc: 0.9854\n",
            "Epoch 8/10\n",
            "69087/69087 [==============================] - 6s 87us/sample - loss: 0.0095 - acc: 0.9969 - val_loss: 0.0774 - val_acc: 0.9825\n",
            "Epoch 9/10\n",
            "69087/69087 [==============================] - 6s 86us/sample - loss: 0.0106 - acc: 0.9965 - val_loss: 0.0642 - val_acc: 0.9846\n",
            "Epoch 10/10\n",
            "69087/69087 [==============================] - 6s 87us/sample - loss: 0.0095 - acc: 0.9967 - val_loss: 0.0758 - val_acc: 0.9829\n"
          ],
          "name": "stdout"
        },
        {
          "output_type": "execute_result",
          "data": {
            "text/plain": [
              "(0, 1)"
            ]
          },
          "metadata": {
            "tags": []
          },
          "execution_count": 14
        },
        {
          "output_type": "display_data",
          "data": {
            "image/png": "[encoded data removed]",
            "text/plain": [
              "<Figure size 576x360 with 1 Axes>"
            ]
          },
          "metadata": {
            "tags": []
          }
        }
      ]
    },
    {
      "cell_type": "markdown",
      "metadata": {
        "id": "UB--pG2twt0Q",
        "colab_type": "text"
      },
      "source": [
        "#Accuracy of 13 Neurons is :  0.9860"
      ]
    },
    {
      "cell_type": "code",
      "metadata": {
        "id": "GMoDqKhhwyY1",
        "colab_type": "code",
        "outputId": "609393b7-da1b-4730-a0f1-4f410a6967df",
        "colab": {
          "base_uri": "https://localhost:8080/",
          "height": 52
        }
      },
      "source": [
        "model3.evaluate(X_test,y_test)"
      ],
      "execution_count": 15,
      "outputs": [
        {
          "output_type": "stream",
          "text": [
            "25588/25588 [==============================] - 2s 71us/sample - loss: 0.0674 - acc: 0.9845\n"
          ],
          "name": "stdout"
        },
        {
          "output_type": "execute_result",
          "data": {
            "text/plain": [
              "[0.06741616077680054, 0.984524]"
            ]
          },
          "metadata": {
            "tags": []
          },
          "execution_count": 15
        }
      ]
    },
    {
      "cell_type": "markdown",
      "metadata": {
        "id": "SqAZgxXqwidL",
        "colab_type": "text"
      },
      "source": [
        "#fourth model with 10 neurons in neck"
      ]
    },
    {
      "cell_type": "code",
      "metadata": {
        "id": "6HpXduXzw374",
        "colab_type": "code",
        "outputId": "d18442e4-696f-48df-f7f5-2f94b23c07a3",
        "colab": {
          "base_uri": "https://localhost:8080/",
          "height": 1127
        }
      },
      "source": [
        "model4 = keras.models.Sequential()\n",
        "model4.add(keras.layers.Flatten(input_shape=(32,32)))\n",
        "model4.add(keras.layers.Dense(512, activation='relu'))\n",
        "model4.add(keras.layers.Dense(128, activation='relu'))\n",
        "model4.add(keras.layers.Dense(32, activation='relu'))\n",
        "model4.add(keras.layers.Dense(10, activation='relu'))   # Neck\n",
        "model4.add(keras.layers.Dense(32, activation='relu'))\n",
        "model4.add(keras.layers.Dense(25, activation='relu'))\n",
        "model4.add(keras.layers.Dense(10, activation='softmax'))\n",
        "model4.summary()\n",
        "\n",
        "\n",
        "model4.compile(loss='sparse_categorical_crossentropy',\n",
        "             optimizer='adam',\n",
        "             metrics=['accuracy'])\n",
        "\n",
        "\n",
        "history4 = model4.fit(X_train, y_train, epochs=10, batch_size=320,\n",
        "         validation_split=0.1,class_weight=weight)\n",
        "\n",
        "pd.DataFrame(history4.history).plot(figsize=(8,5))\n",
        "plt.grid(True)\n",
        "plt.gca().set_ylim(0,1)"
      ],
      "execution_count": 16,
      "outputs": [
        {
          "output_type": "stream",
          "text": [
            "_________________________________________________________________\n",
            "Layer (type)                 Output Shape              Param #   \n",
            "=================================================================\n",
            "flatten_3 (Flatten)          (None, 1024)              0         \n",
            "_________________________________________________________________\n",
            "dense_21 (Dense)             (None, 512)               524800    \n",
            "_________________________________________________________________\n",
            "dense_22 (Dense)             (None, 128)               65664     \n",
            "_________________________________________________________________\n",
            "dense_23 (Dense)             (None, 32)                4128      \n",
            "_________________________________________________________________\n",
            "dense_24 (Dense)             (None, 10)                330       \n",
            "_________________________________________________________________\n",
            "dense_25 (Dense)             (None, 32)                352       \n",
            "_________________________________________________________________\n",
            "dense_26 (Dense)             (None, 25)                825       \n",
            "_________________________________________________________________\n",
            "dense_27 (Dense)             (None, 10)                260       \n",
            "=================================================================\n",
            "Total params: 596,359\n",
            "Trainable params: 596,359\n",
            "Non-trainable params: 0\n",
            "_________________________________________________________________\n",
            "Train on 69087 samples, validate on 7677 samples\n",
            "Epoch 1/10\n",
            "69087/69087 [==============================] - 6s 92us/sample - loss: 0.4004 - acc: 0.8681 - val_loss: 0.1090 - val_acc: 0.9699\n",
            "Epoch 2/10\n",
            "69087/69087 [==============================] - 6s 87us/sample - loss: 0.0780 - acc: 0.9782 - val_loss: 0.0802 - val_acc: 0.9762\n",
            "Epoch 3/10\n",
            "69087/69087 [==============================] - 6s 86us/sample - loss: 0.0483 - acc: 0.9857 - val_loss: 0.0699 - val_acc: 0.9798\n",
            "Epoch 4/10\n",
            "69087/69087 [==============================] - 6s 87us/sample - loss: 0.0311 - acc: 0.9909 - val_loss: 0.0624 - val_acc: 0.9827\n",
            "Epoch 5/10\n",
            "69087/69087 [==============================] - 6s 86us/sample - loss: 0.0212 - acc: 0.9936 - val_loss: 0.0643 - val_acc: 0.9828\n",
            "Epoch 6/10\n",
            "69087/69087 [==============================] - 6s 87us/sample - loss: 0.0166 - acc: 0.9948 - val_loss: 0.0643 - val_acc: 0.9836\n",
            "Epoch 7/10\n",
            "69087/69087 [==============================] - 6s 87us/sample - loss: 0.0140 - acc: 0.9956 - val_loss: 0.0627 - val_acc: 0.9840\n",
            "Epoch 8/10\n",
            "69087/69087 [==============================] - 6s 87us/sample - loss: 0.0096 - acc: 0.9969 - val_loss: 0.0632 - val_acc: 0.9849\n",
            "Epoch 9/10\n",
            "69087/69087 [==============================] - 6s 87us/sample - loss: 0.0087 - acc: 0.9971 - val_loss: 0.0705 - val_acc: 0.9836\n",
            "Epoch 10/10\n",
            "69087/69087 [==============================] - 6s 88us/sample - loss: 0.0094 - acc: 0.9969 - val_loss: 0.0690 - val_acc: 0.9850\n"
          ],
          "name": "stdout"
        },
        {
          "output_type": "execute_result",
          "data": {
            "text/plain": [
              "(0, 1)"
            ]
          },
          "metadata": {
            "tags": []
          },
          "execution_count": 16
        },
        {
          "output_type": "display_data",
          "data": {
            "image/png": "[encoded data removed]",
            "text/plain": [
              "<Figure size 576x360 with 1 Axes>"
            ]
          },
          "metadata": {
            "tags": []
          }
        }
      ]
    },
    {
      "cell_type": "markdown",
      "metadata": {
        "id": "guMYRtm0xa_d",
        "colab_type": "text"
      },
      "source": [
        "#Accuracy of 10 Neurons is :  0.9873"
      ]
    },
    {
      "cell_type": "code",
      "metadata": {
        "id": "1wlEWbSOxeFo",
        "colab_type": "code",
        "outputId": "7f96d131-3797-4c86-de5b-dd8f5623d595",
        "colab": {
          "base_uri": "https://localhost:8080/",
          "height": 52
        }
      },
      "source": [
        "model4.evaluate(X_test,y_test)"
      ],
      "execution_count": 17,
      "outputs": [
        {
          "output_type": "stream",
          "text": [
            "25588/25588 [==============================] - 2s 77us/sample - loss: 0.0597 - acc: 0.9851\n"
          ],
          "name": "stdout"
        },
        {
          "output_type": "execute_result",
          "data": {
            "text/plain": [
              "[0.05973764776124148, 0.9851102]"
            ]
          },
          "metadata": {
            "tags": []
          },
          "execution_count": 17
        }
      ]
    },
    {
      "cell_type": "markdown",
      "metadata": {
        "id": "oJfQFPOU53P4",
        "colab_type": "text"
      },
      "source": [
        "#fifth model with 8 neurons in neck"
      ]
    },
    {
      "cell_type": "code",
      "metadata": {
        "id": "Vxgc_9d0xeyz",
        "colab_type": "code",
        "colab": {
          "base_uri": "https://localhost:8080/",
          "height": 1127
        },
        "outputId": "a675d626-e607-47fb-be2d-30eee00fa195"
      },
      "source": [
        "model5 = keras.models.Sequential()\n",
        "model5.add(keras.layers.Flatten(input_shape=(32,32)))\n",
        "model5.add(keras.layers.Dense(512, activation='relu'))\n",
        "model5.add(keras.layers.Dense(128, activation='relu'))\n",
        "model5.add(keras.layers.Dense(32, activation='relu'))\n",
        "model5.add(keras.layers.Dense(8, activation='relu'))   # Neck\n",
        "model5.add(keras.layers.Dense(32, activation='relu'))\n",
        "model5.add(keras.layers.Dense(25, activation='relu'))\n",
        "model5.add(keras.layers.Dense(10, activation='softmax'))\n",
        "model5.summary()\n",
        "\n",
        "\n",
        "model5.compile(loss='sparse_categorical_crossentropy',\n",
        "             optimizer='adam',\n",
        "             metrics=['accuracy'])\n",
        "\n",
        "\n",
        "history5 = model5.fit(X_train, y_train, epochs=10, batch_size=320,\n",
        "         validation_split=0.1,class_weight=weight)\n",
        "\n",
        "pd.DataFrame(history5.history).plot(figsize=(8,5))\n",
        "plt.grid(True)\n",
        "plt.gca().set_ylim(0,1)"
      ],
      "execution_count": 20,
      "outputs": [
        {
          "output_type": "stream",
          "text": [
            "_________________________________________________________________\n",
            "Layer (type)                 Output Shape              Param #   \n",
            "=================================================================\n",
            "flatten_5 (Flatten)          (None, 1024)              0         \n",
            "_________________________________________________________________\n",
            "dense_35 (Dense)             (None, 512)               524800    \n",
            "_________________________________________________________________\n",
            "dense_36 (Dense)             (None, 128)               65664     \n",
            "_________________________________________________________________\n",
            "dense_37 (Dense)             (None, 32)                4128      \n",
            "_________________________________________________________________\n",
            "dense_38 (Dense)             (None, 8)                 264       \n",
            "_________________________________________________________________\n",
            "dense_39 (Dense)             (None, 32)                288       \n",
            "_________________________________________________________________\n",
            "dense_40 (Dense)             (None, 25)                825       \n",
            "_________________________________________________________________\n",
            "dense_41 (Dense)             (None, 10)                260       \n",
            "=================================================================\n",
            "Total params: 596,229\n",
            "Trainable params: 596,229\n",
            "Non-trainable params: 0\n",
            "_________________________________________________________________\n",
            "Train on 69087 samples, validate on 7677 samples\n",
            "Epoch 1/10\n",
            "69087/69087 [==============================] - 7s 94us/sample - loss: 0.4198 - acc: 0.8563 - val_loss: 0.1084 - val_acc: 0.9690\n",
            "Epoch 2/10\n",
            "69087/69087 [==============================] - 6s 88us/sample - loss: 0.0738 - acc: 0.9788 - val_loss: 0.0796 - val_acc: 0.9751\n",
            "Epoch 3/10\n",
            "69087/69087 [==============================] - 6s 88us/sample - loss: 0.0440 - acc: 0.9866 - val_loss: 0.0582 - val_acc: 0.9825\n",
            "Epoch 4/10\n",
            "69087/69087 [==============================] - 6s 88us/sample - loss: 0.0327 - acc: 0.9905 - val_loss: 0.0566 - val_acc: 0.9828\n",
            "Epoch 5/10\n",
            "69087/69087 [==============================] - 6s 88us/sample - loss: 0.0232 - acc: 0.9924 - val_loss: 0.0660 - val_acc: 0.9799\n",
            "Epoch 6/10\n",
            "69087/69087 [==============================] - 6s 87us/sample - loss: 0.0144 - acc: 0.9954 - val_loss: 0.0597 - val_acc: 0.9827\n",
            "Epoch 7/10\n",
            "69087/69087 [==============================] - 6s 88us/sample - loss: 0.0115 - acc: 0.9963 - val_loss: 0.0684 - val_acc: 0.9811\n",
            "Epoch 8/10\n",
            "69087/69087 [==============================] - 6s 88us/sample - loss: 0.0115 - acc: 0.9963 - val_loss: 0.0634 - val_acc: 0.9832\n",
            "Epoch 9/10\n",
            "69087/69087 [==============================] - 6s 87us/sample - loss: 0.0112 - acc: 0.9962 - val_loss: 0.0686 - val_acc: 0.9833\n",
            "Epoch 10/10\n",
            "69087/69087 [==============================] - 6s 88us/sample - loss: 0.0077 - acc: 0.9976 - val_loss: 0.0646 - val_acc: 0.9845\n"
          ],
          "name": "stdout"
        },
        {
          "output_type": "execute_result",
          "data": {
            "text/plain": [
              "(0, 1)"
            ]
          },
          "metadata": {
            "tags": []
          },
          "execution_count": 20
        },
        {
          "output_type": "display_data",
          "data": {
            "image/png": "[encoded data removed]",
            "text/plain": [
              "<Figure size 576x360 with 1 Axes>"
            ]
          },
          "metadata": {
            "tags": []
          }
        }
      ]
    },
    {
      "cell_type": "markdown",
      "metadata": {
        "id": "zpyIvD5R6Oqy",
        "colab_type": "text"
      },
      "source": [
        "#Accuracy of 8 Neurons is :  0.9868"
      ]
    },
    {
      "cell_type": "code",
      "metadata": {
        "id": "RYx7ffMx6Psa",
        "colab_type": "code",
        "colab": {
          "base_uri": "https://localhost:8080/",
          "height": 52
        },
        "outputId": "3ccb7cc6-fcba-4589-f130-254f26ee4d12"
      },
      "source": [
        "model5.evaluate(X_test,y_test)"
      ],
      "execution_count": 21,
      "outputs": [
        {
          "output_type": "stream",
          "text": [
            "25588/25588 [==============================] - 2s 75us/sample - loss: 0.0593 - acc: 0.9868\n"
          ],
          "name": "stdout"
        },
        {
          "output_type": "execute_result",
          "data": {
            "text/plain": [
              "[0.059322096882605056, 0.98679066]"
            ]
          },
          "metadata": {
            "tags": []
          },
          "execution_count": 21
        }
      ]
    },
    {
      "cell_type": "markdown",
      "metadata": {
        "id": "qfdqa_P48w1_",
        "colab_type": "text"
      },
      "source": [
        "#sixth model with 6 neurons in neck"
      ]
    },
    {
      "cell_type": "code",
      "metadata": {
        "id": "9flimGxz8qWA",
        "colab_type": "code",
        "colab": {
          "base_uri": "https://localhost:8080/",
          "height": 1127
        },
        "outputId": "43983a2a-9b5a-4fec-af67-c5e49070189b"
      },
      "source": [
        "model6= keras.models.Sequential()\n",
        "model6.add(keras.layers.Flatten(input_shape=(32,32)))\n",
        "model6.add(keras.layers.Dense(512, activation='relu'))\n",
        "model6.add(keras.layers.Dense(128, activation='relu'))\n",
        "model6.add(keras.layers.Dense(32, activation='relu'))\n",
        "model6.add(keras.layers.Dense(6, activation='relu'))   # Neck\n",
        "model6.add(keras.layers.Dense(32, activation='relu'))\n",
        "model6.add(keras.layers.Dense(25, activation='relu'))\n",
        "model6.add(keras.layers.Dense(10, activation='softmax'))\n",
        "model6.summary()\n",
        "\n",
        "\n",
        "model6.compile(loss='sparse_categorical_crossentropy',\n",
        "             optimizer='adam',\n",
        "             metrics=['accuracy'])\n",
        "\n",
        "\n",
        "history6 = model6.fit(X_train, y_train, epochs=10, batch_size=320,\n",
        "         validation_split=0.1,class_weight=weight)\n",
        "\n",
        "pd.DataFrame(history6.history).plot(figsize=(8,5))\n",
        "plt.grid(True)\n",
        "plt.gca().set_ylim(0,1)"
      ],
      "execution_count": 22,
      "outputs": [
        {
          "output_type": "stream",
          "text": [
            "_________________________________________________________________\n",
            "Layer (type)                 Output Shape              Param #   \n",
            "=================================================================\n",
            "flatten_6 (Flatten)          (None, 1024)              0         \n",
            "_________________________________________________________________\n",
            "dense_42 (Dense)             (None, 512)               524800    \n",
            "_________________________________________________________________\n",
            "dense_43 (Dense)             (None, 128)               65664     \n",
            "_________________________________________________________________\n",
            "dense_44 (Dense)             (None, 32)                4128      \n",
            "_________________________________________________________________\n",
            "dense_45 (Dense)             (None, 6)                 198       \n",
            "_________________________________________________________________\n",
            "dense_46 (Dense)             (None, 32)                224       \n",
            "_________________________________________________________________\n",
            "dense_47 (Dense)             (None, 25)                825       \n",
            "_________________________________________________________________\n",
            "dense_48 (Dense)             (None, 10)                260       \n",
            "=================================================================\n",
            "Total params: 596,099\n",
            "Trainable params: 596,099\n",
            "Non-trainable params: 0\n",
            "_________________________________________________________________\n",
            "Train on 69087 samples, validate on 7677 samples\n",
            "Epoch 1/10\n",
            "69087/69087 [==============================] - 7s 94us/sample - loss: 0.4097 - acc: 0.8801 - val_loss: 0.1236 - val_acc: 0.9674\n",
            "Epoch 2/10\n",
            "69087/69087 [==============================] - 6s 87us/sample - loss: 0.0811 - acc: 0.9775 - val_loss: 0.0803 - val_acc: 0.9785\n",
            "Epoch 3/10\n",
            "69087/69087 [==============================] - 6s 91us/sample - loss: 0.0463 - acc: 0.9865 - val_loss: 0.0757 - val_acc: 0.9775\n",
            "Epoch 4/10\n",
            "69087/69087 [==============================] - 6s 90us/sample - loss: 0.0309 - acc: 0.9907 - val_loss: 0.0728 - val_acc: 0.9801\n",
            "Epoch 5/10\n",
            "69087/69087 [==============================] - 6s 88us/sample - loss: 0.0208 - acc: 0.9935 - val_loss: 0.0523 - val_acc: 0.9848\n",
            "Epoch 6/10\n",
            "69087/69087 [==============================] - 6s 88us/sample - loss: 0.0175 - acc: 0.9945 - val_loss: 0.0756 - val_acc: 0.9784\n",
            "Epoch 7/10\n",
            "69087/69087 [==============================] - 6s 87us/sample - loss: 0.0134 - acc: 0.9960 - val_loss: 0.0695 - val_acc: 0.9825\n",
            "Epoch 8/10\n",
            "69087/69087 [==============================] - 6s 87us/sample - loss: 0.0105 - acc: 0.9968 - val_loss: 0.0707 - val_acc: 0.9825\n",
            "Epoch 9/10\n",
            "69087/69087 [==============================] - 6s 87us/sample - loss: 0.0101 - acc: 0.9965 - val_loss: 0.0772 - val_acc: 0.9819\n",
            "Epoch 10/10\n",
            "69087/69087 [==============================] - 6s 87us/sample - loss: 0.0086 - acc: 0.9973 - val_loss: 0.0736 - val_acc: 0.9831\n"
          ],
          "name": "stdout"
        },
        {
          "output_type": "execute_result",
          "data": {
            "text/plain": [
              "(0, 1)"
            ]
          },
          "metadata": {
            "tags": []
          },
          "execution_count": 22
        },
        {
          "output_type": "display_data",
          "data": {
            "image/png": "[encoded data removed]",
            "text/plain": [
              "<Figure size 576x360 with 1 Axes>"
            ]
          },
          "metadata": {
            "tags": []
          }
        }
      ]
    },
    {
      "cell_type": "markdown",
      "metadata": {
        "id": "oNv4Ifn49Kjg",
        "colab_type": "text"
      },
      "source": [
        "#Accuracy of 6 Neurons is :  0.9859"
      ]
    },
    {
      "cell_type": "code",
      "metadata": {
        "id": "jO8EHgFL8qQx",
        "colab_type": "code",
        "colab": {
          "base_uri": "https://localhost:8080/",
          "height": 52
        },
        "outputId": "14c169ab-6462-46ee-d32c-6d1ea1d367a2"
      },
      "source": [
        "model6.evaluate(X_test,y_test)"
      ],
      "execution_count": 23,
      "outputs": [
        {
          "output_type": "stream",
          "text": [
            "25588/25588 [==============================] - 2s 74us/sample - loss: 0.0644 - acc: 0.9859\n"
          ],
          "name": "stdout"
        },
        {
          "output_type": "execute_result",
          "data": {
            "text/plain": [
              "[0.06440953590004103, 0.9859309]"
            ]
          },
          "metadata": {
            "tags": []
          },
          "execution_count": 23
        }
      ]
    },
    {
      "cell_type": "markdown",
      "metadata": {
        "id": "ZvUa49i59RQM",
        "colab_type": "text"
      },
      "source": [
        "#seventh model with 4 neurons in neck"
      ]
    },
    {
      "cell_type": "code",
      "metadata": {
        "id": "xViuKelY8qKQ",
        "colab_type": "code",
        "colab": {
          "base_uri": "https://localhost:8080/",
          "height": 1127
        },
        "outputId": "cd79ca82-1fc9-42e6-e0bf-c7f63ec0a208"
      },
      "source": [
        "model7= keras.models.Sequential()\n",
        "model7.add(keras.layers.Flatten(input_shape=(32,32)))\n",
        "model7.add(keras.layers.Dense(512, activation='relu'))\n",
        "model7.add(keras.layers.Dense(128, activation='relu'))\n",
        "model7.add(keras.layers.Dense(32, activation='relu'))\n",
        "model7.add(keras.layers.Dense(4, activation='relu'))   # Neck\n",
        "model7.add(keras.layers.Dense(32, activation='relu'))\n",
        "model7.add(keras.layers.Dense(25, activation='relu'))\n",
        "model7.add(keras.layers.Dense(10, activation='softmax'))\n",
        "model7.summary()\n",
        "\n",
        "\n",
        "model7.compile(loss='sparse_categorical_crossentropy',\n",
        "             optimizer='adam',\n",
        "             metrics=['accuracy'])\n",
        "\n",
        "\n",
        "history7 = model7.fit(X_train, y_train, epochs=10, batch_size=320,\n",
        "         validation_split=0.1,class_weight=weight)\n",
        "\n",
        "pd.DataFrame(history7.history).plot(figsize=(8,5))\n",
        "plt.grid(True)\n",
        "plt.gca().set_ylim(0,1)"
      ],
      "execution_count": 24,
      "outputs": [
        {
          "output_type": "stream",
          "text": [
            "_________________________________________________________________\n",
            "Layer (type)                 Output Shape              Param #   \n",
            "=================================================================\n",
            "flatten_7 (Flatten)          (None, 1024)              0         \n",
            "_________________________________________________________________\n",
            "dense_49 (Dense)             (None, 512)               524800    \n",
            "_________________________________________________________________\n",
            "dense_50 (Dense)             (None, 128)               65664     \n",
            "_________________________________________________________________\n",
            "dense_51 (Dense)             (None, 32)                4128      \n",
            "_________________________________________________________________\n",
            "dense_52 (Dense)             (None, 4)                 132       \n",
            "_________________________________________________________________\n",
            "dense_53 (Dense)             (None, 32)                160       \n",
            "_________________________________________________________________\n",
            "dense_54 (Dense)             (None, 25)                825       \n",
            "_________________________________________________________________\n",
            "dense_55 (Dense)             (None, 10)                260       \n",
            "=================================================================\n",
            "Total params: 595,969\n",
            "Trainable params: 595,969\n",
            "Non-trainable params: 0\n",
            "_________________________________________________________________\n",
            "Train on 69087 samples, validate on 7677 samples\n",
            "Epoch 1/10\n",
            "69087/69087 [==============================] - 7s 98us/sample - loss: 0.5045 - acc: 0.8362 - val_loss: 0.1523 - val_acc: 0.9578\n",
            "Epoch 2/10\n",
            "69087/69087 [==============================] - 6s 89us/sample - loss: 0.0960 - acc: 0.9738 - val_loss: 0.1024 - val_acc: 0.9715\n",
            "Epoch 3/10\n",
            "69087/69087 [==============================] - 6s 89us/sample - loss: 0.0588 - acc: 0.9828 - val_loss: 0.0802 - val_acc: 0.9773\n",
            "Epoch 4/10\n",
            "69087/69087 [==============================] - 6s 89us/sample - loss: 0.0398 - acc: 0.9887 - val_loss: 0.0768 - val_acc: 0.9795\n",
            "Epoch 5/10\n",
            "69087/69087 [==============================] - 6s 89us/sample - loss: 0.0282 - acc: 0.9918 - val_loss: 0.0710 - val_acc: 0.9814\n",
            "Epoch 6/10\n",
            "69087/69087 [==============================] - 6s 88us/sample - loss: 0.0233 - acc: 0.9928 - val_loss: 0.0698 - val_acc: 0.9816\n",
            "Epoch 7/10\n",
            "69087/69087 [==============================] - 6s 88us/sample - loss: 0.0172 - acc: 0.9949 - val_loss: 0.0722 - val_acc: 0.9824\n",
            "Epoch 8/10\n",
            "69087/69087 [==============================] - 6s 88us/sample - loss: 0.0165 - acc: 0.9950 - val_loss: 0.0800 - val_acc: 0.9822\n",
            "Epoch 9/10\n",
            "69087/69087 [==============================] - 6s 89us/sample - loss: 0.0109 - acc: 0.9967 - val_loss: 0.0762 - val_acc: 0.9831\n",
            "Epoch 10/10\n",
            "69087/69087 [==============================] - 6s 88us/sample - loss: 0.0138 - acc: 0.9957 - val_loss: 0.0786 - val_acc: 0.9832\n"
          ],
          "name": "stdout"
        },
        {
          "output_type": "execute_result",
          "data": {
            "text/plain": [
              "(0, 1)"
            ]
          },
          "metadata": {
            "tags": []
          },
          "execution_count": 24
        },
        {
          "output_type": "display_data",
          "data": {
            "image/png": "[encoded data removed]",
            "text/plain": [
              "<Figure size 576x360 with 1 Axes>"
            ]
          },
          "metadata": {
            "tags": []
          }
        }
      ]
    },
    {
      "cell_type": "markdown",
      "metadata": {
        "id": "OYLO3xWd98Cc",
        "colab_type": "text"
      },
      "source": [
        "#Accuracy of 4 Neurons is :  0.9855"
      ]
    },
    {
      "cell_type": "code",
      "metadata": {
        "id": "TuHrAKx58qEi",
        "colab_type": "code",
        "colab": {
          "base_uri": "https://localhost:8080/",
          "height": 52
        },
        "outputId": "efdb9e69-e8f6-4104-8fd0-eaf5395ae597"
      },
      "source": [
        "model7.evaluate(X_test,y_test)"
      ],
      "execution_count": 25,
      "outputs": [
        {
          "output_type": "stream",
          "text": [
            "25588/25588 [==============================] - 2s 80us/sample - loss: 0.0604 - acc: 0.9855\n"
          ],
          "name": "stdout"
        },
        {
          "output_type": "execute_result",
          "data": {
            "text/plain": [
              "[0.06042503493387353, 0.985501]"
            ]
          },
          "metadata": {
            "tags": []
          },
          "execution_count": 25
        }
      ]
    },
    {
      "cell_type": "markdown",
      "metadata": {
        "id": "v9Dl2DOh8puq",
        "colab_type": "text"
      },
      "source": [
        "#eigth model with 2 neurons in neck"
      ]
    },
    {
      "cell_type": "code",
      "metadata": {
        "id": "KKdtn2al-iyN",
        "colab_type": "code",
        "colab": {
          "base_uri": "https://localhost:8080/",
          "height": 1127
        },
        "outputId": "6ace750b-84f4-4c02-9602-d164f4ada566"
      },
      "source": [
        "model8= keras.models.Sequential()\n",
        "model8.add(keras.layers.Flatten(input_shape=(32,32)))\n",
        "model8.add(keras.layers.Dense(512, activation='relu'))\n",
        "model8.add(keras.layers.Dense(128, activation='relu'))\n",
        "model8.add(keras.layers.Dense(32, activation='relu'))\n",
        "model8.add(keras.layers.Dense(2, activation='relu'))   # Neck\n",
        "model8.add(keras.layers.Dense(32, activation='relu'))\n",
        "model8.add(keras.layers.Dense(25, activation='relu'))\n",
        "model8.add(keras.layers.Dense(10, activation='softmax'))\n",
        "model8.summary()\n",
        "\n",
        "\n",
        "model8.compile(loss='sparse_categorical_crossentropy',\n",
        "             optimizer='adam',\n",
        "             metrics=['accuracy'])\n",
        "\n",
        "\n",
        "history8 = model8.fit(X_train, y_train, epochs=10, batch_size=320,\n",
        "         validation_split=0.1,class_weight=weight)\n",
        "\n",
        "pd.DataFrame(history8.history).plot(figsize=(8,5))\n",
        "plt.grid(True)\n",
        "plt.gca().set_ylim(0,1)"
      ],
      "execution_count": 26,
      "outputs": [
        {
          "output_type": "stream",
          "text": [
            "_________________________________________________________________\n",
            "Layer (type)                 Output Shape              Param #   \n",
            "=================================================================\n",
            "flatten_8 (Flatten)          (None, 1024)              0         \n",
            "_________________________________________________________________\n",
            "dense_56 (Dense)             (None, 512)               524800    \n",
            "_________________________________________________________________\n",
            "dense_57 (Dense)             (None, 128)               65664     \n",
            "_________________________________________________________________\n",
            "dense_58 (Dense)             (None, 32)                4128      \n",
            "_________________________________________________________________\n",
            "dense_59 (Dense)             (None, 2)                 66        \n",
            "_________________________________________________________________\n",
            "dense_60 (Dense)             (None, 32)                96        \n",
            "_________________________________________________________________\n",
            "dense_61 (Dense)             (None, 25)                825       \n",
            "_________________________________________________________________\n",
            "dense_62 (Dense)             (None, 10)                260       \n",
            "=================================================================\n",
            "Total params: 595,839\n",
            "Trainable params: 595,839\n",
            "Non-trainable params: 0\n",
            "_________________________________________________________________\n",
            "Train on 69087 samples, validate on 7677 samples\n",
            "Epoch 1/10\n",
            "69087/69087 [==============================] - 7s 99us/sample - loss: 1.8422 - acc: 0.2426 - val_loss: 1.6759 - val_acc: 0.3160\n",
            "Epoch 2/10\n",
            "69087/69087 [==============================] - 6s 90us/sample - loss: 1.5600 - acc: 0.3442 - val_loss: 1.2614 - val_acc: 0.5455\n",
            "Epoch 3/10\n",
            "69087/69087 [==============================] - 6s 90us/sample - loss: 0.6540 - acc: 0.7296 - val_loss: 0.4954 - val_acc: 0.7769\n",
            "Epoch 4/10\n",
            "69087/69087 [==============================] - 6s 90us/sample - loss: 0.3447 - acc: 0.8680 - val_loss: 0.2366 - val_acc: 0.9552\n",
            "Epoch 5/10\n",
            "69087/69087 [==============================] - 6s 90us/sample - loss: 0.1260 - acc: 0.9724 - val_loss: 0.1761 - val_acc: 0.9682\n",
            "Epoch 6/10\n",
            "69087/69087 [==============================] - 6s 90us/sample - loss: 0.0827 - acc: 0.9821 - val_loss: 0.1393 - val_acc: 0.9742\n",
            "Epoch 7/10\n",
            "69087/69087 [==============================] - 6s 89us/sample - loss: 0.0628 - acc: 0.9865 - val_loss: 0.1367 - val_acc: 0.9755\n",
            "Epoch 8/10\n",
            "69087/69087 [==============================] - 6s 89us/sample - loss: 0.0530 - acc: 0.9884 - val_loss: 0.1278 - val_acc: 0.9756\n",
            "Epoch 9/10\n",
            "69087/69087 [==============================] - 6s 89us/sample - loss: 0.0450 - acc: 0.9908 - val_loss: 0.1237 - val_acc: 0.9788\n",
            "Epoch 10/10\n",
            "69087/69087 [==============================] - 6s 90us/sample - loss: 0.0409 - acc: 0.9919 - val_loss: 0.1177 - val_acc: 0.9797\n"
          ],
          "name": "stdout"
        },
        {
          "output_type": "execute_result",
          "data": {
            "text/plain": [
              "(0, 1)"
            ]
          },
          "metadata": {
            "tags": []
          },
          "execution_count": 26
        },
        {
          "output_type": "display_data",
          "data": {
            "image/png": "[encoded data removed]",
            "text/plain": [
              "<Figure size 576x360 with 1 Axes>"
            ]
          },
          "metadata": {
            "tags": []
          }
        }
      ]
    },
    {
      "cell_type": "markdown",
      "metadata": {
        "id": "hkq0ArDs-2W0",
        "colab_type": "text"
      },
      "source": [
        "#Accuracy of 2 Neurons is :  0.9819"
      ]
    },
    {
      "cell_type": "code",
      "metadata": {
        "id": "BiYDb2X-_GO9",
        "colab_type": "code",
        "colab": {
          "base_uri": "https://localhost:8080/",
          "height": 52
        },
        "outputId": "73307540-250b-4e27-9d9d-7a78c1cbc8a8"
      },
      "source": [
        "model8.evaluate(X_test,y_test)"
      ],
      "execution_count": 27,
      "outputs": [
        {
          "output_type": "stream",
          "text": [
            "25588/25588 [==============================] - 2s 82us/sample - loss: 0.0974 - acc: 0.9819\n"
          ],
          "name": "stdout"
        },
        {
          "output_type": "execute_result",
          "data": {
            "text/plain": [
              "[0.097423863153937, 0.9819447]"
            ]
          },
          "metadata": {
            "tags": []
          },
          "execution_count": 27
        }
      ]
    },
    {
      "cell_type": "markdown",
      "metadata": {
        "id": "YC8wECz5_WUy",
        "colab_type": "text"
      },
      "source": [
        "#ninth model with 1 neurons in neck"
      ]
    },
    {
      "cell_type": "code",
      "metadata": {
        "id": "ntwGx-FA_d0r",
        "colab_type": "code",
        "colab": {
          "base_uri": "https://localhost:8080/",
          "height": 1127
        },
        "outputId": "ae305591-8849-4453-a294-ebdecadb00a8"
      },
      "source": [
        "model9= keras.models.Sequential()\n",
        "model9.add(keras.layers.Flatten(input_shape=(32,32)))\n",
        "model9.add(keras.layers.Dense(512, activation='relu'))\n",
        "model9.add(keras.layers.Dense(128, activation='relu'))\n",
        "model9.add(keras.layers.Dense(32, activation='relu'))\n",
        "model9.add(keras.layers.Dense(1, activation='relu'))   # Neck\n",
        "model9.add(keras.layers.Dense(32, activation='relu'))\n",
        "model9.add(keras.layers.Dense(25, activation='relu'))\n",
        "model9.add(keras.layers.Dense(10, activation='softmax'))\n",
        "model9.summary()\n",
        "\n",
        "\n",
        "model9.compile(loss='sparse_categorical_crossentropy',\n",
        "             optimizer='adam',\n",
        "             metrics=['accuracy'])\n",
        "\n",
        "\n",
        "history9 = model9.fit(X_train, y_train, epochs=10, batch_size=320,\n",
        "         validation_split=0.1,class_weight=weight)\n",
        "\n",
        "pd.DataFrame(history9.history).plot(figsize=(8,5))\n",
        "plt.grid(True)\n",
        "plt.gca().set_ylim(0,1)"
      ],
      "execution_count": 28,
      "outputs": [
        {
          "output_type": "stream",
          "text": [
            "_________________________________________________________________\n",
            "Layer (type)                 Output Shape              Param #   \n",
            "=================================================================\n",
            "flatten_9 (Flatten)          (None, 1024)              0         \n",
            "_________________________________________________________________\n",
            "dense_63 (Dense)             (None, 512)               524800    \n",
            "_________________________________________________________________\n",
            "dense_64 (Dense)             (None, 128)               65664     \n",
            "_________________________________________________________________\n",
            "dense_65 (Dense)             (None, 32)                4128      \n",
            "_________________________________________________________________\n",
            "dense_66 (Dense)             (None, 1)                 33        \n",
            "_________________________________________________________________\n",
            "dense_67 (Dense)             (None, 32)                64        \n",
            "_________________________________________________________________\n",
            "dense_68 (Dense)             (None, 25)                825       \n",
            "_________________________________________________________________\n",
            "dense_69 (Dense)             (None, 10)                260       \n",
            "=================================================================\n",
            "Total params: 595,774\n",
            "Trainable params: 595,774\n",
            "Non-trainable params: 0\n",
            "_________________________________________________________________\n",
            "Train on 69087 samples, validate on 7677 samples\n",
            "Epoch 1/10\n",
            "69087/69087 [==============================] - 7s 96us/sample - loss: 1.8293 - acc: 0.2395 - val_loss: 1.4446 - val_acc: 0.4239\n",
            "Epoch 2/10\n",
            "69087/69087 [==============================] - 6s 88us/sample - loss: 1.2426 - acc: 0.4680 - val_loss: 1.1452 - val_acc: 0.4853\n",
            "Epoch 3/10\n",
            "69087/69087 [==============================] - 6s 88us/sample - loss: 0.9794 - acc: 0.5807 - val_loss: 0.8969 - val_acc: 0.6277\n",
            "Epoch 4/10\n",
            "69087/69087 [==============================] - 6s 87us/sample - loss: 0.7880 - acc: 0.6523 - val_loss: 0.8031 - val_acc: 0.6715\n",
            "Epoch 5/10\n",
            "69087/69087 [==============================] - 6s 88us/sample - loss: 0.7361 - acc: 0.6670 - val_loss: 0.8071 - val_acc: 0.6638\n",
            "Epoch 6/10\n",
            "69087/69087 [==============================] - 6s 87us/sample - loss: 0.7068 - acc: 0.6765 - val_loss: 0.7527 - val_acc: 0.6682\n",
            "Epoch 7/10\n",
            "69087/69087 [==============================] - 6s 88us/sample - loss: 0.6828 - acc: 0.6785 - val_loss: 0.7314 - val_acc: 0.6717\n",
            "Epoch 8/10\n",
            "69087/69087 [==============================] - 6s 89us/sample - loss: 0.6571 - acc: 0.6825 - val_loss: 0.7499 - val_acc: 0.6760\n",
            "Epoch 9/10\n",
            "69087/69087 [==============================] - 6s 89us/sample - loss: 0.6560 - acc: 0.6813 - val_loss: 0.7460 - val_acc: 0.6800\n",
            "Epoch 10/10\n",
            "69087/69087 [==============================] - 6s 89us/sample - loss: 0.6685 - acc: 0.6811 - val_loss: 0.7867 - val_acc: 0.6751\n"
          ],
          "name": "stdout"
        },
        {
          "output_type": "execute_result",
          "data": {
            "text/plain": [
              "(0, 1)"
            ]
          },
          "metadata": {
            "tags": []
          },
          "execution_count": 28
        },
        {
          "output_type": "display_data",
          "data": {
            "image/png": "[encoded data removed]",
            "text/plain": [
              "<Figure size 576x360 with 1 Axes>"
            ]
          },
          "metadata": {
            "tags": []
          }
        }
      ]
    },
    {
      "cell_type": "markdown",
      "metadata": {
        "id": "aW8XbxRc_14Y",
        "colab_type": "text"
      },
      "source": [
        "#Accuracy of 1 Neuron is :  0.9819"
      ]
    },
    {
      "cell_type": "code",
      "metadata": {
        "id": "CP5z52-t_6Sx",
        "colab_type": "code",
        "colab": {
          "base_uri": "https://localhost:8080/",
          "height": 52
        },
        "outputId": "99984f5f-2a55-4d88-894b-d4918e668bdc"
      },
      "source": [
        "model8.evaluate(X_test,y_test)"
      ],
      "execution_count": 29,
      "outputs": [
        {
          "output_type": "stream",
          "text": [
            "25588/25588 [==============================] - 2s 80us/sample - loss: 0.0974 - acc: 0.9819\n"
          ],
          "name": "stdout"
        },
        {
          "output_type": "execute_result",
          "data": {
            "text/plain": [
              "[0.097423863153937, 0.9819447]"
            ]
          },
          "metadata": {
            "tags": []
          },
          "execution_count": 29
        }
      ]
    },
    {
      "cell_type": "markdown",
      "metadata": {
        "id": "J4DZm4vw6aSA",
        "colab_type": "text"
      },
      "source": [
        "#Summary \n",
        "\n",
        "|#||model||Neck Neurons||accuracy|\n",
        "|----||---------||-----------------------||---------------|\n",
        "|1  || model1  ||        20     ||         0.9882       |\n",
        "| 2 || model2  ||        15     ||   0.9878    |\n",
        "| 3 || model3  ||        13     ||      0.9860      |\n",
        "| 4 || model4  ||        10     ||      0.9873       |\n",
        "| 5 || model5  ||          8     ||      0.9868    |\n",
        "| 6 || model6  ||          6     ||      0.9859   |\n",
        "| 7 || model7  ||          4     ||      0.9855   |\n",
        "|8 || model8  ||          2     ||      0.9819   |\n",
        "|9 || model9 ||          1     ||      0.9819   |"
      ]
    },
    {
      "cell_type": "code",
      "metadata": {
        "id": "dKBAGsWd5Fhj",
        "colab_type": "code",
        "colab": {}
      },
      "source": [
        ""
      ],
      "execution_count": 0,
      "outputs": []
    }
  ]
}