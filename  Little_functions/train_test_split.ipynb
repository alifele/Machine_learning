{
  "nbformat": 4,
  "nbformat_minor": 0,
  "metadata": {
    "colab": {
      "name": "train_test_split.ipynb",
      "version": "0.3.2",
      "provenance": [],
      "include_colab_link": true
    },
    "kernelspec": {
      "name": "python3",
      "display_name": "Python 3"
    }
  },
  "cells": [
    {
      "cell_type": "markdown",
      "metadata": {
        "id": "view-in-github",
        "colab_type": "text"
      },
      "source": [
        "<a href=\"https://colab.research.google.com/github/alifele/Machine_learning/blob/master/%20Little_functions/train_test_split.ipynb\" target=\"_parent\"><img src=\"https://colab.research.google.com/assets/colab-badge.svg\" alt=\"Open In Colab\"/></a>"
      ]
    },
    {
      "metadata": {
        "id": "av1QL8Mq6yPv",
        "colab_type": "code",
        "colab": {}
      },
      "cell_type": "code",
      "source": [
        "import numpy as np\n",
        "from sklearn.model_selection import train_test_split\n"
      ],
      "execution_count": 0,
      "outputs": []
    },
    {
      "metadata": {
        "id": "dz_i4yfM7Lhz",
        "colab_type": "text"
      },
      "cell_type": "markdown",
      "source": [
        "``` sklearn.model_selection.train_test_split ``` can devide iou data base into test and train subsets. The relative size of subsets can be set by the argomans"
      ]
    },
    {
      "metadata": {
        "id": "E5oF7_2N7Kl6",
        "colab_type": "code",
        "colab": {
          "base_uri": "https://localhost:8080/",
          "height": 153
        },
        "outputId": "3e8792ff-14f3-436c-eee3-696d9b558363"
      },
      "cell_type": "code",
      "source": [
        "X = np.arange(10).reshape((5,2))\n",
        "y = list(range(5))\n",
        "print('the X is: \\n {}'.format(X))\n",
        "print('the y is: \\n {}'.format(y))\n",
        "\n"
      ],
      "execution_count": 6,
      "outputs": [
        {
          "output_type": "stream",
          "text": [
            "the X is: \n",
            " [[0 1]\n",
            " [2 3]\n",
            " [4 5]\n",
            " [6 7]\n",
            " [8 9]]\n",
            "the y is: \n",
            " [0, 1, 2, 3, 4]\n"
          ],
          "name": "stdout"
        }
      ]
    },
    {
      "metadata": {
        "id": "UHuhWAe58J8U",
        "colab_type": "text"
      },
      "cell_type": "markdown",
      "source": [
        "#Implementing the function\n"
      ]
    },
    {
      "metadata": {
        "id": "j9WoKO9G77lb",
        "colab_type": "code",
        "colab": {
          "base_uri": "https://localhost:8080/",
          "height": 340
        },
        "outputId": "92cc2052-054c-4e5c-c47c-f7174c9488c2"
      },
      "cell_type": "code",
      "source": [
        "X_train, X_test, y_train, y_test = train_test_split(X, y, test_size=0.2,\n",
        "                                                    random_state=42,shuffle=False)\n",
        "#note that the default value for test_size is 0.25\n",
        "print(\"X_train is: \\n{}\\n\\n\".format(X_train))\n",
        "print(\"y_train is: \\n{}\\n\\n\".format(y_train))\n",
        "print(\"X_test is: \\n{}\\n\\n\".format(X_test))\n",
        "print(\"y_test is: \\n{}\\n\\n\".format(y_test))"
      ],
      "execution_count": 12,
      "outputs": [
        {
          "output_type": "stream",
          "text": [
            "X_train is: \n",
            "[[0 1]\n",
            " [2 3]\n",
            " [4 5]\n",
            " [6 7]]\n",
            "\n",
            "\n",
            "y_train is: \n",
            "[0, 1, 2, 3]\n",
            "\n",
            "\n",
            "X_test is: \n",
            "[[8 9]]\n",
            "\n",
            "\n",
            "y_test is: \n",
            "[4]\n",
            "\n",
            "\n"
          ],
          "name": "stdout"
        }
      ]
    },
    {
      "metadata": {
        "id": "pf00XQaQ8hLa",
        "colab_type": "code",
        "colab": {}
      },
      "cell_type": "code",
      "source": [
        ""
      ],
      "execution_count": 0,
      "outputs": []
    }
  ]
}