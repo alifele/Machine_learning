{
 "cells": [
  {
   "cell_type": "code",
   "execution_count": 14,
   "metadata": {},
   "outputs": [
    {
     "name": "stdout",
     "output_type": "stream",
     "text": [
      "/media/ali/Ali/Projects/Machine_learning/1D CNN/HAPT Data Set\n",
      "\u001b[0m\u001b[01;32mactivity_labels.txt\u001b[0m*  \u001b[01;32mfeatures.txt\u001b[0m*  \u001b[01;32mREADME.txt\u001b[0m*  \u001b[34;42mTrain\u001b[0m/\r\n",
      "\u001b[01;32mfeatures_info.txt\u001b[0m*    \u001b[34;42mRawData\u001b[0m/       \u001b[34;42mTest\u001b[0m/\r\n"
     ]
    }
   ],
   "source": [
    "%cd /media/ali/Ali/Projects/Machine_learning/1D\\ CNN/'HAPT Data Set'\n",
    "%ls"
   ]
  },
  {
   "cell_type": "code",
   "execution_count": 8,
   "metadata": {},
   "outputs": [
    {
     "name": "stdout",
     "output_type": "stream",
     "text": [
      "/media\n",
      "\u001b[0m\u001b[01;34mali\u001b[0m/\r\n"
     ]
    }
   ],
   "source": [
    "%cd media\n",
    "%ls\n"
   ]
  },
  {
   "cell_type": "code",
   "execution_count": 11,
   "metadata": {},
   "outputs": [
    {
     "name": "stdout",
     "output_type": "stream",
     "text": [
      "/media/ali/Ali/Projects\n",
      "\u001b[0m\u001b[34;42mMachine_learning\u001b[0m/  \u001b[01;32mmd\u001b[0m*  \u001b[34;42mMy_Poroject_at_CERN\u001b[0m/  \u001b[34;42mNeuroMachineLearning\u001b[0m/\r\n"
     ]
    }
   ],
   "source": [
    "%cd Projects/\n",
    "%ls"
   ]
  },
  {
   "cell_type": "code",
   "execution_count": null,
   "metadata": {},
   "outputs": [],
   "source": [
    "%ls"
   ]
  },
  {
   "cell_type": "code",
   "execution_count": null,
   "metadata": {},
   "outputs": [],
   "source": [
    "%cd Projects"
   ]
  },
  {
   "cell_type": "code",
   "execution_count": null,
   "metadata": {},
   "outputs": [],
   "source": [
    "%ls"
   ]
  },
  {
   "cell_type": "code",
   "execution_count": null,
   "metadata": {},
   "outputs": [],
   "source": []
  }
 ],
 "metadata": {
  "kernelspec": {
   "display_name": "Python 3",
   "language": "python",
   "name": "python3"
  },
  "language_info": {
   "codemirror_mode": {
    "name": "ipython",
    "version": 3
   },
   "file_extension": ".py",
   "mimetype": "text/x-python",
   "name": "python",
   "nbconvert_exporter": "python",
   "pygments_lexer": "ipython3",
   "version": "3.7.3"
  }
 },
 "nbformat": 4,
 "nbformat_minor": 2
}
