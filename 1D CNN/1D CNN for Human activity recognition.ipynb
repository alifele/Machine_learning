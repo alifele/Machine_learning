{
 "cells": [
  {
   "cell_type": "markdown",
   "metadata": {},
   "source": [
    "https://machinelearningmastery.com/cnn-models-for-human-activity-recognition-time-series-classification/"
   ]
  },
  {
   "cell_type": "code",
   "execution_count": 146,
   "metadata": {},
   "outputs": [],
   "source": [
    "import numpy as np\n",
    "import pandas as pd\n",
    "from tensorflow import keras\n",
    "import matplotlib.pyplot as plt"
   ]
  },
  {
   "cell_type": "code",
   "execution_count": 65,
   "metadata": {},
   "outputs": [
    {
     "name": "stdout",
     "output_type": "stream",
     "text": [
      "/media/ali/Ali/Projects/Machine_learning/1D CNN/UCI HAR Dataset\n",
      "/media/ali/Ali/Projects/Machine_learning/1D CNN/UCI HAR Dataset/UCI HAR Dataset\n",
      "\u001b[0m\u001b[01;32mactivity_labels.txt\u001b[0m*  \u001b[01;32mfeatures.txt\u001b[0m*  \u001b[34;42mtest\u001b[0m/\r\n",
      "\u001b[01;32mfeatures_info.txt\u001b[0m*    \u001b[01;32mREADME.txt\u001b[0m*    \u001b[34;42mtrain\u001b[0m/\r\n"
     ]
    }
   ],
   "source": [
    "%cd /media/ali/Ali/Projects/Machine_learning/1D\\ CNN/'UCI HAR Dataset/'\n",
    "%cd 'UCI HAR Dataset/'\n",
    "%ls"
   ]
  },
  {
   "cell_type": "code",
   "execution_count": null,
   "metadata": {},
   "outputs": [],
   "source": []
  },
  {
   "cell_type": "code",
   "execution_count": 59,
   "metadata": {},
   "outputs": [],
   "source": [
    "import numpy as np\n",
    "import pandas as pd\n",
    "def load_file(filepath):\n",
    "    dataframe = pd.read_csv(filepath, header=None, delim_whitespace=True)\n",
    "    return dataframe.values"
   ]
  },
  {
   "cell_type": "code",
   "execution_count": 66,
   "metadata": {},
   "outputs": [
    {
     "data": {
      "text/plain": [
       "array([[ 0.01165315,  0.01310909,  0.01126885, ...,  0.00129151,\n",
       "         0.00147   ,  0.00257384],\n",
       "       [ 0.00927963,  0.00492971,  0.0039536 , ...,  0.0077876 ,\n",
       "         0.00343349, -0.00123868],\n",
       "       [ 0.00573194,  0.00706565,  0.00510976, ..., -0.00074285,\n",
       "        -0.00192336, -0.00430462],\n",
       "       ...,\n",
       "       [-0.1476465 , -0.1699026 , -0.168698  , ...,  0.497893  ,\n",
       "         0.2141275 , -0.1145089 ],\n",
       "       [ 0.07122683, -0.0886653 , -0.07067473, ...,  0.1859878 ,\n",
       "         0.2737114 ,  0.3536738 ],\n",
       "       [-0.1936425 , -0.06498738, -0.0971221 , ..., -0.05075521,\n",
       "        -0.01980675, -0.01104015]])"
      ]
     },
     "execution_count": 66,
     "metadata": {},
     "output_type": "execute_result"
    }
   ],
   "source": [
    "load_file('test/Inertial Signals/body_acc_x_test.txt')"
   ]
  },
  {
   "cell_type": "code",
   "execution_count": 71,
   "metadata": {},
   "outputs": [],
   "source": [
    "#  load a list of file into a 3D array of [samples, timesteps, features]\n",
    "def load_group(filenames, prefix=''):\n",
    "    loaded = list()\n",
    "    for name in filenames:\n",
    "        data = load_file(prefix + name)\n",
    "        loaded.append(data)\n",
    "    loaded = np.dstack(loaded)\n",
    "    return loaded"
   ]
  },
  {
   "cell_type": "code",
   "execution_count": 74,
   "metadata": {},
   "outputs": [
    {
     "data": {
      "text/plain": [
       "(2947, 128, 3)"
      ]
     },
     "execution_count": 74,
     "metadata": {},
     "output_type": "execute_result"
    }
   ],
   "source": [
    "files = ['body_acc_x_test.txt','body_acc_y_test.txt',\n",
    "        'body_acc_z_test.txt']\n",
    "data = load_group(files,\n",
    "           'test/Inertial Signals/')\n",
    "\n",
    "data.shape"
   ]
  },
  {
   "cell_type": "markdown",
   "metadata": {},
   "source": [
    "this 3D matrix (2947, 128, 3) means that we have 2947 events (or samples) each have 128 feauters. the 3 indicates the data type (for example body_acc_x_test))"
   ]
  },
  {
   "cell_type": "code",
   "execution_count": 61,
   "metadata": {},
   "outputs": [],
   "source": [
    "# load a dataset group, such as train or test\n",
    "def load_dataset_group(group, prefix=''):\n",
    "    filepath = prefix + group + '/Inertial Signals/'\n",
    "    # load all 9 files as a single array\n",
    "    filenames = list()\n",
    "    # total acceleration\n",
    "    filenames += ['total_acc_x_'+group+'.txt', 'total_acc_y_'+group+'.txt', 'total_acc_z_'+group+'.txt']\n",
    "    # body acceleration\n",
    "    filenames += ['body_acc_x_'+group+'.txt', 'body_acc_y_'+group+'.txt', 'body_acc_z_'+group+'.txt']\n",
    "    # body gyroscope\n",
    "    filenames += ['body_gyro_x_'+group+'.txt', 'body_gyro_y_'+group+'.txt', 'body_gyro_z_'+group+'.txt']\n",
    "    # load input data\n",
    "    X = load_group(filenames, filepath)\n",
    "    # load class output\n",
    "    y = load_file(prefix + group + '/y_'+group+'.txt')\n",
    "    return X, y"
   ]
  },
  {
   "cell_type": "markdown",
   "metadata": {},
   "source": [
    "keras.utils.to_categorical will make the one hot targets.\n",
    "to see the difference you can comapre the output of those two"
   ]
  },
  {
   "cell_type": "code",
   "execution_count": 98,
   "metadata": {},
   "outputs": [],
   "source": [
    "X, y = load_dataset_group('test')\n",
    "yc = keras.utils.to_categorical(y)"
   ]
  },
  {
   "cell_type": "code",
   "execution_count": 100,
   "metadata": {},
   "outputs": [
    {
     "name": "stdout",
     "output_type": "stream",
     "text": [
      "[[5]\n",
      " [5]\n",
      " [5]\n",
      " ...\n",
      " [2]\n",
      " [2]\n",
      " [2]]\n",
      "[[0. 0. 0. ... 0. 1. 0.]\n",
      " [0. 0. 0. ... 0. 1. 0.]\n",
      " [0. 0. 0. ... 0. 1. 0.]\n",
      " ...\n",
      " [0. 0. 1. ... 0. 0. 0.]\n",
      " [0. 0. 1. ... 0. 0. 0.]\n",
      " [0. 0. 1. ... 0. 0. 0.]]\n"
     ]
    },
    {
     "data": {
      "text/plain": [
       "(2947, 7)"
      ]
     },
     "execution_count": 100,
     "metadata": {},
     "output_type": "execute_result"
    }
   ],
   "source": [
    "print(y)\n",
    "print(yc)\n",
    "yc.shape"
   ]
  },
  {
   "cell_type": "code",
   "execution_count": 119,
   "metadata": {},
   "outputs": [],
   "source": [
    "# load the dataset, returns train and test X and y elements\n",
    "def load_dataset(prefix=''):\n",
    "    # load all train\n",
    "    trainX, trainy = load_dataset_group('train')\n",
    "    print(trainX.shape, trainy.shape)\n",
    "    # load all test\n",
    "    testX, testy = load_dataset_group('test')\n",
    "    print(testX.shape, testy.shape)\n",
    "    # zero-offset class values\n",
    "    trainy = trainy - 1\n",
    "    testy = testy - 1\n",
    "    # one hot encode y\n",
    "    trainy = keras.utils.to_categorical(trainy)\n",
    "    testy = keras.utils.to_categorical(testy)\n",
    "    print(trainX.shape, trainy.shape, testX.shape, testy.shape)\n",
    "    return trainX, trainy, testX, testy"
   ]
  },
  {
   "cell_type": "code",
   "execution_count": 151,
   "metadata": {},
   "outputs": [
    {
     "data": {
      "image/png": "[encoded data removed]",
      "text/plain": [
       "<Figure size 432x288 with 1 Axes>"
      ]
     },
     "metadata": {
      "needs_background": "light"
     },
     "output_type": "display_data"
    }
   ],
   "source": [
    "plt.plot(trainX[2][:,0])\n",
    "n_timesteps, n_features, n_outputs = trainX.shape[1], trainX.shape[2], trainy.shape[1]"
   ]
  },
  {
   "cell_type": "code",
   "execution_count": 123,
   "metadata": {},
   "outputs": [],
   "source": [
    "from keras.models import Sequential\n",
    "from keras.layers import Conv1D, Dropout, MaxPool1D, Flatten, Dense\n",
    "\n",
    "model = Sequential()\n",
    "model.add(Conv1D(filters=64, kernel_size=3, activation='relu', input_shape=(n_timesteps,n_features)))\n",
    "model.add(Conv1D(filters=64, kernel_size=3, activation='relu'))\n",
    "model.add(Dropout(0.5))\n",
    "model.add(MaxPooling1D(pool_size=2))\n",
    "model.add(Flatten())\n",
    "model.add(Dense(100, activation='relu'))\n",
    "model.add(Dense(n_outputs, activation='softmax'))\n",
    "model.compile(loss='categorical_crossentropy', optimizer='adam', metrics=['accuracy'])"
   ]
  },
  {
   "cell_type": "code",
   "execution_count": 134,
   "metadata": {},
   "outputs": [],
   "source": [
    "def evaluate_model(trainX, trainy, testX, testy):\n",
    "    verbose, epochs, batch_size = 0, 10, 32\n",
    "    n_timesteps, n_features, n_outputs = trainX.shape[1], trainX.shape[2], trainy.shape[1]\n",
    "    \n",
    "    model = Sequential()\n",
    "    model.add(Conv1D(filters=64, kernel_size=3, activation='relu', input_shape=(n_timesteps,n_features)))\n",
    "    model.add(Conv1D(filters=64, kernel_size=3, activation='relu'))\n",
    "    model.add(Dropout(0.5))\n",
    "    model.add(MaxPooling1D(pool_size=2))\n",
    "    model.add(Flatten())\n",
    "    model.add(Dense(100, activation='relu'))\n",
    "    model.add(Dense(n_outputs, activation='softmax'))\n",
    "    model.compile(loss='categorical_crossentropy', optimizer='adam', metrics=['accuracy'])\n",
    "\n",
    "    model.fit(trainX, trainy, epochs=epochs, batch_size=batch_size)\n",
    "    _, accuracy = model.evaluate(testX, testy, batch_size=10)\n",
    "    return accuracy"
   ]
  },
  {
   "cell_type": "code",
   "execution_count": 129,
   "metadata": {},
   "outputs": [
    {
     "name": "stdout",
     "output_type": "stream",
     "text": [
      "Epoch 1/10\n",
      "7352/7352 [==============================] - 4s 561us/step - loss: 0.3959 - acc: 0.8424\n",
      "Epoch 2/10\n",
      "7352/7352 [==============================] - 4s 500us/step - loss: 0.1430 - acc: 0.9419\n",
      "Epoch 3/10\n",
      "7352/7352 [==============================] - 4s 513us/step - loss: 0.1271 - acc: 0.9460\n",
      "Epoch 4/10\n",
      "7352/7352 [==============================] - 4s 500us/step - loss: 0.1109 - acc: 0.9529\n",
      "Epoch 5/10\n",
      "7352/7352 [==============================] - 4s 532us/step - loss: 0.0984 - acc: 0.9573\n",
      "Epoch 6/10\n",
      "7352/7352 [==============================] - 4s 501us/step - loss: 0.0970 - acc: 0.9551\n",
      "Epoch 7/10\n",
      "7352/7352 [==============================] - 4s 507us/step - loss: 0.1175 - acc: 0.9529\n",
      "Epoch 8/10\n",
      "7352/7352 [==============================] - 4s 543us/step - loss: 0.1001 - acc: 0.9561\n",
      "Epoch 9/10\n",
      "7352/7352 [==============================] - 4s 519us/step - loss: 0.0825 - acc: 0.9614\n",
      "Epoch 10/10\n",
      "7352/7352 [==============================] - 4s 514us/step - loss: 0.0808 - acc: 0.9625\n"
     ]
    },
    {
     "data": {
      "text/plain": [
       "<keras.callbacks.History at 0x7f02941e52e8>"
      ]
     },
     "execution_count": 129,
     "metadata": {},
     "output_type": "execute_result"
    }
   ],
   "source": [
    "model.fit(trainX, trainy, epochs=10, batch_size=32)"
   ]
  },
  {
   "cell_type": "code",
   "execution_count": 133,
   "metadata": {},
   "outputs": [
    {
     "name": "stdout",
     "output_type": "stream",
     "text": [
      "2947/2947 [==============================] - 1s 187us/step\n",
      "0.9022734978258063\n"
     ]
    }
   ],
   "source": [
    "_, accuracy = model.evaluate(testX, testy, batch_size=10)\n",
    "print(accuracy)"
   ]
  },
  {
   "cell_type": "code",
   "execution_count": 136,
   "metadata": {},
   "outputs": [
    {
     "name": "stdout",
     "output_type": "stream",
     "text": [
      "Epoch 1/10\n",
      "7352/7352 [==============================] - 4s 579us/step - loss: 0.3971 - acc: 0.8414\n",
      "Epoch 2/10\n",
      "7352/7352 [==============================] - 4s 507us/step - loss: 0.1400 - acc: 0.9446\n",
      "Epoch 3/10\n",
      "7352/7352 [==============================] - 4s 507us/step - loss: 0.1210 - acc: 0.9504\n",
      "Epoch 4/10\n",
      "7352/7352 [==============================] - 4s 531us/step - loss: 0.1170 - acc: 0.9533\n",
      "Epoch 5/10\n",
      "7352/7352 [==============================] - 4s 525us/step - loss: 0.1016 - acc: 0.9572\n",
      "Epoch 6/10\n",
      "7352/7352 [==============================] - 4s 509us/step - loss: 0.1004 - acc: 0.9559\n",
      "Epoch 7/10\n",
      "7352/7352 [==============================] - 4s 517us/step - loss: 0.0998 - acc: 0.9558\n",
      "Epoch 8/10\n",
      "7352/7352 [==============================] - 4s 523us/step - loss: 0.1121 - acc: 0.9551\n",
      "Epoch 9/10\n",
      "7352/7352 [==============================] - 4s 521us/step - loss: 0.0971 - acc: 0.9580\n",
      "Epoch 10/10\n",
      "7352/7352 [==============================] - 4s 523us/step - loss: 0.0804 - acc: 0.9630\n",
      "2947/2947 [==============================] - 1s 234us/step\n",
      ">#1: 91.415\n",
      "Epoch 1/10\n",
      "7352/7352 [==============================] - 5s 645us/step - loss: 0.3653 - acc: 0.8545\n",
      "Epoch 2/10\n",
      "7352/7352 [==============================] - 4s 568us/step - loss: 0.1330 - acc: 0.9471\n",
      "Epoch 3/10\n",
      "7352/7352 [==============================] - 4s 522us/step - loss: 0.1136 - acc: 0.9504\n",
      "Epoch 4/10\n",
      "7352/7352 [==============================] - 4s 572us/step - loss: 0.1246 - acc: 0.9489\n",
      "Epoch 5/10\n",
      "7352/7352 [==============================] - 4s 564us/step - loss: 0.1070 - acc: 0.9543\n",
      "Epoch 6/10\n",
      "7352/7352 [==============================] - 4s 559us/step - loss: 0.1005 - acc: 0.9570\n",
      "Epoch 7/10\n",
      "7352/7352 [==============================] - 5s 652us/step - loss: 0.0889 - acc: 0.9591\n",
      "Epoch 8/10\n",
      "7352/7352 [==============================] - 5s 733us/step - loss: 0.0906 - acc: 0.9595\n",
      "Epoch 9/10\n",
      "7352/7352 [==============================] - 5s 694us/step - loss: 0.0796 - acc: 0.9635\n",
      "Epoch 10/10\n",
      "7352/7352 [==============================] - 4s 535us/step - loss: 0.0788 - acc: 0.9634\n",
      "2947/2947 [==============================] - 1s 248us/step\n",
      ">#2: 90.974\n",
      "Epoch 1/10\n",
      "7352/7352 [==============================] - 5s 612us/step - loss: 0.3701 - acc: 0.8535\n",
      "Epoch 2/10\n",
      "7352/7352 [==============================] - 4s 519us/step - loss: 0.1500 - acc: 0.9385\n",
      "Epoch 3/10\n",
      "7352/7352 [==============================] - 4s 517us/step - loss: 0.1315 - acc: 0.9460\n",
      "Epoch 4/10\n",
      "7352/7352 [==============================] - 4s 523us/step - loss: 0.1152 - acc: 0.9482\n",
      "Epoch 5/10\n",
      "7352/7352 [==============================] - 4s 526us/step - loss: 0.0986 - acc: 0.9565\n",
      "Epoch 6/10\n",
      "7352/7352 [==============================] - 4s 523us/step - loss: 0.0929 - acc: 0.9581\n",
      "Epoch 7/10\n",
      "7352/7352 [==============================] - 4s 519us/step - loss: 0.1011 - acc: 0.9555\n",
      "Epoch 8/10\n",
      "7352/7352 [==============================] - 4s 521us/step - loss: 0.1155 - acc: 0.9536\n",
      "Epoch 9/10\n",
      "7352/7352 [==============================] - 4s 516us/step - loss: 0.0809 - acc: 0.9629\n",
      "Epoch 10/10\n",
      "7352/7352 [==============================] - 4s 520us/step - loss: 0.0800 - acc: 0.9649\n",
      "2947/2947 [==============================] - 1s 263us/step\n",
      ">#3: 90.702\n",
      "Epoch 1/10\n",
      "7352/7352 [==============================] - 4s 611us/step - loss: 0.3879 - acc: 0.8430\n",
      "Epoch 2/10\n",
      "7352/7352 [==============================] - 4s 526us/step - loss: 0.1447 - acc: 0.9422\n",
      "Epoch 3/10\n",
      "7352/7352 [==============================] - 4s 521us/step - loss: 0.1162 - acc: 0.9518\n",
      "Epoch 4/10\n",
      "7352/7352 [==============================] - 4s 514us/step - loss: 0.1204 - acc: 0.9505\n",
      "Epoch 5/10\n",
      "7352/7352 [==============================] - 4s 511us/step - loss: 0.1047 - acc: 0.9528\n",
      "Epoch 6/10\n",
      "7352/7352 [==============================] - 4s 513us/step - loss: 0.0960 - acc: 0.9606\n",
      "Epoch 7/10\n",
      "7352/7352 [==============================] - 4s 511us/step - loss: 0.1096 - acc: 0.9546\n",
      "Epoch 8/10\n",
      "7352/7352 [==============================] - 4s 509us/step - loss: 0.0853 - acc: 0.9633\n",
      "Epoch 9/10\n",
      "7352/7352 [==============================] - 4s 514us/step - loss: 0.0821 - acc: 0.9634\n",
      "Epoch 10/10\n",
      "7352/7352 [==============================] - 4s 510us/step - loss: 0.0759 - acc: 0.9641\n",
      "2947/2947 [==============================] - 1s 262us/step\n",
      ">#4: 91.313\n",
      "Epoch 1/10\n",
      "7352/7352 [==============================] - 4s 605us/step - loss: 0.3752 - acc: 0.8515\n",
      "Epoch 2/10\n",
      "7352/7352 [==============================] - 4s 512us/step - loss: 0.1348 - acc: 0.9438\n",
      "Epoch 3/10\n",
      "7352/7352 [==============================] - 4s 510us/step - loss: 0.1053 - acc: 0.9529\n",
      "Epoch 4/10\n",
      "7352/7352 [==============================] - 4s 521us/step - loss: 0.0973 - acc: 0.9596\n",
      "Epoch 5/10\n",
      "7352/7352 [==============================] - 4s 513us/step - loss: 0.0944 - acc: 0.9580\n",
      "Epoch 6/10\n",
      "7352/7352 [==============================] - 4s 518us/step - loss: 0.0835 - acc: 0.9604\n",
      "Epoch 7/10\n",
      "7352/7352 [==============================] - 4s 567us/step - loss: 0.1002 - acc: 0.9546\n",
      "Epoch 8/10\n",
      "7352/7352 [==============================] - 5s 637us/step - loss: 0.0770 - acc: 0.9634\n",
      "Epoch 9/10\n",
      "7352/7352 [==============================] - 4s 555us/step - loss: 0.0760 - acc: 0.9614\n",
      "Epoch 10/10\n",
      "7352/7352 [==============================] - 4s 581us/step - loss: 0.0736 - acc: 0.9661\n",
      "2947/2947 [==============================] - 1s 346us/step\n",
      ">#5: 90.668\n",
      "Epoch 1/10\n",
      "7352/7352 [==============================] - 6s 804us/step - loss: 0.3850 - acc: 0.8434\n",
      "Epoch 2/10\n",
      "7352/7352 [==============================] - 4s 601us/step - loss: 0.1422 - acc: 0.9438\n",
      "Epoch 3/10\n",
      "7352/7352 [==============================] - 4s 555us/step - loss: 0.1173 - acc: 0.9521\n",
      "Epoch 4/10\n",
      "7352/7352 [==============================] - 4s 566us/step - loss: 0.1037 - acc: 0.9558\n",
      "Epoch 5/10\n",
      "7352/7352 [==============================] - 4s 536us/step - loss: 0.1061 - acc: 0.9543\n",
      "Epoch 6/10\n",
      "7352/7352 [==============================] - 4s 555us/step - loss: 0.1002 - acc: 0.9581\n",
      "Epoch 7/10\n",
      "7352/7352 [==============================] - 4s 549us/step - loss: 0.0953 - acc: 0.9591\n",
      "Epoch 8/10\n",
      "7352/7352 [==============================] - 4s 529us/step - loss: 0.0837 - acc: 0.9630\n",
      "Epoch 9/10\n",
      "7352/7352 [==============================] - 4s 537us/step - loss: 0.1046 - acc: 0.9578\n",
      "Epoch 10/10\n",
      "7352/7352 [==============================] - 4s 536us/step - loss: 0.0827 - acc: 0.9625\n",
      "2947/2947 [==============================] - 1s 327us/step\n",
      ">#6: 90.702\n",
      "Epoch 1/10\n",
      "7352/7352 [==============================] - 5s 656us/step - loss: 0.3496 - acc: 0.8609\n",
      "Epoch 2/10\n",
      "7352/7352 [==============================] - 4s 538us/step - loss: 0.1391 - acc: 0.9429\n",
      "Epoch 3/10\n",
      "7352/7352 [==============================] - 4s 537us/step - loss: 0.1096 - acc: 0.9531\n",
      "Epoch 4/10\n",
      "7352/7352 [==============================] - 4s 535us/step - loss: 0.1217 - acc: 0.9491\n",
      "Epoch 5/10\n",
      "7352/7352 [==============================] - 4s 509us/step - loss: 0.1035 - acc: 0.9528\n",
      "Epoch 6/10\n",
      "7352/7352 [==============================] - 4s 509us/step - loss: 0.1076 - acc: 0.9554\n",
      "Epoch 7/10\n",
      "7352/7352 [==============================] - 4s 509us/step - loss: 0.0959 - acc: 0.9591\n",
      "Epoch 8/10\n",
      "7352/7352 [==============================] - 4s 507us/step - loss: 0.0900 - acc: 0.9577\n",
      "Epoch 9/10\n",
      "7352/7352 [==============================] - 4s 515us/step - loss: 0.1037 - acc: 0.9535\n",
      "Epoch 10/10\n",
      "7352/7352 [==============================] - 4s 504us/step - loss: 0.0977 - acc: 0.9595\n",
      "2947/2947 [==============================] - 1s 299us/step\n",
      ">#7: 90.872\n",
      "Epoch 1/10\n",
      "7352/7352 [==============================] - 5s 628us/step - loss: 0.3598 - acc: 0.8520\n",
      "Epoch 2/10\n",
      "7352/7352 [==============================] - 4s 511us/step - loss: 0.1436 - acc: 0.9411\n",
      "Epoch 3/10\n",
      "7352/7352 [==============================] - 4s 507us/step - loss: 0.1193 - acc: 0.9499\n",
      "Epoch 4/10\n",
      "7352/7352 [==============================] - 4s 513us/step - loss: 0.1039 - acc: 0.9555\n",
      "Epoch 5/10\n",
      "7352/7352 [==============================] - 4s 519us/step - loss: 0.0977 - acc: 0.9567\n",
      "Epoch 6/10\n",
      "7352/7352 [==============================] - 4s 518us/step - loss: 0.0914 - acc: 0.9577\n",
      "Epoch 7/10\n",
      "7352/7352 [==============================] - 4s 515us/step - loss: 0.1065 - acc: 0.9548\n",
      "Epoch 8/10\n"
     ]
    },
    {
     "name": "stdout",
     "output_type": "stream",
     "text": [
      "7352/7352 [==============================] - 3s 470us/step - loss: 0.0848 - acc: 0.9608\n",
      "Epoch 9/10\n",
      "7352/7352 [==============================] - 3s 466us/step - loss: 0.0758 - acc: 0.9652\n",
      "Epoch 10/10\n",
      "7352/7352 [==============================] - 3s 467us/step - loss: 0.0769 - acc: 0.9676\n",
      "2947/2947 [==============================] - 1s 293us/step\n",
      ">#8: 92.263\n",
      "Epoch 1/10\n",
      "7352/7352 [==============================] - 4s 594us/step - loss: 0.3933 - acc: 0.8414\n",
      "Epoch 2/10\n",
      "7352/7352 [==============================] - 3s 472us/step - loss: 0.1646 - acc: 0.9365\n",
      "Epoch 3/10\n",
      "7352/7352 [==============================] - 4s 491us/step - loss: 0.1230 - acc: 0.9499\n",
      "Epoch 4/10\n",
      "7352/7352 [==============================] - 3s 473us/step - loss: 0.1108 - acc: 0.9548\n",
      "Epoch 5/10\n",
      "7352/7352 [==============================] - 3s 473us/step - loss: 0.1109 - acc: 0.9525\n",
      "Epoch 6/10\n",
      "7352/7352 [==============================] - 3s 470us/step - loss: 0.1011 - acc: 0.9557\n",
      "Epoch 7/10\n",
      "7352/7352 [==============================] - 3s 471us/step - loss: 0.0960 - acc: 0.9569\n",
      "Epoch 8/10\n",
      "7352/7352 [==============================] - 3s 470us/step - loss: 0.1012 - acc: 0.9567\n",
      "Epoch 9/10\n",
      "7352/7352 [==============================] - 3s 472us/step - loss: 0.0892 - acc: 0.9578\n",
      "Epoch 10/10\n",
      "7352/7352 [==============================] - 3s 471us/step - loss: 0.0817 - acc: 0.9614\n",
      "2947/2947 [==============================] - 1s 301us/step\n",
      ">#9: 90.295\n",
      "Epoch 1/10\n",
      "7352/7352 [==============================] - 5s 633us/step - loss: 0.4052 - acc: 0.8425\n",
      "Epoch 2/10\n",
      "7352/7352 [==============================] - 4s 478us/step - loss: 0.1534 - acc: 0.9392\n",
      "Epoch 3/10\n",
      "7352/7352 [==============================] - 4s 478us/step - loss: 0.1241 - acc: 0.9487\n",
      "Epoch 4/10\n",
      "7352/7352 [==============================] - 4s 478us/step - loss: 0.1226 - acc: 0.9490\n",
      "Epoch 5/10\n",
      "7352/7352 [==============================] - 4s 484us/step - loss: 0.1045 - acc: 0.9544\n",
      "Epoch 6/10\n",
      "7352/7352 [==============================] - 4s 477us/step - loss: 0.0970 - acc: 0.9588\n",
      "Epoch 7/10\n",
      "7352/7352 [==============================] - 3s 475us/step - loss: 0.0926 - acc: 0.9600\n",
      "Epoch 8/10\n",
      "7352/7352 [==============================] - 3s 473us/step - loss: 0.0969 - acc: 0.9600\n",
      "Epoch 9/10\n",
      "7352/7352 [==============================] - 4s 484us/step - loss: 0.0967 - acc: 0.9597\n",
      "Epoch 10/10\n",
      "7352/7352 [==============================] - 4s 525us/step - loss: 0.0785 - acc: 0.9645\n",
      "2947/2947 [==============================] - 1s 338us/step\n",
      ">#10: 90.974\n"
     ]
    }
   ],
   "source": [
    "scores = list()\n",
    "repeats = 10\n",
    "for r in range(repeats):\n",
    "    score = evaluate_model(trainX, trainy, testX, testy)\n",
    "    score = score * 100\n",
    "    print('>#%d: %.3f' % (r+1, score))\n",
    "    scores.append(score)"
   ]
  },
  {
   "cell_type": "code",
   "execution_count": 137,
   "metadata": {},
   "outputs": [
    {
     "data": {
      "text/plain": [
       "[91.41499823358126,\n",
       " 90.97387159441057,\n",
       " 90.70240917966696,\n",
       " 91.31319975505086,\n",
       " 90.6684763686593,\n",
       " 90.70240912657492,\n",
       " 90.87207326757168,\n",
       " 92.26331855680807,\n",
       " 90.29521535150391,\n",
       " 90.97387165761536]"
      ]
     },
     "execution_count": 137,
     "metadata": {},
     "output_type": "execute_result"
    }
   ],
   "source": [
    "scores"
   ]
  },
  {
   "cell_type": "code",
   "execution_count": 140,
   "metadata": {},
   "outputs": [],
   "source": [
    "def summarize_resluts(scores):\n",
    "    print(scores)\n",
    "    m, s= np.mean(scores), np.std(scores)\n",
    "    print('Accuracy: %.3f%% (+/-%.3f)' % (m,s))"
   ]
  },
  {
   "cell_type": "code",
   "execution_count": 141,
   "metadata": {},
   "outputs": [
    {
     "name": "stdout",
     "output_type": "stream",
     "text": [
      "[91.41499823358126, 90.97387159441057, 90.70240917966696, 91.31319975505086, 90.6684763686593, 90.70240912657492, 90.87207326757168, 92.26331855680807, 90.29521535150391, 90.97387165761536]\n",
      "Accuracy: 91.018% (+/-0.516)\n"
     ]
    }
   ],
   "source": [
    "summarize_resluts(scores)"
   ]
  },
  {
   "cell_type": "code",
   "execution_count": 142,
   "metadata": {},
   "outputs": [],
   "source": [
    "# run an experiment\n",
    "def run_experiment(repeats=10):\n",
    "    # load data\n",
    "    trainX, trainy, testX, testy = load_dataset()\n",
    "    # repeat experiment\n",
    "    scores = list()\n",
    "    for r in range(repeats):\n",
    "        score = evaluate_model(trainX, trainy, testX, testy)\n",
    "        score = score * 100.0\n",
    "        print('>#%d: %.3f' % (r+1, score))\n",
    "        scores.append(score)\n",
    "    # summarize results\n",
    "    summarize_results(scores)"
   ]
  },
  {
   "cell_type": "code",
   "execution_count": 176,
   "metadata": {},
   "outputs": [],
   "source": [
    "cut = int(trainX.shape[1]/2)\n",
    "longX = trainX[:, -cut:, :]\n",
    "longX = longX.reshape(longX.shape[0]* longX.shape[1], longX.shape[2])"
   ]
  },
  {
   "cell_type": "code",
   "execution_count": 177,
   "metadata": {},
   "outputs": [
    {
     "data": {
      "text/plain": [
       "(470528, 9)"
      ]
     },
     "execution_count": 177,
     "metadata": {},
     "output_type": "execute_result"
    }
   ],
   "source": [
    "longX.shape"
   ]
  },
  {
   "cell_type": "code",
   "execution_count": 184,
   "metadata": {},
   "outputs": [],
   "source": [
    "def plot_variable_distributions(trainX):\n",
    "    # remove overlap\n",
    "    cut = int(trainX.shape[1] / 2)\n",
    "    longX = trainX[:, -cut:, :]\n",
    "    # flatten windows\n",
    "    longX = longX.reshape((longX.shape[0] * longX.shape[1], longX.shape[2]))\n",
    "    print(longX.shape)\n",
    "    plt.figure()\n",
    "    xaxis = None\n",
    "    for i in range(longX.shape[1]):\n",
    "        ax = plt.subplot(longX.shape[1], 1, i+1, sharex=xaxis)\n",
    "        ax.set_xlim(-1, 1)\n",
    "        if i == 0:\n",
    "            xaxis = ax\n",
    "        plt.hist(longX[:, i], bins=100)\n",
    "    plt.show()"
   ]
  },
  {
   "cell_type": "code",
   "execution_count": 185,
   "metadata": {},
   "outputs": [
    {
     "name": "stdout",
     "output_type": "stream",
     "text": [
      "(470528, 9)\n"
     ]
    },
    {
     "data": {
      "image/png": "[encoded data removed]",
      "text/plain": [
       "<Figure size 432x288 with 9 Axes>"
      ]
     },
     "metadata": {
      "needs_background": "light"
     },
     "output_type": "display_data"
    }
   ],
   "source": [
    "plot_variable_distributions(trainX)"
   ]
  },
  {
   "cell_type": "markdown",
   "metadata": {},
   "source": [
    "The order of the plots matches the order in which the data was loaded, specifically:\n",
    "\n",
    "1. Total Acceleration x\n",
    "2. Total Acceleration y\n",
    "3. Total Acceleration z\n",
    "4. Body Acceleration x\n",
    "5. Body Acceleration y\n",
    "6. Body Acceleration z\n",
    "7. Body Gyroscope x\n",
    "8. Body Gyroscope y\n",
    "9. Body Gyroscope z"
   ]
  },
  {
   "cell_type": "code",
   "execution_count": 190,
   "metadata": {},
   "outputs": [],
   "source": [
    "from sklearn.preprocessing import StandardScaler\n",
    "# standardize data\n",
    "def scale_data(trainX, testX, standardize):\n",
    "    # remove overlap\n",
    "    cut = int(trainX.shape[1] / 2)\n",
    "    longX = trainX[:, -cut:, :]\n",
    "    # flatten windows\n",
    "    longX = longX.reshape((longX.shape[0] * longX.shape[1], longX.shape[2]))\n",
    "    # flatten train and test\n",
    "    flatTrainX = trainX.reshape((trainX.shape[0] * trainX.shape[1], trainX.shape[2]))\n",
    "    flatTestX = testX.reshape((testX.shape[0] * testX.shape[1], testX.shape[2]))\n",
    "    # standardize\n",
    "    if standardize:\n",
    "        s = StandardScaler()\n",
    "        # fit on training data\n",
    "        s.fit(longX)\n",
    "        # apply to training and test data\n",
    "        longX = s.transform(longX)\n",
    "        flatTrainX = s.transform(flatTrainX)\n",
    "        flatTestX = s.transform(flatTestX)\n",
    "    # reshape\n",
    "    flatTrainX = flatTrainX.reshape((trainX.shape))\n",
    "    flatTestX = flatTestX.reshape((testX.shape))\n",
    "    return flatTrainX, flatTestX"
   ]
  },
  {
   "cell_type": "markdown",
   "metadata": {},
   "source": [
    "What is the differnce between fit and transform?\n",
    "see this useful article :\n",
    "https://datascience.stackexchange.com/questions/12321/difference-between-fit-and-fit-transform-in-scikit-learn-models"
   ]
  },
  {
   "cell_type": "code",
   "execution_count": 195,
   "metadata": {},
   "outputs": [],
   "source": [
    "# fit and evaluate a model\n",
    "def evaluate_model(trainX, trainy, testX, testy, param):\n",
    "    verbose, epochs, batch_size = 0, 10, 32\n",
    "    n_timesteps, n_features, n_outputs = trainX.shape[1], trainX.shape[2], trainy.shape[1]\n",
    "    # scale data\n",
    "    trainX, testX = scale_data(trainX, testX, param)\n",
    "    model = Sequential()\n",
    "    model.add(Conv1D(filters=64, kernel_size=3, activation='relu', input_shape=(n_timesteps,n_features)))\n",
    "    model.add(Conv1D(filters=64, kernel_size=3, activation='relu'))\n",
    "    model.add(Dropout(0.5))\n",
    "    model.add(MaxPooling1D(pool_size=2))\n",
    "    model.add(Flatten())\n",
    "    model.add(Dense(100, activation='relu'))\n",
    "    model.add(Dense(n_outputs, activation='softmax'))\n",
    "    model.compile(loss='categorical_crossentropy', optimizer='adam', metrics=['accuracy'])\n",
    "    # fit network\n",
    "    model.fit(trainX, trainy, epochs=epochs, batch_size=batch_size, verbose=verbose)\n",
    "    # evaluate model\n",
    "    _, accuracy = model.evaluate(testX, testy, batch_size=batch_size, verbose=0)\n",
    "    return accuracy"
   ]
  },
  {
   "cell_type": "code",
   "execution_count": 196,
   "metadata": {},
   "outputs": [],
   "source": [
    "# run an experiment\n",
    "def run_experiment(params, repeats=10):\n",
    "    # load data\n",
    "    trainX, trainy, testX, testy = load_dataset()\n",
    "    # test each parameter\n",
    "    all_scores = list()\n",
    "    for p in params:\n",
    "        # repeat experiment\n",
    "        scores = list()\n",
    "        for r in range(repeats):\n",
    "            score = evaluate_model(trainX, trainy, testX, testy, p)\n",
    "            score = score * 100.0\n",
    "            print('>p=%d #%d: %.3f' % (p, r+1, score))\n",
    "            scores.append(score)\n",
    "        all_scores.append(scores)\n",
    "    # summarize results\n",
    "    summarize_results(all_scores, params)"
   ]
  },
  {
   "cell_type": "code",
   "execution_count": 197,
   "metadata": {},
   "outputs": [],
   "source": [
    "# summarize scores\n",
    "def summarize_results(scores, params):\n",
    "    print(scores, params)\n",
    "    # summarize mean and standard deviation\n",
    "    for i in range(len(scores)):\n",
    "        m, s = mean(scores[i]), std(scores[i])\n",
    "        print('Param=%d: %.3f%% (+/-%.3f)' % (params[i], m, s))\n",
    "    # boxplot of scores\n",
    "    pyplot.boxplot(scores, labels=params)\n",
    "    pyplot.savefig('exp_cnn_standardize.png')"
   ]
  },
  {
   "cell_type": "code",
   "execution_count": 199,
   "metadata": {},
   "outputs": [
    {
     "name": "stdout",
     "output_type": "stream",
     "text": [
      "(7352, 128, 9) (7352, 1)\n",
      "(2947, 128, 9) (2947, 1)\n",
      "(7352, 128, 9) (7352, 6) (2947, 128, 9) (2947, 6)\n",
      ">p=0 #1: 90.601\n",
      ">p=0 #2: 91.076\n",
      ">p=0 #3: 90.092\n",
      ">p=0 #4: 90.499\n",
      ">p=0 #5: 89.311\n",
      ">p=0 #6: 91.449\n",
      ">p=0 #7: 89.922\n",
      ">p=0 #8: 90.329\n",
      ">p=0 #9: 91.008\n",
      ">p=0 #10: 90.465\n",
      ">p=1 #1: 91.856\n",
      ">p=1 #2: 91.415\n",
      ">p=1 #3: 92.026\n",
      ">p=1 #4: 91.415\n",
      ">p=1 #5: 92.806\n",
      ">p=1 #6: 91.585\n",
      ">p=1 #7: 90.227\n",
      ">p=1 #8: 90.804\n",
      ">p=1 #9: 91.381\n",
      ">p=1 #10: 91.686\n",
      "[[90.60061079063453, 91.07567017305735, 90.09161859518154, 90.49881235154395, 89.31116389548693, 91.44893111638956, 89.92195453003053, 90.32914828639295, 91.00780454699695, 90.46487953851374], [91.85612487275195, 91.41499830335935, 92.02578893790296, 91.41499830335935, 92.80624363759755, 91.58466236851035, 90.22734984730234, 90.80420766881574, 91.38106549032915, 91.68646080760095]] [False, True]\n"
     ]
    },
    {
     "ename": "NameError",
     "evalue": "name 'mean' is not defined",
     "output_type": "error",
     "traceback": [
      "\u001b[0;31m---------------------------------------------------------------------------\u001b[0m",
      "\u001b[0;31mNameError\u001b[0m                                 Traceback (most recent call last)",
      "\u001b[0;32m<ipython-input-199-d11bf117cb06>\u001b[0m in \u001b[0;36m<module>\u001b[0;34m\u001b[0m\n\u001b[0;32m----> 1\u001b[0;31m \u001b[0mrun_experiment\u001b[0m\u001b[0;34m(\u001b[0m\u001b[0;34m[\u001b[0m\u001b[0;32mFalse\u001b[0m\u001b[0;34m,\u001b[0m \u001b[0;32mTrue\u001b[0m\u001b[0;34m]\u001b[0m\u001b[0;34m,\u001b[0m\u001b[0;36m10\u001b[0m\u001b[0;34m)\u001b[0m\u001b[0;34m\u001b[0m\u001b[0;34m\u001b[0m\u001b[0m\n\u001b[0m",
      "\u001b[0;32m<ipython-input-196-279beb1b0ea2>\u001b[0m in \u001b[0;36mrun_experiment\u001b[0;34m(params, repeats)\u001b[0m\n\u001b[1;32m     15\u001b[0m         \u001b[0mall_scores\u001b[0m\u001b[0;34m.\u001b[0m\u001b[0mappend\u001b[0m\u001b[0;34m(\u001b[0m\u001b[0mscores\u001b[0m\u001b[0;34m)\u001b[0m\u001b[0;34m\u001b[0m\u001b[0;34m\u001b[0m\u001b[0m\n\u001b[1;32m     16\u001b[0m     \u001b[0;31m# summarize results\u001b[0m\u001b[0;34m\u001b[0m\u001b[0;34m\u001b[0m\u001b[0;34m\u001b[0m\u001b[0m\n\u001b[0;32m---> 17\u001b[0;31m     \u001b[0msummarize_results\u001b[0m\u001b[0;34m(\u001b[0m\u001b[0mall_scores\u001b[0m\u001b[0;34m,\u001b[0m \u001b[0mparams\u001b[0m\u001b[0;34m)\u001b[0m\u001b[0;34m\u001b[0m\u001b[0;34m\u001b[0m\u001b[0m\n\u001b[0m",
      "\u001b[0;32m<ipython-input-197-f8709688fb98>\u001b[0m in \u001b[0;36msummarize_results\u001b[0;34m(scores, params)\u001b[0m\n\u001b[1;32m      4\u001b[0m     \u001b[0;31m# summarize mean and standard deviation\u001b[0m\u001b[0;34m\u001b[0m\u001b[0;34m\u001b[0m\u001b[0;34m\u001b[0m\u001b[0m\n\u001b[1;32m      5\u001b[0m     \u001b[0;32mfor\u001b[0m \u001b[0mi\u001b[0m \u001b[0;32min\u001b[0m \u001b[0mrange\u001b[0m\u001b[0;34m(\u001b[0m\u001b[0mlen\u001b[0m\u001b[0;34m(\u001b[0m\u001b[0mscores\u001b[0m\u001b[0;34m)\u001b[0m\u001b[0;34m)\u001b[0m\u001b[0;34m:\u001b[0m\u001b[0;34m\u001b[0m\u001b[0;34m\u001b[0m\u001b[0m\n\u001b[0;32m----> 6\u001b[0;31m         \u001b[0mm\u001b[0m\u001b[0;34m,\u001b[0m \u001b[0ms\u001b[0m \u001b[0;34m=\u001b[0m \u001b[0mmean\u001b[0m\u001b[0;34m(\u001b[0m\u001b[0mscores\u001b[0m\u001b[0;34m[\u001b[0m\u001b[0mi\u001b[0m\u001b[0;34m]\u001b[0m\u001b[0;34m)\u001b[0m\u001b[0;34m,\u001b[0m \u001b[0mstd\u001b[0m\u001b[0;34m(\u001b[0m\u001b[0mscores\u001b[0m\u001b[0;34m[\u001b[0m\u001b[0mi\u001b[0m\u001b[0;34m]\u001b[0m\u001b[0;34m)\u001b[0m\u001b[0;34m\u001b[0m\u001b[0;34m\u001b[0m\u001b[0m\n\u001b[0m\u001b[1;32m      7\u001b[0m         \u001b[0mprint\u001b[0m\u001b[0;34m(\u001b[0m\u001b[0;34m'Param=%d: %.3f%% (+/-%.3f)'\u001b[0m \u001b[0;34m%\u001b[0m \u001b[0;34m(\u001b[0m\u001b[0mparams\u001b[0m\u001b[0;34m[\u001b[0m\u001b[0mi\u001b[0m\u001b[0;34m]\u001b[0m\u001b[0;34m,\u001b[0m \u001b[0mm\u001b[0m\u001b[0;34m,\u001b[0m \u001b[0ms\u001b[0m\u001b[0;34m)\u001b[0m\u001b[0;34m)\u001b[0m\u001b[0;34m\u001b[0m\u001b[0;34m\u001b[0m\u001b[0m\n\u001b[1;32m      8\u001b[0m     \u001b[0;31m# boxplot of scores\u001b[0m\u001b[0;34m\u001b[0m\u001b[0;34m\u001b[0m\u001b[0;34m\u001b[0m\u001b[0m\n",
      "\u001b[0;31mNameError\u001b[0m: name 'mean' is not defined"
     ]
    }
   ],
   "source": [
    "run_experiment([False, True],10)"
   ]
  },
  {
   "cell_type": "code",
   "execution_count": null,
   "metadata": {},
   "outputs": [],
   "source": []
  }
 ],
 "metadata": {
  "kernelspec": {
   "display_name": "Python 3",
   "language": "python",
   "name": "python3"
  },
  "language_info": {
   "codemirror_mode": {
    "name": "ipython",
    "version": 3
   },
   "file_extension": ".py",
   "mimetype": "text/x-python",
   "name": "python",
   "nbconvert_exporter": "python",
   "pygments_lexer": "ipython3",
   "version": "3.7.3"
  }
 },
 "nbformat": 4,
 "nbformat_minor": 2
}
