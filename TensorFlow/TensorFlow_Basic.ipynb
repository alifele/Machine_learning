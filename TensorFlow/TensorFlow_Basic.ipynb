{
  "nbformat": 4,
  "nbformat_minor": 0,
  "metadata": {
    "colab": {
      "name": "TensorFlow.ipynb",
      "version": "0.3.2",
      "provenance": [],
      "include_colab_link": true
    },
    "kernelspec": {
      "name": "python3",
      "display_name": "Python 3"
    }
  },
  "cells": [
    {
      "cell_type": "markdown",
      "metadata": {
        "id": "view-in-github",
        "colab_type": "text"
      },
      "source": [
        "<a href=\"https://colab.research.google.com/github/alifele/Machine_learning/blob/master/TensorFlow/TensorFlow_Basic.ipynb\" target=\"_parent\"><img src=\"https://colab.research.google.com/assets/colab-badge.svg\" alt=\"Open In Colab\"/></a>"
      ]
    },
    {
      "cell_type": "markdown",
      "metadata": {
        "id": "PfI_S3i-1YvZ",
        "colab_type": "text"
      },
      "source": [
        "#Deep Learning With Tensor Flow"
      ]
    },
    {
      "cell_type": "code",
      "metadata": {
        "id": "Kbe4aCz40gYx",
        "colab_type": "code",
        "outputId": "594796f6-4b0e-48b4-d839-542df711bbae",
        "colab": {
          "base_uri": "https://localhost:8080/",
          "height": 34
        }
      },
      "source": [
        "import tensorflow as tf\n",
        "import matplotlib.pyplot as plt\n",
        "import numpy as np\n",
        "\n",
        "tf.__version__   #this will show us the verison of using tensorflow package"
      ],
      "execution_count": 2,
      "outputs": [
        {
          "output_type": "execute_result",
          "data": {
            "text/plain": [
              "'1.13.1'"
            ]
          },
          "metadata": {
            "tags": []
          },
          "execution_count": 2
        }
      ]
    },
    {
      "cell_type": "markdown",
      "metadata": {
        "id": "1viAt9SL1ve8",
        "colab_type": "text"
      },
      "source": [
        "#Importing data \n",
        "tensorflow its self have a variety of data sets which I am going to use the mnist"
      ]
    },
    {
      "cell_type": "code",
      "metadata": {
        "id": "BuTUDcI-1L8B",
        "colab_type": "code",
        "outputId": "25943172-c0e2-4442-8579-3a0710a2de7d",
        "colab": {
          "base_uri": "https://localhost:8080/",
          "height": 85
        }
      },
      "source": [
        "mnist = tf.keras.datasets.mnist  # 28 x 28 images of hand-written digits 0-9\n",
        "(X_train, y_train), (X_test, y_test) = mnist.load_data()\n",
        "print('the shape of X_train is : {}'.format(X_train.shape))\n",
        "print('the shape of X_test is : {}'.format(X_test.shape))"
      ],
      "execution_count": 3,
      "outputs": [
        {
          "output_type": "stream",
          "text": [
            "Downloading data from https://storage.googleapis.com/tensorflow/tf-keras-datasets/mnist.npz\n",
            "11493376/11490434 [==============================] - 0s 0us/step\n",
            "the shape of X_train is : (60000, 28, 28)\n",
            "the shape of X_test is : (10000, 28, 28)\n"
          ],
          "name": "stdout"
        }
      ]
    },
    {
      "cell_type": "markdown",
      "metadata": {
        "id": "6oMGpulr6R80",
        "colab_type": "text"
      },
      "source": [
        "And now lets visualize the data "
      ]
    },
    {
      "cell_type": "code",
      "metadata": {
        "id": "I3t-nySe2nFQ",
        "colab_type": "code",
        "outputId": "d56e11d4-4dc3-4c7d-efcd-ca67a386dd48",
        "colab": {
          "base_uri": "https://localhost:8080/",
          "height": 286
        }
      },
      "source": [
        "plt.imshow(X_train[0], cmap = plt.cm.binary)"
      ],
      "execution_count": 4,
      "outputs": [
        {
          "output_type": "execute_result",
          "data": {
            "text/plain": [
              "<matplotlib.image.AxesImage at 0x7fe3ecba29b0>"
            ]
          },
          "metadata": {
            "tags": []
          },
          "execution_count": 4
        },
        {
          "output_type": "display_data",
          "data": {
            "image/png": "[encoded data removed]",
            "text/plain": [
              "<Figure size 432x288 with 1 Axes>"
            ]
          },
          "metadata": {
            "tags": []
          }
        }
      ]
    },
    {
      "cell_type": "markdown",
      "metadata": {
        "id": "CAZSNBK76Wea",
        "colab_type": "text"
      },
      "source": [
        "#Scaling\n",
        "also after scaling, the images will change a little bit but **Normmalazation** has a *significant* effect on the training procress of Neural Network"
      ]
    },
    {
      "cell_type": "code",
      "metadata": {
        "id": "Y_WwbNWa3g6s",
        "colab_type": "code",
        "colab": {}
      },
      "source": [
        "X_train = tf.keras.utils.normalize(X_train, axis = 1)\n",
        "X_test = tf.keras.utils.normalize(X_test, axis = 1)"
      ],
      "execution_count": 0,
      "outputs": []
    },
    {
      "cell_type": "code",
      "metadata": {
        "id": "NSK6Elbj4mOO",
        "colab_type": "code",
        "outputId": "57f4931c-a326-468e-e96f-ac6ef0d2a23b",
        "colab": {
          "base_uri": "https://localhost:8080/",
          "height": 286
        }
      },
      "source": [
        "plt.imshow(X_train[0], cmap = plt.cm.binary)"
      ],
      "execution_count": 6,
      "outputs": [
        {
          "output_type": "execute_result",
          "data": {
            "text/plain": [
              "<matplotlib.image.AxesImage at 0x7fe3ea3315c0>"
            ]
          },
          "metadata": {
            "tags": []
          },
          "execution_count": 6
        },
        {
          "output_type": "display_data",
          "data": {
            "image/png": "[encoded data removed]",
            "text/plain": [
              "<Figure size 432x288 with 1 Axes>"
            ]
          },
          "metadata": {
            "tags": []
          }
        }
      ]
    },
    {
      "cell_type": "markdown",
      "metadata": {
        "id": "tg8BlEkf7cs3",
        "colab_type": "text"
      },
      "source": [
        "#Defining Method\n",
        "\n",
        "there are two kind of models that Sequential one is more common"
      ]
    },
    {
      "cell_type": "code",
      "metadata": {
        "id": "IlVSrupmHIVG",
        "colab_type": "code",
        "colab": {}
      },
      "source": [
        "model = tf.keras.models.Sequential()  \n",
        "model.add(tf.keras.layers.Flatten())   # It is actually our input layer\n",
        "model.add(tf.keras.layers.Dense(128, activation=tf.nn.relu)) # First hidden layer\n",
        "model.add(tf.keras.layers.Dense(128, activation=tf.nn.relu)) # Second hidden layer\n",
        "model.add(tf.keras.layers.Dense(10, activation=tf.nn.softmax)) # Output layer"
      ],
      "execution_count": 0,
      "outputs": []
    },
    {
      "cell_type": "markdown",
      "metadata": {
        "id": "TcutQGDIJjnH",
        "colab_type": "text"
      },
      "source": [
        "# Training the Model"
      ]
    },
    {
      "cell_type": "code",
      "metadata": {
        "id": "Ls5WUBZXJeql",
        "colab_type": "code",
        "outputId": "5253d34d-39d9-4106-b933-928cac822b71",
        "colab": {
          "base_uri": "https://localhost:8080/",
          "height": 207
        }
      },
      "source": [
        "model.compile(optimizer='adam',\n",
        "              loss='sparse_categorical_crossentropy',\n",
        "              metrics=['accuracy'])\n",
        "model.fit(X_train, y_train ,epochs=3)"
      ],
      "execution_count": 8,
      "outputs": [
        {
          "output_type": "stream",
          "text": [
            "WARNING:tensorflow:From /usr/local/lib/python3.6/dist-packages/tensorflow/python/ops/resource_variable_ops.py:435: colocate_with (from tensorflow.python.framework.ops) is deprecated and will be removed in a future version.\n",
            "Instructions for updating:\n",
            "Colocations handled automatically by placer.\n",
            "Epoch 1/3\n",
            "60000/60000 [==============================] - 8s 140us/sample - loss: 0.2627 - acc: 0.9216\n",
            "Epoch 2/3\n",
            "60000/60000 [==============================] - 8s 126us/sample - loss: 0.1044 - acc: 0.9678\n",
            "Epoch 3/3\n",
            "60000/60000 [==============================] - 8s 132us/sample - loss: 0.0728 - acc: 0.9772\n"
          ],
          "name": "stdout"
        },
        {
          "output_type": "execute_result",
          "data": {
            "text/plain": [
              "<tensorflow.python.keras.callbacks.History at 0x7fe3e950ab70>"
            ]
          },
          "metadata": {
            "tags": []
          },
          "execution_count": 8
        }
      ]
    },
    {
      "cell_type": "markdown",
      "metadata": {
        "id": "A3Yff2y3gxWU",
        "colab_type": "text"
      },
      "source": [
        "#The summary of model"
      ]
    },
    {
      "cell_type": "code",
      "metadata": {
        "id": "pcrLXNkPg390",
        "colab_type": "code",
        "colab": {
          "base_uri": "https://localhost:8080/",
          "height": 272
        },
        "outputId": "28a64f2d-8d23-4933-ebc9-3a8858343162"
      },
      "source": [
        "model.summary()"
      ],
      "execution_count": 9,
      "outputs": [
        {
          "output_type": "stream",
          "text": [
            "_________________________________________________________________\n",
            "Layer (type)                 Output Shape              Param #   \n",
            "=================================================================\n",
            "flatten (Flatten)            multiple                  0         \n",
            "_________________________________________________________________\n",
            "dense (Dense)                multiple                  100480    \n",
            "_________________________________________________________________\n",
            "dense_1 (Dense)              multiple                  16512     \n",
            "_________________________________________________________________\n",
            "dense_2 (Dense)              multiple                  1290      \n",
            "=================================================================\n",
            "Total params: 118,282\n",
            "Trainable params: 118,282\n",
            "Non-trainable params: 0\n",
            "_________________________________________________________________\n"
          ],
          "name": "stdout"
        }
      ]
    },
    {
      "cell_type": "markdown",
      "metadata": {
        "id": "5AuuK74CKiLX",
        "colab_type": "text"
      },
      "source": [
        "#Note :\n",
        "note that the neural networks are professional fitters. And the thing that we must be nervouse \n",
        "about is **over fitting**.\n",
        "\n",
        "so we must calculate the ```val_loss```  and ```val_acc```"
      ]
    },
    {
      "cell_type": "code",
      "metadata": {
        "id": "aidpxeA_KYtK",
        "colab_type": "code",
        "outputId": "e42df66d-cf6d-4ee7-b3c8-5a8c43f77526",
        "colab": {
          "base_uri": "https://localhost:8080/",
          "height": 197
        }
      },
      "source": [
        "val_loss, val_acc = model.evaluate(x_test, y_test)\n",
        "print('val_loss is {}'.format(val_loss)) \n",
        "print('val_acc is {}'.format(val_acc))"
      ],
      "execution_count": 10,
      "outputs": [
        {
          "output_type": "error",
          "ename": "NameError",
          "evalue": "ignored",
          "traceback": [
            "\u001b[0;31m---------------------------------------------------------------------------\u001b[0m",
            "\u001b[0;31mNameError\u001b[0m                                 Traceback (most recent call last)",
            "\u001b[0;32m<ipython-input-10-a02e6cc5c5b3>\u001b[0m in \u001b[0;36m<module>\u001b[0;34m()\u001b[0m\n\u001b[0;32m----> 1\u001b[0;31m \u001b[0mval_loss\u001b[0m\u001b[0;34m,\u001b[0m \u001b[0mval_acc\u001b[0m \u001b[0;34m=\u001b[0m \u001b[0mmodel\u001b[0m\u001b[0;34m.\u001b[0m\u001b[0mevaluate\u001b[0m\u001b[0;34m(\u001b[0m\u001b[0mx_test\u001b[0m\u001b[0;34m,\u001b[0m \u001b[0my_test\u001b[0m\u001b[0;34m)\u001b[0m\u001b[0;34m\u001b[0m\u001b[0;34m\u001b[0m\u001b[0m\n\u001b[0m\u001b[1;32m      2\u001b[0m \u001b[0mprint\u001b[0m\u001b[0;34m(\u001b[0m\u001b[0;34m'val_loss is {}'\u001b[0m\u001b[0;34m.\u001b[0m\u001b[0mformat\u001b[0m\u001b[0;34m(\u001b[0m\u001b[0mval_loss\u001b[0m\u001b[0;34m)\u001b[0m\u001b[0;34m)\u001b[0m\u001b[0;34m\u001b[0m\u001b[0;34m\u001b[0m\u001b[0m\n\u001b[1;32m      3\u001b[0m \u001b[0mprint\u001b[0m\u001b[0;34m(\u001b[0m\u001b[0;34m'val_acc is {}'\u001b[0m\u001b[0;34m.\u001b[0m\u001b[0mformat\u001b[0m\u001b[0;34m(\u001b[0m\u001b[0mval_acc\u001b[0m\u001b[0;34m)\u001b[0m\u001b[0;34m)\u001b[0m\u001b[0;34m\u001b[0m\u001b[0;34m\u001b[0m\u001b[0m\n",
            "\u001b[0;31mNameError\u001b[0m: name 'x_test' is not defined"
          ]
        }
      ]
    },
    {
      "cell_type": "markdown",
      "metadata": {
        "id": "rMjLGGR5Lwdo",
        "colab_type": "text"
      },
      "source": [
        "#Saving a model\n",
        "the interesting thing with models is that we can save and load trained models"
      ]
    },
    {
      "cell_type": "code",
      "metadata": {
        "id": "ZFjfv3H-LOLu",
        "colab_type": "code",
        "colab": {}
      },
      "source": [
        "model.save('number.model')  "
      ],
      "execution_count": 0,
      "outputs": []
    },
    {
      "cell_type": "markdown",
      "metadata": {
        "id": "yP8D2-iwMCN2",
        "colab_type": "text"
      },
      "source": [
        "#Loading a model"
      ]
    },
    {
      "cell_type": "code",
      "metadata": {
        "id": "ZPMKWtMAMAC7",
        "colab_type": "code",
        "colab": {}
      },
      "source": [
        "new_model = tf.keras.models.load_model('number.model')"
      ],
      "execution_count": 0,
      "outputs": []
    },
    {
      "cell_type": "markdown",
      "metadata": {
        "id": "yGZtvXRjMxpj",
        "colab_type": "text"
      },
      "source": [
        "#Predicting \n",
        "we use ```model.predict()``` syntax"
      ]
    },
    {
      "cell_type": "code",
      "metadata": {
        "id": "-OqIiqcvMQ90",
        "colab_type": "code",
        "colab": {}
      },
      "source": [
        "i = 440\n",
        "predict = model.predict([x_test])  \n",
        "# and also we can predict for each element by predict = model.predict([[x_test[12]]]) \n",
        "print(predict)  # Now you can easily see that it is pretty messy\n",
        "predict = np.argmax(predict[i])\n",
        "print('the predicted value is : {}'.format(predict))\n",
        "plt.imshow(x_test[i])"
      ],
      "execution_count": 0,
      "outputs": []
    },
    {
      "cell_type": "code",
      "metadata": {
        "id": "fWodzbDANb8s",
        "colab_type": "code",
        "colab": {}
      },
      "source": [
        ""
      ],
      "execution_count": 0,
      "outputs": []
    }
  ]
}