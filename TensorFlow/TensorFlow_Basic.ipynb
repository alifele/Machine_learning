{
  "nbformat": 4,
  "nbformat_minor": 0,
  "metadata": {
    "colab": {
      "name": "TensorFlow.ipynb",
      "version": "0.3.2",
      "provenance": [],
      "include_colab_link": true
    },
    "kernelspec": {
      "name": "python3",
      "display_name": "Python 3"
    }
  },
  "cells": [
    {
      "cell_type": "markdown",
      "metadata": {
        "id": "view-in-github",
        "colab_type": "text"
      },
      "source": [
        "<a href=\"https://colab.research.google.com/github/alifele/Machine_learning/blob/master/TensorFlow/TensorFlow_Basic.ipynb\" target=\"_parent\"><img src=\"https://colab.research.google.com/assets/colab-badge.svg\" alt=\"Open In Colab\"/></a>"
      ]
    },
    {
      "metadata": {
        "id": "PfI_S3i-1YvZ",
        "colab_type": "text"
      },
      "cell_type": "markdown",
      "source": [
        "#Deep Learning With Tensor Flow"
      ]
    },
    {
      "metadata": {
        "id": "Kbe4aCz40gYx",
        "colab_type": "code",
        "colab": {
          "base_uri": "https://localhost:8080/",
          "height": 34
        },
        "outputId": "3ed5004e-d1d6-447b-905f-952c85b9b50b"
      },
      "cell_type": "code",
      "source": [
        "import tensorflow as tf\n",
        "import matplotlib.pyplot as plt\n",
        "import numpy as np\n",
        "\n",
        "tf.__version__   #this will show us the verison of using tensorflow package"
      ],
      "execution_count": 76,
      "outputs": [
        {
          "output_type": "execute_result",
          "data": {
            "text/plain": [
              "'1.13.1'"
            ]
          },
          "metadata": {
            "tags": []
          },
          "execution_count": 76
        }
      ]
    },
    {
      "metadata": {
        "id": "1viAt9SL1ve8",
        "colab_type": "text"
      },
      "cell_type": "markdown",
      "source": [
        "#Importing data \n",
        "tensorflow its self have a variety of data sets which I am going to use the mnist"
      ]
    },
    {
      "metadata": {
        "id": "BuTUDcI-1L8B",
        "colab_type": "code",
        "colab": {
          "base_uri": "https://localhost:8080/",
          "height": 51
        },
        "outputId": "afcefd49-47fe-46e4-dd4c-6c2b1eab9d2f"
      },
      "cell_type": "code",
      "source": [
        "mnist = tf.keras.datasets.mnist  # 28 x 28 images of hand-written digits 0-9\n",
        "(X_train, y_train), (X_test, y_test) = mnist.load_data()\n",
        "print('the shape of X_train is : {}'.format(X_train.shape))\n",
        "print('the shape of X_test is : {}'.format(X_test.shape))"
      ],
      "execution_count": 56,
      "outputs": [
        {
          "output_type": "stream",
          "text": [
            "the shape of X_train is : (60000, 28, 28)\n",
            "the shape of X_test is : (10000, 28, 28)\n"
          ],
          "name": "stdout"
        }
      ]
    },
    {
      "metadata": {
        "id": "6oMGpulr6R80",
        "colab_type": "text"
      },
      "cell_type": "markdown",
      "source": [
        "And now lets visualize the data "
      ]
    },
    {
      "metadata": {
        "id": "I3t-nySe2nFQ",
        "colab_type": "code",
        "colab": {
          "base_uri": "https://localhost:8080/",
          "height": 286
        },
        "outputId": "43d782c9-8c9f-47e0-9c1b-347bdeeb6385"
      },
      "cell_type": "code",
      "source": [
        "plt.imshow(X_train[0], cmap = plt.cm.binary)"
      ],
      "execution_count": 57,
      "outputs": [
        {
          "output_type": "execute_result",
          "data": {
            "text/plain": [
              "<matplotlib.image.AxesImage at 0x7f5cab91e710>"
            ]
          },
          "metadata": {
            "tags": []
          },
          "execution_count": 57
        },
        {
          "output_type": "display_data",
          "data": {
            "image/png": "[encoded data removed]",
            "text/plain": [
              "<Figure size 432x288 with 1 Axes>"
            ]
          },
          "metadata": {
            "tags": []
          }
        }
      ]
    },
    {
      "metadata": {
        "id": "CAZSNBK76Wea",
        "colab_type": "text"
      },
      "cell_type": "markdown",
      "source": [
        "#Scaling\n",
        "also after scaling, the images will change a little bit but **Normmalazation** has a *significant* effect on the training procress of Neural Network"
      ]
    },
    {
      "metadata": {
        "id": "Y_WwbNWa3g6s",
        "colab_type": "code",
        "colab": {}
      },
      "cell_type": "code",
      "source": [
        "X_train = tf.keras.utils.normalize(X_train, axis = 1)\n",
        "X_test = tf.keras.utils.normalize(X_test, axis = 1)"
      ],
      "execution_count": 0,
      "outputs": []
    },
    {
      "metadata": {
        "id": "NSK6Elbj4mOO",
        "colab_type": "code",
        "colab": {
          "base_uri": "https://localhost:8080/",
          "height": 286
        },
        "outputId": "b0990422-d42b-4ed5-8c31-a9d0f7c0d718"
      },
      "cell_type": "code",
      "source": [
        "plt.imshow(X_train[0], cmap = plt.cm.binary)"
      ],
      "execution_count": 59,
      "outputs": [
        {
          "output_type": "execute_result",
          "data": {
            "text/plain": [
              "<matplotlib.image.AxesImage at 0x7f5cab8fc3c8>"
            ]
          },
          "metadata": {
            "tags": []
          },
          "execution_count": 59
        },
        {
          "output_type": "display_data",
          "data": {
            "image/png": "[encoded data removed]",
            "text/plain": [
              "<Figure size 432x288 with 1 Axes>"
            ]
          },
          "metadata": {
            "tags": []
          }
        }
      ]
    },
    {
      "metadata": {
        "id": "tg8BlEkf7cs3",
        "colab_type": "text"
      },
      "cell_type": "markdown",
      "source": [
        "#Defining Method\n",
        "\n",
        "there are two kind of models that Sequential one is more common"
      ]
    },
    {
      "metadata": {
        "id": "IlVSrupmHIVG",
        "colab_type": "code",
        "colab": {}
      },
      "cell_type": "code",
      "source": [
        "model = tf.keras.models.Sequential()  \n",
        "model.add(tf.keras.layers.Flatten())   # It is actually our input layer\n",
        "model.add(tf.keras.layers.Dense(128, activation=tf.nn.relu)) # First hidden layer\n",
        "model.add(tf.keras.layers.Dense(128, activation=tf.nn.relu)) # Second hidden layer\n",
        "model.add(tf.keras.layers.Dense(10, activation=tf.nn.softmax)) # Output layer"
      ],
      "execution_count": 0,
      "outputs": []
    },
    {
      "metadata": {
        "id": "TcutQGDIJjnH",
        "colab_type": "text"
      },
      "cell_type": "markdown",
      "source": [
        "# Training the Model"
      ]
    },
    {
      "metadata": {
        "id": "Ls5WUBZXJeql",
        "colab_type": "code",
        "colab": {
          "base_uri": "https://localhost:8080/",
          "height": 207
        },
        "outputId": "9df9df54-6156-48c8-ab97-33d719dcb2b5"
      },
      "cell_type": "code",
      "source": [
        "model.compile(optimizer='adam',\n",
        "              loss='sparse_categorical_crossentropy',\n",
        "              metrics=['accuracy'])\n",
        "model.fit(X_train, y_train ,epochs=3)"
      ],
      "execution_count": 62,
      "outputs": [
        {
          "output_type": "stream",
          "text": [
            "WARNING:tensorflow:From /usr/local/lib/python3.6/dist-packages/tensorflow/python/ops/resource_variable_ops.py:435: colocate_with (from tensorflow.python.framework.ops) is deprecated and will be removed in a future version.\n",
            "Instructions for updating:\n",
            "Colocations handled automatically by placer.\n",
            "Epoch 1/3\n",
            "60000/60000 [==============================] - 9s 149us/sample - loss: 0.2629 - acc: 0.9229\n",
            "Epoch 2/3\n",
            "60000/60000 [==============================] - 8s 139us/sample - loss: 0.1067 - acc: 0.9675\n",
            "Epoch 3/3\n",
            "60000/60000 [==============================] - 8s 131us/sample - loss: 0.0728 - acc: 0.9771\n"
          ],
          "name": "stdout"
        },
        {
          "output_type": "execute_result",
          "data": {
            "text/plain": [
              "<tensorflow.python.keras.callbacks.History at 0x7f5caab23ac8>"
            ]
          },
          "metadata": {
            "tags": []
          },
          "execution_count": 62
        }
      ]
    },
    {
      "metadata": {
        "id": "5AuuK74CKiLX",
        "colab_type": "text"
      },
      "cell_type": "markdown",
      "source": [
        "#Note :\n",
        "note that the neural networks are professional fitters. And the thing that we must be nervouse \n",
        "about is **over fitting**.\n",
        "\n",
        "so we must calculate the ```val_loss```  and ```val_acc```"
      ]
    },
    {
      "metadata": {
        "id": "aidpxeA_KYtK",
        "colab_type": "code",
        "colab": {
          "base_uri": "https://localhost:8080/",
          "height": 88
        },
        "outputId": "6b0f5393-3ea7-46b8-9cc7-bc80dd19b4eb"
      },
      "cell_type": "code",
      "source": [
        "val_loss, val_acc = model.evaluate(x_test, y_test)\n",
        "print('val_loss is {}'.format(val_loss)) \n",
        "print('val_acc is {}'.format(val_acc))"
      ],
      "execution_count": 65,
      "outputs": [
        {
          "output_type": "stream",
          "text": [
            "10000/10000 [==============================] - 0s 49us/sample - loss: 0.6932 - acc: 0.9567\n",
            "val_loss is 0.6932231618879807\n",
            "val_acc is 0.9567000269889832\n"
          ],
          "name": "stdout"
        }
      ]
    },
    {
      "metadata": {
        "id": "rMjLGGR5Lwdo",
        "colab_type": "text"
      },
      "cell_type": "markdown",
      "source": [
        "#Saving a model\n",
        "the interesting thing with models is that we can save and load trained models"
      ]
    },
    {
      "metadata": {
        "id": "ZFjfv3H-LOLu",
        "colab_type": "code",
        "colab": {}
      },
      "cell_type": "code",
      "source": [
        "model.save('number.model')  "
      ],
      "execution_count": 0,
      "outputs": []
    },
    {
      "metadata": {
        "id": "yP8D2-iwMCN2",
        "colab_type": "text"
      },
      "cell_type": "markdown",
      "source": [
        "#Loading a model"
      ]
    },
    {
      "metadata": {
        "id": "ZPMKWtMAMAC7",
        "colab_type": "code",
        "colab": {
          "base_uri": "https://localhost:8080/",
          "height": 54
        },
        "outputId": "1cdc0413-e204-4818-b5a2-f6ac9d531538"
      },
      "cell_type": "code",
      "source": [
        "new_model = tf.keras.models.load_model('number.model')"
      ],
      "execution_count": 67,
      "outputs": [
        {
          "output_type": "stream",
          "text": [
            "WARNING:tensorflow:Sequential models without an `input_shape` passed to the first layer cannot reload their optimizer state. As a result, your model isstarting with a freshly initialized optimizer.\n"
          ],
          "name": "stdout"
        }
      ]
    },
    {
      "metadata": {
        "id": "yGZtvXRjMxpj",
        "colab_type": "text"
      },
      "cell_type": "markdown",
      "source": [
        "#Predicting \n",
        "we use ```model.predict()``` syntax"
      ]
    },
    {
      "metadata": {
        "id": "-OqIiqcvMQ90",
        "colab_type": "code",
        "colab": {
          "base_uri": "https://localhost:8080/",
          "height": 422
        },
        "outputId": "80fea39a-c9da-4c84-a0b6-80e4c8435793"
      },
      "cell_type": "code",
      "source": [
        "i = 440\n",
        "predict = model.predict([x_test])  # I don't know why but the argumant must be whole the list\n",
        "\n",
        "print(predict)  # Now you can easily see that it is pretty messy\n",
        "predict = np.argmax(predict[i])\n",
        "print('the predicted value is : {}'.format(predict))\n",
        "plt.imshow(x_test[i])"
      ],
      "execution_count": 85,
      "outputs": [
        {
          "output_type": "stream",
          "text": [
            "[[0. 0. 0. ... 1. 0. 0.]\n",
            " [0. 0. 1. ... 0. 0. 0.]\n",
            " [0. 1. 0. ... 0. 0. 0.]\n",
            " ...\n",
            " [0. 0. 0. ... 0. 0. 0.]\n",
            " [0. 0. 0. ... 0. 0. 0.]\n",
            " [0. 0. 0. ... 0. 0. 0.]]\n",
            "the predicted value is : 0\n"
          ],
          "name": "stdout"
        },
        {
          "output_type": "execute_result",
          "data": {
            "text/plain": [
              "<matplotlib.image.AxesImage at 0x7f5ca56603c8>"
            ]
          },
          "metadata": {
            "tags": []
          },
          "execution_count": 85
        },
        {
          "output_type": "display_data",
          "data": {
            "image/png": "[encoded data removed]",
            "text/plain": [
              "<Figure size 432x288 with 1 Axes>"
            ]
          },
          "metadata": {
            "tags": []
          }
        }
      ]
    },
    {
      "metadata": {
        "id": "fWodzbDANb8s",
        "colab_type": "code",
        "colab": {}
      },
      "cell_type": "code",
      "source": [
        ""
      ],
      "execution_count": 0,
      "outputs": []
    }
  ]
}