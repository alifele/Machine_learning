{
  "nbformat": 4,
  "nbformat_minor": 0,
  "metadata": {
    "colab": {
      "name": "Chapter_3_classification.ipynb",
      "provenance": [],
      "collapsed_sections": []
    },
    "kernelspec": {
      "name": "python3",
      "display_name": "Python 3"
    }
  },
  "cells": [
    {
      "cell_type": "code",
      "metadata": {
        "id": "Pu1Y1nm8Lud9",
        "colab_type": "code",
        "colab": {}
      },
      "source": [
        "import numpy as np\n",
        "import matplotlib.pyplot as plt"
      ],
      "execution_count": 0,
      "outputs": []
    },
    {
      "cell_type": "code",
      "metadata": {
        "id": "5UYCSk7OL1ol",
        "colab_type": "code",
        "colab": {
          "base_uri": "https://localhost:8080/",
          "height": 34
        },
        "outputId": "3888e9c4-c2bb-40c2-8ac3-ca6318fee34d"
      },
      "source": [
        "from sklearn.datasets import fetch_openml\n",
        "mnist = fetch_openml('mnist_784', version=1)\n",
        "mnist.keys()"
      ],
      "execution_count": 77,
      "outputs": [
        {
          "output_type": "execute_result",
          "data": {
            "text/plain": [
              "dict_keys(['data', 'target', 'frame', 'feature_names', 'target_names', 'DESCR', 'details', 'categories', 'url'])"
            ]
          },
          "metadata": {
            "tags": []
          },
          "execution_count": 77
        }
      ]
    },
    {
      "cell_type": "code",
      "metadata": {
        "id": "iheuvwbaML_S",
        "colab_type": "code",
        "colab": {}
      },
      "source": [
        "X = mnist['data']\n",
        "y = mnist['target']"
      ],
      "execution_count": 0,
      "outputs": []
    },
    {
      "cell_type": "code",
      "metadata": {
        "id": "4SEjbQHoMmjn",
        "colab_type": "code",
        "colab": {}
      },
      "source": [
        "from sklearn.model_selection import train_test_split"
      ],
      "execution_count": 0,
      "outputs": []
    },
    {
      "cell_type": "code",
      "metadata": {
        "id": "7txYPjsMMq4r",
        "colab_type": "code",
        "colab": {}
      },
      "source": [
        "x_train, x_test, y_trian, y_test = train_test_split(X, y, test_size=0.333)"
      ],
      "execution_count": 0,
      "outputs": []
    },
    {
      "cell_type": "code",
      "metadata": {
        "id": "0xDalFgLNASr",
        "colab_type": "code",
        "colab": {
          "base_uri": "https://localhost:8080/",
          "height": 282
        },
        "outputId": "16249a00-d068-46f8-9a36-8f3e53fa5db3"
      },
      "source": [
        "plt.imshow(x_train[13].reshape(28,28))"
      ],
      "execution_count": 81,
      "outputs": [
        {
          "output_type": "execute_result",
          "data": {
            "text/plain": [
              "<matplotlib.image.AxesImage at 0x7f3a129cc1d0>"
            ]
          },
          "metadata": {
            "tags": []
          },
          "execution_count": 81
        },
        {
          "output_type": "display_data",
          "data": {
            "image/png": "[encoded data removed]",
            "text/plain": [
              "<Figure size 432x288 with 1 Axes>"
            ]
          },
          "metadata": {
            "tags": []
          }
        }
      ]
    },
    {
      "cell_type": "markdown",
      "metadata": {
        "id": "lN_MUFH1NHtH",
        "colab_type": "text"
      },
      "source": [
        "#Binary classifier"
      ]
    },
    {
      "cell_type": "code",
      "metadata": {
        "id": "MZwipmu_NE8r",
        "colab_type": "code",
        "colab": {}
      },
      "source": [
        "y_binary = y.copy()\n",
        "y_binary[y_binary!='5'] = 0\n",
        "y_binary[y_binary=='5'] = 1\n",
        "y_binary = np.array(y_binary, dtype=int)"
      ],
      "execution_count": 0,
      "outputs": []
    },
    {
      "cell_type": "code",
      "metadata": {
        "id": "IuFt4oAoO54P",
        "colab_type": "code",
        "colab": {
          "base_uri": "https://localhost:8080/",
          "height": 282
        },
        "outputId": "bf6e3f44-8ef7-4855-dedf-f60321bdda9c"
      },
      "source": [
        "plt.imshow(y_binary[:144].reshape((12,12)))"
      ],
      "execution_count": 83,
      "outputs": [
        {
          "output_type": "execute_result",
          "data": {
            "text/plain": [
              "<matplotlib.image.AxesImage at 0x7f3a129341d0>"
            ]
          },
          "metadata": {
            "tags": []
          },
          "execution_count": 83
        },
        {
          "output_type": "display_data",
          "data": {
            "image/png": "[encoded data removed]",
            "text/plain": [
              "<Figure size 432x288 with 1 Axes>"
            ]
          },
          "metadata": {
            "tags": []
          }
        }
      ]
    },
    {
      "cell_type": "code",
      "metadata": {
        "id": "LsPioeCpO56_",
        "colab_type": "code",
        "colab": {}
      },
      "source": [
        "x_train, x_test, y_train_b, y_test_b = train_test_split(X, y_binary, test_size = 0.3)"
      ],
      "execution_count": 0,
      "outputs": []
    },
    {
      "cell_type": "markdown",
      "metadata": {
        "id": "C5jGfdtvVT1r",
        "colab_type": "text"
      },
      "source": [
        "## Training the Model (SGD)"
      ]
    },
    {
      "cell_type": "code",
      "metadata": {
        "id": "yQ8fQHe0O52b",
        "colab_type": "code",
        "colab": {}
      },
      "source": [
        "from sklearn.linear_model import SGDClassifier"
      ],
      "execution_count": 0,
      "outputs": []
    },
    {
      "cell_type": "code",
      "metadata": {
        "id": "q8yGbClNO5yd",
        "colab_type": "code",
        "colab": {
          "base_uri": "https://localhost:8080/",
          "height": 121
        },
        "outputId": "a2eda5b7-c4af-4790-a0c7-f82366cdde86"
      },
      "source": [
        "sgd_clf = SGDClassifier()\n",
        "sgd_clf.fit(x_train, y_train_b)"
      ],
      "execution_count": 86,
      "outputs": [
        {
          "output_type": "execute_result",
          "data": {
            "text/plain": [
              "SGDClassifier(alpha=0.0001, average=False, class_weight=None,\n",
              "              early_stopping=False, epsilon=0.1, eta0=0.0, fit_intercept=True,\n",
              "              l1_ratio=0.15, learning_rate='optimal', loss='hinge',\n",
              "              max_iter=1000, n_iter_no_change=5, n_jobs=None, penalty='l2',\n",
              "              power_t=0.5, random_state=None, shuffle=True, tol=0.001,\n",
              "              validation_fraction=0.1, verbose=0, warm_start=False)"
            ]
          },
          "metadata": {
            "tags": []
          },
          "execution_count": 86
        }
      ]
    },
    {
      "cell_type": "code",
      "metadata": {
        "id": "Jb8XspLMVj4x",
        "colab_type": "code",
        "colab": {}
      },
      "source": [
        "pred = sgd_clf.predict(x_test)"
      ],
      "execution_count": 0,
      "outputs": []
    },
    {
      "cell_type": "markdown",
      "metadata": {
        "id": "H2TAcd6gtisn",
        "colab_type": "text"
      },
      "source": [
        "## Now lets compute the Confusion Matrix\n"
      ]
    },
    {
      "cell_type": "code",
      "metadata": {
        "id": "vxIPWE3rV0WJ",
        "colab_type": "code",
        "colab": {}
      },
      "source": [
        "from sklearn.metrics import confusion_matrix as cfm"
      ],
      "execution_count": 0,
      "outputs": []
    },
    {
      "cell_type": "code",
      "metadata": {
        "id": "Zt0CdZ1MV0cI",
        "colab_type": "code",
        "colab": {
          "base_uri": "https://localhost:8080/",
          "height": 52
        },
        "outputId": "4fc638bb-3ffb-4ebc-e25a-36aa491c3f50"
      },
      "source": [
        "cfm (y_test_b, pred )"
      ],
      "execution_count": 89,
      "outputs": [
        {
          "output_type": "execute_result",
          "data": {
            "text/plain": [
              "array([[18908,   165],\n",
              "       [  572,  1355]])"
            ]
          },
          "metadata": {
            "tags": []
          },
          "execution_count": 89
        }
      ]
    },
    {
      "cell_type": "markdown",
      "metadata": {
        "id": "BPwDTI6GtvQ-",
        "colab_type": "text"
      },
      "source": [
        "## Calculating the Scores\n"
      ]
    },
    {
      "cell_type": "code",
      "metadata": {
        "id": "ieCMnDfPV0e-",
        "colab_type": "code",
        "colab": {}
      },
      "source": [
        "from sklearn.metrics import f1_score, accuracy_score, recall_score, precision_score"
      ],
      "execution_count": 0,
      "outputs": []
    },
    {
      "cell_type": "code",
      "metadata": {
        "id": "tr3X9D7FV0ht",
        "colab_type": "code",
        "colab": {
          "base_uri": "https://localhost:8080/",
          "height": 34
        },
        "outputId": "3d01ea87-4073-4d46-fe7c-d4d675192eef"
      },
      "source": [
        "f1_score(y_test_b, pred)"
      ],
      "execution_count": 91,
      "outputs": [
        {
          "output_type": "execute_result",
          "data": {
            "text/plain": [
              "0.786190890629533"
            ]
          },
          "metadata": {
            "tags": []
          },
          "execution_count": 91
        }
      ]
    },
    {
      "cell_type": "code",
      "metadata": {
        "id": "2Hl1uekKV0aI",
        "colab_type": "code",
        "colab": {
          "base_uri": "https://localhost:8080/",
          "height": 34
        },
        "outputId": "22f6bfbb-4341-4ffb-a6eb-a9d259c9f4e8"
      },
      "source": [
        "accuracy_score(y_test_b, pred)"
      ],
      "execution_count": 92,
      "outputs": [
        {
          "output_type": "execute_result",
          "data": {
            "text/plain": [
              "0.9649047619047619"
            ]
          },
          "metadata": {
            "tags": []
          },
          "execution_count": 92
        }
      ]
    },
    {
      "cell_type": "code",
      "metadata": {
        "id": "Gdf9KaR8Xh5V",
        "colab_type": "code",
        "colab": {
          "base_uri": "https://localhost:8080/",
          "height": 34
        },
        "outputId": "eae829da-5fce-435b-8be1-3b7312b63dc3"
      },
      "source": [
        "recall_score(y_test_b, pred)"
      ],
      "execution_count": 93,
      "outputs": [
        {
          "output_type": "execute_result",
          "data": {
            "text/plain": [
              "0.7031655422937209"
            ]
          },
          "metadata": {
            "tags": []
          },
          "execution_count": 93
        }
      ]
    },
    {
      "cell_type": "code",
      "metadata": {
        "id": "tHeJOyI1Xlsm",
        "colab_type": "code",
        "colab": {
          "base_uri": "https://localhost:8080/",
          "height": 34
        },
        "outputId": "13c2639e-2f1c-4ca1-9d36-026901b8f709"
      },
      "source": [
        "precision_score(y_test_b, pred)"
      ],
      "execution_count": 94,
      "outputs": [
        {
          "output_type": "execute_result",
          "data": {
            "text/plain": [
              "0.8914473684210527"
            ]
          },
          "metadata": {
            "tags": []
          },
          "execution_count": 94
        }
      ]
    },
    {
      "cell_type": "markdown",
      "metadata": {
        "id": "Uwi3_S5VYsqJ",
        "colab_type": "text"
      },
      "source": [
        "## Cross Validation\n",
        "\n",
        "Calculating the Scores using Cross validation"
      ]
    },
    {
      "cell_type": "code",
      "metadata": {
        "id": "zMdoz6U4XowA",
        "colab_type": "code",
        "colab": {
          "base_uri": "https://localhost:8080/",
          "height": 54
        },
        "outputId": "cfca487f-027e-44e0-e6db-91b9e1a5e0e0"
      },
      "source": [
        "from sklearn.model_selection import cross_validate\n",
        "from sklearn import metrics\n",
        "metrics.SCORERS.keys()\n",
        "#'decision_function' is not a valid scoring value. Use sorted(sklearn.metrics.SCORERS.keys()) to get valid options"
      ],
      "execution_count": 95,
      "outputs": [
        {
          "output_type": "execute_result",
          "data": {
            "text/plain": [
              "dict_keys(['explained_variance', 'r2', 'max_error', 'neg_median_absolute_error', 'neg_mean_absolute_error', 'neg_mean_squared_error', 'neg_mean_squared_log_error', 'neg_root_mean_squared_error', 'neg_mean_poisson_deviance', 'neg_mean_gamma_deviance', 'accuracy', 'roc_auc', 'roc_auc_ovr', 'roc_auc_ovo', 'roc_auc_ovr_weighted', 'roc_auc_ovo_weighted', 'balanced_accuracy', 'average_precision', 'neg_log_loss', 'neg_brier_score', 'adjusted_rand_score', 'homogeneity_score', 'completeness_score', 'v_measure_score', 'mutual_info_score', 'adjusted_mutual_info_score', 'normalized_mutual_info_score', 'fowlkes_mallows_score', 'precision', 'precision_macro', 'precision_micro', 'precision_samples', 'precision_weighted', 'recall', 'recall_macro', 'recall_micro', 'recall_samples', 'recall_weighted', 'f1', 'f1_macro', 'f1_micro', 'f1_samples', 'f1_weighted', 'jaccard', 'jaccard_macro', 'jaccard_micro', 'jaccard_samples', 'jaccard_weighted'])"
            ]
          },
          "metadata": {
            "tags": []
          },
          "execution_count": 95
        }
      ]
    },
    {
      "cell_type": "code",
      "metadata": {
        "id": "tcQRaLwiYVM1",
        "colab_type": "code",
        "colab": {
          "base_uri": "https://localhost:8080/",
          "height": 69
        },
        "outputId": "fe73a16a-b528-49c8-8405-d1f798455295"
      },
      "source": [
        "cross_validate(sgd_clf, x_test, y_test_b, cv=3, scoring='accuracy')"
      ],
      "execution_count": 96,
      "outputs": [
        {
          "output_type": "execute_result",
          "data": {
            "text/plain": [
              "{'fit_time': array([1.49672794, 2.07732296, 2.26907992]),\n",
              " 'score_time': array([0.01046276, 0.0093646 , 0.00871181]),\n",
              " 'test_score': array([0.959     , 0.95942857, 0.95871429])}"
            ]
          },
          "metadata": {
            "tags": []
          },
          "execution_count": 96
        }
      ]
    },
    {
      "cell_type": "code",
      "metadata": {
        "id": "ADA2NPg2YVP_",
        "colab_type": "code",
        "colab": {}
      },
      "source": [
        "from sklearn.model_selection import cross_val_score"
      ],
      "execution_count": 0,
      "outputs": []
    },
    {
      "cell_type": "code",
      "metadata": {
        "id": "aUPm57pEYVTA",
        "colab_type": "code",
        "colab": {
          "base_uri": "https://localhost:8080/",
          "height": 34
        },
        "outputId": "52b51c2b-c206-4a26-a0e9-3d791773a4ad"
      },
      "source": [
        "cross_val_score(sgd_clf,x_test, y_test_b, cv=3,scoring='accuracy')"
      ],
      "execution_count": 98,
      "outputs": [
        {
          "output_type": "execute_result",
          "data": {
            "text/plain": [
              "array([0.88757143, 0.94842857, 0.96557143])"
            ]
          },
          "metadata": {
            "tags": []
          },
          "execution_count": 98
        }
      ]
    },
    {
      "cell_type": "code",
      "metadata": {
        "id": "1cRU6l7RYWT5",
        "colab_type": "code",
        "colab": {
          "base_uri": "https://localhost:8080/",
          "height": 34
        },
        "outputId": "3b6172ce-0065-455d-bc42-bc4f3488360e"
      },
      "source": [
        "cross_val_score(sgd_clf, x_test, y_test_b, cv=3, scoring='f1')"
      ],
      "execution_count": 99,
      "outputs": [
        {
          "output_type": "execute_result",
          "data": {
            "text/plain": [
              "array([0.63655031, 0.74698795, 0.78601997])"
            ]
          },
          "metadata": {
            "tags": []
          },
          "execution_count": 99
        }
      ]
    },
    {
      "cell_type": "code",
      "metadata": {
        "id": "EQdGMvAJYWW0",
        "colab_type": "code",
        "colab": {
          "base_uri": "https://localhost:8080/",
          "height": 34
        },
        "outputId": "101440af-c251-4db6-a5b5-4e915a991b73"
      },
      "source": [
        "cross_val_score(sgd_clf, x_test, y_test_b, cv=3, scoring='precision')"
      ],
      "execution_count": 100,
      "outputs": [
        {
          "output_type": "execute_result",
          "data": {
            "text/plain": [
              "array([0.93292683, 0.79559748, 0.86680328])"
            ]
          },
          "metadata": {
            "tags": []
          },
          "execution_count": 100
        }
      ]
    },
    {
      "cell_type": "code",
      "metadata": {
        "id": "URTrtIDMYVJo",
        "colab_type": "code",
        "colab": {
          "base_uri": "https://localhost:8080/",
          "height": 34
        },
        "outputId": "0702cd30-6909-48c7-bdce-147b315b55ec"
      },
      "source": [
        "cross_val_score(sgd_clf, x_test, y_test_b, cv=3, scoring='recall')"
      ],
      "execution_count": 101,
      "outputs": [
        {
          "output_type": "execute_result",
          "data": {
            "text/plain": [
              "array([0.86915888, 0.81775701, 0.86314152])"
            ]
          },
          "metadata": {
            "tags": []
          },
          "execution_count": 101
        }
      ]
    },
    {
      "cell_type": "markdown",
      "metadata": {
        "id": "33a-NT_HasP9",
        "colab_type": "text"
      },
      "source": [
        "## Decision function and playing with Thresholds\n",
        "\n",
        "\n",
        "This can be used to plot the ROC plot"
      ]
    },
    {
      "cell_type": "code",
      "metadata": {
        "id": "3ArQmnJzahJe",
        "colab_type": "code",
        "colab": {
          "base_uri": "https://localhost:8080/",
          "height": 52
        },
        "outputId": "ef12584f-3508-4692-fe63-2970af5cdf1d"
      },
      "source": [
        "sgd_clf.decision_function(x_test)\n",
        "\n",
        "#the threshold of the SGD is 0"
      ],
      "execution_count": 102,
      "outputs": [
        {
          "output_type": "execute_result",
          "data": {
            "text/plain": [
              "array([ -7819.00109498, -18482.89096612,  -7790.32943735, ...,\n",
              "       -12015.21567046, -26094.74866818,  -6608.57341931])"
            ]
          },
          "metadata": {
            "tags": []
          },
          "execution_count": 102
        }
      ]
    },
    {
      "cell_type": "code",
      "metadata": {
        "id": "G7z1btpna6NO",
        "colab_type": "code",
        "colab": {}
      },
      "source": [
        "from sklearn.model_selection import cross_val_predict"
      ],
      "execution_count": 0,
      "outputs": []
    },
    {
      "cell_type": "code",
      "metadata": {
        "id": "ZXkwZHwUbQL1",
        "colab_type": "code",
        "colab": {
          "base_uri": "https://localhost:8080/",
          "height": 52
        },
        "outputId": "4490f3c2-000d-490a-f2df-92905ddb4738"
      },
      "source": [
        "cross_val_predict(sgd_clf, x_test, y_test_b, cv=3, method='decision_function')"
      ],
      "execution_count": 105,
      "outputs": [
        {
          "output_type": "execute_result",
          "data": {
            "text/plain": [
              "array([ -69299.15028347, -133020.59822676,  -44647.27586723, ...,\n",
              "       -169170.46166471, -234366.8078222 ,  -46897.82185203])"
            ]
          },
          "metadata": {
            "tags": []
          },
          "execution_count": 105
        }
      ]
    },
    {
      "cell_type": "code",
      "metadata": {
        "id": "s7K1Bw_IbW79",
        "colab_type": "code",
        "colab": {}
      },
      "source": [
        "# Note that some classifiers don't have the 'decision_function' as the method of cross_val_predict\n",
        "# randomforestclassifer is an example. for those you can use 'predict_proba' wich will return the probability \n",
        "# that an instance belong to an specific class"
      ],
      "execution_count": 0,
      "outputs": []
    },
    {
      "cell_type": "markdown",
      "metadata": {
        "id": "2NREIBCYyKVn",
        "colab_type": "text"
      },
      "source": [
        "## The Precision-Recall Curve\n",
        "\n",
        "You can actually swip the threshold and calculate the Precision and Recall for every possible threshold."
      ]
    },
    {
      "cell_type": "code",
      "metadata": {
        "id": "o0BgnP8veuqb",
        "colab_type": "code",
        "colab": {}
      },
      "source": [
        "from sklearn.metrics import precision_recall_curve\n",
        "from sklearn.model_selection import cross_val_predict"
      ],
      "execution_count": 0,
      "outputs": []
    },
    {
      "cell_type": "code",
      "metadata": {
        "id": "L_sFUEiVyuxk",
        "colab_type": "code",
        "colab": {}
      },
      "source": [
        "y_pred_b = cross_val_predict(sgd_clf, x_test, y_test_b, cv=3, method='decision_function')"
      ],
      "execution_count": 0,
      "outputs": []
    },
    {
      "cell_type": "code",
      "metadata": {
        "id": "dUk1HBdozIX8",
        "colab_type": "code",
        "colab": {}
      },
      "source": [
        "precision,  recall, threshold = precision_recall_curve(y_test_b, y_pred_b)"
      ],
      "execution_count": 0,
      "outputs": []
    },
    {
      "cell_type": "code",
      "metadata": {
        "id": "oJ5hXMifzVed",
        "colab_type": "code",
        "colab": {
          "base_uri": "https://localhost:8080/",
          "height": 391
        },
        "outputId": "41b7c7bb-238c-430a-98a9-96e94f54b88a"
      },
      "source": [
        "plt.figure(figsize=(15,6)),\n",
        "plt.plot(threshold, precision[:-1], 'g--', label='Precision')\n",
        "plt.plot(threshold, recall[:-1], 'b-', label='Recall')\n",
        "plt.legend()"
      ],
      "execution_count": 117,
      "outputs": [
        {
          "output_type": "execute_result",
          "data": {
            "text/plain": [
              "<matplotlib.legend.Legend at 0x7f3a127f8438>"
            ]
          },
          "metadata": {
            "tags": []
          },
          "execution_count": 117
        },
        {
          "output_type": "display_data",
          "data": {
            "image/png": "[encoded data removed]",
            "text/plain": [
              "<Figure size 1080x432 with 1 Axes>"
            ]
          },
          "metadata": {
            "tags": []
          }
        }
      ]
    },
    {
      "cell_type": "code",
      "metadata": {
        "id": "nJ2Q3Rl8z3Wv",
        "colab_type": "code",
        "colab": {
          "base_uri": "https://localhost:8080/",
          "height": 388
        },
        "outputId": "fb300a92-de29-4072-daa4-99481004ae0a"
      },
      "source": [
        "plt.figure(figsize=(6,6))\n",
        "plt.plot(precision, recall, 'g--', lw=3)\n",
        "plt.xlabel('precision')\n",
        "plt.ylabel('recall')\n",
        "plt.grid(True)"
      ],
      "execution_count": 124,
      "outputs": [
        {
          "output_type": "display_data",
          "data": {
            "image/png": "[encoded data removed]",
            "text/plain": [
              "<Figure size 432x432 with 1 Axes>"
            ]
          },
          "metadata": {
            "tags": []
          }
        }
      ]
    },
    {
      "cell_type": "markdown",
      "metadata": {
        "id": "qBmxbzcY0nFk",
        "colab_type": "text"
      },
      "source": [
        "## The ROC plot"
      ]
    },
    {
      "cell_type": "code",
      "metadata": {
        "id": "7gRdwV9C0VRo",
        "colab_type": "code",
        "colab": {}
      },
      "source": [
        "from sklearn.metrics import roc_curve"
      ],
      "execution_count": 0,
      "outputs": []
    },
    {
      "cell_type": "code",
      "metadata": {
        "id": "JlA51gCM0tU-",
        "colab_type": "code",
        "colab": {}
      },
      "source": [
        "fpr, tpr, threshold = roc_curve(y_test_b, y_pred_b)"
      ],
      "execution_count": 0,
      "outputs": []
    },
    {
      "cell_type": "code",
      "metadata": {
        "id": "NPSN3QBe1BhJ",
        "colab_type": "code",
        "colab": {
          "base_uri": "https://localhost:8080/",
          "height": 388
        },
        "outputId": "bfcd69db-4857-4f3a-de55-5324c568e5d1"
      },
      "source": [
        "plt.figure(figsize=(6,6))\n",
        "plt.plot(fpr, tpr, 'g-', lw=3)\n",
        "plt.plot([0, 1],[0,1],'r--')\n",
        "plt.xlabel('fpr')\n",
        "plt.ylabel('tpr')\n",
        "plt.grid(True)"
      ],
      "execution_count": 128,
      "outputs": [
        {
          "output_type": "display_data",
          "data": {
            "image/png": "[encoded data removed]",
            "text/plain": [
              "<Figure size 432x432 with 1 Axes>"
            ]
          },
          "metadata": {
            "tags": []
          }
        }
      ]
    },
    {
      "cell_type": "markdown",
      "metadata": {
        "id": "SqSVQZ_f1cMM",
        "colab_type": "text"
      },
      "source": [
        "## Train another model"
      ]
    },
    {
      "cell_type": "code",
      "metadata": {
        "id": "QK6Tr6Y01NCE",
        "colab_type": "code",
        "colab": {
          "base_uri": "https://localhost:8080/",
          "height": 156
        },
        "outputId": "16d9437c-0f0f-4dcf-f395-286b3624f729"
      },
      "source": [
        "from sklearn.ensemble import RandomForestClassifier\n",
        "rfc = RandomForestClassifier()\n",
        "rfc.fit(x_train, y_train_b)"
      ],
      "execution_count": 129,
      "outputs": [
        {
          "output_type": "execute_result",
          "data": {
            "text/plain": [
              "RandomForestClassifier(bootstrap=True, ccp_alpha=0.0, class_weight=None,\n",
              "                       criterion='gini', max_depth=None, max_features='auto',\n",
              "                       max_leaf_nodes=None, max_samples=None,\n",
              "                       min_impurity_decrease=0.0, min_impurity_split=None,\n",
              "                       min_samples_leaf=1, min_samples_split=2,\n",
              "                       min_weight_fraction_leaf=0.0, n_estimators=100,\n",
              "                       n_jobs=None, oob_score=False, random_state=None,\n",
              "                       verbose=0, warm_start=False)"
            ]
          },
          "metadata": {
            "tags": []
          },
          "execution_count": 129
        }
      ]
    },
    {
      "cell_type": "code",
      "metadata": {
        "id": "XeThU_gS6hbX",
        "colab_type": "code",
        "colab": {}
      },
      "source": [
        "pred_y_b = cross_val_predict(rfc, x_test, y_test_b, cv=3, method='predict_proba')"
      ],
      "execution_count": 0,
      "outputs": []
    },
    {
      "cell_type": "code",
      "metadata": {
        "id": "ip7EczJ664fJ",
        "colab_type": "code",
        "colab": {}
      },
      "source": [
        "fpr, tpr, threshold = roc_curve(y_test_b, pred_y_b[:,1])"
      ],
      "execution_count": 0,
      "outputs": []
    },
    {
      "cell_type": "code",
      "metadata": {
        "id": "cF35jpk57EmI",
        "colab_type": "code",
        "colab": {
          "base_uri": "https://localhost:8080/",
          "height": 139
        },
        "outputId": "a7b50625-d8e2-4b80-f358-ae3a71d474ce"
      },
      "source": [
        "pred_y_b"
      ],
      "execution_count": 137,
      "outputs": [
        {
          "output_type": "execute_result",
          "data": {
            "text/plain": [
              "array([[1.  , 0.  ],\n",
              "       [0.94, 0.06],\n",
              "       [0.99, 0.01],\n",
              "       ...,\n",
              "       [0.99, 0.01],\n",
              "       [0.99, 0.01],\n",
              "       [0.97, 0.03]])"
            ]
          },
          "metadata": {
            "tags": []
          },
          "execution_count": 137
        }
      ]
    },
    {
      "cell_type": "code",
      "metadata": {
        "id": "8JMXsrDi7KQf",
        "colab_type": "code",
        "colab": {
          "base_uri": "https://localhost:8080/",
          "height": 388
        },
        "outputId": "7ea0141a-7cf6-4850-ff18-2f2ce20afc03"
      },
      "source": [
        "plt.figure(figsize=(6,6))\n",
        "plt.plot(fpr, tpr, 'g-', lw=3)\n",
        "plt.plot([0, 1],[0,1],'r--')\n",
        "plt.xlabel('fpr')\n",
        "plt.ylabel('tpr')\n",
        "plt.grid(True)"
      ],
      "execution_count": 138,
      "outputs": [
        {
          "output_type": "display_data",
          "data": {
            "image/png": "[encoded data removed]",
            "text/plain": [
              "<Figure size 432x432 with 1 Axes>"
            ]
          },
          "metadata": {
            "tags": []
          }
        }
      ]
    },
    {
      "cell_type": "code",
      "metadata": {
        "id": "Os4obKly7iKZ",
        "colab_type": "code",
        "colab": {}
      },
      "source": [
        ""
      ],
      "execution_count": 0,
      "outputs": []
    },
    {
      "cell_type": "markdown",
      "metadata": {
        "id": "3QZyhpQO81zd",
        "colab_type": "text"
      },
      "source": [
        "# Multiclass classification"
      ]
    },
    {
      "cell_type": "code",
      "metadata": {
        "id": "ulBSJvdw849k",
        "colab_type": "code",
        "colab": {}
      },
      "source": [
        "x_train, x_test, y_train, y_test = train_test_split(X,y, test_size=0.33)"
      ],
      "execution_count": 0,
      "outputs": []
    },
    {
      "cell_type": "code",
      "metadata": {
        "id": "83_AXrGcBfPG",
        "colab_type": "code",
        "colab": {}
      },
      "source": [
        "from sklearn.linear_model import SGDClassifier"
      ],
      "execution_count": 0,
      "outputs": []
    },
    {
      "cell_type": "code",
      "metadata": {
        "id": "xL4tKKOyBfXf",
        "colab_type": "code",
        "colab": {
          "base_uri": "https://localhost:8080/",
          "height": 121
        },
        "outputId": "fef2b5a9-ebe6-4b3b-9145-36113560dcb4"
      },
      "source": [
        "sgd = SGDClassifier()\n",
        "sgd.fit(x_train, y_train)"
      ],
      "execution_count": 148,
      "outputs": [
        {
          "output_type": "execute_result",
          "data": {
            "text/plain": [
              "SGDClassifier(alpha=0.0001, average=False, class_weight=None,\n",
              "              early_stopping=False, epsilon=0.1, eta0=0.0, fit_intercept=True,\n",
              "              l1_ratio=0.15, learning_rate='optimal', loss='hinge',\n",
              "              max_iter=1000, n_iter_no_change=5, n_jobs=None, penalty='l2',\n",
              "              power_t=0.5, random_state=None, shuffle=True, tol=0.001,\n",
              "              validation_fraction=0.1, verbose=0, warm_start=False)"
            ]
          },
          "metadata": {
            "tags": []
          },
          "execution_count": 148
        }
      ]
    },
    {
      "cell_type": "code",
      "metadata": {
        "id": "jWIOQ4kYBfVh",
        "colab_type": "code",
        "colab": {
          "base_uri": "https://localhost:8080/",
          "height": 34
        },
        "outputId": "5b852ee1-7732-442c-e790-ae24eea7b1c7"
      },
      "source": [
        "sgd.predict(x_test)"
      ],
      "execution_count": 149,
      "outputs": [
        {
          "output_type": "execute_result",
          "data": {
            "text/plain": [
              "array(['8', '0', '9', ..., '9', '3', '4'], dtype='<U1')"
            ]
          },
          "metadata": {
            "tags": []
          },
          "execution_count": 149
        }
      ]
    },
    {
      "cell_type": "code",
      "metadata": {
        "id": "lZgoW1CkBfT-",
        "colab_type": "code",
        "colab": {
          "base_uri": "https://localhost:8080/",
          "height": 243
        },
        "outputId": "653d1685-9112-48cd-f9f5-6fe1b8b06c33"
      },
      "source": [
        "sgd.decision_function(x_test)"
      ],
      "execution_count": 151,
      "outputs": [
        {
          "output_type": "execute_result",
          "data": {
            "text/plain": [
              "array([[-15355.65588835, -23174.82323286,  -5667.57047812, ...,\n",
              "        -29958.04084288,   4153.79858516,  -1436.20046358],\n",
              "       [  7695.30615199, -56500.9489347 , -12336.76956875, ...,\n",
              "        -68990.24415548,  -4716.66005954,  -6549.17051454],\n",
              "       [-68740.91167366, -27961.69710328, -16228.75271468, ...,\n",
              "        -34436.19284878,  -1809.77696169,   -741.27646908],\n",
              "       ...,\n",
              "       [-51465.42099731, -53935.75706183, -12473.85411593, ...,\n",
              "        -14426.20083973,  -3896.30710333,   1714.16207669],\n",
              "       [-47060.396745  , -51788.52110962,   1791.97833966, ...,\n",
              "        -84759.86999338,  -4063.65185595, -18884.75837612],\n",
              "       [-29464.78527249, -75336.34015243, -15774.95243179, ...,\n",
              "        -58217.31029646,  -9558.87392328, -12868.04405623]])"
            ]
          },
          "metadata": {
            "tags": []
          },
          "execution_count": 151
        }
      ]
    },
    {
      "cell_type": "code",
      "metadata": {
        "id": "wj1KSC3NBfSb",
        "colab_type": "code",
        "colab": {}
      },
      "source": [
        "# Note that the classifiers decide automaticly with which strategy do the multiclass classification job\n",
        "# to select manually which method to use, you can do as the following:"
      ],
      "execution_count": 0,
      "outputs": []
    },
    {
      "cell_type": "code",
      "metadata": {
        "id": "ImE46ikqBfLQ",
        "colab_type": "code",
        "colab": {}
      },
      "source": [
        "from sklearn.multiclass import OneVsOneClassifier\n",
        "from sklearn.multiclass import OneVsRestClassifier"
      ],
      "execution_count": 0,
      "outputs": []
    },
    {
      "cell_type": "code",
      "metadata": {
        "id": "2QuAMaPoBk5a",
        "colab_type": "code",
        "colab": {}
      },
      "source": [
        "from sklearn.svm import SVC"
      ],
      "execution_count": 0,
      "outputs": []
    },
    {
      "cell_type": "code",
      "metadata": {
        "id": "WY1hrhQEBlJ_",
        "colab_type": "code",
        "colab": {
          "base_uri": "https://localhost:8080/",
          "height": 139
        },
        "outputId": "4ae2f74b-9512-47cb-8420-f27af9772867"
      },
      "source": [
        "my_classifier_OVO = OneVsOneClassifier(SVC())\n",
        "my_classifier_OVO.fit(x_train, y_train)"
      ],
      "execution_count": 156,
      "outputs": [
        {
          "output_type": "execute_result",
          "data": {
            "text/plain": [
              "OneVsOneClassifier(estimator=SVC(C=1.0, break_ties=False, cache_size=200,\n",
              "                                 class_weight=None, coef0=0.0,\n",
              "                                 decision_function_shape='ovr', degree=3,\n",
              "                                 gamma='scale', kernel='rbf', max_iter=-1,\n",
              "                                 probability=False, random_state=None,\n",
              "                                 shrinking=True, tol=0.001, verbose=False),\n",
              "                   n_jobs=None)"
            ]
          },
          "metadata": {
            "tags": []
          },
          "execution_count": 156
        }
      ]
    },
    {
      "cell_type": "code",
      "metadata": {
        "id": "qFNuPnpEBt3N",
        "colab_type": "code",
        "colab": {}
      },
      "source": [
        "my_classifier_OVO.predict(x_test)"
      ],
      "execution_count": 0,
      "outputs": []
    },
    {
      "cell_type": "code",
      "metadata": {
        "id": "dZr8vuQPJx0K",
        "colab_type": "code",
        "colab": {}
      },
      "source": [
        "my_classifier_OVO.decision_function(x_test)"
      ],
      "execution_count": 0,
      "outputs": []
    },
    {
      "cell_type": "code",
      "metadata": {
        "id": "rQP2_vNCJ4EX",
        "colab_type": "code",
        "colab": {}
      },
      "source": [
        "from sklearn.model_selection import coss_val_predict"
      ],
      "execution_count": 0,
      "outputs": []
    },
    {
      "cell_type": "code",
      "metadata": {
        "id": "ROO6HrbCKADY",
        "colab_type": "code",
        "colab": {}
      },
      "source": [
        "cross_val_predict(my_classifier_OVO, x_test, y_test, cv=3, method='decision_function')"
      ],
      "execution_count": 0,
      "outputs": []
    },
    {
      "cell_type": "code",
      "metadata": {
        "id": "JQwr-pUXKMQR",
        "colab_type": "code",
        "colab": {}
      },
      "source": [
        ""
      ],
      "execution_count": 0,
      "outputs": []
    }
  ]
}