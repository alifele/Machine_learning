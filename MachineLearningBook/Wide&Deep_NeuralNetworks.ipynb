{
  "nbformat": 4,
  "nbformat_minor": 0,
  "metadata": {
    "colab": {
      "name": "Wide&Deep_NeuralNetworks.ipynb",
      "version": "0.3.2",
      "provenance": [],
      "include_colab_link": true
    },
    "kernelspec": {
      "name": "python3",
      "display_name": "Python 3"
    }
  },
  "cells": [
    {
      "cell_type": "markdown",
      "metadata": {
        "id": "view-in-github",
        "colab_type": "text"
      },
      "source": [
        "<a href=\"https://colab.research.google.com/github/alifele/Machine_learning/blob/master/MachineLearningBook/Wide%26Deep_NeuralNetworks.ipynb\" target=\"_parent\"><img src=\"https://colab.research.google.com/assets/colab-badge.svg\" alt=\"Open In Colab\"/></a>"
      ]
    },
    {
      "cell_type": "code",
      "metadata": {
        "id": "f52_4vVlfsZL",
        "colab_type": "code",
        "colab": {}
      },
      "source": [
        "import numpy as np\n",
        "import matplotlib.pyplot as plt\n",
        "import tensorflow as tf\n",
        "from tensorflow import keras\n",
        "\n",
        "\n",
        "from sklearn.datasets import fetch_california_housing\n",
        "from sklearn.model_selection import train_test_split\n",
        "from sklearn.preprocessing import StandardScaler\n"
      ],
      "execution_count": 0,
      "outputs": []
    },
    {
      "cell_type": "code",
      "metadata": {
        "id": "wae01514mji8",
        "colab_type": "code",
        "colab": {}
      },
      "source": [
        "housing = fetch_california_housing()\n",
        "\n",
        "X_train_full, X_test, y_train_full, y_test = train_test_split(housing.data, housing.target)\n",
        "X_train, X_valid, y_train, y_valid = train_test_split(X_train_full, y_train_full)\n",
        "scaler = StandardScaler()\n",
        "X_train = scaler.fit_transform(X_train)\n",
        "X_valid = scaler.fit_transform(X_valid)\n",
        "X_test = scaler.fit_transform(X_test)"
      ],
      "execution_count": 0,
      "outputs": []
    },
    {
      "cell_type": "code",
      "metadata": {
        "id": "HkZhh3Wzmait",
        "colab_type": "code",
        "colab": {
          "base_uri": "https://localhost:8080/",
          "height": 90
        },
        "outputId": "3d7239cf-aa12-4181-9ccd-e713729873db"
      },
      "source": [
        "input = keras.layers.Input(shape=X_train.shape[1:])\n",
        "hidden1 = keras.layers.Dense(5, activation='relu')(input)\n",
        "hidden2 = keras.layers.Dense(3, activation='relu')(hidden1)\n",
        "#concat = keras.layers.Concatenate()([input,hidden2])\n",
        "output = keras.layers.Dense(1)(hidden2)\n",
        "\n",
        "model = keras.models.Model(inputs=[input], outputs=[output])"
      ],
      "execution_count": 3,
      "outputs": [
        {
          "output_type": "stream",
          "text": [
            "WARNING:tensorflow:From /usr/local/lib/python3.6/dist-packages/tensorflow/python/ops/resource_variable_ops.py:435: colocate_with (from tensorflow.python.framework.ops) is deprecated and will be removed in a future version.\n",
            "Instructions for updating:\n",
            "Colocations handled automatically by placer.\n"
          ],
          "name": "stdout"
        }
      ]
    },
    {
      "cell_type": "code",
      "metadata": {
        "id": "diyLHbil4Rea",
        "colab_type": "code",
        "colab": {
          "base_uri": "https://localhost:8080/",
          "height": 368
        },
        "outputId": "7d16bf24-7836-4aec-a309-ecf159376134"
      },
      "source": [
        "keras.utils.plot_model(model)\n",
        "from IPython.display import Image\n",
        "Image('model.png')"
      ],
      "execution_count": 4,
      "outputs": [
        {
          "output_type": "execute_result",
          "data": {
            "image/png": "[encoded data removed]",
            "text/plain": [
              "<IPython.core.display.Image object>"
            ]
          },
          "metadata": {
            "tags": []
          },
          "execution_count": 4
        }
      ]
    },
    {
      "cell_type": "code",
      "metadata": {
        "id": "pdgFsZCK4XrW",
        "colab_type": "code",
        "colab": {
          "base_uri": "https://localhost:8080/",
          "height": 283
        },
        "outputId": "874d0315-d662-4e11-a4b9-b638a1961aa3"
      },
      "source": [
        "model.summary()"
      ],
      "execution_count": 5,
      "outputs": [
        {
          "output_type": "stream",
          "text": [
            "_________________________________________________________________\n",
            "Layer (type)                 Output Shape              Param #   \n",
            "=================================================================\n",
            "input_1 (InputLayer)         (None, 8)                 0         \n",
            "_________________________________________________________________\n",
            "dense (Dense)                (None, 5)                 45        \n",
            "_________________________________________________________________\n",
            "dense_1 (Dense)              (None, 3)                 18        \n",
            "_________________________________________________________________\n",
            "dense_2 (Dense)              (None, 1)                 4         \n",
            "=================================================================\n",
            "Total params: 67\n",
            "Trainable params: 67\n",
            "Non-trainable params: 0\n",
            "_________________________________________________________________\n"
          ],
          "name": "stdout"
        }
      ]
    },
    {
      "cell_type": "code",
      "metadata": {
        "id": "KcmlDPFl4mHk",
        "colab_type": "code",
        "colab": {
          "base_uri": "https://localhost:8080/",
          "height": 1227
        },
        "outputId": "2f6734cd-b810-4baa-ac20-09739e5d5ab1"
      },
      "source": [
        "model.compile(loss='mean_squared_error',\n",
        "             optimizer='sgd')\n",
        "\n",
        "his = model.fit(X_train, y_train, epochs=30, batch_size=10, validation_data=(X_valid, y_valid))"
      ],
      "execution_count": 6,
      "outputs": [
        {
          "output_type": "stream",
          "text": [
            "WARNING:tensorflow:From /usr/local/lib/python3.6/dist-packages/tensorflow/python/keras/utils/losses_utils.py:170: to_float (from tensorflow.python.ops.math_ops) is deprecated and will be removed in a future version.\n",
            "Instructions for updating:\n",
            "Use tf.cast instead.\n",
            "Train on 11610 samples, validate on 3870 samples\n",
            "WARNING:tensorflow:From /usr/local/lib/python3.6/dist-packages/tensorflow/python/ops/math_ops.py:3066: to_int32 (from tensorflow.python.ops.math_ops) is deprecated and will be removed in a future version.\n",
            "Instructions for updating:\n",
            "Use tf.cast instead.\n",
            "Epoch 1/30\n",
            "11610/11610 [==============================] - 1s 114us/sample - loss: 0.6966 - val_loss: 0.5040\n",
            "Epoch 2/30\n",
            "11610/11610 [==============================] - 1s 105us/sample - loss: 0.4761 - val_loss: 1.9430\n",
            "Epoch 3/30\n",
            "11610/11610 [==============================] - 1s 101us/sample - loss: 0.5511 - val_loss: 0.4920\n",
            "Epoch 4/30\n",
            "11610/11610 [==============================] - 1s 102us/sample - loss: 0.4361 - val_loss: 0.4361\n",
            "Epoch 5/30\n",
            "11610/11610 [==============================] - 1s 102us/sample - loss: 0.4212 - val_loss: 0.4393\n",
            "Epoch 6/30\n",
            "11610/11610 [==============================] - 1s 101us/sample - loss: 0.4128 - val_loss: 0.4990\n",
            "Epoch 7/30\n",
            "11610/11610 [==============================] - 1s 101us/sample - loss: 0.4083 - val_loss: 0.4320\n",
            "Epoch 8/30\n",
            "11610/11610 [==============================] - 1s 102us/sample - loss: 0.4040 - val_loss: 0.4257\n",
            "Epoch 9/30\n",
            "11610/11610 [==============================] - 1s 101us/sample - loss: 0.4008 - val_loss: 0.4166\n",
            "Epoch 10/30\n",
            "11610/11610 [==============================] - 1s 100us/sample - loss: 0.4005 - val_loss: 0.4169\n",
            "Epoch 11/30\n",
            "11610/11610 [==============================] - 1s 103us/sample - loss: 0.3991 - val_loss: 0.4053\n",
            "Epoch 12/30\n",
            "11610/11610 [==============================] - 1s 101us/sample - loss: 0.3933 - val_loss: 0.4244\n",
            "Epoch 13/30\n",
            "11610/11610 [==============================] - 1s 101us/sample - loss: 0.3952 - val_loss: 0.4203\n",
            "Epoch 14/30\n",
            "11610/11610 [==============================] - 1s 101us/sample - loss: 0.3926 - val_loss: 0.4476\n",
            "Epoch 15/30\n",
            "11610/11610 [==============================] - 1s 100us/sample - loss: 0.3920 - val_loss: 0.4057\n",
            "Epoch 16/30\n",
            "11610/11610 [==============================] - 1s 101us/sample - loss: 0.3893 - val_loss: 0.4076\n",
            "Epoch 17/30\n",
            "11610/11610 [==============================] - 1s 102us/sample - loss: 0.3892 - val_loss: 0.4334\n",
            "Epoch 18/30\n",
            "11610/11610 [==============================] - 1s 101us/sample - loss: 0.3871 - val_loss: 0.4051\n",
            "Epoch 19/30\n",
            "11610/11610 [==============================] - 1s 103us/sample - loss: 0.3860 - val_loss: 0.4130\n",
            "Epoch 20/30\n",
            "11610/11610 [==============================] - 1s 102us/sample - loss: 0.3847 - val_loss: 0.4694\n",
            "Epoch 21/30\n",
            "11610/11610 [==============================] - 1s 101us/sample - loss: 0.3815 - val_loss: 0.4096\n",
            "Epoch 22/30\n",
            "11610/11610 [==============================] - 1s 102us/sample - loss: 0.3819 - val_loss: 0.3957\n",
            "Epoch 23/30\n",
            "11610/11610 [==============================] - 1s 102us/sample - loss: 0.4273 - val_loss: 0.4442\n",
            "Epoch 24/30\n",
            "11610/11610 [==============================] - 1s 101us/sample - loss: 0.3897 - val_loss: 0.4101\n",
            "Epoch 25/30\n",
            "11610/11610 [==============================] - 1s 100us/sample - loss: 0.3800 - val_loss: 0.4295\n",
            "Epoch 26/30\n",
            "11610/11610 [==============================] - 1s 102us/sample - loss: 0.3800 - val_loss: 0.3940\n",
            "Epoch 27/30\n",
            "11610/11610 [==============================] - 1s 102us/sample - loss: 0.3760 - val_loss: 0.4047\n",
            "Epoch 28/30\n",
            "11610/11610 [==============================] - 1s 101us/sample - loss: 0.3736 - val_loss: 0.4043\n",
            "Epoch 29/30\n",
            "11610/11610 [==============================] - 1s 103us/sample - loss: 0.4002 - val_loss: 0.4195\n",
            "Epoch 30/30\n",
            "11610/11610 [==============================] - 1s 102us/sample - loss: 0.3818 - val_loss: 0.4015\n"
          ],
          "name": "stdout"
        }
      ]
    },
    {
      "cell_type": "code",
      "metadata": {
        "id": "CfPanKg-7H8X",
        "colab_type": "code",
        "colab": {
          "base_uri": "https://localhost:8080/",
          "height": 141
        },
        "outputId": "4c732c20-a5da-42f3-d183-e5d78f9a8042"
      },
      "source": [
        "his.params"
      ],
      "execution_count": 7,
      "outputs": [
        {
          "output_type": "execute_result",
          "data": {
            "text/plain": [
              "{'batch_size': 10,\n",
              " 'do_validation': True,\n",
              " 'epochs': 30,\n",
              " 'metrics': ['loss', 'val_loss'],\n",
              " 'samples': 11610,\n",
              " 'steps': None,\n",
              " 'verbose': 0}"
            ]
          },
          "metadata": {
            "tags": []
          },
          "execution_count": 7
        }
      ]
    },
    {
      "cell_type": "code",
      "metadata": {
        "id": "1FyMvlfu7yCw",
        "colab_type": "code",
        "colab": {
          "base_uri": "https://localhost:8080/",
          "height": 550
        },
        "outputId": "79048beb-a0c9-4075-ab01-dc61b0db404a"
      },
      "source": [
        "his.epoch"
      ],
      "execution_count": 8,
      "outputs": [
        {
          "output_type": "execute_result",
          "data": {
            "text/plain": [
              "[0,\n",
              " 1,\n",
              " 2,\n",
              " 3,\n",
              " 4,\n",
              " 5,\n",
              " 6,\n",
              " 7,\n",
              " 8,\n",
              " 9,\n",
              " 10,\n",
              " 11,\n",
              " 12,\n",
              " 13,\n",
              " 14,\n",
              " 15,\n",
              " 16,\n",
              " 17,\n",
              " 18,\n",
              " 19,\n",
              " 20,\n",
              " 21,\n",
              " 22,\n",
              " 23,\n",
              " 24,\n",
              " 25,\n",
              " 26,\n",
              " 27,\n",
              " 28,\n",
              " 29]"
            ]
          },
          "metadata": {
            "tags": []
          },
          "execution_count": 8
        }
      ]
    },
    {
      "cell_type": "code",
      "metadata": {
        "id": "p88hGwLU72O1",
        "colab_type": "code",
        "colab": {
          "base_uri": "https://localhost:8080/",
          "height": 503
        },
        "outputId": "5feb68d6-5678-479e-d18f-eafe2652c892"
      },
      "source": [
        "import pandas as pd\n",
        "pd.DataFrame(his.history).plot(figsize=(6,8))"
      ],
      "execution_count": 9,
      "outputs": [
        {
          "output_type": "execute_result",
          "data": {
            "text/plain": [
              "<matplotlib.axes._subplots.AxesSubplot at 0x7f5c4936c550>"
            ]
          },
          "metadata": {
            "tags": []
          },
          "execution_count": 9
        },
        {
          "output_type": "display_data",
          "data": {
            "image/png": "[encoded data removed]",
            "text/plain": [
              "<Figure size 432x576 with 1 Axes>"
            ]
          },
          "metadata": {
            "tags": []
          }
        }
      ]
    },
    {
      "cell_type": "code",
      "metadata": {
        "id": "YRYtb1Gy7-3S",
        "colab_type": "code",
        "colab": {}
      },
      "source": [
        ""
      ],
      "execution_count": 0,
      "outputs": []
    }
  ]
}