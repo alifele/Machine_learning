{
  "nbformat": 4,
  "nbformat_minor": 0,
  "metadata": {
    "colab": {
      "name": "StochasticGradientDescent.ipynb",
      "version": "0.3.2",
      "provenance": [],
      "include_colab_link": true
    },
    "kernelspec": {
      "name": "python3",
      "display_name": "Python 3"
    }
  },
  "cells": [
    {
      "cell_type": "markdown",
      "metadata": {
        "id": "view-in-github",
        "colab_type": "text"
      },
      "source": [
        "<a href=\"https://colab.research.google.com/github/alifele/Machine_learning/blob/master/MachineLearningBook/StochasticGradientDescent.ipynb\" target=\"_parent\"><img src=\"https://colab.research.google.com/assets/colab-badge.svg\" alt=\"Open In Colab\"/></a>"
      ]
    },
    {
      "cell_type": "code",
      "metadata": {
        "id": "9Cwi6_eL2vl1",
        "colab_type": "code",
        "colab": {}
      },
      "source": [
        "import numpy as np\n",
        "import matplotlib.pyplot as plt\n"
      ],
      "execution_count": 0,
      "outputs": []
    },
    {
      "cell_type": "code",
      "metadata": {
        "id": "kBWJeqoF33y1",
        "colab_type": "code",
        "colab": {}
      },
      "source": [
        "iterate = 1000000\n",
        "etha = 0.01\n",
        "MSE =[]\n",
        "batch_size=100"
      ],
      "execution_count": 0,
      "outputs": []
    },
    {
      "cell_type": "code",
      "metadata": {
        "id": "yISvuBMJ36pv",
        "colab_type": "code",
        "colab": {
          "base_uri": "https://localhost:8080/",
          "height": 268
        },
        "outputId": "1c5039d4-fdff-4639-a0c1-93399b450466"
      },
      "source": [
        "sample = 100000\n",
        "x = 12 * np.random.random((100000,1))\n",
        "X = np.c_[x, np.ones((100000,1))]\n",
        "y = 3 + 4*x + np.random.randn(100000,1)\n",
        "th = np.array([0,1]).reshape(-1,1)\n",
        "plt.scatter(x,y,c='red')\n",
        "plt.grid(True)"
      ],
      "execution_count": 6,
      "outputs": [
        {
          "output_type": "display_data",
          "data": {
            "image/png": "[encoded data removed]",
            "text/plain": [
              "<Figure size 432x288 with 1 Axes>"
            ]
          },
          "metadata": {
            "tags": []
          }
        }
      ]
    },
    {
      "cell_type": "code",
      "metadata": {
        "id": "1hiPdwi438pP",
        "colab_type": "code",
        "colab": {}
      },
      "source": [
        "def MSEf (X,th,y):\n",
        "  m = np.shape(X)[0]\n",
        "  return 1/m * np.sum(X@th - y)"
      ],
      "execution_count": 0,
      "outputs": []
    },
    {
      "cell_type": "code",
      "metadata": {
        "id": "Y_lA797W39el",
        "colab_type": "code",
        "colab": {}
      },
      "source": [
        "def dMSE (X, th, y):\n",
        "  m=np.shape(X)[0]\n",
        "  return 2/m * X.T @ (X@th-y)"
      ],
      "execution_count": 0,
      "outputs": []
    },
    {
      "cell_type": "code",
      "metadata": {
        "id": "zCrPF1nw3_4R",
        "colab_type": "code",
        "colab": {
          "base_uri": "https://localhost:8080/",
          "height": 1830
        },
        "outputId": "62c12306-7dfe-41c9-dd99-2b5dab0dc601"
      },
      "source": [
        "%time\n",
        "for k in range(iterate):\n",
        "  start = int(sample * np.random.random(1))\n",
        "  end = start + batch_size\n",
        "  X_cal = X[start:end,:]\n",
        "  y_cal = y[start:end]\n",
        "  th_tempo = th\n",
        "  th = th - etha*dMSE(X_cal,th_tempo,y_cal)\n",
        "  if (k%10000==0):\n",
        "    print('progress is: {}%'.format(k/iterate * 100))"
      ],
      "execution_count": 12,
      "outputs": [
        {
          "output_type": "stream",
          "text": [
            "CPU times: user 4 µs, sys: 0 ns, total: 4 µs\n",
            "Wall time: 7.63 µs\n",
            "progress is: 0.0%\n",
            "progress is: 1.0%\n",
            "progress is: 2.0%\n",
            "progress is: 3.0%\n",
            "progress is: 4.0%\n",
            "progress is: 5.0%\n",
            "progress is: 6.0%\n",
            "progress is: 7.000000000000001%\n",
            "progress is: 8.0%\n",
            "progress is: 9.0%\n",
            "progress is: 10.0%\n",
            "progress is: 11.0%\n",
            "progress is: 12.0%\n",
            "progress is: 13.0%\n",
            "progress is: 14.000000000000002%\n",
            "progress is: 15.0%\n",
            "progress is: 16.0%\n",
            "progress is: 17.0%\n",
            "progress is: 18.0%\n",
            "progress is: 19.0%\n",
            "progress is: 20.0%\n",
            "progress is: 21.0%\n",
            "progress is: 22.0%\n",
            "progress is: 23.0%\n",
            "progress is: 24.0%\n",
            "progress is: 25.0%\n",
            "progress is: 26.0%\n",
            "progress is: 27.0%\n",
            "progress is: 28.000000000000004%\n",
            "progress is: 28.999999999999996%\n",
            "progress is: 30.0%\n",
            "progress is: 31.0%\n",
            "progress is: 32.0%\n",
            "progress is: 33.0%\n",
            "progress is: 34.0%\n",
            "progress is: 35.0%\n",
            "progress is: 36.0%\n",
            "progress is: 37.0%\n",
            "progress is: 38.0%\n",
            "progress is: 39.0%\n",
            "progress is: 40.0%\n",
            "progress is: 41.0%\n",
            "progress is: 42.0%\n",
            "progress is: 43.0%\n",
            "progress is: 44.0%\n",
            "progress is: 45.0%\n",
            "progress is: 46.0%\n",
            "progress is: 47.0%\n",
            "progress is: 48.0%\n",
            "progress is: 49.0%\n",
            "progress is: 50.0%\n",
            "progress is: 51.0%\n",
            "progress is: 52.0%\n",
            "progress is: 53.0%\n",
            "progress is: 54.0%\n",
            "progress is: 55.00000000000001%\n",
            "progress is: 56.00000000000001%\n",
            "progress is: 56.99999999999999%\n",
            "progress is: 57.99999999999999%\n",
            "progress is: 59.0%\n",
            "progress is: 60.0%\n",
            "progress is: 61.0%\n",
            "progress is: 62.0%\n",
            "progress is: 63.0%\n",
            "progress is: 64.0%\n",
            "progress is: 65.0%\n",
            "progress is: 66.0%\n",
            "progress is: 67.0%\n",
            "progress is: 68.0%\n",
            "progress is: 69.0%\n",
            "progress is: 70.0%\n",
            "progress is: 71.0%\n",
            "progress is: 72.0%\n",
            "progress is: 73.0%\n",
            "progress is: 74.0%\n",
            "progress is: 75.0%\n",
            "progress is: 76.0%\n",
            "progress is: 77.0%\n",
            "progress is: 78.0%\n",
            "progress is: 79.0%\n",
            "progress is: 80.0%\n",
            "progress is: 81.0%\n",
            "progress is: 82.0%\n",
            "progress is: 83.0%\n",
            "progress is: 84.0%\n",
            "progress is: 85.0%\n",
            "progress is: 86.0%\n",
            "progress is: 87.0%\n",
            "progress is: 88.0%\n",
            "progress is: 89.0%\n",
            "progress is: 90.0%\n",
            "progress is: 91.0%\n",
            "progress is: 92.0%\n",
            "progress is: 93.0%\n",
            "progress is: 94.0%\n",
            "progress is: 95.0%\n",
            "progress is: 96.0%\n",
            "progress is: 97.0%\n",
            "progress is: 98.0%\n",
            "progress is: 99.0%\n"
          ],
          "name": "stdout"
        }
      ]
    },
    {
      "cell_type": "markdown",
      "metadata": {
        "id": "38GH0mPG5V1X",
        "colab_type": "text"
      },
      "source": [
        "#AMAZING Huh ?!\n",
        "\n",
        "if you compare the speed of this training with the whole batch gradient descent then you will be surprized"
      ]
    },
    {
      "cell_type": "code",
      "metadata": {
        "id": "hMcqCB9v4tPu",
        "colab_type": "code",
        "colab": {
          "base_uri": "https://localhost:8080/",
          "height": 52
        },
        "outputId": "05f8a22a-7f47-4024-cf6f-dafebbfdea24"
      },
      "source": [
        "print(th)"
      ],
      "execution_count": 13,
      "outputs": [
        {
          "output_type": "stream",
          "text": [
            "[[4.00179241]\n",
            " [2.98509276]]\n"
          ],
          "name": "stdout"
        }
      ]
    },
    {
      "cell_type": "code",
      "metadata": {
        "id": "hdq8iP6_5zmI",
        "colab_type": "code",
        "colab": {}
      },
      "source": [
        ""
      ],
      "execution_count": 0,
      "outputs": []
    }
  ]
}