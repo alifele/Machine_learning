{
  "nbformat": 4,
  "nbformat_minor": 0,
  "metadata": {
    "colab": {
      "name": "GradientDescent.ipynb",
      "version": "0.3.2",
      "provenance": [],
      "include_colab_link": true
    },
    "kernelspec": {
      "name": "python3",
      "display_name": "Python 3"
    }
  },
  "cells": [
    {
      "cell_type": "markdown",
      "metadata": {
        "id": "view-in-github",
        "colab_type": "text"
      },
      "source": [
        "<a href=\"https://colab.research.google.com/github/alifele/Machine_learning/blob/master/MachineLearningBook/GradientDescent.ipynb\" target=\"_parent\"><img src=\"https://colab.research.google.com/assets/colab-badge.svg\" alt=\"Open In Colab\"/></a>"
      ]
    },
    {
      "cell_type": "code",
      "metadata": {
        "id": "2EMGZya0nljJ",
        "colab_type": "code",
        "colab": {}
      },
      "source": [
        "import numpy as np\n",
        "import matplotlib.pyplot as plt\n"
      ],
      "execution_count": 0,
      "outputs": []
    },
    {
      "cell_type": "code",
      "metadata": {
        "id": "wW_rvks5r8wM",
        "colab_type": "code",
        "colab": {}
      },
      "source": [
        "iterate = 1000000\n",
        "etha = 0.01\n",
        "MSE =[]\n",
        "th0 = np.zeros((1000,1))\n",
        "th1 = np.array((1000,1))"
      ],
      "execution_count": 0,
      "outputs": []
    },
    {
      "cell_type": "code",
      "metadata": {
        "id": "sNeWGPcModu0",
        "colab_type": "code",
        "colab": {
          "base_uri": "https://localhost:8080/",
          "height": 268
        },
        "outputId": "821bca9d-5616-48de-bb2e-5f494c316dfa"
      },
      "source": [
        "x = 12 * np.random.random((100000,1))\n",
        "X = np.c_[x, np.ones((100000,1))]\n",
        "y = 3 + 4*x + np.random.randn(100000,1)\n",
        "th = np.array([0,1]).reshape(-1,1)\n",
        "plt.scatter(x,y,c='red')\n",
        "plt.grid(True)"
      ],
      "execution_count": 37,
      "outputs": [
        {
          "output_type": "display_data",
          "data": {
            "image/png": "[encoded data removed]",
            "text/plain": [
              "<Figure size 432x288 with 1 Axes>"
            ]
          },
          "metadata": {
            "tags": []
          }
        }
      ]
    },
    {
      "cell_type": "code",
      "metadata": {
        "id": "5InF8lPkovN7",
        "colab_type": "code",
        "colab": {}
      },
      "source": [
        "def MSEf (X,th,y):\n",
        "  m = np.shape(X)[0]\n",
        "  return 1/m * np.sum(X@th - y)"
      ],
      "execution_count": 0,
      "outputs": []
    },
    {
      "cell_type": "code",
      "metadata": {
        "id": "MMgahnUOvNKO",
        "colab_type": "code",
        "colab": {
          "base_uri": "https://localhost:8080/",
          "height": 70
        },
        "outputId": "4c394673-6319-47f3-9b26-f20730fba722"
      },
      "source": [
        "m=np.shape(X)[0]\n",
        "m\n",
        "1/m * np.sum(X@th - y)\n",
        "dMSE(X,th,y)\n",
        "MSE.append(dMSE(X,th,y))\n",
        "MSE"
      ],
      "execution_count": 39,
      "outputs": [
        {
          "output_type": "execute_result",
          "data": {
            "text/plain": [
              "[array([[-381.50220721],\n",
              "        [ -50.42572049]]), array([[-406.37013043],\n",
              "        [ -51.86286275]])]"
            ]
          },
          "metadata": {
            "tags": []
          },
          "execution_count": 39
        }
      ]
    },
    {
      "cell_type": "code",
      "metadata": {
        "id": "U1V7nxZwqZ_E",
        "colab_type": "code",
        "colab": {}
      },
      "source": [
        "def dMSE (X, th, y):\n",
        "  m=np.shape(X)[0]\n",
        "  return 2/m * X.T @ (X@th-y)"
      ],
      "execution_count": 0,
      "outputs": []
    },
    {
      "cell_type": "code",
      "metadata": {
        "id": "hqbTR6MyrUx6",
        "colab_type": "code",
        "colab": {
          "base_uri": "https://localhost:8080/",
          "height": 1794
        },
        "outputId": "ce45fa2f-55f0-414a-d00f-7ae9634dca7a"
      },
      "source": [
        "for k in range(iterate):\n",
        "  th_tempo = th\n",
        "  th = th - etha*dMSE(X,th_tempo,y)\n",
        "  if (k%10000==0):\n",
        "    print('progress is: {}%'.format(k/iterate * 100))"
      ],
      "execution_count": 51,
      "outputs": [
        {
          "output_type": "stream",
          "text": [
            "progress is: 0.0%\n",
            "progress is: 1.0%\n",
            "progress is: 2.0%\n",
            "progress is: 3.0%\n",
            "progress is: 4.0%\n",
            "progress is: 5.0%\n",
            "progress is: 6.0%\n",
            "progress is: 7.000000000000001%\n",
            "progress is: 8.0%\n",
            "progress is: 9.0%\n",
            "progress is: 10.0%\n",
            "progress is: 11.0%\n",
            "progress is: 12.0%\n",
            "progress is: 13.0%\n",
            "progress is: 14.000000000000002%\n",
            "progress is: 15.0%\n",
            "progress is: 16.0%\n",
            "progress is: 17.0%\n",
            "progress is: 18.0%\n",
            "progress is: 19.0%\n",
            "progress is: 20.0%\n",
            "progress is: 21.0%\n",
            "progress is: 22.0%\n",
            "progress is: 23.0%\n",
            "progress is: 24.0%\n",
            "progress is: 25.0%\n",
            "progress is: 26.0%\n",
            "progress is: 27.0%\n",
            "progress is: 28.000000000000004%\n",
            "progress is: 28.999999999999996%\n",
            "progress is: 30.0%\n",
            "progress is: 31.0%\n",
            "progress is: 32.0%\n",
            "progress is: 33.0%\n",
            "progress is: 34.0%\n",
            "progress is: 35.0%\n",
            "progress is: 36.0%\n",
            "progress is: 37.0%\n",
            "progress is: 38.0%\n",
            "progress is: 39.0%\n",
            "progress is: 40.0%\n",
            "progress is: 41.0%\n",
            "progress is: 42.0%\n",
            "progress is: 43.0%\n",
            "progress is: 44.0%\n",
            "progress is: 45.0%\n",
            "progress is: 46.0%\n",
            "progress is: 47.0%\n",
            "progress is: 48.0%\n",
            "progress is: 49.0%\n",
            "progress is: 50.0%\n",
            "progress is: 51.0%\n",
            "progress is: 52.0%\n",
            "progress is: 53.0%\n",
            "progress is: 54.0%\n",
            "progress is: 55.00000000000001%\n",
            "progress is: 56.00000000000001%\n",
            "progress is: 56.99999999999999%\n",
            "progress is: 57.99999999999999%\n",
            "progress is: 59.0%\n",
            "progress is: 60.0%\n",
            "progress is: 61.0%\n",
            "progress is: 62.0%\n",
            "progress is: 63.0%\n",
            "progress is: 64.0%\n",
            "progress is: 65.0%\n",
            "progress is: 66.0%\n",
            "progress is: 67.0%\n",
            "progress is: 68.0%\n",
            "progress is: 69.0%\n",
            "progress is: 70.0%\n",
            "progress is: 71.0%\n",
            "progress is: 72.0%\n",
            "progress is: 73.0%\n",
            "progress is: 74.0%\n",
            "progress is: 75.0%\n",
            "progress is: 76.0%\n",
            "progress is: 77.0%\n",
            "progress is: 78.0%\n",
            "progress is: 79.0%\n",
            "progress is: 80.0%\n",
            "progress is: 81.0%\n",
            "progress is: 82.0%\n",
            "progress is: 83.0%\n",
            "progress is: 84.0%\n",
            "progress is: 85.0%\n",
            "progress is: 86.0%\n",
            "progress is: 87.0%\n",
            "progress is: 88.0%\n",
            "progress is: 89.0%\n",
            "progress is: 90.0%\n",
            "progress is: 91.0%\n",
            "progress is: 92.0%\n",
            "progress is: 93.0%\n",
            "progress is: 94.0%\n",
            "progress is: 95.0%\n",
            "progress is: 96.0%\n",
            "progress is: 97.0%\n",
            "progress is: 98.0%\n",
            "progress is: 99.0%\n"
          ],
          "name": "stdout"
        }
      ]
    },
    {
      "cell_type": "code",
      "metadata": {
        "id": "MJfpW3xNzEfG",
        "colab_type": "code",
        "colab": {
          "base_uri": "https://localhost:8080/",
          "height": 52
        },
        "outputId": "9fc53eb7-a28b-4f67-a4fc-01c4762b32ea"
      },
      "source": [
        "print(th)"
      ],
      "execution_count": 52,
      "outputs": [
        {
          "output_type": "stream",
          "text": [
            "[[4.00056741]\n",
            " [2.99720898]]\n"
          ],
          "name": "stdout"
        }
      ]
    },
    {
      "cell_type": "code",
      "metadata": {
        "id": "uTNdk60wzFim",
        "colab_type": "code",
        "colab": {}
      },
      "source": [
        ""
      ],
      "execution_count": 0,
      "outputs": []
    }
  ]
}