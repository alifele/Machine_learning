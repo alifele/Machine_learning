{
  "nbformat": 4,
  "nbformat_minor": 0,
  "metadata": {
    "colab": {
      "name": "Building_a_Regression_MLP_Using_the_Sequential_API.ipynb",
      "version": "0.3.2",
      "provenance": [],
      "include_colab_link": true
    },
    "kernelspec": {
      "name": "python3",
      "display_name": "Python 3"
    }
  },
  "cells": [
    {
      "cell_type": "markdown",
      "metadata": {
        "id": "view-in-github",
        "colab_type": "text"
      },
      "source": [
        "<a href=\"https://colab.research.google.com/github/alifele/Machine_learning/blob/master/MachineLearningBook/Chapter10/Building_a_Regression_MLP_Using_the_Sequential_API.ipynb\" target=\"_parent\"><img src=\"https://colab.research.google.com/assets/colab-badge.svg\" alt=\"Open In Colab\"/></a>"
      ]
    },
    {
      "cell_type": "code",
      "metadata": {
        "id": "m_-6U5bd7Urf",
        "colab_type": "code",
        "colab": {}
      },
      "source": [
        "from sklearn.datasets import fetch_california_housing\n",
        "from sklearn.model_selection import train_test_split\n",
        "from sklearn.preprocessing import StandardScaler\n",
        "\n",
        "from tensorflow import keras"
      ],
      "execution_count": 0,
      "outputs": []
    },
    {
      "cell_type": "code",
      "metadata": {
        "id": "X-Y2TDUq8t8m",
        "colab_type": "code",
        "colab": {}
      },
      "source": [
        "housing = fetch_california_housing()\n",
        "\n",
        "X_train_full, X_test, y_train_full, y_test = train_test_split(housing.data, housing.target)\n",
        "X_train, X_valid, y_train, y_valid = train_test_split(X_train_full, y_train_full)\n"
      ],
      "execution_count": 0,
      "outputs": []
    },
    {
      "cell_type": "code",
      "metadata": {
        "id": "wWUSklys9kPr",
        "colab_type": "code",
        "colab": {
          "base_uri": "https://localhost:8080/",
          "height": 158
        },
        "outputId": "f0c5b361-d9be-4cca-93e3-a29516fec8e8"
      },
      "source": [
        "print(X_train[:4])"
      ],
      "execution_count": 19,
      "outputs": [
        {
          "output_type": "stream",
          "text": [
            "[[ 6.16010000e+00  2.60000000e+01  6.39540816e+00  1.00255102e+00\n",
            "   1.33300000e+03  3.40051020e+00  3.36700000e+01 -1.17900000e+02]\n",
            " [ 2.18100000e+00  3.70000000e+01  4.67732558e+00  1.08720930e+00\n",
            "   1.17300000e+03  3.40988372e+00  3.67100000e+01 -1.19560000e+02]\n",
            " [ 6.04710000e+00  1.70000000e+01  6.53584906e+00  9.79245283e-01\n",
            "   1.71300000e+03  3.23207547e+00  3.36100000e+01 -1.17660000e+02]\n",
            " [ 3.89000000e+00  3.60000000e+01  5.80547112e+00  1.06990881e+00\n",
            "   1.59300000e+03  4.84194529e+00  3.37200000e+01 -1.17880000e+02]]\n"
          ],
          "name": "stdout"
        }
      ]
    },
    {
      "cell_type": "code",
      "metadata": {
        "id": "4-LDqE77CHTd",
        "colab_type": "code",
        "colab": {}
      },
      "source": [
        "scaler = StandardScaler()\n",
        "X_train = scaler.fit_transform(X_train)\n",
        "X_valid = scaler.fit_transform(X_valid)\n",
        "X_test = scaler.fit_transform(X_test)"
      ],
      "execution_count": 0,
      "outputs": []
    },
    {
      "cell_type": "code",
      "metadata": {
        "id": "3dKba_Ub9yjT",
        "colab_type": "code",
        "colab": {
          "base_uri": "https://localhost:8080/",
          "height": 1101
        },
        "outputId": "a57d412f-6c8e-44b1-abd8-2964ce2cfc2f"
      },
      "source": [
        "model = keras.models.Sequential([\n",
        "    keras.layers.Flatten(input_shape = X_train.shape[1:]),\n",
        "    keras.layers.Dense(30, activation='relu'),\n",
        "    keras.layers.Dense(1)\n",
        "])\n",
        "\n",
        "model.compile(loss='mean_squared_error', optimizer='sgd')\n",
        "history = model.fit(X_train, y_train, epochs=30, batch_size=10,validation_data = (X_valid, y_valid))\n",
        "\n"
      ],
      "execution_count": 31,
      "outputs": [
        {
          "output_type": "stream",
          "text": [
            "Train on 11610 samples, validate on 3870 samples\n",
            "Epoch 1/30\n",
            "11610/11610 [==============================] - 2s 195us/sample - loss: 4.5790 - val_loss: 115.8142\n",
            "Epoch 2/30\n",
            "11610/11610 [==============================] - 2s 134us/sample - loss: 1.8718 - val_loss: 1.1921\n",
            "Epoch 3/30\n",
            "11610/11610 [==============================] - 2s 135us/sample - loss: 0.5130 - val_loss: 1.4245\n",
            "Epoch 4/30\n",
            "11610/11610 [==============================] - 2s 132us/sample - loss: 0.4577 - val_loss: 0.8261\n",
            "Epoch 5/30\n",
            "11610/11610 [==============================] - 2s 131us/sample - loss: 0.4358 - val_loss: 0.6579\n",
            "Epoch 6/30\n",
            "11610/11610 [==============================] - 2s 135us/sample - loss: 0.4152 - val_loss: 0.4596\n",
            "Epoch 7/30\n",
            "11610/11610 [==============================] - 2s 130us/sample - loss: 0.4077 - val_loss: 0.9672\n",
            "Epoch 8/30\n",
            "11610/11610 [==============================] - 2s 130us/sample - loss: 0.3998 - val_loss: 0.9555\n",
            "Epoch 9/30\n",
            "11610/11610 [==============================] - 2s 131us/sample - loss: 0.3886 - val_loss: 1.2958\n",
            "Epoch 10/30\n",
            "11610/11610 [==============================] - 2s 133us/sample - loss: 0.3870 - val_loss: 0.5777\n",
            "Epoch 11/30\n",
            "11610/11610 [==============================] - 2s 133us/sample - loss: 0.3822 - val_loss: 1.1827\n",
            "Epoch 12/30\n",
            "11610/11610 [==============================] - 2s 134us/sample - loss: 0.3796 - val_loss: 1.3776\n",
            "Epoch 13/30\n",
            "11610/11610 [==============================] - 2s 135us/sample - loss: 0.3788 - val_loss: 2.7362\n",
            "Epoch 14/30\n",
            "11610/11610 [==============================] - 2s 133us/sample - loss: 0.3891 - val_loss: 0.4564\n",
            "Epoch 15/30\n",
            "11610/11610 [==============================] - 2s 132us/sample - loss: 0.3992 - val_loss: 0.5345\n",
            "Epoch 16/30\n",
            "11610/11610 [==============================] - 2s 132us/sample - loss: 0.3809 - val_loss: 0.7015\n",
            "Epoch 17/30\n",
            "11610/11610 [==============================] - 2s 131us/sample - loss: 0.3745 - val_loss: 0.4720\n",
            "Epoch 18/30\n",
            "11610/11610 [==============================] - 2s 135us/sample - loss: 0.3698 - val_loss: 0.9418\n",
            "Epoch 19/30\n",
            "11610/11610 [==============================] - 2s 135us/sample - loss: 0.3700 - val_loss: 0.9392\n",
            "Epoch 20/30\n",
            "11610/11610 [==============================] - 2s 135us/sample - loss: 0.3655 - val_loss: 1.0169\n",
            "Epoch 21/30\n",
            "11610/11610 [==============================] - 2s 133us/sample - loss: 0.3614 - val_loss: 0.9025\n",
            "Epoch 22/30\n",
            "11610/11610 [==============================] - 2s 135us/sample - loss: 0.3572 - val_loss: 1.0626\n",
            "Epoch 23/30\n",
            "11610/11610 [==============================] - 2s 133us/sample - loss: 0.3555 - val_loss: 0.7875\n",
            "Epoch 24/30\n",
            "11610/11610 [==============================] - 2s 134us/sample - loss: 0.3565 - val_loss: 0.7505\n",
            "Epoch 25/30\n",
            "11610/11610 [==============================] - 2s 133us/sample - loss: 0.3536 - val_loss: 0.7564\n",
            "Epoch 26/30\n",
            "11610/11610 [==============================] - 2s 132us/sample - loss: 0.3490 - val_loss: 0.8077\n",
            "Epoch 27/30\n",
            "11610/11610 [==============================] - 2s 133us/sample - loss: 0.3512 - val_loss: 1.6279\n",
            "Epoch 28/30\n",
            "11610/11610 [==============================] - 2s 134us/sample - loss: 0.3508 - val_loss: 0.5316\n",
            "Epoch 29/30\n",
            "11610/11610 [==============================] - 2s 133us/sample - loss: 0.3473 - val_loss: 1.2181\n",
            "Epoch 30/30\n",
            "11610/11610 [==============================] - 2s 132us/sample - loss: 0.3469 - val_loss: 0.8849\n"
          ],
          "name": "stdout"
        }
      ]
    },
    {
      "cell_type": "code",
      "metadata": {
        "id": "UuBr6HfnBfjF",
        "colab_type": "code",
        "colab": {
          "base_uri": "https://localhost:8080/",
          "height": 141
        },
        "outputId": "edb8f1c0-2159-4a24-92c8-5ea58901fcf7"
      },
      "source": [
        "history.params"
      ],
      "execution_count": 34,
      "outputs": [
        {
          "output_type": "execute_result",
          "data": {
            "text/plain": [
              "{'batch_size': 10,\n",
              " 'do_validation': True,\n",
              " 'epochs': 30,\n",
              " 'metrics': ['loss', 'val_loss'],\n",
              " 'samples': 11610,\n",
              " 'steps': None,\n",
              " 'verbose': 0}"
            ]
          },
          "metadata": {
            "tags": []
          },
          "execution_count": 34
        }
      ]
    },
    {
      "cell_type": "code",
      "metadata": {
        "id": "PyKNOjoDRW3a",
        "colab_type": "code",
        "colab": {
          "base_uri": "https://localhost:8080/",
          "height": 550
        },
        "outputId": "855ef8cb-0014-415c-a926-102ebbba067a"
      },
      "source": [
        "history.epoch"
      ],
      "execution_count": 35,
      "outputs": [
        {
          "output_type": "execute_result",
          "data": {
            "text/plain": [
              "[0,\n",
              " 1,\n",
              " 2,\n",
              " 3,\n",
              " 4,\n",
              " 5,\n",
              " 6,\n",
              " 7,\n",
              " 8,\n",
              " 9,\n",
              " 10,\n",
              " 11,\n",
              " 12,\n",
              " 13,\n",
              " 14,\n",
              " 15,\n",
              " 16,\n",
              " 17,\n",
              " 18,\n",
              " 19,\n",
              " 20,\n",
              " 21,\n",
              " 22,\n",
              " 23,\n",
              " 24,\n",
              " 25,\n",
              " 26,\n",
              " 27,\n",
              " 28,\n",
              " 29]"
            ]
          },
          "metadata": {
            "tags": []
          },
          "execution_count": 35
        }
      ]
    },
    {
      "cell_type": "code",
      "metadata": {
        "id": "YBuH-xL1Rcwg",
        "colab_type": "code",
        "colab": {
          "base_uri": "https://localhost:8080/",
          "height": 341
        },
        "outputId": "cab08bf4-747a-40fa-afba-54189d1e2931"
      },
      "source": [
        "import pandas as pd\n",
        "pd.DataFrame(history.history).plot(figsize=(8,5),ylim=(0,6))"
      ],
      "execution_count": 43,
      "outputs": [
        {
          "output_type": "execute_result",
          "data": {
            "text/plain": [
              "<matplotlib.axes._subplots.AxesSubplot at 0x7f05baaa0e10>"
            ]
          },
          "metadata": {
            "tags": []
          },
          "execution_count": 43
        },
        {
          "output_type": "display_data",
          "data": {
            "image/png": "[encoded data removed]",
            "text/plain": [
              "<Figure size 576x360 with 1 Axes>"
            ]
          },
          "metadata": {
            "tags": []
          }
        }
      ]
    },
    {
      "cell_type": "code",
      "metadata": {
        "id": "BKBJ1ZKCRyxN",
        "colab_type": "code",
        "colab": {
          "base_uri": "https://localhost:8080/",
          "height": 52
        },
        "outputId": "35abc978-1a0e-44bd-8294-04ee81624a32"
      },
      "source": [
        "model.evaluate(X_test, y_test)"
      ],
      "execution_count": 42,
      "outputs": [
        {
          "output_type": "stream",
          "text": [
            "5160/5160 [==============================] - 0s 27us/sample - loss: 3.1773\n"
          ],
          "name": "stdout"
        },
        {
          "output_type": "execute_result",
          "data": {
            "text/plain": [
              "3.1772705566051394"
            ]
          },
          "metadata": {
            "tags": []
          },
          "execution_count": 42
        }
      ]
    },
    {
      "cell_type": "code",
      "metadata": {
        "id": "r5MI-1pXR97m",
        "colab_type": "code",
        "colab": {}
      },
      "source": [
        ""
      ],
      "execution_count": 0,
      "outputs": []
    }
  ]
}