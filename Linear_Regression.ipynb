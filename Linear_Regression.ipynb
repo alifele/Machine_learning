{
  "nbformat": 4,
  "nbformat_minor": 0,
  "metadata": {
    "colab": {
      "name": "Linear_Regression.ipynb",
      "version": "0.3.2",
      "provenance": [],
      "include_colab_link": true
    },
    "kernelspec": {
      "name": "python3",
      "display_name": "Python 3"
    }
  },
  "cells": [
    {
      "cell_type": "markdown",
      "metadata": {
        "id": "view-in-github",
        "colab_type": "text"
      },
      "source": [
        "<a href=\"https://colab.research.google.com/github/alifele/Machine_learning/blob/master/Linear_Regression.ipynb\" target=\"_parent\"><img src=\"https://colab.research.google.com/assets/colab-badge.svg\" alt=\"Open In Colab\"/></a>"
      ]
    },
    {
      "cell_type": "code",
      "metadata": {
        "id": "1AhX2Z_wVsFu",
        "colab_type": "code",
        "colab": {}
      },
      "source": [
        "import matplotlib.pyplot as plt\n",
        "import numpy as np\n",
        "import pandas as pd\n"
      ],
      "execution_count": 0,
      "outputs": []
    },
    {
      "cell_type": "markdown",
      "metadata": {
        "id": "JV9IlGqeYCoo",
        "colab_type": "text"
      },
      "source": [
        "#Generating and ploting data"
      ]
    },
    {
      "cell_type": "code",
      "metadata": {
        "id": "0byl4JCmV8fJ",
        "colab_type": "code",
        "outputId": "c0787b69-ba24-449b-c75d-3085a1cb143c",
        "colab": {
          "base_uri": "https://localhost:8080/",
          "height": 286
        }
      },
      "source": [
        "x = np.linspace(-5,5,100)\n",
        "y = -0.5 + 2.2*x + 0.3*x**2 + 6*np.random.random(100)\n",
        "fig = plt.figure()\n",
        "ax = fig.add_subplot(111)\n",
        "ax.scatter(x,y)\n",
        "ax.grid(True, which='both')\n",
        "ax.axhline(y=0, color='k')\n",
        "ax.axvline(x=0, color='k')\n"
      ],
      "execution_count": 0,
      "outputs": [
        {
          "output_type": "execute_result",
          "data": {
            "text/plain": [
              "<matplotlib.lines.Line2D at 0x7f28e86c6f98>"
            ]
          },
          "metadata": {
            "tags": []
          },
          "execution_count": 62
        },
        {
          "output_type": "display_data",
          "data": {
            "image/png": "[encoded data removed]",
            "text/plain": [
              "<Figure size 432x288 with 1 Axes>"
            ]
          },
          "metadata": {
            "tags": []
          }
        }
      ]
    },
    {
      "cell_type": "markdown",
      "metadata": {
        "id": "vgtCM84iYGmm",
        "colab_type": "text"
      },
      "source": [
        "#Fitting model"
      ]
    },
    {
      "cell_type": "code",
      "metadata": {
        "id": "zDzQURwTWReb",
        "colab_type": "code",
        "outputId": "7e3db8ec-d626-4e30-d713-291b9abd3ac4",
        "colab": {
          "base_uri": "https://localhost:8080/",
          "height": 34
        }
      },
      "source": [
        "from sklearn.linear_model import LinearRegression\n",
        "model = LinearRegression()\n",
        "Features = np.vstack((x,x**2,x**3,x**4)).T\n",
        "model.fit(Features,y)\n",
        "Features.shape"
      ],
      "execution_count": 0,
      "outputs": [
        {
          "output_type": "execute_result",
          "data": {
            "text/plain": [
              "(100, 4)"
            ]
          },
          "metadata": {
            "tags": []
          },
          "execution_count": 78
        }
      ]
    },
    {
      "cell_type": "code",
      "metadata": {
        "id": "XqFFn1sKX09c",
        "colab_type": "code",
        "outputId": "b4d8346b-9108-4859-9954-e30f9b7a745e",
        "colab": {
          "base_uri": "https://localhost:8080/",
          "height": 286
        }
      },
      "source": [
        "w = model.coef_ .reshape(1,4) #the slopes of the Features\n",
        "b = model.intercept_ # the intercept of the linear regression\n",
        "\n",
        "yy = Features @ w.T + b   # the out put of LinearRegression\n",
        "fig = plt.figure()\n",
        "ax = fig.add_subplot(111)\n",
        "ax.scatter(x,y)\n",
        "ax.plot(x, yy,'k--',linewidth =3)"
      ],
      "execution_count": 0,
      "outputs": [
        {
          "output_type": "execute_result",
          "data": {
            "text/plain": [
              "[<matplotlib.lines.Line2D at 0x7f28e87bd080>]"
            ]
          },
          "metadata": {
            "tags": []
          },
          "execution_count": 91
        },
        {
          "output_type": "display_data",
          "data": {
            "image/png": "[encoded data removed]",
            "text/plain": [
              "<Figure size 432x288 with 1 Axes>"
            ]
          },
          "metadata": {
            "tags": []
          }
        }
      ]
    },
    {
      "cell_type": "markdown",
      "metadata": {
        "id": "im3PSyGvfcBH",
        "colab_type": "text"
      },
      "source": [
        "instead of calculating the   ```yy = Features @ w.T + b ``` by hand we can use a built_in function   ```model.predict```\n",
        "\n"
      ]
    },
    {
      "cell_type": "code",
      "metadata": {
        "id": "V1-zrCnEb5Uw",
        "colab_type": "code",
        "outputId": "43dc7100-6668-4d27-f8ca-55996de1853b",
        "colab": {
          "base_uri": "https://localhost:8080/",
          "height": 286
        }
      },
      "source": [
        "yyy = model.predict(Features)\n",
        "fig = plt.figure()\n",
        "ax = fig.add_subplot(111)\n",
        "ax.scatter(x,y)\n",
        "ax.plot(x, yyy,'k--',linewidth =3)"
      ],
      "execution_count": 0,
      "outputs": [
        {
          "output_type": "execute_result",
          "data": {
            "text/plain": [
              "[<matplotlib.lines.Line2D at 0x7f28e8a04e80>]"
            ]
          },
          "metadata": {
            "tags": []
          },
          "execution_count": 93
        },
        {
          "output_type": "display_data",
          "data": {
            "image/png": "[encoded data removed]",
            "text/plain": [
              "<Figure size 432x288 with 1 Axes>"
            ]
          },
          "metadata": {
            "tags": []
          }
        }
      ]
    },
    {
      "cell_type": "markdown",
      "metadata": {
        "id": "OoWWen-bgLcw",
        "colab_type": "text"
      },
      "source": [
        "*as you can see the result is the same.But using the built-in funcction is simpler and also safer*"
      ]
    },
    {
      "cell_type": "code",
      "metadata": {
        "id": "DLdSGimYckdu",
        "colab_type": "code",
        "colab": {}
      },
      "source": [
        ""
      ],
      "execution_count": 0,
      "outputs": []
    }
  ]
}