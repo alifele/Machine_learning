{
  "nbformat": 4,
  "nbformat_minor": 0,
  "metadata": {
    "colab": {
      "name": "How does  the Counter work?!.ipynb",
      "version": "0.3.2",
      "provenance": [],
      "include_colab_link": true
    },
    "kernelspec": {
      "name": "python3",
      "display_name": "Python 3"
    }
  },
  "cells": [
    {
      "cell_type": "markdown",
      "metadata": {
        "id": "view-in-github",
        "colab_type": "text"
      },
      "source": [
        "<a href=\"https://colab.research.google.com/github/alifele/Machine_learning/blob/master/Machine_learning/Little_functions%26Little_Tricks/How_does_the_Counter_work%3F!.ipynb\" target=\"_parent\"><img src=\"https://colab.research.google.com/assets/colab-badge.svg\" alt=\"Open In Colab\"/></a>"
      ]
    },
    {
      "cell_type": "markdown",
      "metadata": {
        "id": "LZ04c3NMLw59",
        "colab_type": "text"
      },
      "source": [
        "#How does the Counter work"
      ]
    },
    {
      "cell_type": "code",
      "metadata": {
        "id": "nSJbesiWLuFk",
        "colab_type": "code",
        "colab": {}
      },
      "source": [
        "from collections import Counter"
      ],
      "execution_count": 0,
      "outputs": []
    },
    {
      "cell_type": "code",
      "metadata": {
        "id": "4FQ_b_3_L4Fc",
        "colab_type": "code",
        "colab": {
          "base_uri": "https://localhost:8080/",
          "height": 34
        },
        "outputId": "4e852f58-2d35-4052-d83c-7e98f60475f0"
      },
      "source": [
        "a = [1,3,2,2,3,4,4,3,2,4,6,6,4,3,3,2,1,2,3,2]\n",
        "dict(Counter(a))"
      ],
      "execution_count": 5,
      "outputs": [
        {
          "output_type": "execute_result",
          "data": {
            "text/plain": [
              "{1: 2, 2: 6, 3: 6, 4: 4, 6: 2}"
            ]
          },
          "metadata": {
            "tags": []
          },
          "execution_count": 5
        }
      ]
    },
    {
      "cell_type": "code",
      "metadata": {
        "id": "321K5pTdMGjh",
        "colab_type": "code",
        "colab": {
          "base_uri": "https://localhost:8080/",
          "height": 283
        },
        "outputId": "4ad1486e-c5ca-40d6-8b46-3f91498fa0dc"
      },
      "source": [
        "text = 'hi there my name is ali fele paranj'\n",
        "Counter(text)"
      ],
      "execution_count": 7,
      "outputs": [
        {
          "output_type": "execute_result",
          "data": {
            "text/plain": [
              "Counter({' ': 7,\n",
              "         'a': 4,\n",
              "         'e': 5,\n",
              "         'f': 1,\n",
              "         'h': 2,\n",
              "         'i': 3,\n",
              "         'j': 1,\n",
              "         'l': 2,\n",
              "         'm': 2,\n",
              "         'n': 2,\n",
              "         'p': 1,\n",
              "         'r': 2,\n",
              "         's': 1,\n",
              "         't': 1,\n",
              "         'y': 1})"
            ]
          },
          "metadata": {
            "tags": []
          },
          "execution_count": 7
        }
      ]
    },
    {
      "cell_type": "markdown",
      "metadata": {
        "id": "Pz110qOFMBDK",
        "colab_type": "text"
      },
      "source": [
        "##But how does it work"
      ]
    },
    {
      "cell_type": "code",
      "metadata": {
        "id": "0hv_l9k5MAtG",
        "colab_type": "code",
        "colab": {}
      },
      "source": [
        "d = {}\n",
        "\n",
        "def counter(arr):\n",
        "  for item in arr:\n",
        "    if item not in d:\n",
        "      d[item] = 1\n",
        "    else:\n",
        "      d[item] += 1\n",
        "  \n",
        "  return d"
      ],
      "execution_count": 0,
      "outputs": []
    },
    {
      "cell_type": "code",
      "metadata": {
        "id": "DGjy2eCpL9MB",
        "colab_type": "code",
        "colab": {
          "base_uri": "https://localhost:8080/",
          "height": 283
        },
        "outputId": "c2e16230-2a62-407d-f2dd-a3537f5a50ee"
      },
      "source": [
        "counter(text)"
      ],
      "execution_count": 9,
      "outputs": [
        {
          "output_type": "execute_result",
          "data": {
            "text/plain": [
              "{' ': 7,\n",
              " 'a': 4,\n",
              " 'e': 5,\n",
              " 'f': 1,\n",
              " 'h': 2,\n",
              " 'i': 3,\n",
              " 'j': 1,\n",
              " 'l': 2,\n",
              " 'm': 2,\n",
              " 'n': 2,\n",
              " 'p': 1,\n",
              " 'r': 2,\n",
              " 's': 1,\n",
              " 't': 1,\n",
              " 'y': 1}"
            ]
          },
          "metadata": {
            "tags": []
          },
          "execution_count": 9
        }
      ]
    },
    {
      "cell_type": "code",
      "metadata": {
        "id": "xtWiniURMprW",
        "colab_type": "code",
        "colab": {}
      },
      "source": [
        ""
      ],
      "execution_count": 0,
      "outputs": []
    }
  ]
}